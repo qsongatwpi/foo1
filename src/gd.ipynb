{
  "nbformat": 4,
  "nbformat_minor": 0,
  "metadata": {
    "colab": {
      "name": "gd.ipynb",
      "provenance": [],
      "authorship_tag": "ABX9TyNRu6dhZRJ6wQXYffKaC3EJ",
      "include_colab_link": true
    },
    "kernelspec": {
      "name": "python3",
      "display_name": "Python 3"
    },
    "language_info": {
      "name": "python"
    }
  },
  "cells": [
    {
      "cell_type": "markdown",
      "metadata": {
        "id": "view-in-github",
        "colab_type": "text"
      },
      "source": [
        "<a href=\"https://colab.research.google.com/github/songqsh/foo1/blob/master/src/gd.ipynb\" target=\"_parent\"><img src=\"https://colab.research.google.com/assets/colab-badge.svg\" alt=\"Open In Colab\"/></a>"
      ]
    },
    {
      "cell_type": "markdown",
      "metadata": {
        "id": "1Qojoky5FXdv"
      },
      "source": [
        "#Gradient Descent\n",
        "\n",
        "- Obejctive: Find, for a given $g$\n",
        "$$\\theta^* = \\arg\\min g(\\theta)$$\n",
        "\n",
        "- Algorithm:\n",
        "Update the current $\\theta$ by\n",
        "$$\\theta' = \\theta - \\gamma \\nabla g(\\theta).$$\n",
        "More details, see [wiki](https://en.wikipedia.org/wiki/Gradient_descent#:~:text=Gradient%20descent%20is%20a%20first,the%20direction%20of%20steepest%20descent.)"
      ]
    },
    {
      "cell_type": "code",
      "metadata": {
        "id": "UiYpfmGZFRv3"
      },
      "source": [
        "# gradient descent\n",
        "import numpy as np\n",
        "\n",
        "def gd(val_g, grad_g, th0=0., eps = 0.01):\n",
        "  th0 = np.array(th0)\n",
        "  for i in range(1000):\n",
        "    th1 = th0 - eps*np.array(grad_g(th0))\n",
        "    th0 = th1\n",
        "  return th0"
      ],
      "execution_count": 40,
      "outputs": []
    },
    {
      "cell_type": "markdown",
      "metadata": {
        "id": "VRxarcFPKd_G"
      },
      "source": [
        "## A test on quadratic function"
      ]
    },
    {
      "cell_type": "code",
      "metadata": {
        "id": "bbCMscmTFi3q"
      },
      "source": [
        "# objective function and its gradient\n",
        "def val_g(th):\n",
        "  return float(th)**2\n",
        "\n",
        "def grad_g(th):\n",
        "  return 2.*float(th)"
      ],
      "execution_count": 41,
      "outputs": []
    },
    {
      "cell_type": "code",
      "metadata": {
        "colab": {
          "base_uri": "https://localhost:8080/"
        },
        "id": "tFa-gxHuHnj3",
        "outputId": "c978c3ae-02f7-408f-9af4-7c5e2d264031"
      },
      "source": [
        "gd(val_g, grad_g, 25)"
      ],
      "execution_count": 42,
      "outputs": [
        {
          "output_type": "execute_result",
          "data": {
            "text/plain": [
              "4.2074183930398875e-08"
            ]
          },
          "metadata": {
            "tags": []
          },
          "execution_count": 42
        }
      ]
    },
    {
      "cell_type": "markdown",
      "metadata": {
        "id": "FRzpHk47OpAa"
      },
      "source": [
        "## A test on a 2-d quadratic function"
      ]
    },
    {
      "cell_type": "code",
      "metadata": {
        "id": "Y_feil8_O6iG"
      },
      "source": [
        "# objective and gradient functions\n",
        "\n",
        "def val_g(th):\n",
        "  return th[0]**2 + th[1]**2\n",
        "\n",
        "def grad_g(th):\n",
        "  return [2*x for x in th]"
      ],
      "execution_count": 54,
      "outputs": []
    },
    {
      "cell_type": "code",
      "metadata": {
        "colab": {
          "base_uri": "https://localhost:8080/"
        },
        "id": "wZ1DW3z9PNqZ",
        "outputId": "fb4c0dbb-1c4f-4182-922a-b47761f74962"
      },
      "source": [
        "gd(val_g, grad_g, [3,1.2])"
      ],
      "execution_count": 56,
      "outputs": [
        {
          "output_type": "execute_result",
          "data": {
            "text/plain": [
              "array([5.04890207e-09, 2.01956083e-09])"
            ]
          },
          "metadata": {
            "tags": []
          },
          "execution_count": 56
        }
      ]
    },
    {
      "cell_type": "markdown",
      "metadata": {
        "id": "8D7s4IpeKlhM"
      },
      "source": [
        "## A test on Rosenbrock function\n",
        "\n",
        "- It does not do the job"
      ]
    },
    {
      "cell_type": "code",
      "metadata": {
        "id": "cvEJKE1JIjna"
      },
      "source": [
        "# objective function\n",
        "# indepedent variable is a 2-dim list\n",
        "\n",
        "def val_g(th):\n",
        "  return (1. - th[0])**2 + 100.*(th[1] - th[0]**2)**2\n",
        "\n",
        "#gradient function\n",
        "def grad_g(th):\n",
        "  d1 = 2.*(th[0] - 1)+ 400.*th[0]*(th[0]**2 - th[1])\n",
        "  d2 = 200.*(th[1] - th[0]**2)\n",
        "  return d1,d2"
      ],
      "execution_count": 57,
      "outputs": []
    },
    {
      "cell_type": "code",
      "metadata": {
        "colab": {
          "base_uri": "https://localhost:8080/"
        },
        "id": "z5ITsKPzMU75",
        "outputId": "271752e4-5b05-4c44-8775-ef1809462919"
      },
      "source": [
        "gd(val_g, grad_g, [1.3,1.2])"
      ],
      "execution_count": 58,
      "outputs": [
        {
          "output_type": "stream",
          "text": [
            "/usr/local/lib/python3.7/dist-packages/ipykernel_launcher.py:9: RuntimeWarning: overflow encountered in double_scalars\n",
            "  if __name__ == '__main__':\n",
            "/usr/local/lib/python3.7/dist-packages/ipykernel_launcher.py:10: RuntimeWarning: overflow encountered in double_scalars\n",
            "  # Remove the CWD from sys.path while we load stuff.\n",
            "/usr/local/lib/python3.7/dist-packages/ipykernel_launcher.py:9: RuntimeWarning: invalid value encountered in double_scalars\n",
            "  if __name__ == '__main__':\n",
            "/usr/local/lib/python3.7/dist-packages/ipykernel_launcher.py:10: RuntimeWarning: invalid value encountered in double_scalars\n",
            "  # Remove the CWD from sys.path while we load stuff.\n"
          ],
          "name": "stderr"
        },
        {
          "output_type": "execute_result",
          "data": {
            "text/plain": [
              "array([nan, nan])"
            ]
          },
          "metadata": {
            "tags": []
          },
          "execution_count": 58
        }
      ]
    },
    {
      "cell_type": "code",
      "metadata": {
        "id": "CN0cugYyMdLq"
      },
      "source": [
        ""
      ],
      "execution_count": null,
      "outputs": []
    }
  ]
}