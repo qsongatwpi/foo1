{
 "cells": [
  {
   "cell_type": "markdown",
   "metadata": {
    "collapsed": true,
    "pycharm": {
     "name": "#%% md\n"
    }
   },
   "source": [
    "# Sudoku 4 by 4\n",
    "\n",
    "We solve the following Sudoku:\n",
    "\n",
    "<img src=\"sudoku4by4-1.png\" width = \"200\">"
   ]
  },
  {
   "cell_type": "code",
   "execution_count": 24,
   "outputs": [],
   "source": [
    "# sudoku setup\n",
    "sudoku_dim = 4\n",
    "box_row_n = box_col_n = 2\n",
    "# a list with given members [row_i, col_i, val]\n",
    "given_nums = [[0, 0, 1],\n",
    "              [0, 2, 2],\n",
    "              [3, 1, 2],\n",
    "              [3, 3, 3]]"
   ],
   "metadata": {
    "collapsed": false,
    "pycharm": {
     "name": "#%%\n"
    }
   }
  },
  {
   "cell_type": "code",
   "execution_count": 25,
   "outputs": [],
   "source": [
    "from itertools import permutations\n",
    "import numpy as np\n",
    "# check if a given list is a permutation of {1,2, ..., n}\n",
    "def is_permutation(test_list, number):\n",
    "    pool = set(range(1, number + 1))\n",
    "    return (len(pool) == len(test_list)) and (pool == set(test_list))"
   ],
   "metadata": {
    "collapsed": false,
    "pycharm": {
     "name": "#%%\n"
    }
   }
  },
  {
   "cell_type": "code",
   "execution_count": 26,
   "outputs": [
    {
     "name": "stdout",
     "output_type": "stream",
     "text": [
      "[[1 3 2 4]\n",
      " [2 4 3 1]\n",
      " [3 1 4 2]\n",
      " [4 2 1 3]]\n",
      "==================\n",
      "There are 1 many tables\n"
     ]
    }
   ],
   "source": [
    "# all candidate sudoku in a permutation\n",
    "rows = permutations(range(1, sudoku_dim + 1))\n",
    "tabs = permutations(rows, sudoku_dim)\n",
    "\n",
    "counter = 0\n",
    "for tab in tabs:\n",
    "    nptab = np.array(tab)\n",
    "    feasibility = 1\n",
    "    # check each column\n",
    "    for col_i in range(sudoku_dim):\n",
    "        test = is_permutation(nptab[:, col_i], sudoku_dim)\n",
    "        if test is False:\n",
    "            feasibility = 0\n",
    "            break\n",
    "    # check each box\n",
    "    for box_row_i in range(2):\n",
    "        for box_col_i in range(2):\n",
    "            if feasibility == 0:\n",
    "                break\n",
    "            box_entries = list(nptab[2*box_row_i, 2*box_col_i:2*box_col_i+2])\n",
    "            box_entries += list(nptab[2*box_row_i+1, 2*box_col_i:2*box_col_i+2])\n",
    "            test = is_permutation(box_entries, sudoku_dim)\n",
    "            if test is False:\n",
    "                feasibility = 0\n",
    "                break\n",
    "    # check given numbers in the table\n",
    "    for i in given_nums:\n",
    "        if feasibility == 0:\n",
    "            break\n",
    "        if nptab[i[0], i[1]] != i[2]:\n",
    "            feasibility = 0\n",
    "            break\n",
    "\n",
    "    if feasibility == 1:\n",
    "        print(nptab)\n",
    "        print(f'==================')\n",
    "        counter += 1\n",
    "print(f\"There are {counter} many tables\")"
   ],
   "metadata": {
    "collapsed": false,
    "pycharm": {
     "name": "#%%\n"
    }
   }
  },
  {
   "cell_type": "code",
   "execution_count": null,
   "outputs": [],
   "source": [],
   "metadata": {
    "collapsed": false,
    "pycharm": {
     "name": "#%%\n"
    }
   }
  }
 ],
 "metadata": {
  "kernelspec": {
   "display_name": "Python 3",
   "language": "python",
   "name": "python3"
  },
  "language_info": {
   "codemirror_mode": {
    "name": "ipython",
    "version": 2
   },
   "file_extension": ".py",
   "mimetype": "text/x-python",
   "name": "python",
   "nbconvert_exporter": "python",
   "pygments_lexer": "ipython2",
   "version": "2.7.6"
  }
 },
 "nbformat": 4,
 "nbformat_minor": 0
}