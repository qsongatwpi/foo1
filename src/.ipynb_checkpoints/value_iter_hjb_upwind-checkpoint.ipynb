{
 "cells": [
  {
   "cell_type": "markdown",
   "metadata": {
    "colab_type": "text",
    "id": "view-in-github"
   },
   "source": [
    "<a href=\"https://colab.research.google.com/github/songqsh/foo1/blob/master/src/value_iter_hjb_upwind.ipynb\" target=\"_parent\"><img src=\"https://colab.research.google.com/assets/colab-badge.svg\" alt=\"Open In Colab\"/></a>"
   ]
  },
  {
   "cell_type": "code",
   "execution_count": 1,
   "metadata": {
    "colab": {},
    "colab_type": "code",
    "id": "Fl-HiOYdo0yx"
   },
   "outputs": [],
   "source": [
    "import numpy as np\n",
    "import time\n",
    "start_time = time.time()\n",
    "\n",
    "import matplotlib.pyplot as plt"
   ]
  },
  {
   "cell_type": "markdown",
   "metadata": {
    "colab_type": "text",
    "id": "ZPLkIpt4sfso"
   },
   "source": [
    "__Goal__\n",
    "\n",
    "It demonstrates that upwind FDM. We used the same \n",
    "Whittle's flypaper ([here](https://github.com/songqsh/foo1/blob/master/src/value_iter_dirichlet_1d.ipynb)), but the transition probability and running cost in MDP will be given from upwind scheme, see P97, Example 4 of [Kushner and Dupuis 2001]."
   ]
  },
  {
   "cell_type": "code",
   "execution_count": 2,
   "metadata": {
    "colab": {},
    "colab_type": "code",
    "id": "666KHl1_o5Gc"
   },
   "outputs": [],
   "source": [
    "#configure\n",
    "C1 = 1\n",
    "C2 = 1\n",
    "\n",
    "U_LIM = 1 #upper limit for state\n",
    "L_LIM = 0 #lower limit for state\n",
    "\n",
    "TOL = 0.001 #tolerance for iteration\n",
    "MAX_ITER = 1000 #maximum iteration"
   ]
  },
  {
   "cell_type": "code",
   "execution_count": 3,
   "metadata": {
    "colab": {},
    "colab_type": "code",
    "id": "PjoCIKGlo8Ps"
   },
   "outputs": [],
   "source": [
    "#start MDP approximation\n",
    "#configure\n",
    "\n",
    "NUM = 10 #num of meshes in one unit state space"
   ]
  },
  {
   "cell_type": "code",
   "execution_count": 4,
   "metadata": {
    "colab": {},
    "colab_type": "code",
    "id": "VY8L88utpCId"
   },
   "outputs": [],
   "source": [
    "#configure\n",
    "\n",
    "lambda_ = 0. #discount rate\n",
    "sigma = 1. #diffusion coefficient\n",
    "drift = lambda x,a: a #drift coefficient\n",
    "\n",
    "run_cost = lambda x, a: (a**2+1)/2.\n",
    "term_cost = lambda x: - np.log(C1*np.exp(x) + C2*np.exp(-x))"
   ]
  },
  {
   "cell_type": "code",
   "execution_count": 5,
   "metadata": {
    "colab": {},
    "colab_type": "code",
    "id": "UPPR6fIupzls"
   },
   "outputs": [],
   "source": [
    "h = 1./NUM #mesh size in state space\n",
    "\n",
    "s_space = np.arange(L_LIM, U_LIM+h, h) #state space\n",
    "\n",
    "a_space = np.arange(2*L_LIM, 2*U_LIM + h, h) #action space\n",
    "\n",
    "del_ind_space = np.array([-1,1]) #space of delta (1-step) index: -1 means left, 1 means right move\n",
    "\n",
    "term_ind_space = np.array([0, s_space.size-1]) #space of terminal state indice"
   ]
  },
  {
   "cell_type": "code",
   "execution_count": 6,
   "metadata": {
    "colab": {},
    "colab_type": "code",
    "id": "IaTtM0nFp2rQ"
   },
   "outputs": [],
   "source": [
    "#transition probability \n",
    "#by upwind\n",
    "#output is probability (np array) on del_ind_space\n",
    "\n",
    "def transition_probability(x, a):\n",
    "  tp = np.zeros(del_ind_space.shape)\n",
    "  \n",
    "  b_ = drift(x,a)\n",
    "  b_plus = np.max([b_,0])\n",
    "  b_minus = np.max([-b_,0])\n",
    "  \n",
    "  tp[0] = (b_minus*h + sigma**2/2)/(sigma**2 + h*np.abs(b_)) #prob del_ind = -1\n",
    "  tp[1] = (b_plus*h + sigma**2/2)/(sigma**2 + h*np.abs(b_)) #prob del_ind = 1\n",
    "  \n",
    "  #correction on prob\n",
    "  if tp[1]<0:\n",
    "    tp = tp - tp[1]\n",
    "    tp = tp/tp.sum()\n",
    "    print('>>>>corrected')\n",
    "\n",
    "  return tp"
   ]
  },
  {
   "cell_type": "code",
   "execution_count": 7,
   "metadata": {
    "colab": {
     "base_uri": "https://localhost:8080/",
     "height": 34
    },
    "colab_type": "code",
    "id": "G4e34_ljqePW",
    "outputId": "da301bb9-96ce-4fc2-bd1f-a4ed19134768"
   },
   "outputs": [
    {
     "name": "stdout",
     "output_type": "stream",
     "text": [
      ">>>>> q_table size is 231\n"
     ]
    }
   ],
   "source": [
    "#q-table and state value initialization\n",
    "\n",
    "s_val = np.zeros(s_space.size)\n",
    "q_table = np.zeros([s_space.size, a_space.size])\n",
    "\n",
    "'''\n",
    "#adjust start\n",
    "for i in range(s_space.size):\n",
    "  q_table[i] = term_cost(s_space[i])*np.ones(a_space.size)\n",
    "'''\n",
    "\n",
    "print('>>>>> q_table size is %i' %(q_table.size))"
   ]
  },
  {
   "cell_type": "code",
   "execution_count": 8,
   "metadata": {
    "colab": {},
    "colab_type": "code",
    "id": "Og87JBpJqfKs"
   },
   "outputs": [],
   "source": [
    "#q-table terminal setup\n",
    "for i in term_ind_space:\n",
    "  for j in range(a_space.size):\n",
    "    q_table[i,j] = term_cost(s_space[i])"
   ]
  },
  {
   "cell_type": "code",
   "execution_count": 9,
   "metadata": {
    "colab": {},
    "colab_type": "code",
    "id": "OwnfnqIQr1Ft"
   },
   "outputs": [],
   "source": [
    "#sync q_table, s_val\n",
    "def q_s_sync(ind):\n",
    "  s_val[ind] = np.min(q_table[ind])\n",
    "  \n",
    "q_s_sync(0)\n",
    "q_s_sync(s_val.size-1)"
   ]
  },
  {
   "cell_type": "code",
   "execution_count": 10,
   "metadata": {
    "colab": {},
    "colab_type": "code",
    "id": "TynP0mthr34E"
   },
   "outputs": [
    {
     "name": "stdout",
     "output_type": "stream",
     "text": [
      "iterated 10;\n",
      "iterated 20;\n",
      "iterated 30;\n",
      "iterated 40;\n"
     ]
    }
   ],
   "source": [
    "#value iteration\n",
    "\n",
    "eps = 1.\n",
    "iter = 0\n",
    "while eps>TOL and iter < MAX_ITER:\n",
    "  pre_s_val = s_val.copy()\n",
    "  #import pdb; pdb.set_trace()\n",
    "  for i in range(1, s_space.size -1):\n",
    "    for k in range(a_space.size):\n",
    "      x_ = s_space[i]\n",
    "      a_ = a_space[k]\n",
    "      tp_ = transition_probability(x_,a_)\n",
    "      run_cost_ = run_cost(x_,a_)*h**2/(sigma**2 + h*np.abs(drift(x_,a_))) #for upwind\n",
    "      Lambda_ = 1 + lambda_*h**2/sigma**2\n",
    "      \n",
    "      q_table[i,k] = (run_cost_ + tp_[0]*s_val[i-1] + tp_[1]*s_val[i+1])/Lambda_\n",
    "      \n",
    "    q_s_sync(i)\n",
    "    \n",
    "  \n",
    "  eps = np.max(np.abs(pre_s_val - s_val))\n",
    "  #import pdb; pdb.set_trace()\n",
    "  iter += 1\n",
    "  if np.mod(iter,10) == 0:\n",
    "    print('iterated ' + str(iter)+';')"
   ]
  },
  {
   "cell_type": "code",
   "execution_count": 11,
   "metadata": {
    "colab": {
     "base_uri": "https://localhost:8080/",
     "height": 34
    },
    "colab_type": "code",
    "id": "IvSey_7Nr67M",
    "outputId": "5b8c646d-50d4-4cf0-f6ee-8db0ed00924b"
   },
   "outputs": [
    {
     "name": "stdout",
     "output_type": "stream",
     "text": [
      "elapsed time is 1.414829 seconds\n"
     ]
    }
   ],
   "source": [
    "exact_val = term_cost(s_space) #exact value for performance compare\n",
    "end_time = time.time()\n",
    "print('elapsed time is %f seconds' %(end_time - start_time))"
   ]
  },
  {
   "cell_type": "code",
   "execution_count": 12,
   "metadata": {
    "colab": {
     "base_uri": "https://localhost:8080/",
     "height": 320
    },
    "colab_type": "code",
    "id": "a5HWsPYyr_9z",
    "outputId": "c9d989df-e504-4db9-e0a2-29a0332a7d3a"
   },
   "outputs": [
    {
     "name": "stdout",
     "output_type": "stream",
     "text": [
      ">>>epsilon is 0.00097307335983432\n",
      ">>>iter number is 44\n",
      ">>>max norm of error is 0.004962755348438264\n"
     ]
    },
    {
     "data": {
      "image/png": "[encoded data removed]",
      "text/plain": [
       "<Figure size 432x288 with 1 Axes>"
      ]
     },
     "metadata": {
      "needs_background": "light"
     },
     "output_type": "display_data"
    }
   ],
   "source": [
    "plt.plot(s_space, s_val, label = 'computed')\n",
    "plt.plot(s_space, exact_val, label = 'exact')\n",
    "plt.legend()\n",
    "print('>>>epsilon is ' + str(eps))\n",
    "print('>>>iter number is ' + str(iter))\n",
    "print('>>>max norm of error is ' + str(np.max(np.abs(s_val-exact_val))))\n"
   ]
  },
  {
   "cell_type": "code",
   "execution_count": null,
   "metadata": {
    "colab": {},
    "colab_type": "code",
    "id": "-vni9F0tsCez"
   },
   "outputs": [],
   "source": []
  }
 ],
 "metadata": {
  "colab": {
   "include_colab_link": true,
   "name": "value_iter_hjb_upwind.ipynb",
   "provenance": [],
   "version": "0.3.2"
  },
  "kernelspec": {
   "display_name": "Python 3",
   "language": "python",
   "name": "python3"
  },
  "language_info": {
   "codemirror_mode": {
    "name": "ipython",
    "version": 3
   },
   "file_extension": ".py",
   "mimetype": "text/x-python",
   "name": "python",
   "nbconvert_exporter": "python",
   "pygments_lexer": "ipython3",
   "version": "3.7.4"
  }
 },
 "nbformat": 4,
 "nbformat_minor": 1
}
