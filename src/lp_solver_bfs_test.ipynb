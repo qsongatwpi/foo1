{
 "cells": [
  {
   "cell_type": "markdown",
   "metadata": {
    "collapsed": true,
    "pycharm": {
     "name": "#%% md\n"
    }
   },
   "source": [
    "# Test lp_solver_bfs.py"
   ]
  },
  {
   "cell_type": "code",
   "execution_count": 1,
   "outputs": [],
   "source": [
    "import lp_solver_bfs as lp\n",
    "import numpy as np"
   ],
   "metadata": {
    "collapsed": false,
    "pycharm": {
     "name": "#%%\n"
    }
   }
  },
  {
   "cell_type": "markdown",
   "source": [
    "## Ex-GW\n",
    "Recall that, the problem of Giampietro's Woodcarving Inc is formulated to LP given below:\n",
    "$$\n",
    "\\begin{array}\n",
    "{ll}\n",
    "\\max z &  = 3 x_1 + 2 x_2 \\\\\n",
    "s.t. \\\\\n",
    "& 2x_1 + x_2 &\\le 100 \\\\\n",
    "& x_1 + x_2 & \\le 80\\\\\n",
    "& x_1 & \\le 40 \\\\\n",
    "& x_1, x_2 \\ge 0.\\\\\n",
    "\\end{array}\n",
    "$$\n"
   ],
   "metadata": {
    "collapsed": false,
    "pycharm": {
     "name": "#%% md\n"
    }
   }
  },
  {
   "cell_type": "code",
   "execution_count": 2,
   "outputs": [
    {
     "name": "stdout",
     "output_type": "stream",
     "text": [
      "optimal value is 180.0\n",
      "--- optimal bv is (0, 1, 4), and bfs is [20. 60. 20.]\n"
     ]
    }
   ],
   "source": [
    "A = np.array([[2., 1., 1, 0, 0], [1., 1, 0, 1, 0], [1., 0, 0, 0, 1]])\n",
    "b = np.array([100., 80, 40])\n",
    "c = np.array([3, 2, 0., 0, 0])\n",
    "\n",
    "opt = lp.lp_solver( A, b, c)\n",
    "print(f'optimal value is {opt[1]}')\n",
    "for bv in opt[0]:\n",
    "    res = lp.bfs(bv, A, b)\n",
    "    print(f'--- optimal bv is {bv}, and bfs is {res}')"
   ],
   "metadata": {
    "collapsed": false,
    "pycharm": {
     "name": "#%%\n"
    }
   }
  },
  {
   "cell_type": "markdown",
   "source": [
    "## Ex-WG\n",
    "We test with ex-WG of the following formulation:\n",
    "$$\\max z = 3 x_1 + 5 x_2$$\n",
    "s.t.\n",
    "$$\\begin{array}{lll}\n",
    "x_1 & & \\le 4 \\\\\n",
    "& 2 x_2 &\\le 12 \\\\\n",
    "3x_1 & + 2x_2 & \\le 18\\\\\n",
    "x_1, & x_2 & \\ge 0\n",
    "\\end{array}\n",
    "$$"
   ],
   "metadata": {
    "collapsed": false,
    "pycharm": {
     "name": "#%% md\n"
    }
   }
  },
  {
   "cell_type": "code",
   "execution_count": 3,
   "outputs": [
    {
     "name": "stdout",
     "output_type": "stream",
     "text": [
      "optimal value is 36.0\n",
      "--- optimal bv is (0, 1, 2), and bfs is [2. 6. 2.]\n"
     ]
    }
   ],
   "source": [
    "# setup\n",
    "A = np.array([\n",
    "    [1, 0, 1, 0, 0],\n",
    "    [0, 2, 0, 1, 0],\n",
    "    [3, 2, 0, 0, 1]\n",
    "], dtype=float)\n",
    "b = np.array([4, 12, 18])\n",
    "c = np.array([3, 5, 0, 0, 0])\n",
    "\n",
    "opt = lp.lp_solver( A, b, c)\n",
    "print(f'optimal value is {opt[1]}')\n",
    "for bv in opt[0]:\n",
    "    res = lp.bfs(bv, A, b)\n",
    "    print(f'--- optimal bv is {bv}, and bfs is {res}')"
   ],
   "metadata": {
    "collapsed": false,
    "pycharm": {
     "name": "#%%\n"
    }
   }
  },
  {
   "cell_type": "markdown",
   "source": [
    "## Ex-LL\n",
    "\n",
    "$$\n",
    "\\begin{array}\n",
    "{ll}\n",
    "\\max z &=  4x_1 + 3 x_2\\\\\n",
    "s..t\\\\\n",
    "& x_1 + x_2 \\le 40\\\\\n",
    "& 2 x_1 + x_2 \\le 60\\\\\n",
    "& x_1, x_2 \\ge 0\n",
    "\\end{array}\n",
    "$$"
   ],
   "metadata": {
    "collapsed": false,
    "pycharm": {
     "name": "#%% md\n"
    }
   }
  },
  {
   "cell_type": "code",
   "execution_count": 4,
   "outputs": [
    {
     "name": "stdout",
     "output_type": "stream",
     "text": [
      "optimal value is 140.0\n",
      "--- optimal bv is (0, 1), and bfs is [20. 20.]\n"
     ]
    }
   ],
   "source": [
    "A = np.array([[1.,1,1,0], [2.,1,0,1]])\n",
    "b = np.array([40,60])\n",
    "c = np.array([4, 3, 0, 0])\n",
    "\n",
    "opt = lp.lp_solver( A, b, c)\n",
    "print(f'optimal value is {opt[1]}')\n",
    "for bv in opt[0]:\n",
    "    res = lp.bfs(bv, A, b)\n",
    "    print(f'--- optimal bv is {bv}, and bfs is {res}')"
   ],
   "metadata": {
    "collapsed": false,
    "pycharm": {
     "name": "#%%\n"
    }
   }
  },
  {
   "cell_type": "markdown",
   "source": [
    "## Ex."
   ],
   "metadata": {
    "collapsed": false,
    "pycharm": {
     "name": "#%% md\n"
    }
   }
  },
  {
   "cell_type": "code",
   "execution_count": 5,
   "outputs": [],
   "source": [
    "# input augmented form\n",
    "A = np.array([[1.,2,3,1, 0, 0], [3.,1,2,0, 1, 0], [2, 3, 1, 0, 0, 1]])\n",
    "b = np.array([2., 2, 4])\n",
    "c = np.array([1, 4, 5, 0., 0., 0])"
   ],
   "metadata": {
    "collapsed": false,
    "pycharm": {
     "name": "#%%\n"
    }
   }
  },
  {
   "cell_type": "code",
   "execution_count": 6,
   "outputs": [
    {
     "name": "stdout",
     "output_type": "stream",
     "text": [
      "optimal value is 4.0\n",
      "--- optimal bv is (1, 4, 5), and bfs is [1. 1. 1.]\n"
     ]
    }
   ],
   "source": [
    "opt = lp.lp_solver( A, b, c)\n",
    "print(f'optimal value is {opt[1]}')\n",
    "for bv in opt[0]:\n",
    "    res = lp.bfs(bv, A, b)\n",
    "    print(f'--- optimal bv is {bv}, and bfs is {res}')"
   ],
   "metadata": {
    "collapsed": false,
    "pycharm": {
     "name": "#%%\n"
    }
   }
  },
  {
   "cell_type": "code",
   "execution_count": null,
   "outputs": [],
   "source": [],
   "metadata": {
    "collapsed": false,
    "pycharm": {
     "name": "#%%\n"
    }
   }
  }
 ],
 "metadata": {
  "kernelspec": {
   "display_name": "Python 3",
   "language": "python",
   "name": "python3"
  },
  "language_info": {
   "codemirror_mode": {
    "name": "ipython",
    "version": 2
   },
   "file_extension": ".py",
   "mimetype": "text/x-python",
   "name": "python",
   "nbconvert_exporter": "python",
   "pygments_lexer": "ipython2",
   "version": "2.7.6"
  }
 },
 "nbformat": 4,
 "nbformat_minor": 0
}