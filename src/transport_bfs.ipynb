{
  "nbformat": 4,
  "nbformat_minor": 0,
  "metadata": {
    "colab": {
      "name": "transport_bfs.ipynb",
      "provenance": [],
      "authorship_tag": "ABX9TyNshzo6WXrwPDqO/BrENk1a",
      "include_colab_link": true
    },
    "kernelspec": {
      "name": "python3",
      "display_name": "Python 3"
    },
    "language_info": {
      "name": "python"
    }
  },
  "cells": [
    {
      "cell_type": "markdown",
      "metadata": {
        "id": "view-in-github",
        "colab_type": "text"
      },
      "source": [
        "<a href=\"https://colab.research.google.com/github/songqsh/foo1/blob/master/src/transport_bfs.ipynb\" target=\"_parent\"><img src=\"https://colab.research.google.com/assets/colab-badge.svg\" alt=\"Open In Colab\"/></a>"
      ]
    },
    {
      "cell_type": "markdown",
      "metadata": {
        "id": "0YJSS56376aX"
      },
      "source": [
        "# Transport problem\n",
        "From Section 8.1\n",
        "\n"
      ]
    },
    {
      "cell_type": "code",
      "metadata": {
        "id": "LxkL8bK375hG"
      },
      "source": [
        "# import packages\n",
        "import numpy as np\n",
        "import numpy.linalg as la\n",
        "np.set_printoptions(suppress=True)\n",
        "import itertools"
      ],
      "execution_count": 3,
      "outputs": []
    },
    {
      "cell_type": "code",
      "metadata": {
        "id": "jw7rKh7AxW79",
        "colab": {
          "base_uri": "https://localhost:8080/"
        },
        "outputId": "55b92908-2b6a-43b6-8018-afce97035a04"
      },
      "source": [
        "\n",
        "A = np.array([[1., 1., 1, 1, 0, 0, 0, 0, 0, 0, 0, 0, 1, 0, 0, 0, 0, 0, 0], \n",
        "              [0., 0., 0, 0, 1, 1, 1, 1, 0, 0, 0, 0, 0, 1, 0, 0, 0, 0, 0],\n",
        "              [0., 0., 0, 0, 0, 0, 0, 0, 1, 1, 1, 1, 0, 0, 1, 0, 0, 0, 0], \n",
        "              [1., 0., 0, 0, 1, 0, 0, 0, 1, 0, 0, 0, 0, 0, 0, 1, 0, 0, 0],\n",
        "              [0., 1., 0, 0, 0, 1, 0, 0, 0, 1, 0, 0, 0, 0, 0, 0, 1, 0, 0],\n",
        "              [0., 0., 1, 0, 0, 0, 1, 0, 0, 0, 1, 0, 0, 0, 0, 0, 0, 1, 0],\n",
        "              [0., 0., 0, 1, 0, 0, 0, 1, 0, 0, 0, 1, 0, 0, 0, 0, 0, 0, 1]])\n",
        "b = np.array([75., 125, 100, 80, 65, 70, 85])\n",
        "\n",
        "M=1000\n",
        "c = np.array([-464., -513, -654, -867, -352, -416,\n",
        "              -690, -791, -995, -682, -388, -685, \n",
        "              -M, -M, -M, -M, -M, -M, -M])\n",
        "m, n = A.shape\n",
        "print(f'coefficient matrix is \\n {A}')\n",
        "print(f'right hand side vector is \\n {b}')\n",
        "print(f'coefficient of objective function is \\n {c}')\n",
        "print(f'n is {n} and m is {m}')"
      ],
      "execution_count": 18,
      "outputs": [
        {
          "output_type": "stream",
          "text": [
            "coefficient matrix is \n",
            " [[1. 1. 1. 1. 0. 0. 0. 0. 0. 0. 0. 0. 1. 0. 0. 0. 0. 0. 0.]\n",
            " [0. 0. 0. 0. 1. 1. 1. 1. 0. 0. 0. 0. 0. 1. 0. 0. 0. 0. 0.]\n",
            " [0. 0. 0. 0. 0. 0. 0. 0. 1. 1. 1. 1. 0. 0. 1. 0. 0. 0. 0.]\n",
            " [1. 0. 0. 0. 1. 0. 0. 0. 1. 0. 0. 0. 0. 0. 0. 1. 0. 0. 0.]\n",
            " [0. 1. 0. 0. 0. 1. 0. 0. 0. 1. 0. 0. 0. 0. 0. 0. 1. 0. 0.]\n",
            " [0. 0. 1. 0. 0. 0. 1. 0. 0. 0. 1. 0. 0. 0. 0. 0. 0. 1. 0.]\n",
            " [0. 0. 0. 1. 0. 0. 0. 1. 0. 0. 0. 1. 0. 0. 0. 0. 0. 0. 1.]]\n",
            "right hand side vector is \n",
            " [ 75. 125. 100.  80.  65.  70.  85.]\n",
            "coefficient of objective function is \n",
            " [ -464.  -513.  -654.  -867.  -352.  -416.  -690.  -791.  -995.  -682.\n",
            "  -388.  -685. -1000. -1000. -1000. -1000. -1000. -1000. -1000.]\n",
            "n is 19 and m is 7\n"
          ],
          "name": "stdout"
        }
      ]
    },
    {
      "cell_type": "code",
      "metadata": {
        "id": "Yde_dhs7x1-R",
        "colab": {
          "base_uri": "https://localhost:8080/"
        },
        "outputId": "43f2081c-b52e-4bf5-a57d-ae949f7b0d1e"
      },
      "source": [
        "a_list = list(range(n))\n",
        "\n",
        "bv_list = itertools.combinations(a_list,m)\n",
        "n_bfs = 0 # number of bfs recording\n",
        "opt_soln = []\n",
        "opt_value = -1000000\n",
        "for bv in bv_list:\n",
        "  try:\n",
        "    bs = la.solve(A[:,bv], b)\n",
        "    #print(f'bv is {bv} and bs is {bs}')\n",
        "    \n",
        "    if min(bs) >= 0:\n",
        "      z=0\n",
        "      for i in range(m):\n",
        "        z = z + c[bv[i]]*bs[i]\n",
        "      #print(f'...it is bfs and z-value is {z}')\n",
        "      n_bfs += 1\n",
        "      if z>opt_value:\n",
        "        opt_value = z\n",
        "        opt_soln = bs\n",
        "\n",
        "  except:\n",
        "    pass\n",
        "    #print(f'bv is {bv} and it is singular')\n",
        "\n",
        "print(f'number of bfs is {n_bfs}')\n",
        "print(f'optimal value is {opt_value}')\n",
        "print(f'optimal solution is {opt_soln}')"
      ],
      "execution_count": 27,
      "outputs": [
        {
          "output_type": "stream",
          "text": [
            "number of bfs is 1859\n",
            "optimal value is -152535.0\n",
            "optimal solution is [20. 55. 80. 45. 70. 30. -0.]\n"
          ],
          "name": "stdout"
        }
      ]
    },
    {
      "cell_type": "code",
      "metadata": {
        "id": "OcQwcWOqgYzg",
        "colab": {
          "base_uri": "https://localhost:8080/"
        },
        "outputId": "7d385485-a304-405f-92e8-e21fb4bc7212"
      },
      "source": [
        "import math\n",
        "n_bs = math.factorial(19)/math.factorial(7)/math.factorial(12)\n",
        "print(f'number of basic solutions (including singluar case) is {n_bs}')"
      ],
      "execution_count": 26,
      "outputs": [
        {
          "output_type": "stream",
          "text": [
            "number of basic solutions (including singluar case) is 50388.0\n"
          ],
          "name": "stdout"
        }
      ]
    },
    {
      "cell_type": "code",
      "metadata": {
        "id": "USfXwJizZW9a"
      },
      "source": [
        ""
      ],
      "execution_count": null,
      "outputs": []
    }
  ]
}