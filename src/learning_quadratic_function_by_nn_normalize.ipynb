{
  "nbformat": 4,
  "nbformat_minor": 0,
  "metadata": {
    "kernelspec": {
      "display_name": "Python 3",
      "language": "python",
      "name": "python3"
    },
    "language_info": {
      "codemirror_mode": {
        "name": "ipython",
        "version": 3
      },
      "file_extension": ".py",
      "mimetype": "text/x-python",
      "name": "python",
      "nbconvert_exporter": "python",
      "pygments_lexer": "ipython3",
      "version": "3.7.4"
    },
    "colab": {
      "name": " learning_quadratic_function_by_nn_normalize.ipynb",
      "provenance": [],
      "include_colab_link": true
    }
  },
  "cells": [
    {
      "cell_type": "markdown",
      "metadata": {
        "id": "view-in-github",
        "colab_type": "text"
      },
      "source": [
        "<a href=\"https://colab.research.google.com/github/songqsh/foo1/blob/master/src/learning_quadratic_function_by_nn_normalize.ipynb\" target=\"_parent\"><img src=\"https://colab.research.google.com/assets/colab-badge.svg\" alt=\"Open In Colab\"/></a>"
      ]
    },
    {
      "cell_type": "code",
      "metadata": {
        "id": "lg-KuHVGfhWT",
        "colab_type": "code",
        "colab": {}
      },
      "source": [
        "import torch\n",
        "import torch.nn as nn\n",
        "\n",
        "import numpy as np\n",
        "\n",
        "import torch.nn.functional as F\n",
        "import matplotlib.pyplot as plt\n"
      ],
      "execution_count": 0,
      "outputs": []
    },
    {
      "cell_type": "markdown",
      "metadata": {
        "id": "FBHeefsofhWY",
        "colab_type": "text"
      },
      "source": [
        "Our objective is to learn a quadratic function. \n",
        "The target function to learn is\n",
        "$$f(x) = x^2 + 2x -10.$$\n"
      ]
    },
    {
      "cell_type": "code",
      "metadata": {
        "id": "BTgnEKWmgEdp",
        "colab_type": "code",
        "colab": {}
      },
      "source": [
        "\n",
        "# target function\n",
        "f = lambda x: (x-10)**2+2*x-10"
      ],
      "execution_count": 0,
      "outputs": []
    },
    {
      "cell_type": "markdown",
      "metadata": {
        "id": "cmfVf_cVfhWZ",
        "colab_type": "text"
      },
      "source": [
        "- We use the following network for the forward pass, but the result is not good."
      ]
    },
    {
      "cell_type": "code",
      "metadata": {
        "id": "INPSoaqZgw-J",
        "colab_type": "code",
        "colab": {}
      },
      "source": [
        "H1 = 5; H2 = 5 #number of hidden layer\n",
        "model = nn.Sequential(\n",
        "    nn.Linear(1, H1), \n",
        "    nn.Sigmoid(),\n",
        "    nn.Linear(H1, H2),\n",
        "    nn.Sigmoid(),\n",
        "    nn.Linear(H2,2),\n",
        "    nn.Linear(2,1)\n",
        ")"
      ],
      "execution_count": 0,
      "outputs": []
    },
    {
      "cell_type": "code",
      "metadata": {
        "id": "RbTcGmsRfhWg",
        "colab_type": "code",
        "colab": {}
      },
      "source": [
        "\n",
        "#loss function \n",
        "criterion = nn.MSELoss()\n",
        "#optimizer\n",
        "learning_rate = 0.1\n",
        "optimizer = torch.optim.SGD(model.parameters(), lr=learning_rate, momentum=0.7)"
      ],
      "execution_count": 0,
      "outputs": []
    },
    {
      "cell_type": "code",
      "metadata": {
        "id": "o7xqa9zAhG5t",
        "colab_type": "code",
        "colab": {}
      },
      "source": [
        "#training data\n",
        "batch_size = 21\n",
        "\n",
        "x_train0 = torch.linspace(-5, 5, batch_size).reshape(batch_size,1)\n",
        "y_train0 = f(x_train0)\n",
        "\n",
        "\n",
        "def linear_transform(xx, l = 0, u= 1):\n",
        "  M = torch.max(xx)\n",
        "  m = torch.min(xx)\n",
        "  return (u-l)/(M-m)*(xx-m)+l, m, M, l, u\n",
        "x_train, x_m, x_M, x_l, x_u = linear_transform(x_train0, -1, 1)\n",
        "y_train, y_m, y_M, y_l, y_u = linear_transform(y_train0, 0, 1)\n",
        "#y_train0 = linear_transform(y_train, y_m, y_M)\n",
        "#model(x_train)\n",
        "#y_train0"
      ],
      "execution_count": 0,
      "outputs": []
    },
    {
      "cell_type": "code",
      "metadata": {
        "id": "J_Mv1pOPhVic",
        "colab_type": "code",
        "outputId": "86918497-3a4e-4367-b480-b74d5020f85a",
        "colab": {
          "base_uri": "https://localhost:8080/",
          "height": 187
        }
      },
      "source": [
        "# Train the model\n",
        "epoch_n = 1000\n",
        "print_n = 10\n",
        "epoch_per_print= np.floor(epoch_n/print_n)\n",
        "\n",
        "for epoch in range(epoch_n):\n",
        "\n",
        "    # Forward pass\n",
        "    outputs = model(x_train)\n",
        "    loss = criterion(outputs, y_train)  \n",
        "    \n",
        "    # Backward and optimize\n",
        "    optimizer.zero_grad()\n",
        "    loss.backward()\n",
        "    optimizer.step()\n",
        "    \n",
        "    if (epoch+1) % epoch_per_print == 0:\n",
        "      print('Epoch [{}/{}], Loss: {:.4f}'.format(epoch+1, epoch_n, loss.item()))"
      ],
      "execution_count": 0,
      "outputs": [
        {
          "output_type": "stream",
          "text": [
            "Epoch [100/1000], Loss: 0.0920\n",
            "Epoch [200/1000], Loss: 0.0837\n",
            "Epoch [300/1000], Loss: 0.0062\n",
            "Epoch [400/1000], Loss: 0.0014\n",
            "Epoch [500/1000], Loss: 0.0011\n",
            "Epoch [600/1000], Loss: 0.0008\n",
            "Epoch [700/1000], Loss: 0.0006\n",
            "Epoch [800/1000], Loss: 0.0005\n",
            "Epoch [900/1000], Loss: 0.0004\n",
            "Epoch [1000/1000], Loss: 0.0003\n"
          ],
          "name": "stdout"
        }
      ]
    },
    {
      "cell_type": "code",
      "metadata": {
        "id": "M_4PPiSi-_Nm",
        "colab_type": "code",
        "colab": {}
      },
      "source": [
        "def learnedfun(x):\n",
        "  out = (1-(-1))/(x_M-x_m)*(x-x_m)+(-1.)\n",
        "  out = model(out)\n",
        "  out = (y_M- y_m)*out+y_m\n",
        "  return out\n",
        "\n",
        "y_pred = learnedfun(x_train0)  "
      ],
      "execution_count": 0,
      "outputs": []
    },
    {
      "cell_type": "code",
      "metadata": {
        "id": "_TAHtcSsgKDN",
        "colab_type": "code",
        "outputId": "3e1a0904-3c0c-493d-a5a4-aa831b696006",
        "colab": {
          "base_uri": "https://localhost:8080/",
          "height": 265
        }
      },
      "source": [
        "#test\n",
        "plt.scatter(x_train0.detach().numpy(), y_train0.detach().numpy(), label='true')\n",
        "plt.plot(x_train0.detach().numpy(), y_pred.detach().numpy(), label='pred')\n",
        "\n",
        "plt.legend()\n",
        "plt.show()"
      ],
      "execution_count": 0,
      "outputs": [
        {
          "output_type": "display_data",
          "data": {
            "image/png": "[encoded data removed]",
            "text/plain": [
              "<Figure size 432x288 with 1 Axes>"
            ]
          },
          "metadata": {
            "tags": []
          }
        }
      ]
    },
    {
      "cell_type": "markdown",
      "metadata": {
        "id": "AT93QjxgnuLY",
        "colab_type": "text"
      },
      "source": [
        "Remark: The same method does not work for \n",
        "$$f(x) = x^2 + 2x -1.$$\n"
      ]
    },
    {
      "cell_type": "code",
      "metadata": {
        "id": "VVasvGscnz7A",
        "colab_type": "code",
        "colab": {}
      },
      "source": [
        ""
      ],
      "execution_count": 0,
      "outputs": []
    }
  ]
}