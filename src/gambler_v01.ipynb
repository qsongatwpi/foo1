{
  "nbformat": 4,
  "nbformat_minor": 0,
  "metadata": {
    "colab": {
      "name": "gambler_v01.ipynb",
      "version": "0.3.2",
      "provenance": [],
      "include_colab_link": true
    },
    "kernelspec": {
      "name": "python3",
      "display_name": "Python 3"
    }
  },
  "cells": [
    {
      "cell_type": "markdown",
      "metadata": {
        "id": "view-in-github",
        "colab_type": "text"
      },
      "source": [
        "<a href=\"https://colab.research.google.com/github/songqsh/foo1/blob/master/src/gambler_v01.ipynb\" target=\"_parent\"><img src=\"https://colab.research.google.com/assets/colab-badge.svg\" alt=\"Open In Colab\"/></a>"
      ]
    },
    {
      "cell_type": "markdown",
      "metadata": {
        "id": "pZnwVbUG75R8",
        "colab_type": "text"
      },
      "source": [
        "__Gambler's problem__\n",
        "\n",
        "This problem is \n",
        "[ex 4.3](https://github.com/songqsh/foo1/blob/master/doc/gambler_problem.pdf) \n",
        "of the book \n",
        "[SB18](http://incompleteideas.net/book/the-book-2nd.html). \n"
      ]
    },
    {
      "cell_type": "code",
      "metadata": {
        "id": "sDE-i1q7eevP",
        "colab_type": "code",
        "colab": {}
      },
      "source": [
        "import numpy as np\n",
        "import matplotlib.pyplot as plt"
      ],
      "execution_count": 0,
      "outputs": []
    },
    {
      "cell_type": "code",
      "metadata": {
        "id": "p5EwXXAbenh0",
        "colab_type": "code",
        "colab": {}
      },
      "source": [
        "# goal\n",
        "GOAL = 100\n",
        "\n",
        "# all states, including state 0 and state 100\n",
        "STATES = np.arange(GOAL + 1)\n",
        "\n",
        "# probability of head\n",
        "HEAD_PROB = 0.4"
      ],
      "execution_count": 0,
      "outputs": []
    },
    {
      "cell_type": "code",
      "metadata": {
        "id": "FKo35ijhyRyw",
        "colab_type": "code",
        "colab": {}
      },
      "source": [
        "# state value\n",
        "state_value = np.zeros(GOAL + 1)\n",
        "state_value[GOAL] = 1.0\n",
        "\n",
        "# policy value\n",
        "policy = np.zeros(GOAL + 1)\n",
        "\n",
        "# value iteration\n",
        "while True:\n",
        "    delta = 0.0\n",
        "    for state in STATES[1:GOAL]:\n",
        "        # get possilbe actions for current state\n",
        "        actions = np.arange(min(state, GOAL - state) + 1)\n",
        "        action_returns = []\n",
        "        for action in actions:\n",
        "            action_returns.append(\n",
        "                HEAD_PROB * state_value[state + action] + (1 - HEAD_PROB) * state_value[state - action])\n",
        "        new_value = np.max(action_returns)\n",
        "        \n",
        "        delta += np.abs(state_value[state] - new_value)\n",
        "        # update state value\n",
        "        state_value[state] = new_value\n",
        "        # update policy\n",
        "        policy[state] = actions[np.argmax(np.round(action_returns[1:], 5)) + 1]\n",
        "        \n",
        "    if delta < 1e-9:\n",
        "        break"
      ],
      "execution_count": 0,
      "outputs": []
    },
    {
      "cell_type": "code",
      "metadata": {
        "id": "B-zg9j3dzMvn",
        "colab_type": "code",
        "outputId": "58b28c5f-907c-4a11-cbe2-95f58b5e3cbf",
        "colab": {
          "base_uri": "https://localhost:8080/",
          "height": 301
        }
      },
      "source": [
        "plt.plot(state_value)\n",
        "plt.xlabel('Capital')\n",
        "plt.ylabel('Value estimates')\n"
      ],
      "execution_count": 4,
      "outputs": [
        {
          "output_type": "execute_result",
          "data": {
            "text/plain": [
              "Text(0, 0.5, 'Value estimates')"
            ]
          },
          "metadata": {
            "tags": []
          },
          "execution_count": 4
        },
        {
          "output_type": "display_data",
          "data": {
            "image/png": "[encoded data removed]",
            "text/plain": [
              "<Figure size 432x288 with 1 Axes>"
            ]
          },
          "metadata": {
            "tags": []
          }
        }
      ]
    },
    {
      "cell_type": "code",
      "metadata": {
        "id": "RgBdMC9Xz1LO",
        "colab_type": "code",
        "outputId": "bbca8596-3780-4a6f-e57d-176395638e9d",
        "colab": {
          "base_uri": "https://localhost:8080/",
          "height": 301
        }
      },
      "source": [
        "plt.scatter(STATES, policy)\n",
        "plt.xlabel('Capital')\n",
        "plt.ylabel('Final policy (stake)')"
      ],
      "execution_count": 5,
      "outputs": [
        {
          "output_type": "execute_result",
          "data": {
            "text/plain": [
              "Text(0, 0.5, 'Final policy (stake)')"
            ]
          },
          "metadata": {
            "tags": []
          },
          "execution_count": 5
        },
        {
          "output_type": "display_data",
          "data": {
            "image/png": "[encoded data removed]",
            "text/plain": [
              "<Figure size 432x288 with 1 Axes>"
            ]
          },
          "metadata": {
            "tags": []
          }
        }
      ]
    },
    {
      "cell_type": "markdown",
      "metadata": {
        "id": "Bgjv97cz9XgZ",
        "colab_type": "text"
      },
      "source": [
        "__Q__\n",
        "\n",
        "What is the asymptotic behavior?"
      ]
    },
    {
      "cell_type": "code",
      "metadata": {
        "id": "bk81KD6V4n-O",
        "colab_type": "code",
        "colab": {}
      },
      "source": [
        ""
      ],
      "execution_count": 0,
      "outputs": []
    }
  ]
}