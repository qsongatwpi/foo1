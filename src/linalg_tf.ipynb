{
 "nbformat": 4,
 "nbformat_minor": 0,
 "metadata": {
  "colab": {
   "name": "linalg_tf.ipynb",
   "version": "0.3.2",
   "provenance": [],
   "include_colab_link": true
  },
  "kernelspec": {
   "name": "python3",
   "display_name": "Python 3"
  },
  "accelerator": "GPU"
 },
 "cells": [
  {
   "metadata": {
    "id": "H_PG9MgtDdgF",
    "colab_type": "code",
    "colab": {}
   },
   "cell_type": "code",
   "source": [
    "#import packages\n",
    "\n",
    "import tensorflow.compat.v1 as tf\n",
    "import tensorflow.linalg as tfla\n",
    "import numpy as np\n",
    "import numpy.linalg as npla"
   ],
   "execution_count": 3,
   "outputs": []
  },
  {
   "metadata": {
    "id": "4w6KvMkvpEnp",
    "colab_type": "code",
    "colab": {}
   },
   "cell_type": "code",
   "source": [
    "#run a session\n",
    "sess = tf.Session()"
   ],
   "execution_count": 4,
   "outputs": [
    {
     "name": "stderr",
     "output_type": "stream",
     "text": [
      "2022-03-08 14:12:51.976752: I tensorflow/core/platform/cpu_feature_guard.cc:151] This TensorFlow binary is optimized with oneAPI Deep Neural Network Library (oneDNN) to use the following CPU instructions in performance-critical operations:  AVX2 FMA\n",
      "To enable them in other operations, rebuild TensorFlow with the appropriate compiler flags.\n"
     ]
    }
   ]
  },
  {
   "metadata": {
    "id": "okmaDwvPGxwP",
    "colab_type": "code",
    "outputId": "e1b0ea2f-48cc-430b-fed3-145e56b6ab66",
    "colab": {
     "base_uri": "https://localhost:8080/",
     "height": 68
    }
   },
   "cell_type": "code",
   "source": [
    "#matrix input\n",
    "# 2-D tensor `a`\n",
    "\n",
    "a = tf.constant([[1., -1, 0],        \n",
    "                 [0, 2, 0],\n",
    "                 [0., 1, 1]])\n",
    "\n",
    "\n",
    "sess.run(a)\n"
   ],
   "execution_count": 5,
   "outputs": [
    {
     "ename": "RuntimeError",
     "evalue": "The Session graph is empty. Add operations to the graph before calling run().",
     "output_type": "error",
     "traceback": [
      "\u001B[0;31m---------------------------------------------------------------------------\u001B[0m",
      "\u001B[0;31mRuntimeError\u001B[0m                              Traceback (most recent call last)",
      "\u001B[0;32m/var/folders/lk/c59x1k5j5nj0r0hl3m7bfh400000gq/T/ipykernel_19813/3526326597.py\u001B[0m in \u001B[0;36m<module>\u001B[0;34m\u001B[0m\n\u001B[1;32m      7\u001B[0m \u001B[0;34m\u001B[0m\u001B[0m\n\u001B[1;32m      8\u001B[0m \u001B[0;34m\u001B[0m\u001B[0m\n\u001B[0;32m----> 9\u001B[0;31m \u001B[0msess\u001B[0m\u001B[0;34m.\u001B[0m\u001B[0mrun\u001B[0m\u001B[0;34m(\u001B[0m\u001B[0ma\u001B[0m\u001B[0;34m)\u001B[0m\u001B[0;34m\u001B[0m\u001B[0;34m\u001B[0m\u001B[0m\n\u001B[0m\u001B[1;32m     10\u001B[0m \u001B[0;34m\u001B[0m\u001B[0m\n",
      "\u001B[0;32m~/Documents/GitHub/foo1/venv/lib/python3.7/site-packages/tensorflow/python/client/session.py\u001B[0m in \u001B[0;36mrun\u001B[0;34m(self, fetches, feed_dict, options, run_metadata)\u001B[0m\n\u001B[1;32m    966\u001B[0m     \u001B[0;32mtry\u001B[0m\u001B[0;34m:\u001B[0m\u001B[0;34m\u001B[0m\u001B[0;34m\u001B[0m\u001B[0m\n\u001B[1;32m    967\u001B[0m       result = self._run(None, fetches, feed_dict, options_ptr,\n\u001B[0;32m--> 968\u001B[0;31m                          run_metadata_ptr)\n\u001B[0m\u001B[1;32m    969\u001B[0m       \u001B[0;32mif\u001B[0m \u001B[0mrun_metadata\u001B[0m\u001B[0;34m:\u001B[0m\u001B[0;34m\u001B[0m\u001B[0;34m\u001B[0m\u001B[0m\n\u001B[1;32m    970\u001B[0m         \u001B[0mproto_data\u001B[0m \u001B[0;34m=\u001B[0m \u001B[0mtf_session\u001B[0m\u001B[0;34m.\u001B[0m\u001B[0mTF_GetBuffer\u001B[0m\u001B[0;34m(\u001B[0m\u001B[0mrun_metadata_ptr\u001B[0m\u001B[0;34m)\u001B[0m\u001B[0;34m\u001B[0m\u001B[0;34m\u001B[0m\u001B[0m\n",
      "\u001B[0;32m~/Documents/GitHub/foo1/venv/lib/python3.7/site-packages/tensorflow/python/client/session.py\u001B[0m in \u001B[0;36m_run\u001B[0;34m(self, handle, fetches, feed_dict, options, run_metadata)\u001B[0m\n\u001B[1;32m   1115\u001B[0m       \u001B[0;32mraise\u001B[0m \u001B[0mRuntimeError\u001B[0m\u001B[0;34m(\u001B[0m\u001B[0;34m'Attempted to use a closed Session.'\u001B[0m\u001B[0;34m)\u001B[0m\u001B[0;34m\u001B[0m\u001B[0;34m\u001B[0m\u001B[0m\n\u001B[1;32m   1116\u001B[0m     \u001B[0;32mif\u001B[0m \u001B[0mself\u001B[0m\u001B[0;34m.\u001B[0m\u001B[0mgraph\u001B[0m\u001B[0;34m.\u001B[0m\u001B[0mversion\u001B[0m \u001B[0;34m==\u001B[0m \u001B[0;36m0\u001B[0m\u001B[0;34m:\u001B[0m\u001B[0;34m\u001B[0m\u001B[0;34m\u001B[0m\u001B[0m\n\u001B[0;32m-> 1117\u001B[0;31m       raise RuntimeError('The Session graph is empty. Add operations to the '\n\u001B[0m\u001B[1;32m   1118\u001B[0m                          'graph before calling run().')\n\u001B[1;32m   1119\u001B[0m \u001B[0;34m\u001B[0m\u001B[0m\n",
      "\u001B[0;31mRuntimeError\u001B[0m: The Session graph is empty. Add operations to the graph before calling run()."
     ]
    }
   ]
  },
  {
   "metadata": {
    "id": "ngoK5WA7ES1o",
    "colab_type": "code",
    "outputId": "fef3d91d-dac2-49f4-d612-4621eb4879dc",
    "colab": {
     "base_uri": "https://localhost:8080/",
     "height": 68
    }
   },
   "cell_type": "code",
   "source": [
    "# identity matrix\n",
    "\n",
    "id3 = tf.eye(3)\n",
    "sess.run(id3)"
   ],
   "execution_count": 6,
   "outputs": [
    {
     "ename": "RuntimeError",
     "evalue": "The Session graph is empty. Add operations to the graph before calling run().",
     "output_type": "error",
     "traceback": [
      "\u001B[0;31m---------------------------------------------------------------------------\u001B[0m",
      "\u001B[0;31mRuntimeError\u001B[0m                              Traceback (most recent call last)",
      "\u001B[0;32m/var/folders/lk/c59x1k5j5nj0r0hl3m7bfh400000gq/T/ipykernel_19813/1729883630.py\u001B[0m in \u001B[0;36m<module>\u001B[0;34m\u001B[0m\n\u001B[1;32m      2\u001B[0m \u001B[0;34m\u001B[0m\u001B[0m\n\u001B[1;32m      3\u001B[0m \u001B[0mid3\u001B[0m \u001B[0;34m=\u001B[0m \u001B[0mtf\u001B[0m\u001B[0;34m.\u001B[0m\u001B[0meye\u001B[0m\u001B[0;34m(\u001B[0m\u001B[0;36m3\u001B[0m\u001B[0;34m)\u001B[0m\u001B[0;34m\u001B[0m\u001B[0;34m\u001B[0m\u001B[0m\n\u001B[0;32m----> 4\u001B[0;31m \u001B[0msess\u001B[0m\u001B[0;34m.\u001B[0m\u001B[0mrun\u001B[0m\u001B[0;34m(\u001B[0m\u001B[0mid3\u001B[0m\u001B[0;34m)\u001B[0m\u001B[0;34m\u001B[0m\u001B[0;34m\u001B[0m\u001B[0m\n\u001B[0m",
      "\u001B[0;32m~/Documents/GitHub/foo1/venv/lib/python3.7/site-packages/tensorflow/python/client/session.py\u001B[0m in \u001B[0;36mrun\u001B[0;34m(self, fetches, feed_dict, options, run_metadata)\u001B[0m\n\u001B[1;32m    966\u001B[0m     \u001B[0;32mtry\u001B[0m\u001B[0;34m:\u001B[0m\u001B[0;34m\u001B[0m\u001B[0;34m\u001B[0m\u001B[0m\n\u001B[1;32m    967\u001B[0m       result = self._run(None, fetches, feed_dict, options_ptr,\n\u001B[0;32m--> 968\u001B[0;31m                          run_metadata_ptr)\n\u001B[0m\u001B[1;32m    969\u001B[0m       \u001B[0;32mif\u001B[0m \u001B[0mrun_metadata\u001B[0m\u001B[0;34m:\u001B[0m\u001B[0;34m\u001B[0m\u001B[0;34m\u001B[0m\u001B[0m\n\u001B[1;32m    970\u001B[0m         \u001B[0mproto_data\u001B[0m \u001B[0;34m=\u001B[0m \u001B[0mtf_session\u001B[0m\u001B[0;34m.\u001B[0m\u001B[0mTF_GetBuffer\u001B[0m\u001B[0;34m(\u001B[0m\u001B[0mrun_metadata_ptr\u001B[0m\u001B[0;34m)\u001B[0m\u001B[0;34m\u001B[0m\u001B[0;34m\u001B[0m\u001B[0m\n",
      "\u001B[0;32m~/Documents/GitHub/foo1/venv/lib/python3.7/site-packages/tensorflow/python/client/session.py\u001B[0m in \u001B[0;36m_run\u001B[0;34m(self, handle, fetches, feed_dict, options, run_metadata)\u001B[0m\n\u001B[1;32m   1115\u001B[0m       \u001B[0;32mraise\u001B[0m \u001B[0mRuntimeError\u001B[0m\u001B[0;34m(\u001B[0m\u001B[0;34m'Attempted to use a closed Session.'\u001B[0m\u001B[0;34m)\u001B[0m\u001B[0;34m\u001B[0m\u001B[0;34m\u001B[0m\u001B[0m\n\u001B[1;32m   1116\u001B[0m     \u001B[0;32mif\u001B[0m \u001B[0mself\u001B[0m\u001B[0;34m.\u001B[0m\u001B[0mgraph\u001B[0m\u001B[0;34m.\u001B[0m\u001B[0mversion\u001B[0m \u001B[0;34m==\u001B[0m \u001B[0;36m0\u001B[0m\u001B[0;34m:\u001B[0m\u001B[0;34m\u001B[0m\u001B[0;34m\u001B[0m\u001B[0m\n\u001B[0;32m-> 1117\u001B[0;31m       raise RuntimeError('The Session graph is empty. Add operations to the '\n\u001B[0m\u001B[1;32m   1118\u001B[0m                          'graph before calling run().')\n\u001B[1;32m   1119\u001B[0m \u001B[0;34m\u001B[0m\u001B[0m\n",
      "\u001B[0;31mRuntimeError\u001B[0m: The Session graph is empty. Add operations to the graph before calling run()."
     ]
    }
   ]
  },
  {
   "metadata": {
    "id": "LhMBYcLOG2X8",
    "colab_type": "code",
    "outputId": "3d8946eb-1d5e-4fc3-902b-f6e927183bdf",
    "colab": {
     "base_uri": "https://localhost:8080/",
     "height": 68
    }
   },
   "cell_type": "code",
   "source": [
    "#transpose\n",
    "\n",
    "a_trans = tfla.transpose(a)\n",
    "sess.run(a_trans)"
   ],
   "execution_count": null,
   "outputs": []
  },
  {
   "metadata": {
    "id": "zOIJe6uSHKKx",
    "colab_type": "code",
    "outputId": "225364d7-c163-4115-a8c0-106bd186b5c2",
    "colab": {
     "base_uri": "https://localhost:8080/",
     "height": 68
    }
   },
   "cell_type": "code",
   "source": [
    "#multiplication\n",
    "\n",
    "prod = a @ a_trans\n",
    "\n",
    "sess.run(prod)"
   ],
   "execution_count": null,
   "outputs": []
  },
  {
   "metadata": {
    "id": "D-2GnlOQEfkm",
    "colab_type": "code",
    "outputId": "d5de1591-b878-4e8a-df17-066a7bafa302",
    "colab": {
     "base_uri": "https://localhost:8080/",
     "height": 68
    }
   },
   "cell_type": "code",
   "source": [
    "# solver of linear system\n",
    "\n",
    "soln = tfla.solve(a, id3)\n",
    "sess.run(soln)"
   ],
   "execution_count": null,
   "outputs": []
  },
  {
   "metadata": {
    "id": "nMF54wGLHTbG",
    "colab_type": "code",
    "outputId": "d7ec4fcf-17a2-476c-f67b-e01c3b379c39",
    "colab": {
     "base_uri": "https://localhost:8080/",
     "height": 34
    }
   },
   "cell_type": "code",
   "source": [
    "#determinant\n",
    "\n",
    "sess.run(tfla.det(a))"
   ],
   "execution_count": null,
   "outputs": []
  },
  {
   "metadata": {
    "id": "-C-W0esARtYo",
    "colab_type": "code",
    "outputId": "664bc056-de71-4fc5-b2ef-04b5cef54051",
    "colab": {
     "base_uri": "https://localhost:8080/",
     "height": 68
    }
   },
   "cell_type": "code",
   "source": [
    "#inverse\n",
    "\n",
    "a_inv = tfla.inv(a)\n",
    "sess.run(a_inv)"
   ],
   "execution_count": null,
   "outputs": []
  },
  {
   "metadata": {
    "id": "XBdVbaMwp0Q9",
    "colab_type": "code",
    "outputId": "3c5bfc26-d570-4ead-afa2-568f39417517",
    "colab": {
     "base_uri": "https://localhost:8080/",
     "height": 68
    }
   },
   "cell_type": "code",
   "source": [
    "# check inverse\n",
    "\n",
    "sess.run(a@a_inv)"
   ],
   "execution_count": null,
   "outputs": []
  },
  {
   "metadata": {
    "id": "vGc_01Yap6We",
    "colab_type": "code",
    "outputId": "1231e5c3-18b5-4314-b59f-e4cdb6f9e517",
    "colab": {
     "base_uri": "https://localhost:8080/",
     "height": 34
    }
   },
   "cell_type": "code",
   "source": [
    "#change tensor to numpy array\n",
    "\n",
    "a_np = sess.run(a)\n",
    "\n",
    "type(a_np)"
   ],
   "execution_count": null,
   "outputs": []
  },
  {
   "metadata": {
    "id": "Kdim0Sm3qKg4",
    "colab_type": "code",
    "outputId": "ee0043b3-3419-45fa-8361-fc46d0075992",
    "colab": {
     "base_uri": "https://localhost:8080/",
     "height": 85
    }
   },
   "cell_type": "code",
   "source": [
    "# eigen decomposition\n",
    "# this is not available in tf, so we have to use np\n",
    "\n",
    "a_eig_val, a_eig_vec = npla.eig(a_np)\n",
    "print(a_eig_val)\n",
    "print(a_eig_vec)"
   ],
   "execution_count": null,
   "outputs": []
  },
  {
   "metadata": {
    "id": "BmI25iVwRKkY",
    "colab_type": "code",
    "colab": {}
   },
   "cell_type": "code",
   "source": [
    ""
   ],
   "execution_count": 0,
   "outputs": []
  }
 ]
}