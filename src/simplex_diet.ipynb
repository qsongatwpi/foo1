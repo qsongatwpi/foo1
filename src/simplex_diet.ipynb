{
  "nbformat": 4,
  "nbformat_minor": 0,
  "metadata": {
    "colab": {
      "name": "Simplex.ipynb",
      "provenance": [],
      "authorship_tag": "ABX9TyOpzIKDjoItm/UCuzbMC8M7",
      "include_colab_link": true
    },
    "kernelspec": {
      "name": "python3",
      "display_name": "Python 3"
    }
  },
  "cells": [
    {
      "cell_type": "markdown",
      "metadata": {
        "id": "view-in-github",
        "colab_type": "text"
      },
      "source": [
        "<a href=\"https://colab.research.google.com/github/songqsh/foo1/blob/master/src/simplex_diet.ipynb\" target=\"_parent\"><img src=\"https://colab.research.google.com/assets/colab-badge.svg\" alt=\"Open In Colab\"/></a>"
      ]
    },
    {
      "cell_type": "markdown",
      "metadata": {
        "id": "00ZyRRxarrBi"
      },
      "source": [
        "# Simplex method\n",
        "\n",
        "We are going to illustrate simplex tableau method for linear programing using the following example - WG:\n",
        "$$\\max z = 3 x_1 + 5 x_2$$\n",
        "s.t.\n",
        "$$\\begin{array}{lll}\n",
        "x_1 & & \\le 4 \\\\\n",
        "& 2 x_2 &\\le 12 \\\\\n",
        "3x_1 & + 2x_2 & \\le 18\\\\\n",
        "x_1, & x_2 & \\ge 0\n",
        "\\end{array}\n",
        "$$"
      ]
    },
    {
      "cell_type": "code",
      "metadata": {
        "id": "HdIczcDireLv"
      },
      "source": [
        "# import package\n",
        "import numpy as np\n",
        "import numpy.linalg as la\n",
        "float_formatter = \"{:.2f}\".format\n",
        "np.set_printoptions(formatter={'float_kind':float_formatter})"
      ],
      "execution_count": null,
      "outputs": []
    },
    {
      "cell_type": "markdown",
      "metadata": {
        "id": "c2QmGEHdttx0"
      },
      "source": [
        "## Matrix in numpy"
      ]
    },
    {
      "cell_type": "code",
      "metadata": {
        "colab": {
          "base_uri": "https://localhost:8080/"
        },
        "id": "hM68Z6gnr17k",
        "outputId": "31d894a0-ad18-4ad7-ccaf-3ab1c2f17838"
      },
      "source": [
        "# input augmented matrix\n",
        "AM = np.array([\n",
        "               [1, -3, -5, 0, 0, 0, 0], \n",
        "               [0, 1, 0, 1, 0, 0, 4], \n",
        "               [0, 0, 2, 0, 1, 0, 12],\n",
        "               [0, 3, 2, 0, 0, 1, 18]\n",
        "               ], dtype = float)\n",
        "AM # print matrix"
      ],
      "execution_count": null,
      "outputs": [
        {
          "output_type": "execute_result",
          "data": {
            "text/plain": [
              "array([[1.00, -3.00, -5.00, 0.00, 0.00, 0.00, 0.00],\n",
              "       [0.00, 1.00, 0.00, 1.00, 0.00, 0.00, 4.00],\n",
              "       [0.00, 0.00, 2.00, 0.00, 1.00, 0.00, 12.00],\n",
              "       [0.00, 3.00, 2.00, 0.00, 0.00, 1.00, 18.00]])"
            ]
          },
          "metadata": {
            "tags": []
          },
          "execution_count": 74
        }
      ]
    },
    {
      "cell_type": "markdown",
      "metadata": {
        "id": "qPGpUZT94CSW"
      },
      "source": [
        "## Pivotizing\n",
        "\n",
        "Pivotizing with $(i,j)$-entry means converting the matrix by multiple EROS so that the resulting matrix has all zeros in $j$-column, but one in $(i,j)$-entry. This is the key step in updating basic feasible solution."
      ]
    },
    {
      "cell_type": "code",
      "metadata": {
        "id": "QOOCy0MY4kHm"
      },
      "source": [
        "#pivotize with (i,j)\n",
        "def pivot(A, i, j):\n",
        "  A[i] = A[i]/A[i,j] #scale to get one in (i,j)\n",
        "  n_rows, _ = A.shape\n",
        "  for k in range(n_rows):\n",
        "    if k==i:\n",
        "      continue # skip i-row\n",
        "    A[k] = A[k] - A[i]*A[k,j] # replacement to get zero\n",
        "    "
      ],
      "execution_count": null,
      "outputs": []
    },
    {
      "cell_type": "code",
      "metadata": {
        "colab": {
          "base_uri": "https://localhost:8080/"
        },
        "id": "gzdRFA9J5l2X",
        "outputId": "7987a46e-05c0-4518-aeb0-46ee50e5dfcd"
      },
      "source": [
        "AM"
      ],
      "execution_count": null,
      "outputs": [
        {
          "output_type": "execute_result",
          "data": {
            "text/plain": [
              "array([[1.00, -3.00, -5.00, 0.00, 0.00, 0.00, 0.00],\n",
              "       [0.00, 1.00, 0.00, 1.00, 0.00, 0.00, 4.00],\n",
              "       [0.00, 0.00, 2.00, 0.00, 1.00, 0.00, 12.00],\n",
              "       [0.00, 3.00, 2.00, 0.00, 0.00, 1.00, 18.00]])"
            ]
          },
          "metadata": {
            "tags": []
          },
          "execution_count": 82
        }
      ]
    },
    {
      "cell_type": "code",
      "metadata": {
        "colab": {
          "base_uri": "https://localhost:8080/"
        },
        "id": "QlW2uyMf5beW",
        "outputId": "daadd201-1247-45f9-906f-ac26cf1a97f6"
      },
      "source": [
        "#test\n",
        "A = AM.copy()\n",
        "pivot(A, 2,2)\n",
        "A"
      ],
      "execution_count": null,
      "outputs": [
        {
          "output_type": "execute_result",
          "data": {
            "text/plain": [
              "array([[1.00, -3.00, 0.00, 0.00, 2.50, 0.00, 30.00],\n",
              "       [0.00, 1.00, 0.00, 1.00, 0.00, 0.00, 4.00],\n",
              "       [0.00, 0.00, 1.00, 0.00, 0.50, 0.00, 6.00],\n",
              "       [0.00, 3.00, 0.00, 0.00, -1.00, 1.00, 6.00]])"
            ]
          },
          "metadata": {
            "tags": []
          },
          "execution_count": 83
        }
      ]
    },
    {
      "cell_type": "markdown",
      "metadata": {
        "id": "o2p2m-mct1ZO"
      },
      "source": [
        "## Simplex tableau"
      ]
    },
    {
      "cell_type": "code",
      "metadata": {
        "colab": {
          "base_uri": "https://localhost:8080/"
        },
        "id": "pwnoP1xKtbbo",
        "outputId": "3f9d047d-dc9a-422e-9bac-4f89efb3c45c"
      },
      "source": [
        "AM # print original augmented matrix"
      ],
      "execution_count": null,
      "outputs": [
        {
          "output_type": "execute_result",
          "data": {
            "text/plain": [
              "array([[1.00, -3.00, -5.00, 0.00, 0.00, 0.00, 0.00],\n",
              "       [0.00, 1.00, 0.00, 1.00, 0.00, 0.00, 4.00],\n",
              "       [0.00, 0.00, 2.00, 0.00, 1.00, 0.00, 12.00],\n",
              "       [0.00, 3.00, 2.00, 0.00, 0.00, 1.00, 18.00]])"
            ]
          },
          "metadata": {
            "tags": []
          },
          "execution_count": 84
        }
      ]
    },
    {
      "cell_type": "code",
      "metadata": {
        "colab": {
          "base_uri": "https://localhost:8080/"
        },
        "id": "fapBLmPO9bCG",
        "outputId": "bad11b3e-34d4-4daf-d8bc-3d49de5c3a7b"
      },
      "source": [
        "pivot(AM, 2, 2)\n",
        "AM # print"
      ],
      "execution_count": null,
      "outputs": [
        {
          "output_type": "execute_result",
          "data": {
            "text/plain": [
              "array([[1.00, -3.00, 0.00, 0.00, 2.50, 0.00, 30.00],\n",
              "       [0.00, 1.00, 0.00, 1.00, 0.00, 0.00, 4.00],\n",
              "       [0.00, 0.00, 1.00, 0.00, 0.50, 0.00, 6.00],\n",
              "       [0.00, 3.00, 0.00, 0.00, -1.00, 1.00, 6.00]])"
            ]
          },
          "metadata": {
            "tags": []
          },
          "execution_count": 85
        }
      ]
    },
    {
      "cell_type": "code",
      "metadata": {
        "colab": {
          "base_uri": "https://localhost:8080/"
        },
        "id": "HtsVnwu-9bFv",
        "outputId": "b14ed3f7-148a-42a7-abd8-c4ba008c697f"
      },
      "source": [
        "pivot(AM, 3, 1)\n",
        "AM #print"
      ],
      "execution_count": null,
      "outputs": [
        {
          "output_type": "execute_result",
          "data": {
            "text/plain": [
              "array([[1.00, 0.00, 0.00, 0.00, 1.50, 1.00, 36.00],\n",
              "       [0.00, 0.00, 0.00, 1.00, 0.33, -0.33, 2.00],\n",
              "       [0.00, 0.00, 1.00, 0.00, 0.50, 0.00, 6.00],\n",
              "       [0.00, 1.00, 0.00, 0.00, -0.33, 0.33, 2.00]])"
            ]
          },
          "metadata": {
            "tags": []
          },
          "execution_count": 86
        }
      ]
    },
    {
      "cell_type": "markdown",
      "metadata": {
        "id": "eV1GoV1y_WkM"
      },
      "source": [
        "Since the 0-row has no negative number, the last entry of the first row is the maximum value, which is 36."
      ]
    }
  ]
}