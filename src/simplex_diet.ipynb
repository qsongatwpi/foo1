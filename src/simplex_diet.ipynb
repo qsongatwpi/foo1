{
 "nbformat": 4,
 "nbformat_minor": 0,
 "metadata": {
  "colab": {
   "name": "Simplex.ipynb",
   "provenance": [],
   "authorship_tag": "ABX9TyPO+0ZDSXo2eIp/tpcu3mj9",
   "include_colab_link": true
  },
  "kernelspec": {
   "name": "python3",
   "display_name": "Python 3"
  }
 },
 "cells": [
  {
   "cell_type": "markdown",
   "metadata": {
    "id": "00ZyRRxarrBi"
   },
   "source": [
    "# Simplex method\n",
    "\n",
    "We are going to illustrate simplex tableau method for the dual of the diet problem:\n",
    "$$\\max z = 500 x_1 + 6x_2 + 10 + 8 x_4$$\n",
    "s.t.\n",
    "$$\\begin{array}{ll}\n",
    "400 x_1 + 3x_2+2x_3+2x_4 & \\le 50\\\\\n",
    "200 x_1 + 2x_2 + 2x_3 + 4x_4 & \\le 20\\\\\n",
    "150x_1 \\quad \\quad \\quad + 4x_3 + x_4 & \\le 30\\\\\n",
    "500x_1 \\quad \\quad \\quad + 4x_3 + 5x_4 & \\le 80 \\\\\n",
    "x_1, x_2, x_3, x_4\\ge 0.\n",
    "\\end{array}\n",
    "$$"
   ]
  },
  {
   "cell_type": "code",
   "metadata": {
    "id": "HdIczcDireLv"
   },
   "source": [
    "# import package\n",
    "import numpy as np\n",
    "\n",
    "float_formatter = \"{:.2f}\".format\n",
    "np.set_printoptions(formatter={'float_kind':float_formatter})"
   ],
   "execution_count": 21,
   "outputs": []
  },
  {
   "cell_type": "markdown",
   "metadata": {
    "id": "qPGpUZT94CSW"
   },
   "source": [
    "## Pivoting\n",
    "\n",
    "Pivoting with $(i,j)$-entry means converting the matrix by multiple EROS so that the resulting matrix has all zeros in $j$-column, but one in $(i,j)$-entry. This is the key step in updating basic feasible solution."
   ]
  },
  {
   "cell_type": "code",
   "metadata": {
    "id": "QOOCy0MY4kHm"
   },
   "source": [
    "#pivotize with (i,j)\n",
    "def pivot(a_mat, i_row, j_col):\n",
    "  a_mat[i_row] = a_mat[i_row]/a_mat[i_row,j_col] #scale to get one in (i,j)\n",
    "  n_rows, _ = a_mat.shape\n",
    "  for k in range(n_rows):\n",
    "    if k==i_row:\n",
    "      continue # skip i-row\n",
    "    a_mat[k] = a_mat[k] - a_mat[i]*a_mat[k,j_col] # replacement to get zero\n",
    "    "
   ],
   "execution_count": 22,
   "outputs": []
  },
  {
   "cell_type": "markdown",
   "metadata": {
    "id": "c2QmGEHdttx0"
   },
   "source": [
    "## Initial tableau"
   ]
  },
  {
   "cell_type": "code",
   "metadata": {
    "colab": {
     "base_uri": "https://localhost:8080/"
    },
    "id": "anUih_8QjEEN",
    "outputId": "ba79dfdb-8d9b-40b3-cb13-373b5030f4f0"
   },
   "source": [
    "A = np.array([[1, -500, -6, -10, -8, 0, 0, 0, 0, 0],\n",
    "              [0., 400., 3., 2., 2., 1., 0, 0., 0, 50.],\n",
    "              [0, 200, 2., 2., 4., 0, 1, 0, 0, 20.],\n",
    "              [0., 150, 0, 4, 1, 0, 0, 1, 0, 30.],\n",
    "              [0, 500, 0, 4, 5, 0, 0, 0, 1, 80]\n",
    "              ])\n",
    "n_row, n_col = A.shape\n",
    "\n",
    "print('tableau has ' + str(n_row) + ' rows and ' + str(n_col) + ' columns')\n",
    "print(A)"
   ],
   "execution_count": 23,
   "outputs": [
    {
     "name": "stdout",
     "output_type": "stream",
     "text": [
      "tableau has 5 rows and 10 columns\n",
      "[[1.00 -500.00 -6.00 -10.00 -8.00 0.00 0.00 0.00 0.00 0.00]\n",
      " [0.00 400.00 3.00 2.00 2.00 1.00 0.00 0.00 0.00 50.00]\n",
      " [0.00 200.00 2.00 2.00 4.00 0.00 1.00 0.00 0.00 20.00]\n",
      " [0.00 150.00 0.00 4.00 1.00 0.00 0.00 1.00 0.00 30.00]\n",
      " [0.00 500.00 0.00 4.00 5.00 0.00 0.00 0.00 1.00 80.00]]\n"
     ]
    }
   ]
  },
  {
   "cell_type": "code",
   "metadata": {
    "colab": {
     "base_uri": "https://localhost:8080/"
    },
    "id": "8lrwAg_UpAMa",
    "outputId": "dbf4bbe6-6989-4327-95db-378a455497c8"
   },
   "source": [
    "bv = [5, 6, 7, 8] #set bv\n",
    "print('bvs are: \\n')\n",
    "print(bv)\n",
    "#optimal test and pivot column\n",
    "r0 = list(A[0])\n",
    "print(r0)\n",
    "min_value = min(r0)\n",
    "if min_value >= 0:\n",
    "  print('done')\n",
    "else:\n",
    "  print('continue')\n",
    "  pivot_col = r0.index(min_value)\n",
    "  print('pivot column is ' + str(pivot_col))\n",
    "\n",
    "#minimum ratio test and pivot row\n",
    "min_ratio = 10000.0 #big number\n",
    "pivot_row = 100 #big integer\n",
    "for i in range(1,n_row):\n",
    "  if A[i,pivot_col] >0:\n",
    "    now_ratio = A[i, -1]/A[i, pivot_col]\n",
    "    if now_ratio < min_ratio:\n",
    "      min_ratio = now_ratio\n",
    "      pivot_row = i\n",
    "print('pivot row is ' + str(pivot_row))\n",
    "pivot(A, pivot_row,pivot_col)"
   ],
   "execution_count": 24,
   "outputs": [
    {
     "name": "stdout",
     "output_type": "stream",
     "text": [
      "bvs are: \n",
      "\n",
      "[5, 6, 7, 8]\n",
      "[1.0, -500.0, -6.0, -10.0, -8.0, 0.0, 0.0, 0.0, 0.0, 0.0]\n",
      "continue\n",
      "pivot column is 1\n",
      "pivot row is 2\n"
     ]
    }
   ]
  },
  {
   "cell_type": "markdown",
   "metadata": {
    "id": "R2vs0_Hkx2cQ"
   },
   "source": [
    "Current tableau"
   ]
  },
  {
   "cell_type": "code",
   "metadata": {
    "colab": {
     "base_uri": "https://localhost:8080/"
    },
    "id": "5695VWl_qfDr",
    "outputId": "9f797740-def9-4d4d-835d-5fe0f9eed1aa"
   },
   "source": [
    "A"
   ],
   "execution_count": 25,
   "outputs": [
    {
     "data": {
      "text/plain": "array([[1.00, 249500.00, -6.00, 1990.00, 2492.00, 0.00, 0.00, 0.00,\n        500.00, 40000.00],\n       [0.00, -199600.00, 3.00, -1598.00, -1998.00, 1.00, 0.00, 0.00,\n        -400.00, -31950.00],\n       [0.00, 1.00, 0.01, 0.01, 0.02, 0.00, 0.01, 0.00, 0.00, 0.10],\n       [0.00, -74850.00, 0.00, -596.00, -749.00, 0.00, 0.00, 1.00,\n        -150.00, -11970.00],\n       [0.00, -249500.00, 0.00, -1996.00, -2495.00, 0.00, 0.00, 0.00,\n        -499.00, -39920.00]])"
     },
     "execution_count": 25,
     "metadata": {},
     "output_type": "execute_result"
    }
   ]
  },
  {
   "cell_type": "code",
   "metadata": {
    "colab": {
     "base_uri": "https://localhost:8080/"
    },
    "id": "ESpG0dmspeQY",
    "outputId": "f14b5845-86fc-4acb-cf09-cc30c7e6e16e"
   },
   "source": [
    "bv = [1, 5, 7, 8] #set bv\n",
    "print('bvs are: \\n')\n",
    "print(bv)\n",
    "#optimal test and pivot column\n",
    "r0 = list(A[0])\n",
    "print(r0)\n",
    "min_value = min(r0)\n",
    "if min_value >= 0:\n",
    "  print('done')\n",
    "else:\n",
    "  print('continue')\n",
    "  pivot_col = r0.index(min_value)\n",
    "  print('pivot column is ' + str(pivot_col))\n",
    "\n",
    "#minimum ratio test and pivot row\n",
    "min_ratio = 10000.0 #big number\n",
    "pivot_row = 100 #big integer\n",
    "for i in range(1,n_row):\n",
    "  if A[i,pivot_col] >0:\n",
    "    now_ratio = A[i, -1]/A[i, pivot_col]\n",
    "    if now_ratio < min_ratio:\n",
    "      min_ratio = now_ratio\n",
    "      pivot_row = i\n",
    "print('pivot row is ' + str(pivot_row))\n",
    "pivot(A, pivot_row,pivot_col)"
   ],
   "execution_count": 26,
   "outputs": [
    {
     "name": "stdout",
     "output_type": "stream",
     "text": [
      "bvs are: \n",
      "\n",
      "[1, 5, 7, 8]\n",
      "[1.0, 249500.0, -6.0, 1990.0, 2492.0, 0.0, 0.0, 0.0, 500.0, 40000.0]\n",
      "continue\n",
      "pivot column is 2\n",
      "pivot row is 1\n"
     ]
    }
   ]
  },
  {
   "cell_type": "markdown",
   "metadata": {
    "id": "Rs2ufRyYx9kz"
   },
   "source": [
    "Current tableau"
   ]
  },
  {
   "cell_type": "code",
   "metadata": {
    "colab": {
     "base_uri": "https://localhost:8080/"
    },
    "id": "V8oS0sT_w3Im",
    "outputId": "874237f8-3792-45f1-cc41-1a4e67c142ac"
   },
   "source": [
    "A"
   ],
   "execution_count": 27,
   "outputs": [
    {
     "data": {
      "text/plain": "array([[1.00, -1247500.00, -6.00, -9986.00, -12478.00, 0.00, 0.00, 0.00,\n        -2494.00, -199520.00],\n       [0.00, -66533.33, 1.00, -532.67, -666.00, 0.33, 0.00, 0.00,\n        -133.33, -10650.00],\n       [0.00, 2496.00, 0.01, 19.97, 24.97, 0.00, 0.01, 0.00, 4.99,\n        399.30],\n       [0.00, -74850.00, 0.00, -596.00, -749.00, 0.00, 0.00, 1.00,\n        -150.00, -11970.00],\n       [0.00, -249500.00, 0.00, -1996.00, -2495.00, 0.00, 0.00, 0.00,\n        -499.00, -39920.00]])"
     },
     "execution_count": 27,
     "metadata": {},
     "output_type": "execute_result"
    }
   ]
  },
  {
   "cell_type": "code",
   "metadata": {
    "colab": {
     "base_uri": "https://localhost:8080/"
    },
    "id": "T_qLLD4ixEG5",
    "outputId": "c077e5fd-6881-47b9-dcae-1dc710117065"
   },
   "source": [
    "bv = [1, 3, 5, 8] #set bv\n",
    "print(bv)\n",
    "#optimal test and pivot column\n",
    "r0 = list(A[0])\n",
    "print(r0)\n",
    "min_value = min(r0)\n",
    "if min_value >= 0:\n",
    "  print('done')\n",
    "else:\n",
    "  print('continue')\n",
    "  pivot_col = r0.index(min_value)\n",
    "  print('pivot column is ' + str(pivot_col))\n",
    "\n",
    "#minimum ratio test and pivot row\n",
    "min_ratio = 10000.0 #big number\n",
    "pivot_row = 100 #big integer\n",
    "for i in range(1,n_row):\n",
    "  if A[i,pivot_col] >0:\n",
    "    now_ratio = A[i, -1]/A[i, pivot_col]\n",
    "    if now_ratio < min_ratio:\n",
    "      min_ratio = now_ratio\n",
    "      pivot_row = i\n",
    "print('pivot row is ' + str(pivot_row))\n",
    "pivot(A, pivot_row,pivot_col)"
   ],
   "execution_count": 28,
   "outputs": [
    {
     "name": "stdout",
     "output_type": "stream",
     "text": [
      "[1, 3, 5, 8]\n",
      "[1.0, -1247500.0, -6.0, -9986.0, -12478.0, 0.0, 0.0, 0.0, -2494.0, -199520.0]\n",
      "continue\n",
      "pivot column is 1\n",
      "pivot row is 2\n"
     ]
    }
   ]
  },
  {
   "cell_type": "markdown",
   "metadata": {
    "id": "R7S0KI7yyA10"
   },
   "source": [
    "Current tableau"
   ]
  },
  {
   "cell_type": "code",
   "metadata": {
    "colab": {
     "base_uri": "https://localhost:8080/"
    },
    "id": "WerQ4rpuxfGM",
    "outputId": "1365509d-d80f-4bf7-e47a-5fd0b05b4f11"
   },
   "source": [
    "A"
   ],
   "execution_count": 29,
   "outputs": [
    {
     "data": {
      "text/plain": "array([[1.00, -311252497500.00, -6.00, -2490019986.00, -3112524978.00,\n        0.00, 0.00, 0.00, -622504994.00, -49800399520.00],\n       [0.00, -16600133200.00, 1.00, -132801066.00, -166001332.67, 0.33,\n        0.00, 0.00, -33200266.67, -2656021316.67],\n       [0.00, 1.00, 0.00, 0.01, 0.01, 0.00, 0.00, 0.00, 0.00, 0.16],\n       [0.00, -18675149850.00, 0.00, -149401196.00, -186751499.00, 0.00,\n        0.00, 1.00, -37350300.00, -2988023970.00],\n       [0.00, -62250499500.00, 0.00, -498003996.00, -622504995.00, 0.00,\n        0.00, 0.00, -124500999.00, -9960079920.00]])"
     },
     "execution_count": 29,
     "metadata": {},
     "output_type": "execute_result"
    }
   ]
  },
  {
   "cell_type": "code",
   "metadata": {
    "colab": {
     "base_uri": "https://localhost:8080/"
    },
    "id": "EV63jSUCxsu0",
    "outputId": "e70aef35-74ad-4fb0-ae61-f8797f7a2c2c"
   },
   "source": [
    "bv = [2, 3, 5, 8] #set bv\n",
    "print('bvs are: \\n')\n",
    "print(bv)\n",
    "#optimal test and pivot column\n",
    "r0 = list(A[0])\n",
    "print(r0)\n",
    "min_value = min(r0)\n",
    "if min_value >= 0:\n",
    "  print('done')\n",
    "else:\n",
    "  print('continue')\n",
    "  pivot_col = r0.index(min_value)\n",
    "  print('pivot column is ' + str(pivot_col))\n"
   ],
   "execution_count": 30,
   "outputs": [
    {
     "name": "stdout",
     "output_type": "stream",
     "text": [
      "bvs are: \n",
      "\n",
      "[2, 3, 5, 8]\n",
      "[1.0, -311252497500.0, -6.0, -2490019986.0, -3112524978.0, 0.0, 0.0, 0.0, -622504994.0, -49800399520.0]\n",
      "continue\n",
      "pivot column is 1\n"
     ]
    }
   ]
  },
  {
   "cell_type": "markdown",
   "metadata": {
    "id": "gUE3GuB58W7U",
    "pycharm": {
     "name": "#%% md\n"
    }
   },
   "source": [
    "## Conclusion\n",
    "\n",
    "The optimal solution for the dual problem is \n",
    "$$x = (0, 2.5, 7.5, 0), z = 90.$$\n",
    "Indeed, in the original diet problem, the optimal solution is by eating no brownies, 3 oz ice cream, 1 cola, no pineapples, which yields minimum cost 90."
   ]
  }
 ]
}