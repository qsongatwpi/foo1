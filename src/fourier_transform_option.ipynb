{
 "cells": [
  {
   "cell_type": "markdown",
   "metadata": {},
   "source": [
    "# Fourier transform in option pricing"
   ]
  },
  {
   "cell_type": "code",
   "execution_count": 1,
   "metadata": {},
   "outputs": [],
   "source": [
    "import numpy as np\n",
    "from scipy.integrate import quad"
   ]
  },
  {
   "cell_type": "markdown",
   "metadata": {},
   "source": [
    "Let $\\phi_T$ be the characteristic function of $\\ln (S_T)$. We consider call price $C_T(k)$ of $(T, e^k)$. Then, \n",
    "$$C_T(k) = \\frac{e^{-\\alpha k}}{\\pi} \\int_0^\\infty e^{-i w k} \\psi_T(w) dw,$$\n",
    "where\n",
    "$$\\psi_T(w) = \\frac{e^{-rT} \\phi_T(w - (\\alpha + 1) i)}{\\alpha^2 + \\alpha - w^2 + i (2\\alpha+1)w}.$$"
   ]
  },
  {
   "cell_type": "code",
   "execution_count": 2,
   "metadata": {},
   "outputs": [],
   "source": [
    "class FTCall:\n",
    "    def __init__(self, model):\n",
    "        self.md = model\n",
    "        \n",
    "    #$\\psi$ function for carr-madan method\n",
    "    def psi(self, w, T, alpha):\n",
    "        o1 = np.exp(-self.md.r*T)\n",
    "        o1 = o1*self.md.charfun(T, w - (alpha+1)*1j)\n",
    "        o2 = alpha**2+alpha-w**2+1j*(2*alpha+1.)*w\n",
    "        return o1/o2\n",
    "    \n",
    "    #carr-madan method with damping\n",
    "    def price_cm(self, K, T, alpha = 1.5):\n",
    "        k = np.log(K)\n",
    "        integrand = lambda w: (np.exp(-1j*w*k)*self.psi(w, T, alpha)).real\n",
    "        integral = quad(integrand, 0, np.inf)[0]\n",
    "        return np.exp(-alpha*k)/np.pi*integral"
   ]
  },
  {
   "cell_type": "markdown",
   "metadata": {},
   "source": [
    "We denote by $GBM(s, r, \\sigma^2)$ the dynamics\n",
    "$$d S_t = r S_t dt + \\sigma S_t dW_t, S_{0} = s$$\n",
    "Non-negativity of the GBM process is good for modeling stock price, namely BSM.\n",
    "Let\n",
    "$X_t = \\ln S_t$ be the log price. Then, the characteristic function of $X_t$ is\n",
    "$$\\phi_t = \\exp \\{iu (s + (r-\\frac 1 2 \\sigma^2)t) - \\frac{u^2 \\sigma^2 t}{2}\\}.$$\n",
    "\n"
   ]
  },
  {
   "cell_type": "code",
   "execution_count": 2,
   "metadata": {},
   "outputs": [],
   "source": [
    "class BSM:\n",
    "    def __init__(self, S0, r, sigma):\n",
    "        self.S0 = S0\n",
    "        self.r = r\n",
    "        self.sigma = sigma\n",
    "        \n",
    "    #characteristic function for $ln S_T$\n",
    "    def charfun(self, T, u):\n",
    "        o1 = np.log(self.S0) + (self.r - self.sigma**2/2.0)*T\n",
    "        o2 = self.sigma**2*T/2.\n",
    "        o3 = 1j*u*o1 - u**2*o2\n",
    "        return np.exp(o3)"
   ]
  },
  {
   "cell_type": "code",
   "execution_count": 4,
   "metadata": {},
   "outputs": [
    {
     "name": "stdout",
     "output_type": "stream",
     "text": [
      "BSM FT price by carr-madan is \n",
      " >> 5.94327318345284\n"
     ]
    }
   ],
   "source": [
    "# #### bsm test    \n",
    "bsm = BSM(100, 0.0475, 0.2)\n",
    "ftc = FTCall(bsm)\n",
    "ans = ftc.price_cm(110, 1., alpha = 1.5)\n",
    "print(\n",
    "      f'BSM FT price by carr-madan is \\n >> {ans}'\n",
    "      )"
   ]
  },
  {
   "cell_type": "markdown",
   "metadata": {},
   "source": [
    "In the Heston model, the dynamic involves two processes $(S_{t}, \\nu_{t})$.\n",
    "More precisely, the asset price $S$ follows generalized geometric Brownian motion with random volatility process $\\sqrt{\\nu_{t}}$, i.e.  \n",
    "$$d S_{t} = r S_{t} dt + \\sqrt{\\nu_{t}} S_{t} dW_{1,t},$$\n",
    "while squared of volatility process $\\nu$ follows CIR process\n",
    "$$ d \\nu_{t} = \\kappa (\\theta - \\nu_{t}) dt + \\xi \\sqrt{\\nu_{t}} (\\rho dW_{1,t} + \n",
    "\\bar \\rho d W_{2,t})$$\n",
    "with $\\rho^{2} + \\bar \\rho^{2} = 1.$ \n",
    "\n",
    "A Heston model with parameters\n",
    "$(S_0, v_0, r, \\kappa , \\theta, \\xi, \\rho)$ has the characteristic function of $\\ln S_T$ as\n",
    "$$\\phi_T (w) = f_1(w) f_2(w) f_3(w),$$\n",
    "where\n",
    "$$t_1 = \\kappa - i \\rho \\xi u$$\n",
    "$$D = \\sqrt\\{t_1^2 + (u^2 + iu) \\xi^2,$$\n",
    "$$G = (t_1 - D)/(t_1 +D),$$\n",
    "$$t_2 = 1 - G e^{-DT}$$\n",
    "$$f_1 = \\exp( iu (\\ln S_0 + rT))$$\n",
    "$$f_2 = \\exp(v_0 (1 - e^{-DT}) (t_1 - D)/ \\xi^2 /t_2)$$\n",
    "$$f_3 = \\exp(\\kappa \\theta(T(t_1 -D) - 2 \\ln (t_2/(1-G)))/\\xi^2).$$\n",
    "See page 53 of https://github.com/songqsh/songqsh.github.io/blob/master/paper/Ng05.pdf\n"
   ]
  },
  {
   "cell_type": "code",
   "execution_count": 22,
   "metadata": {},
   "outputs": [],
   "source": [
    "# Heston model    \n",
    "class Heston:\n",
    "    def __init__(self, S0, v0, r, kappa, theta, xi, rho):\n",
    "        self.S0 = S0\n",
    "        self.v0 = v0\n",
    "        self.r = r\n",
    "        self.kappa = kappa\n",
    "        self.theta = theta\n",
    "        self.xi = xi\n",
    "        self.rho = rho\n",
    "        \n",
    "    #char func for ln(S_T) from Ng05\n",
    "    def charfun(self, T, u):\n",
    "        t1 = self.kappa - self.rho*self.xi*1j*u\n",
    "        D = np.sqrt(t1**2+(u**2+1j*u)*self.xi**2)\n",
    "        G = (t1-D)/(t1+D)\n",
    "        t2 = 1-G*np.exp(-D*T)\n",
    "        f1 = np.exp(1j*u*(np.log(self.S0+self.r*T)))\n",
    "        f2 = np.exp(self.v0*(1-np.exp(-D*T))*(t1-D)/self.xi**2/t2)\n",
    "        f3 = np.exp(self.kappa*self.theta*(\n",
    "            T*(t1-D)-2*np.log(t2/(1-G)))/self.xi**2)\n",
    "        return f1*f2*f3"
   ]
  },
  {
   "cell_type": "code",
   "execution_count": 23,
   "metadata": {},
   "outputs": [
    {
     "name": "stdout",
     "output_type": "stream",
     "text": [
      "Heston FT price by carr-madan is \n",
      "  >> 32.57957785990924\n",
      "(ref. P61 of [Hirsa13])\n"
     ]
    }
   ],
   "source": [
    "#test Heston\n",
    "hes = Heston(100, 0.0175, 0., 1.5768, 0.0398, 0.5751, -0.5751)\n",
    "ftc = FTCall(hes)\n",
    "ans = ftc.price_cm(80, 10, alpha = 1.5)\n",
    "print(\n",
    "      f'Heston FT price by carr-madan is \\n  >> {ans}'\n",
    "      )\n",
    "print('(ref. P61 of [Hirsa13])')"
   ]
  },
  {
   "cell_type": "code",
   "execution_count": 24,
   "metadata": {},
   "outputs": [
    {
     "data": {
      "text/plain": [
       "[32.57957785990924, 22.310218302545614, 14.78918741765821]"
      ]
     },
     "execution_count": 24,
     "metadata": {},
     "output_type": "execute_result"
    }
   ],
   "source": [
    "[ftc.price_cm(x, 10, alpha = 1.5) for x in [80, 100, 120]]"
   ]
  },
  {
   "cell_type": "code",
   "execution_count": null,
   "metadata": {},
   "outputs": [],
   "source": []
  }
 ],
 "metadata": {
  "kernelspec": {
   "display_name": "Python 3",
   "language": "python",
   "name": "python3"
  },
  "language_info": {
   "codemirror_mode": {
    "name": "ipython",
    "version": 3
   },
   "file_extension": ".py",
   "mimetype": "text/x-python",
   "name": "python",
   "nbconvert_exporter": "python",
   "pygments_lexer": "ipython3",
   "version": "3.7.7"
  }
 },
 "nbformat": 4,
 "nbformat_minor": 4
}
