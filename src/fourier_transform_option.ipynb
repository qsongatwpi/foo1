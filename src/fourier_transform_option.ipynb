{
 "cells": [
  {
   "cell_type": "markdown",
   "metadata": {},
   "source": [
    "# Fourier transform in option pricing"
   ]
  },
  {
   "cell_type": "code",
   "execution_count": 1,
   "metadata": {},
   "outputs": [],
   "source": [
    "import numpy as np\n",
    "from scipy.integrate import quad"
   ]
  },
  {
   "cell_type": "code",
   "execution_count": 2,
   "metadata": {},
   "outputs": [],
   "source": [
    "class FTCall:\n",
    "    def __init__(self, model):\n",
    "        self.md = model\n",
    "        \n",
    "    #$\\psi$ function for carr-madan method\n",
    "    def psi(self, w, T, alpha):\n",
    "        o1 = np.exp(-self.md.r*T)\n",
    "        o1 = o1*self.md.charfun(T, w - (alpha+1)*1j)\n",
    "        o2 = alpha**2+alpha-w**2+1j*(2*alpha+1.)*w\n",
    "        return o1/o2\n",
    "    \n",
    "    #carr-madan method with damping\n",
    "    def price_cm(self, K, T, alpha = 1.5):\n",
    "        k = np.log(K)\n",
    "        integrand = lambda w: (np.exp(-1j*w*k)*self.psi(w, T, alpha)).real\n",
    "        integral = quad(integrand, 0, np.inf)[0]\n",
    "        return np.exp(-alpha*k)/np.pi*integral"
   ]
  },
  {
   "cell_type": "code",
   "execution_count": 3,
   "metadata": {},
   "outputs": [],
   "source": [
    "class BSM:\n",
    "    def __init__(self, S0, r, sigma):\n",
    "        self.S0 = S0\n",
    "        self.r = r\n",
    "        self.sigma = sigma\n",
    "        \n",
    "    #characteristic function for $ln S_T$\n",
    "    def charfun(self, T, u):\n",
    "        o1 = np.log(self.S0) + (self.r - self.sigma**2/2.0)*T\n",
    "        o2 = self.sigma**2*T/2.\n",
    "        o3 = 1j*u*o1 - u**2*o2\n",
    "        return np.exp(o3)"
   ]
  },
  {
   "cell_type": "code",
   "execution_count": 4,
   "metadata": {},
   "outputs": [
    {
     "name": "stdout",
     "output_type": "stream",
     "text": [
      "BSM FT price by carr-madan is \n",
      " >> 5.94327318345284\n"
     ]
    }
   ],
   "source": [
    "# #### bsm test    \n",
    "bsm = BSM(100, 0.0475, 0.2)\n",
    "ftc = FTCall(bsm)\n",
    "ans = ftc.price_cm(110, 1., alpha = 1.5)\n",
    "print(\n",
    "      f'BSM FT price by carr-madan is \\n >> {ans}'\n",
    "      )"
   ]
  },
  {
   "cell_type": "code",
   "execution_count": 5,
   "metadata": {},
   "outputs": [],
   "source": [
    "# Heston model    \n",
    "class Heston:\n",
    "    def __init__(self, S0, v0, r, kappa, theta, sigma, rho):\n",
    "        self.S0 = S0\n",
    "        self.v0 = v0\n",
    "        self.r = r\n",
    "        self.kappa = kappa\n",
    "        self.theta = theta\n",
    "        self.sigma = sigma\n",
    "        self.rho = rho\n",
    "        \n",
    "    #char func for ln(S_T) from Ng05\n",
    "    def charfun(self, T, u):\n",
    "        t1 = self.kappa - self.rho*self.sigma*1j*u\n",
    "        D = np.sqrt(t1**2+(u**2+1j*u)*self.sigma**2)\n",
    "        G = (t1-D)/(t1+D)\n",
    "        t2 = 1-G*np.exp(-D*T)\n",
    "        f1 = np.exp(1j*u*(np.log(self.S0+self.r*T)))\n",
    "        f2 = np.exp(self.v0*(1-np.exp(-D*T))*(t1-D)/self.sigma**2/t2)\n",
    "        f3 = np.exp(self.kappa*self.theta*(\n",
    "            T*(t1-D)-2*np.log(t2/(1-G)))/self.sigma**2)\n",
    "        return f1*f2*f3"
   ]
  },
  {
   "cell_type": "code",
   "execution_count": 9,
   "metadata": {},
   "outputs": [
    {
     "name": "stdout",
     "output_type": "stream",
     "text": [
      "Heston FT price by carr-madan is \n",
      "  >> 32.57957785990924\n",
      "(ref. P61 of [Hirsa13])\n"
     ]
    }
   ],
   "source": [
    "hes = Heston(100, 0.0175, 0., 1.5768, 0.0398, 0.5751, -0.5751)\n",
    "ftc = FTCall(hes)\n",
    "ans = ftc.price_cm(80, 10, alpha = 1.5)\n",
    "print(\n",
    "      f'Heston FT price by carr-madan is \\n  >> {ans}'\n",
    "      )\n",
    "print('(ref. P61 of [Hirsa13])')"
   ]
  },
  {
   "cell_type": "code",
   "execution_count": null,
   "metadata": {},
   "outputs": [],
   "source": []
  }
 ],
 "metadata": {
  "kernelspec": {
   "display_name": "Python 3",
   "language": "python",
   "name": "python3"
  },
  "language_info": {
   "codemirror_mode": {
    "name": "ipython",
    "version": 3
   },
   "file_extension": ".py",
   "mimetype": "text/x-python",
   "name": "python",
   "nbconvert_exporter": "python",
   "pygments_lexer": "ipython3",
   "version": "3.7.7"
  }
 },
 "nbformat": 4,
 "nbformat_minor": 4
}
