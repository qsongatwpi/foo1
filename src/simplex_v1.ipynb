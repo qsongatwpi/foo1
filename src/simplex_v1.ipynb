{
 "nbformat": 4,
 "nbformat_minor": 0,
 "metadata": {
  "colab": {
   "name": "Simplex.ipynb",
   "provenance": [],
   "authorship_tag": "ABX9TyNP8ksT7GaLpIGXDdYlSOxj",
   "include_colab_link": true
  },
  "kernelspec": {
   "name": "python3",
   "display_name": "Python 3"
  }
 },
 "cells": [
  {
   "cell_type": "markdown",
   "metadata": {
    "id": "00ZyRRxarrBi"
   },
   "source": [
    "# Simplex method\n",
    "We will test simplex method using various examples"
   ]
  },
  {
   "cell_type": "code",
   "metadata": {
    "id": "HdIczcDireLv"
   },
   "source": [
    "# import package\n",
    "import numpy as np\n",
    "float_formatter = \"{:.2f}\".format\n",
    "np.set_printoptions(formatter={'float_kind':float_formatter})\n",
    "import warnings\n",
    "#ignore by message\n",
    "warnings.filterwarnings(\"ignore\", message=\"divide by zero encountered in true_divide\")"
   ],
   "execution_count": 10,
   "outputs": []
  },
  {
   "cell_type": "code",
   "execution_count": 11,
   "outputs": [],
   "source": [
    "# import self developed simplex method\n",
    "from simplex import *"
   ],
   "metadata": {
    "collapsed": false,
    "pycharm": {
     "name": "#%%\n"
    }
   }
  },
  {
   "cell_type": "markdown",
   "source": [
    "# Simplex solver on a standard LP\n",
    "\n",
    "## An example - WG\n",
    "\n",
    "We are going to illustrate simplex tableau method for linear programing using the following example - WG:\n",
    "$$\\max z = 3 x_1 + 5 x_2$$\n",
    "s.t.\n",
    "$$\\begin{array}{lll}\n",
    "x_1 & & \\le 4 \\\\\n",
    "& 2 x_2 &\\le 12 \\\\\n",
    "3x_1 & + 2x_2 & \\le 18\\\\\n",
    "x_1, & x_2 & \\ge 0\n",
    "\\end{array}\n",
    "$$\n",
    "\n",
    "## Break down steps"
   ],
   "metadata": {
    "collapsed": false,
    "pycharm": {
     "name": "#%% md\n"
    }
   }
  },
  {
   "cell_type": "code",
   "execution_count": 12,
   "outputs": [],
   "source": [
    "# setup for WG\n",
    "c = [3., 5]\n",
    "A = [[1., 0], [0, 2], [3, 2]]\n",
    "b = [4, 12., 18]"
   ],
   "metadata": {
    "collapsed": false,
    "pycharm": {
     "name": "#%%\n"
    }
   }
  },
  {
   "cell_type": "code",
   "execution_count": 13,
   "outputs": [
    {
     "name": "stdout",
     "output_type": "stream",
     "text": [
      "[[1.00 -3.00 -5.00 -0.00 -0.00 -0.00 -0.00]\n",
      " [0.00 1.00 0.00 1.00 0.00 0.00 4.00]\n",
      " [0.00 0.00 2.00 0.00 1.00 0.00 12.00]\n",
      " [0.00 3.00 2.00 0.00 0.00 1.00 18.00]]\n"
     ]
    }
   ],
   "source": [
    "# initial tablet\n",
    "init_tab = init_tab_standard_lp(A, b, c)\n",
    "print(init_tab)"
   ],
   "metadata": {
    "collapsed": false,
    "pycharm": {
     "name": "#%%\n"
    }
   }
  },
  {
   "cell_type": "code",
   "execution_count": 14,
   "outputs": [
    {
     "name": "stdout",
     "output_type": "stream",
     "text": [
      "new pivot is (2, 2)\n",
      "=======================\n",
      "[[1.00 -3.00 0.00 0.00 2.50 0.00 30.00]\n",
      " [0.00 1.00 0.00 1.00 0.00 0.00 4.00]\n",
      " [0.00 0.00 1.00 0.00 0.50 0.00 6.00]\n",
      " [0.00 3.00 0.00 0.00 -1.00 1.00 6.00]]\n"
     ]
    }
   ],
   "source": [
    "tab = init_tab.copy()\n",
    "pivot_n = new_pivot(tab)\n",
    "if pivot_n != 0:\n",
    "    pivoting(tab, pivot_n[0], pivot_n[1])\n",
    "    print(f'new pivot is {pivot_n}')\n",
    "    print(f'=======================')\n",
    "    print(tab)"
   ],
   "metadata": {
    "collapsed": false,
    "pycharm": {
     "name": "#%%\n"
    }
   }
  },
  {
   "cell_type": "code",
   "execution_count": 15,
   "outputs": [
    {
     "name": "stdout",
     "output_type": "stream",
     "text": [
      "new pivot is (3, 1)\n",
      "=======================\n",
      "[[1.00 0.00 0.00 0.00 1.50 1.00 36.00]\n",
      " [0.00 0.00 0.00 1.00 0.33 -0.33 2.00]\n",
      " [0.00 0.00 1.00 0.00 0.50 0.00 6.00]\n",
      " [0.00 1.00 0.00 0.00 -0.33 0.33 2.00]]\n"
     ]
    }
   ],
   "source": [
    "pivot_n = new_pivot(tab)\n",
    "if pivot_n != 0:\n",
    "    pivoting(tab, pivot_n[0], pivot_n[1])\n",
    "    print(f'new pivot is {pivot_n}')\n",
    "    print(f'=======================')\n",
    "    print(tab)"
   ],
   "metadata": {
    "collapsed": false,
    "pycharm": {
     "name": "#%%\n"
    }
   }
  },
  {
   "cell_type": "code",
   "execution_count": 16,
   "outputs": [
    {
     "name": "stdout",
     "output_type": "stream",
     "text": [
      "=================================\n",
      "pass the optimal test\n",
      "optimal value is 36.0\n",
      "The final tableau is \n",
      "      0    1    2    3         4         5     6\n",
      "0  1.0  0.0  0.0  0.0  1.500000  1.000000  36.0\n",
      "1  0.0  0.0  0.0  1.0  0.333333 -0.333333   2.0\n",
      "2  0.0  0.0  1.0  0.0  0.500000  0.000000   6.0\n",
      "3  0.0  1.0  0.0  0.0 -0.333333  0.333333   2.0\n",
      "=================================\n"
     ]
    }
   ],
   "source": [
    "pivot_n = new_pivot(tab)\n",
    "if pivot_n != 0:\n",
    "    pivoting(tab, pivot_n[0], pivot_n[1])\n",
    "    print(f'new pivot is {pivot_n}')\n",
    "    print(f'=======================')\n",
    "    print(tab)"
   ],
   "metadata": {
    "collapsed": false,
    "pycharm": {
     "name": "#%%\n"
    }
   }
  },
  {
   "cell_type": "markdown",
   "source": [
    "## One-shot solver"
   ],
   "metadata": {
    "collapsed": false
   }
  },
  {
   "cell_type": "code",
   "execution_count": 17,
   "outputs": [
    {
     "name": "stdout",
     "output_type": "stream",
     "text": [
      "3 constraints and 5 variables\n",
      "initial tableau is:\n",
      "=======================\n",
      "[[1.00 -3.00 -5.00 -0.00 -0.00 -0.00 -0.00]\n",
      " [0.00 1.00 0.00 1.00 0.00 0.00 4.00]\n",
      " [0.00 0.00 2.00 0.00 1.00 0.00 12.00]\n",
      " [0.00 3.00 2.00 0.00 0.00 1.00 18.00]]\n",
      "new pivot is (2, 2)\n",
      "=======================\n",
      "[[1.00 -3.00 0.00 0.00 2.50 0.00 30.00]\n",
      " [0.00 1.00 0.00 1.00 0.00 0.00 4.00]\n",
      " [0.00 0.00 1.00 0.00 0.50 0.00 6.00]\n",
      " [0.00 3.00 0.00 0.00 -1.00 1.00 6.00]]\n",
      "new pivot is (3, 1)\n",
      "=======================\n",
      "[[1.00 0.00 0.00 0.00 1.50 1.00 36.00]\n",
      " [0.00 0.00 0.00 1.00 0.33 -0.33 2.00]\n",
      " [0.00 0.00 1.00 0.00 0.50 0.00 6.00]\n",
      " [0.00 1.00 0.00 0.00 -0.33 0.33 2.00]]\n",
      "=================================\n",
      "pass the optimal test\n",
      "optimal value is 36.0\n",
      "The final tableau is \n",
      "      0    1    2    3         4         5     6\n",
      "0  1.0  0.0  0.0  0.0  1.500000  1.000000  36.0\n",
      "1  0.0  0.0  0.0  1.0  0.333333 -0.333333   2.0\n",
      "2  0.0  0.0  1.0  0.0  0.500000  0.000000   6.0\n",
      "3  0.0  1.0  0.0  0.0 -0.333333  0.333333   2.0\n",
      "=================================\n"
     ]
    }
   ],
   "source": [
    "simplex_solver(init_tab, display=1)"
   ],
   "metadata": {
    "collapsed": false,
    "pycharm": {
     "name": "#%%\n"
    }
   }
  },
  {
   "cell_type": "code",
   "execution_count": null,
   "outputs": [],
   "source": [],
   "metadata": {
    "collapsed": false,
    "pycharm": {
     "name": "#%%\n"
    }
   }
  }
 ]
}