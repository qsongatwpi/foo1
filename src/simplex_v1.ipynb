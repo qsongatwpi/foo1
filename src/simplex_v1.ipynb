{
 "nbformat": 4,
 "nbformat_minor": 0,
 "metadata": {
  "colab": {
   "name": "Simplex.ipynb",
   "provenance": [],
   "authorship_tag": "ABX9TyNP8ksT7GaLpIGXDdYlSOxj",
   "include_colab_link": true
  },
  "kernelspec": {
   "name": "python3",
   "display_name": "Python 3"
  }
 },
 "cells": [
  {
   "cell_type": "markdown",
   "metadata": {
    "id": "00ZyRRxarrBi"
   },
   "source": [
    "# Simplex method\n",
    "\n",
    "We are going to illustrate simplex tableau method for linear programing using the following example - WG:\n",
    "$$\\max z = 3 x_1 + 5 x_2$$\n",
    "s.t.\n",
    "$$\\begin{array}{lll}\n",
    "x_1 & & \\le 4 \\\\\n",
    "& 2 x_2 &\\le 12 \\\\\n",
    "3x_1 & + 2x_2 & \\le 18\\\\\n",
    "x_1, & x_2 & \\ge 0\n",
    "\\end{array}\n",
    "$$"
   ]
  },
  {
   "cell_type": "code",
   "metadata": {
    "id": "HdIczcDireLv"
   },
   "source": [
    "# import package\n",
    "import numpy as np\n",
    "float_formatter = \"{:.2f}\".format\n",
    "np.set_printoptions(formatter={'float_kind':float_formatter})\n",
    "import pandas as pd\n",
    "import warnings\n",
    "#ignore by message\n",
    "warnings.filterwarnings(\"ignore\", message=\"divide by zero encountered in true_divide\")"
   ],
   "execution_count": 2,
   "outputs": []
  },
  {
   "cell_type": "markdown",
   "source": [
    "# Simplex solver"
   ],
   "metadata": {
    "collapsed": false,
    "pycharm": {
     "name": "#%% md\n"
    }
   }
  },
  {
   "cell_type": "code",
   "execution_count": 3,
   "outputs": [
    {
     "name": "stdout",
     "output_type": "stream",
     "text": [
      "3 constraints and 5 variables\n",
      "initial tableau is:\n",
      "=======================\n",
      "     0    1    2    3    4    5     6\n",
      "0  1.0 -3.0 -5.0  0.0  0.0  0.0   0.0\n",
      "1  0.0  1.0  0.0  1.0  0.0  0.0   4.0\n",
      "2  0.0  0.0  2.0  0.0  1.0  0.0  12.0\n",
      "3  0.0  3.0  2.0  0.0  0.0  1.0  18.0\n",
      "=================================\n",
      "pass the optimal test\n",
      "optimal value is 36.0\n",
      "The final tableau is \n",
      "      0    1    2    3         4         5     6\n",
      "0  1.0  0.0  0.0  0.0  1.500000  1.000000  36.0\n",
      "1  0.0  0.0  0.0  1.0  0.333333 -0.333333   2.0\n",
      "2  0.0  0.0  1.0  0.0  0.500000  0.000000   6.0\n",
      "3  0.0  1.0  0.0  0.0 -0.333333  0.333333   2.0\n",
      "=================================\n"
     ]
    }
   ],
   "source": [
    "from simplex import simplex_solver\n",
    "# input initial tableau\n",
    "M_WG = np.array([\n",
    "    [1, -3, -5, 0, 0, 0, 0],\n",
    "    [0, 1, 0, 1, 0, 0, 4],\n",
    "    [0, 0, 2, 0, 1, 0, 12],\n",
    "    [0, 3, 2, 0, 0, 1, 18]\n",
    "], dtype=float)\n",
    "\n",
    "simplex_solver(M_WG, display=0) # display=1 print out intermediate tableau"
   ],
   "metadata": {
    "collapsed": false,
    "pycharm": {
     "name": "#%%\n"
    }
   }
  },
  {
   "cell_type": "markdown",
   "metadata": {
    "id": "qPGpUZT94CSW"
   },
   "source": [
    "## Pivoting\n",
    "\n",
    "Pivoting with $(i,j)$-entry means converting the matrix by multiple EROS so that the resulting matrix has all zeros in $j$-column,but one in $(i,j)$-entry. This is the key step in updating basic feasible solution. Pivoting is essential for solving linear systems and linear programmings. We consider the following linear system by pivoting as an example:\n",
    "$$\n",
    "x_1 + 2 x_2 - x_3  = 4$$\n",
    "$$- x_1 - x_2 + 2x_3  = 1$$\n",
    "$$x_1 \\quad \\quad \\quad + x_3  = 6$$\n"
   ]
  },
  {
   "cell_type": "code",
   "metadata": {
    "id": "QOOCy0MY4kHm"
   },
   "source": [
    "from simplex import pivoting\n",
    "#matrix input\n",
    "M = np.array([[1,2,-1,4.],[-1.,-1, 2,1], [1.,0,1, 6]])\n",
    "print(f'============================')\n",
    "print(f'initial augmented matrix is \\n {pd.DataFrame(M)}')\n",
    "pivoting(M,0,0)\n",
    "pivoting(M,1,1)\n",
    "pivoting(M,2,2)\n",
    "print(f'============================')\n",
    "print(f'matrix after pivoting is \\n {pd.DataFrame(M)}')\n"
   ],
   "execution_count": 4,
   "outputs": [
    {
     "name": "stdout",
     "output_type": "stream",
     "text": [
      "============================\n",
      "initial augmented matrix is \n",
      "      0    1    2    3\n",
      "0  1.0  2.0 -1.0  4.0\n",
      "1 -1.0 -1.0  2.0  1.0\n",
      "2  1.0  0.0  1.0  6.0\n",
      "============================\n",
      "matrix after pivoting is \n",
      "      0    1    2    3\n",
      "0  1.0  0.0  0.0  3.0\n",
      "1  0.0  1.0  0.0  2.0\n",
      "2  0.0  0.0  1.0  3.0\n"
     ]
    }
   ]
  },
  {
   "cell_type": "code",
   "metadata": {
    "id": "ygzTkYcThtuK"
   },
   "source": [],
   "execution_count": 6,
   "outputs": []
  }
 ]
}