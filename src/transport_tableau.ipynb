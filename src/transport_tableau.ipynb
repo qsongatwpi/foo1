{
  "nbformat": 4,
  "nbformat_minor": 0,
  "metadata": {
    "colab": {
      "name": "transport_tableau.ipynb",
      "provenance": [],
      "authorship_tag": "ABX9TyMRDrwlLm/pII2jV9wOY8S8",
      "include_colab_link": true
    },
    "kernelspec": {
      "name": "python3",
      "display_name": "Python 3"
    }
  },
  "cells": [
    {
      "cell_type": "markdown",
      "metadata": {
        "id": "view-in-github",
        "colab_type": "text"
      },
      "source": [
        "<a href=\"https://colab.research.google.com/github/songqsh/foo1/blob/master/src/transport_tableau.ipynb\" target=\"_parent\"><img src=\"https://colab.research.google.com/assets/colab-badge.svg\" alt=\"Open In Colab\"/></a>"
      ]
    },
    {
      "cell_type": "markdown",
      "metadata": {
        "id": "00ZyRRxarrBi"
      },
      "source": [
        "# Transport problem\n",
        "From Section 8.1 - tableau\n",
        "\n"
      ]
    },
    {
      "cell_type": "code",
      "metadata": {
        "id": "HdIczcDireLv"
      },
      "source": [
        "# import package\n",
        "import numpy as np\n",
        "import numpy.linalg as la\n",
        "float_formatter = \"{:.2f}\".format\n",
        "np.set_printoptions(formatter={'float_kind':float_formatter})\n",
        "import pandas as pd"
      ],
      "execution_count": 1,
      "outputs": []
    },
    {
      "cell_type": "markdown",
      "metadata": {
        "id": "qPGpUZT94CSW"
      },
      "source": [
        "## Pivotizing\n",
        "\n",
        "Pivotizing with $(i,j)$-entry means converting the matrix by multiple EROS so that the resulting matrix has all zeros in $j$-column, but one in $(i,j)$-entry. This is the key step in updating basic feasible solution."
      ]
    },
    {
      "cell_type": "code",
      "metadata": {
        "id": "QOOCy0MY4kHm"
      },
      "source": [
        "#pivotize with (i,j)\n",
        "def pivot(A, i, j):\n",
        "  A[i] = A[i]/A[i,j] #scale to get one in (i,j)\n",
        "  n_rows, _ = A.shape\n",
        "  for k in range(n_rows):\n",
        "    if k==i:\n",
        "      continue # skip i-row\n",
        "    A[k] = A[k] - A[i]*A[k,j] # replacement to get zero"
      ],
      "execution_count": 2,
      "outputs": []
    },
    {
      "cell_type": "markdown",
      "metadata": {
        "id": "o2p2m-mct1ZO"
      },
      "source": [
        "## Simplex tableau"
      ]
    },
    {
      "cell_type": "code",
      "metadata": {
        "id": "-sVG0HjsGYFf"
      },
      "source": [
        "def newpivot(M):\n",
        "  optimal_test = min(M[0, range(1,6)])\n",
        "  if optimal_test<0:\n",
        "    pivot_col = np.argmin(M[0])\n",
        "  else:\n",
        "    print(f'pass the optimal test')\n",
        "    return(0)\n",
        "  ratio_list = np.divide(M[range(1,m+1),-1], M[range(1, m+1),pivot_col])\n",
        "  ratio_list[ratio_list<0]=0\n",
        "  if np.min(ratio_list)==np.inf or np.min(ratio_list)<=0:\n",
        "    print(f'no leaving variable, here is the ratio list {ratio_list}')\n",
        "    return(0)\n",
        "  else:\n",
        "    pivot_row = np.argmin(ratio_list)+1\n",
        "  return(pivot_row, pivot_col)"
      ],
      "execution_count": 3,
      "outputs": []
    },
    {
      "cell_type": "code",
      "metadata": {
        "colab": {
          "base_uri": "https://localhost:8080/"
        },
        "id": "YrdIfOvWiGhx",
        "outputId": "9ec72e0d-4005-4dd0-b7b5-5e553234fcea"
      },
      "source": [
        "\n",
        "A = np.array([[1., 1., 1, 1, 0, 0, 0, 0, 0, 0, 0, 0, 1, 0, 0, 0, 0, 0, 0], \n",
        "              [0., 0., 0, 0, 1, 1, 1, 1, 0, 0, 0, 0, 0, 1, 0, 0, 0, 0, 0],\n",
        "              [0., 0., 0, 0, 0, 0, 0, 0, 1, 1, 1, 1, 0, 0, 1, 0, 0, 0, 0], \n",
        "              [1., 0., 0, 0, 1, 0, 0, 0, 1, 0, 0, 0, 0, 0, 0, 1, 0, 0, 0],\n",
        "              [0., 1., 0, 0, 0, 1, 0, 0, 0, 1, 0, 0, 0, 0, 0, 0, 1, 0, 0],\n",
        "              [0., 0., 1, 0, 0, 0, 1, 0, 0, 0, 1, 0, 0, 0, 0, 0, 0, 1, 0],\n",
        "              [0., 0., 0, 1, 0, 0, 0, 1, 0, 0, 0, 1, 0, 0, 0, 0, 0, 0, 1]])\n",
        "b = np.array([75., 125, 100, 80, 65, 70, 85])\n",
        "\n",
        "MM=1000\n",
        "c = np.array([-464., -513, -654, -867, -352, -416,\n",
        "              -690, -791, -995, -682, -388, -685, \n",
        "              -MM, -MM, -MM, -MM, -MM, -MM, -MM])\n",
        "m, n = A.shape\n",
        "print(f'coefficient matrix is \\n {A}')\n",
        "print(f'right hand side vector is \\n {b}')\n",
        "print(f'coefficient of objective function is \\n {c}')\n",
        "print(f'n is {n} and m is {m}')"
      ],
      "execution_count": 5,
      "outputs": [
        {
          "output_type": "stream",
          "text": [
            "coefficient matrix is \n",
            " [[1.00 1.00 1.00 1.00 0.00 0.00 0.00 0.00 0.00 0.00 0.00 0.00 1.00 0.00\n",
            "  0.00 0.00 0.00 0.00 0.00]\n",
            " [0.00 0.00 0.00 0.00 1.00 1.00 1.00 1.00 0.00 0.00 0.00 0.00 0.00 1.00\n",
            "  0.00 0.00 0.00 0.00 0.00]\n",
            " [0.00 0.00 0.00 0.00 0.00 0.00 0.00 0.00 1.00 1.00 1.00 1.00 0.00 0.00\n",
            "  1.00 0.00 0.00 0.00 0.00]\n",
            " [1.00 0.00 0.00 0.00 1.00 0.00 0.00 0.00 1.00 0.00 0.00 0.00 0.00 0.00\n",
            "  0.00 1.00 0.00 0.00 0.00]\n",
            " [0.00 1.00 0.00 0.00 0.00 1.00 0.00 0.00 0.00 1.00 0.00 0.00 0.00 0.00\n",
            "  0.00 0.00 1.00 0.00 0.00]\n",
            " [0.00 0.00 1.00 0.00 0.00 0.00 1.00 0.00 0.00 0.00 1.00 0.00 0.00 0.00\n",
            "  0.00 0.00 0.00 1.00 0.00]\n",
            " [0.00 0.00 0.00 1.00 0.00 0.00 0.00 1.00 0.00 0.00 0.00 1.00 0.00 0.00\n",
            "  0.00 0.00 0.00 0.00 1.00]]\n",
            "right hand side vector is \n",
            " [75.00 125.00 100.00 80.00 65.00 70.00 85.00]\n",
            "coefficient of objective function is \n",
            " [-464.00 -513.00 -654.00 -867.00 -352.00 -416.00 -690.00 -791.00 -995.00\n",
            " -682.00 -388.00 -685.00 -1000.00 -1000.00 -1000.00 -1000.00 -1000.00\n",
            " -1000.00 -1000.00]\n",
            "n is 19 and m is 7\n"
          ],
          "name": "stdout"
        }
      ]
    },
    {
      "cell_type": "code",
      "metadata": {
        "colab": {
          "base_uri": "https://localhost:8080/",
          "height": 297
        },
        "id": "9Ge2U-jIlOpM",
        "outputId": "057fdc20-6625-4a0b-afd1-226df5f8b2fc"
      },
      "source": [
        "M1 = np.append(np.zeros([m,1]), A, axis=1)\n",
        "M2 = np.append([1], c)\n",
        "M = np.append([M2], M1, axis=0)\n",
        "pd.DataFrame(M)"
      ],
      "execution_count": 27,
      "outputs": [
        {
          "output_type": "execute_result",
          "data": {
            "text/html": [
              "<div>\n",
              "<style scoped>\n",
              "    .dataframe tbody tr th:only-of-type {\n",
              "        vertical-align: middle;\n",
              "    }\n",
              "\n",
              "    .dataframe tbody tr th {\n",
              "        vertical-align: top;\n",
              "    }\n",
              "\n",
              "    .dataframe thead th {\n",
              "        text-align: right;\n",
              "    }\n",
              "</style>\n",
              "<table border=\"1\" class=\"dataframe\">\n",
              "  <thead>\n",
              "    <tr style=\"text-align: right;\">\n",
              "      <th></th>\n",
              "      <th>0</th>\n",
              "      <th>1</th>\n",
              "      <th>2</th>\n",
              "      <th>3</th>\n",
              "      <th>4</th>\n",
              "      <th>5</th>\n",
              "      <th>6</th>\n",
              "      <th>7</th>\n",
              "      <th>8</th>\n",
              "      <th>9</th>\n",
              "      <th>10</th>\n",
              "      <th>11</th>\n",
              "      <th>12</th>\n",
              "      <th>13</th>\n",
              "      <th>14</th>\n",
              "      <th>15</th>\n",
              "      <th>16</th>\n",
              "      <th>17</th>\n",
              "      <th>18</th>\n",
              "      <th>19</th>\n",
              "    </tr>\n",
              "  </thead>\n",
              "  <tbody>\n",
              "    <tr>\n",
              "      <th>0</th>\n",
              "      <td>1.0</td>\n",
              "      <td>-464.0</td>\n",
              "      <td>-513.0</td>\n",
              "      <td>-654.0</td>\n",
              "      <td>-867.0</td>\n",
              "      <td>-352.0</td>\n",
              "      <td>-416.0</td>\n",
              "      <td>-690.0</td>\n",
              "      <td>-791.0</td>\n",
              "      <td>-995.0</td>\n",
              "      <td>-682.0</td>\n",
              "      <td>-388.0</td>\n",
              "      <td>-685.0</td>\n",
              "      <td>-1000.0</td>\n",
              "      <td>-1000.0</td>\n",
              "      <td>-1000.0</td>\n",
              "      <td>-1000.0</td>\n",
              "      <td>-1000.0</td>\n",
              "      <td>-1000.0</td>\n",
              "      <td>-1000.0</td>\n",
              "    </tr>\n",
              "    <tr>\n",
              "      <th>1</th>\n",
              "      <td>0.0</td>\n",
              "      <td>1.0</td>\n",
              "      <td>1.0</td>\n",
              "      <td>1.0</td>\n",
              "      <td>1.0</td>\n",
              "      <td>0.0</td>\n",
              "      <td>0.0</td>\n",
              "      <td>0.0</td>\n",
              "      <td>0.0</td>\n",
              "      <td>0.0</td>\n",
              "      <td>0.0</td>\n",
              "      <td>0.0</td>\n",
              "      <td>0.0</td>\n",
              "      <td>1.0</td>\n",
              "      <td>0.0</td>\n",
              "      <td>0.0</td>\n",
              "      <td>0.0</td>\n",
              "      <td>0.0</td>\n",
              "      <td>0.0</td>\n",
              "      <td>0.0</td>\n",
              "    </tr>\n",
              "    <tr>\n",
              "      <th>2</th>\n",
              "      <td>0.0</td>\n",
              "      <td>0.0</td>\n",
              "      <td>0.0</td>\n",
              "      <td>0.0</td>\n",
              "      <td>0.0</td>\n",
              "      <td>1.0</td>\n",
              "      <td>1.0</td>\n",
              "      <td>1.0</td>\n",
              "      <td>1.0</td>\n",
              "      <td>0.0</td>\n",
              "      <td>0.0</td>\n",
              "      <td>0.0</td>\n",
              "      <td>0.0</td>\n",
              "      <td>0.0</td>\n",
              "      <td>1.0</td>\n",
              "      <td>0.0</td>\n",
              "      <td>0.0</td>\n",
              "      <td>0.0</td>\n",
              "      <td>0.0</td>\n",
              "      <td>0.0</td>\n",
              "    </tr>\n",
              "    <tr>\n",
              "      <th>3</th>\n",
              "      <td>0.0</td>\n",
              "      <td>0.0</td>\n",
              "      <td>0.0</td>\n",
              "      <td>0.0</td>\n",
              "      <td>0.0</td>\n",
              "      <td>0.0</td>\n",
              "      <td>0.0</td>\n",
              "      <td>0.0</td>\n",
              "      <td>0.0</td>\n",
              "      <td>1.0</td>\n",
              "      <td>1.0</td>\n",
              "      <td>1.0</td>\n",
              "      <td>1.0</td>\n",
              "      <td>0.0</td>\n",
              "      <td>0.0</td>\n",
              "      <td>1.0</td>\n",
              "      <td>0.0</td>\n",
              "      <td>0.0</td>\n",
              "      <td>0.0</td>\n",
              "      <td>0.0</td>\n",
              "    </tr>\n",
              "    <tr>\n",
              "      <th>4</th>\n",
              "      <td>0.0</td>\n",
              "      <td>1.0</td>\n",
              "      <td>0.0</td>\n",
              "      <td>0.0</td>\n",
              "      <td>0.0</td>\n",
              "      <td>1.0</td>\n",
              "      <td>0.0</td>\n",
              "      <td>0.0</td>\n",
              "      <td>0.0</td>\n",
              "      <td>1.0</td>\n",
              "      <td>0.0</td>\n",
              "      <td>0.0</td>\n",
              "      <td>0.0</td>\n",
              "      <td>0.0</td>\n",
              "      <td>0.0</td>\n",
              "      <td>0.0</td>\n",
              "      <td>1.0</td>\n",
              "      <td>0.0</td>\n",
              "      <td>0.0</td>\n",
              "      <td>0.0</td>\n",
              "    </tr>\n",
              "    <tr>\n",
              "      <th>5</th>\n",
              "      <td>0.0</td>\n",
              "      <td>0.0</td>\n",
              "      <td>1.0</td>\n",
              "      <td>0.0</td>\n",
              "      <td>0.0</td>\n",
              "      <td>0.0</td>\n",
              "      <td>1.0</td>\n",
              "      <td>0.0</td>\n",
              "      <td>0.0</td>\n",
              "      <td>0.0</td>\n",
              "      <td>1.0</td>\n",
              "      <td>0.0</td>\n",
              "      <td>0.0</td>\n",
              "      <td>0.0</td>\n",
              "      <td>0.0</td>\n",
              "      <td>0.0</td>\n",
              "      <td>0.0</td>\n",
              "      <td>1.0</td>\n",
              "      <td>0.0</td>\n",
              "      <td>0.0</td>\n",
              "    </tr>\n",
              "    <tr>\n",
              "      <th>6</th>\n",
              "      <td>0.0</td>\n",
              "      <td>0.0</td>\n",
              "      <td>0.0</td>\n",
              "      <td>1.0</td>\n",
              "      <td>0.0</td>\n",
              "      <td>0.0</td>\n",
              "      <td>0.0</td>\n",
              "      <td>1.0</td>\n",
              "      <td>0.0</td>\n",
              "      <td>0.0</td>\n",
              "      <td>0.0</td>\n",
              "      <td>1.0</td>\n",
              "      <td>0.0</td>\n",
              "      <td>0.0</td>\n",
              "      <td>0.0</td>\n",
              "      <td>0.0</td>\n",
              "      <td>0.0</td>\n",
              "      <td>0.0</td>\n",
              "      <td>1.0</td>\n",
              "      <td>0.0</td>\n",
              "    </tr>\n",
              "    <tr>\n",
              "      <th>7</th>\n",
              "      <td>0.0</td>\n",
              "      <td>0.0</td>\n",
              "      <td>0.0</td>\n",
              "      <td>0.0</td>\n",
              "      <td>1.0</td>\n",
              "      <td>0.0</td>\n",
              "      <td>0.0</td>\n",
              "      <td>0.0</td>\n",
              "      <td>1.0</td>\n",
              "      <td>0.0</td>\n",
              "      <td>0.0</td>\n",
              "      <td>0.0</td>\n",
              "      <td>1.0</td>\n",
              "      <td>0.0</td>\n",
              "      <td>0.0</td>\n",
              "      <td>0.0</td>\n",
              "      <td>0.0</td>\n",
              "      <td>0.0</td>\n",
              "      <td>0.0</td>\n",
              "      <td>1.0</td>\n",
              "    </tr>\n",
              "  </tbody>\n",
              "</table>\n",
              "</div>"
            ],
            "text/plain": [
              "    0      1      2      3      4   ...      15      16      17      18      19\n",
              "0  1.0 -464.0 -513.0 -654.0 -867.0  ... -1000.0 -1000.0 -1000.0 -1000.0 -1000.0\n",
              "1  0.0    1.0    1.0    1.0    1.0  ...     0.0     0.0     0.0     0.0     0.0\n",
              "2  0.0    0.0    0.0    0.0    0.0  ...     0.0     0.0     0.0     0.0     0.0\n",
              "3  0.0    0.0    0.0    0.0    0.0  ...     1.0     0.0     0.0     0.0     0.0\n",
              "4  0.0    1.0    0.0    0.0    0.0  ...     0.0     1.0     0.0     0.0     0.0\n",
              "5  0.0    0.0    1.0    0.0    0.0  ...     0.0     0.0     1.0     0.0     0.0\n",
              "6  0.0    0.0    0.0    1.0    0.0  ...     0.0     0.0     0.0     1.0     0.0\n",
              "7  0.0    0.0    0.0    0.0    1.0  ...     0.0     0.0     0.0     0.0     1.0\n",
              "\n",
              "[8 rows x 20 columns]"
            ]
          },
          "metadata": {
            "tags": []
          },
          "execution_count": 27
        }
      ]
    },
    {
      "cell_type": "code",
      "metadata": {
        "colab": {
          "base_uri": "https://localhost:8080/"
        },
        "id": "lAckcMRnMwBo",
        "outputId": "2184e580-0c31-4a3e-9585-f4ca231ffb6b"
      },
      "source": [
        "npivot = newpivot(M)\n",
        "while npivot != 0:\n",
        "  print(f'new pivot is {npivot}')\n",
        "  if npivot is not 0:\n",
        "    pivot(M, npivot[0], npivot[1])\n",
        "    print(pd.DataFrame(M))\n",
        "    print(f'=======================')\n",
        "    npivot = newpivot(M)"
      ],
      "execution_count": 28,
      "outputs": [
        {
          "output_type": "stream",
          "text": [
            "new pivot is (2, 13)\n",
            "   0   1   2   3   4    5    6    7    8   ...  11  12  13   14  15  16  17  18  19\n",
            "0 NaN NaN NaN NaN NaN  inf  inf  inf  inf  ... NaN NaN NaN  inf NaN NaN NaN NaN NaN\n",
            "1 NaN NaN NaN NaN NaN -inf -inf -inf -inf  ... NaN NaN NaN -inf NaN NaN NaN NaN NaN\n",
            "2 NaN NaN NaN NaN NaN  inf  inf  inf  inf  ... NaN NaN NaN  inf NaN NaN NaN NaN NaN\n",
            "3 NaN NaN NaN NaN NaN  NaN  NaN  NaN  NaN  ... NaN NaN NaN  NaN NaN NaN NaN NaN NaN\n",
            "4 NaN NaN NaN NaN NaN  NaN  NaN  NaN  NaN  ... NaN NaN NaN  NaN NaN NaN NaN NaN NaN\n",
            "5 NaN NaN NaN NaN NaN  NaN  NaN  NaN  NaN  ... NaN NaN NaN  NaN NaN NaN NaN NaN NaN\n",
            "6 NaN NaN NaN NaN NaN  NaN  NaN  NaN  NaN  ... NaN NaN NaN  NaN NaN NaN NaN NaN NaN\n",
            "7 NaN NaN NaN NaN NaN  NaN  NaN  NaN  NaN  ... NaN NaN NaN  NaN NaN NaN NaN NaN NaN\n",
            "\n",
            "[8 rows x 20 columns]\n",
            "=======================\n",
            "pass the optimal test\n"
          ],
          "name": "stdout"
        },
        {
          "output_type": "stream",
          "text": [
            "/usr/local/lib/python3.7/dist-packages/ipykernel_launcher.py:8: RuntimeWarning: divide by zero encountered in true_divide\n",
            "  \n",
            "/usr/local/lib/python3.7/dist-packages/ipykernel_launcher.py:8: RuntimeWarning: invalid value encountered in true_divide\n",
            "  \n",
            "/usr/local/lib/python3.7/dist-packages/ipykernel_launcher.py:3: RuntimeWarning: divide by zero encountered in true_divide\n",
            "  This is separate from the ipykernel package so we can avoid doing imports until\n",
            "/usr/local/lib/python3.7/dist-packages/ipykernel_launcher.py:3: RuntimeWarning: invalid value encountered in true_divide\n",
            "  This is separate from the ipykernel package so we can avoid doing imports until\n",
            "/usr/local/lib/python3.7/dist-packages/ipykernel_launcher.py:8: RuntimeWarning: invalid value encountered in multiply\n",
            "  \n"
          ],
          "name": "stderr"
        }
      ]
    }
  ]
}