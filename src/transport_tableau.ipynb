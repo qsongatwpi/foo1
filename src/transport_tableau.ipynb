{
  "nbformat": 4,
  "nbformat_minor": 0,
  "metadata": {
    "colab": {
      "name": "transport_tableau.ipynb",
      "provenance": [],
      "authorship_tag": "ABX9TyP5JExI/5jX2+XQ6lnB/Cwt",
      "include_colab_link": true
    },
    "kernelspec": {
      "name": "python3",
      "display_name": "Python 3"
    }
  },
  "cells": [
    {
      "cell_type": "markdown",
      "metadata": {
        "id": "view-in-github",
        "colab_type": "text"
      },
      "source": [
        "<a href=\"https://colab.research.google.com/github/songqsh/foo1/blob/master/src/transport_tableau.ipynb\" target=\"_parent\"><img src=\"https://colab.research.google.com/assets/colab-badge.svg\" alt=\"Open In Colab\"/></a>"
      ]
    },
    {
      "cell_type": "markdown",
      "metadata": {
        "id": "00ZyRRxarrBi"
      },
      "source": [
        "# Transport problem\n",
        "From Section 8.1 - tableau\n",
        "\n"
      ]
    },
    {
      "cell_type": "code",
      "metadata": {
        "id": "HdIczcDireLv"
      },
      "source": [
        "# import package\n",
        "import numpy as np\n",
        "import numpy.linalg as la\n",
        "float_formatter = \"{:.2f}\".format\n",
        "np.set_printoptions(formatter={'float_kind':float_formatter})\n",
        "import pandas as pd\n",
        "import warnings\n",
        "#ignore by message\n",
        "warnings.filterwarnings(\"ignore\", message=\"divide by zero encountered in true_divide\")"
      ],
      "execution_count": 1,
      "outputs": []
    },
    {
      "cell_type": "markdown",
      "metadata": {
        "id": "qPGpUZT94CSW"
      },
      "source": [
        "## Pivotizing\n",
        "\n",
        "Pivotizing with $(i,j)$-entry means converting the matrix by multiple EROS so that the resulting matrix has all zeros in $j$-column, but one in $(i,j)$-entry. This is the key step in updating basic feasible solution."
      ]
    },
    {
      "cell_type": "code",
      "metadata": {
        "id": "QOOCy0MY4kHm"
      },
      "source": [
        "#pivotize with (i,j)\n",
        "def pivot(A, i, j):\n",
        "  A[i] = A[i]/A[i,j] #scale to get one in (i,j)\n",
        "  n_rows, _ = A.shape\n",
        "  for k in range(n_rows):\n",
        "    if k==i:\n",
        "      continue # skip i-row\n",
        "    A[k] = A[k] - A[i]*A[k,j] # replacement to get zero"
      ],
      "execution_count": 2,
      "outputs": []
    },
    {
      "cell_type": "markdown",
      "metadata": {
        "id": "o2p2m-mct1ZO"
      },
      "source": [
        "## Update"
      ]
    },
    {
      "cell_type": "code",
      "metadata": {
        "id": "-sVG0HjsGYFf"
      },
      "source": [
        "def minratio(ratio_list):\n",
        "  pivot_row = 0;\n",
        "  minratio = np.inf;\n",
        "  for i in range(len(ratio_list)):\n",
        "    if ratio_list[i]>0 and ratio_list[i]<minratio:\n",
        "      pivot_row = i+1\n",
        "      minratio = ratio_list[i]\n",
        "  if minratio is np.inf:\n",
        "    return 0 #no leaving variable\n",
        "  else:\n",
        "    return pivot_row\n",
        "\n",
        "def newpivot(M): #M is the tableau\n",
        "  m, n = M.shape\n",
        "  m = m-1 #number of constraints in the augmented form\n",
        "  n = n-2 #number of variables in the augmented form\n",
        "  optimal_test = min(M[0, range(1,n+1)])\n",
        "  \n",
        "  if optimal_test<0:\n",
        "    pivot_col = np.argmin(M[0,range(1,n+1)])+1\n",
        "  else:\n",
        "    print(f'pass the optimal test')\n",
        "    return(0)\n",
        "  ratio_list = np.divide(M[range(1,m+1),-1], M[range(1, m+1),pivot_col])\n",
        "\n",
        "  minratiotest = minratio(ratio_list)\n",
        "  if minratiotest is 0:\n",
        "    print(f'no leaving variable, here is the ratio list {ratio_list}')\n",
        "    return(0)\n",
        "  else:\n",
        "    pivot_row = minratiotest\n",
        "  return(pivot_row, pivot_col)"
      ],
      "execution_count": 3,
      "outputs": []
    },
    {
      "cell_type": "markdown",
      "metadata": {
        "id": "c3lK0xN-K78x"
      },
      "source": [
        "# Transport problem - BigM Simplex"
      ]
    },
    {
      "cell_type": "code",
      "metadata": {
        "colab": {
          "base_uri": "https://localhost:8080/"
        },
        "id": "YrdIfOvWiGhx",
        "outputId": "471674b5-1e11-4c6e-f812-3ced0f1dad6f"
      },
      "source": [
        "A = np.array([[1., 1., 1, 1, 0, 0, 0, 0, 0, 0, 0, 0, 1, 0, 0, 0, 0, 0, 0], \n",
        "              [0., 0., 0, 0, 1, 1, 1, 1, 0, 0, 0, 0, 0, 1, 0, 0, 0, 0, 0],\n",
        "              [0., 0., 0, 0, 0, 0, 0, 0, 1, 1, 1, 1, 0, 0, 1, 0, 0, 0, 0], \n",
        "              [1., 0., 0, 0, 1, 0, 0, 0, 1, 0, 0, 0, 0, 0, 0, 1, 0, 0, 0],\n",
        "              [0., 1., 0, 0, 0, 1, 0, 0, 0, 1, 0, 0, 0, 0, 0, 0, 1, 0, 0],\n",
        "              [0., 0., 1, 0, 0, 0, 1, 0, 0, 0, 1, 0, 0, 0, 0, 0, 0, 1, 0],\n",
        "              [0., 0., 0, 1, 0, 0, 0, 1, 0, 0, 0, 1, 0, 0, 0, 0, 0, 0, 1]])\n",
        "b = np.array([[75., 125, 100, 80, 65, 70, 85]]).T\n",
        "\n",
        "M=1000\n",
        "c = np.array([464., 513, 654, 867, 352, 416,\n",
        "              690, 791, 995, 682, 388, 685, \n",
        "              M, M, M, M, M, M, M])\n",
        "m, n = A.shape\n",
        "print(f'coefficient matrix is \\n {pd.DataFrame(A)}')\n",
        "print(f'right hand side vector is \\n {b}')\n",
        "print(f'coefficient of objective function is \\n {c}')\n",
        "print(f'n is {n} and m is {m}')"
      ],
      "execution_count": 4,
      "outputs": [
        {
          "output_type": "stream",
          "text": [
            "coefficient matrix is \n",
            "     0    1    2    3    4    5    6   ...   12   13   14   15   16   17   18\n",
            "0  1.0  1.0  1.0  1.0  0.0  0.0  0.0  ...  1.0  0.0  0.0  0.0  0.0  0.0  0.0\n",
            "1  0.0  0.0  0.0  0.0  1.0  1.0  1.0  ...  0.0  1.0  0.0  0.0  0.0  0.0  0.0\n",
            "2  0.0  0.0  0.0  0.0  0.0  0.0  0.0  ...  0.0  0.0  1.0  0.0  0.0  0.0  0.0\n",
            "3  1.0  0.0  0.0  0.0  1.0  0.0  0.0  ...  0.0  0.0  0.0  1.0  0.0  0.0  0.0\n",
            "4  0.0  1.0  0.0  0.0  0.0  1.0  0.0  ...  0.0  0.0  0.0  0.0  1.0  0.0  0.0\n",
            "5  0.0  0.0  1.0  0.0  0.0  0.0  1.0  ...  0.0  0.0  0.0  0.0  0.0  1.0  0.0\n",
            "6  0.0  0.0  0.0  1.0  0.0  0.0  0.0  ...  0.0  0.0  0.0  0.0  0.0  0.0  1.0\n",
            "\n",
            "[7 rows x 19 columns]\n",
            "right hand side vector is \n",
            " [[75.00]\n",
            " [125.00]\n",
            " [100.00]\n",
            " [80.00]\n",
            " [65.00]\n",
            " [70.00]\n",
            " [85.00]]\n",
            "coefficient of objective function is \n",
            " [464.00 513.00 654.00 867.00 352.00 416.00 690.00 791.00 995.00 682.00\n",
            " 388.00 685.00 1000.00 1000.00 1000.00 1000.00 1000.00 1000.00 1000.00]\n",
            "n is 19 and m is 7\n"
          ],
          "name": "stdout"
        }
      ]
    },
    {
      "cell_type": "code",
      "metadata": {
        "colab": {
          "base_uri": "https://localhost:8080/"
        },
        "id": "9Ge2U-jIlOpM",
        "outputId": "87614ed9-69f9-41f2-d7e5-9beb8ea1bff5"
      },
      "source": [
        "#initial tableau\n",
        "M1 = np.append(np.zeros([m,1]), A, axis=1)\n",
        "M1 = np.append(M1, b, axis=1)\n",
        "M2 = np.append([1], c)\n",
        "M2 = np.append(M2, [0])\n",
        "AM = np.append([M2], M1, axis=0)\n",
        "print(f'tableau after big M is \\n {pd.DataFrame(AM)}')"
      ],
      "execution_count": 5,
      "outputs": [
        {
          "output_type": "stream",
          "text": [
            "tableau after big M is \n",
            "     0      1      2      3      4   ...      16      17      18      19     20\n",
            "0  1.0  464.0  513.0  654.0  867.0  ...  1000.0  1000.0  1000.0  1000.0    0.0\n",
            "1  0.0    1.0    1.0    1.0    1.0  ...     0.0     0.0     0.0     0.0   75.0\n",
            "2  0.0    0.0    0.0    0.0    0.0  ...     0.0     0.0     0.0     0.0  125.0\n",
            "3  0.0    0.0    0.0    0.0    0.0  ...     0.0     0.0     0.0     0.0  100.0\n",
            "4  0.0    1.0    0.0    0.0    0.0  ...     1.0     0.0     0.0     0.0   80.0\n",
            "5  0.0    0.0    1.0    0.0    0.0  ...     0.0     1.0     0.0     0.0   65.0\n",
            "6  0.0    0.0    0.0    1.0    0.0  ...     0.0     0.0     1.0     0.0   70.0\n",
            "7  0.0    0.0    0.0    0.0    1.0  ...     0.0     0.0     0.0     1.0   85.0\n",
            "\n",
            "[8 rows x 21 columns]\n"
          ],
          "name": "stdout"
        }
      ]
    },
    {
      "cell_type": "code",
      "metadata": {
        "id": "zfkvB26uMRJs",
        "colab": {
          "base_uri": "https://localhost:8080/"
        },
        "outputId": "020b72d5-d876-4fda-a630-caa478d11711"
      },
      "source": [
        "#initialize the tableau\n",
        "for i in range(1,8):\n",
        "  pivot(AM, i, i+12)\n",
        "print(f'initial tableau is \\n {pd.DataFrame(AM)}')"
      ],
      "execution_count": 6,
      "outputs": [
        {
          "output_type": "stream",
          "text": [
            "initial tableau is \n",
            "     0       1       2       3       4   ...   16   17   18   19        20\n",
            "0  1.0 -1536.0 -1487.0 -1346.0 -1133.0  ...  0.0  0.0  0.0  0.0 -600000.0\n",
            "1  0.0     1.0     1.0     1.0     1.0  ...  0.0  0.0  0.0  0.0      75.0\n",
            "2  0.0     0.0     0.0     0.0     0.0  ...  0.0  0.0  0.0  0.0     125.0\n",
            "3  0.0     0.0     0.0     0.0     0.0  ...  0.0  0.0  0.0  0.0     100.0\n",
            "4  0.0     1.0     0.0     0.0     0.0  ...  1.0  0.0  0.0  0.0      80.0\n",
            "5  0.0     0.0     1.0     0.0     0.0  ...  0.0  1.0  0.0  0.0      65.0\n",
            "6  0.0     0.0     0.0     1.0     0.0  ...  0.0  0.0  1.0  0.0      70.0\n",
            "7  0.0     0.0     0.0     0.0     1.0  ...  0.0  0.0  0.0  1.0      85.0\n",
            "\n",
            "[8 rows x 21 columns]\n"
          ],
          "name": "stdout"
        }
      ]
    },
    {
      "cell_type": "code",
      "metadata": {
        "colab": {
          "base_uri": "https://localhost:8080/"
        },
        "id": "lAckcMRnMwBo",
        "outputId": "e292c3fc-9621-46fe-f0f5-384f3bec868c"
      },
      "source": [
        "npivot = newpivot(AM)\n",
        "while npivot != 0:\n",
        "  print(f'new pivot is {npivot}')\n",
        "  if npivot is not 0:\n",
        "    pivot(AM, npivot[0], npivot[1])\n",
        "    print(pd.DataFrame(AM))\n",
        "    print(f'=======================')\n",
        "    npivot = newpivot(AM)"
      ],
      "execution_count": 7,
      "outputs": [
        {
          "output_type": "stream",
          "text": [
            "new pivot is (4, 5)\n",
            "    0      1       2       3       4   ...      16   17   18   19        20\n",
            "0  1.0  112.0 -1487.0 -1346.0 -1133.0  ...  1648.0  0.0  0.0  0.0 -468160.0\n",
            "1  0.0    1.0     1.0     1.0     1.0  ...     0.0  0.0  0.0  0.0      75.0\n",
            "2  0.0   -1.0     0.0     0.0     0.0  ...    -1.0  0.0  0.0  0.0      45.0\n",
            "3  0.0    0.0     0.0     0.0     0.0  ...     0.0  0.0  0.0  0.0     100.0\n",
            "4  0.0    1.0     0.0     0.0     0.0  ...     1.0  0.0  0.0  0.0      80.0\n",
            "5  0.0    0.0     1.0     0.0     0.0  ...     0.0  1.0  0.0  0.0      65.0\n",
            "6  0.0    0.0     0.0     1.0     0.0  ...     0.0  0.0  1.0  0.0      70.0\n",
            "7  0.0    0.0     0.0     0.0     1.0  ...     0.0  0.0  0.0  1.0      85.0\n",
            "\n",
            "[8 rows x 21 columns]\n",
            "=======================\n",
            "new pivot is (6, 11)\n",
            "    0      1       2      3       4   ...      16   17      18   19        20\n",
            "0  1.0  112.0 -1487.0  266.0 -1133.0  ...  1648.0  0.0  1612.0  0.0 -355320.0\n",
            "1  0.0    1.0     1.0    1.0     1.0  ...     0.0  0.0     0.0  0.0      75.0\n",
            "2  0.0   -1.0     0.0    0.0     0.0  ...    -1.0  0.0     0.0  0.0      45.0\n",
            "3  0.0    0.0     0.0   -1.0     0.0  ...     0.0  0.0    -1.0  0.0      30.0\n",
            "4  0.0    1.0     0.0    0.0     0.0  ...     1.0  0.0     0.0  0.0      80.0\n",
            "5  0.0    0.0     1.0    0.0     0.0  ...     0.0  1.0     0.0  0.0      65.0\n",
            "6  0.0    0.0     0.0    1.0     0.0  ...     0.0  0.0     1.0  0.0      70.0\n",
            "7  0.0    0.0     0.0    0.0     1.0  ...     0.0  0.0     0.0  1.0      85.0\n",
            "\n",
            "[8 rows x 21 columns]\n",
            "=======================\n",
            "new pivot is (2, 6)\n",
            "    0       1       2      3       4   ...    16   17      18   19        20\n",
            "0  1.0 -1472.0 -1487.0  266.0 -1133.0  ...  64.0  0.0  1612.0  0.0 -284040.0\n",
            "1  0.0     1.0     1.0    1.0     1.0  ...   0.0  0.0     0.0  0.0      75.0\n",
            "2  0.0    -1.0     0.0    0.0     0.0  ...  -1.0  0.0     0.0  0.0      45.0\n",
            "3  0.0     0.0     0.0   -1.0     0.0  ...   0.0  0.0    -1.0  0.0      30.0\n",
            "4  0.0     1.0     0.0    0.0     0.0  ...   1.0  0.0     0.0  0.0      80.0\n",
            "5  0.0     1.0     1.0    0.0     0.0  ...   1.0  1.0     0.0  0.0      20.0\n",
            "6  0.0     0.0     0.0    1.0     0.0  ...   0.0  0.0     1.0  0.0      70.0\n",
            "7  0.0     0.0     0.0    0.0     1.0  ...   0.0  0.0     0.0  1.0      85.0\n",
            "\n",
            "[8 rows x 21 columns]\n",
            "=======================\n",
            "new pivot is (5, 2)\n",
            "    0     1    2      3       4   ...      16      17      18   19        20\n",
            "0  1.0  15.0  0.0  266.0 -1133.0  ...  1551.0  1487.0  1612.0  0.0 -254300.0\n",
            "1  0.0   0.0  0.0    1.0     1.0  ...    -1.0    -1.0     0.0  0.0      55.0\n",
            "2  0.0  -1.0  0.0    0.0     0.0  ...    -1.0     0.0     0.0  0.0      45.0\n",
            "3  0.0   0.0  0.0   -1.0     0.0  ...     0.0     0.0    -1.0  0.0      30.0\n",
            "4  0.0   1.0  0.0    0.0     0.0  ...     1.0     0.0     0.0  0.0      80.0\n",
            "5  0.0   1.0  1.0    0.0     0.0  ...     1.0     1.0     0.0  0.0      20.0\n",
            "6  0.0   0.0  0.0    1.0     0.0  ...     0.0     0.0     1.0  0.0      70.0\n",
            "7  0.0   0.0  0.0    0.0     1.0  ...     0.0     0.0     0.0  1.0      85.0\n",
            "\n",
            "[8 rows x 21 columns]\n",
            "=======================\n",
            "new pivot is (3, 12)\n",
            "    0     1    2       3       4   ...      16      17     18   19        20\n",
            "0  1.0  15.0  0.0 -1049.0 -1133.0  ...  1551.0  1487.0  297.0  0.0 -214850.0\n",
            "1  0.0   0.0  0.0     1.0     1.0  ...    -1.0    -1.0    0.0  0.0      55.0\n",
            "2  0.0  -1.0  0.0     0.0     0.0  ...    -1.0     0.0    0.0  0.0      45.0\n",
            "3  0.0   0.0  0.0    -1.0     0.0  ...     0.0     0.0   -1.0  0.0      30.0\n",
            "4  0.0   1.0  0.0     0.0     0.0  ...     1.0     0.0    0.0  0.0      80.0\n",
            "5  0.0   1.0  1.0     0.0     0.0  ...     1.0     1.0    0.0  0.0      20.0\n",
            "6  0.0   0.0  0.0     1.0     0.0  ...     0.0     0.0    1.0  0.0      70.0\n",
            "7  0.0   0.0  0.0     1.0     1.0  ...     0.0     0.0    1.0  1.0      55.0\n",
            "\n",
            "[8 rows x 21 columns]\n",
            "=======================\n",
            "new pivot is (1, 4)\n",
            "    0     1    2     3    4    5   ...      15     16     17     18   19        20\n",
            "0  1.0  15.0  0.0  84.0  0.0  0.0  ...  1315.0  418.0  354.0  297.0  0.0 -152535.0\n",
            "1  0.0   0.0  0.0   1.0  1.0  0.0  ...     0.0   -1.0   -1.0    0.0  0.0      55.0\n",
            "2  0.0  -1.0  0.0   0.0  0.0  0.0  ...     0.0   -1.0    0.0    0.0  0.0      45.0\n",
            "3  0.0   0.0  0.0  -1.0  0.0  0.0  ...     1.0    0.0    0.0   -1.0  0.0      30.0\n",
            "4  0.0   1.0  0.0   0.0  0.0  1.0  ...     0.0    1.0    0.0    0.0  0.0      80.0\n",
            "5  0.0   1.0  1.0   0.0  0.0  0.0  ...     0.0    1.0    1.0    0.0  0.0      20.0\n",
            "6  0.0   0.0  0.0   1.0  0.0  0.0  ...     0.0    0.0    0.0    1.0  0.0      70.0\n",
            "7  0.0   0.0  0.0   0.0  0.0  0.0  ...    -1.0    1.0    1.0    1.0  1.0       0.0\n",
            "\n",
            "[8 rows x 21 columns]\n",
            "=======================\n",
            "pass the optimal test\n"
          ],
          "name": "stdout"
        }
      ]
    },
    {
      "cell_type": "code",
      "metadata": {
        "id": "l_KNpZ-VM12T"
      },
      "source": [
        ""
      ],
      "execution_count": 7,
      "outputs": []
    }
  ]
}