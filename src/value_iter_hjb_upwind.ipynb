{
  "nbformat": 4,
  "nbformat_minor": 0,
  "metadata": {
    "colab": {
      "name": "value_iter_hjb_upwind.ipynb",
      "version": "0.3.2",
      "provenance": [],
      "include_colab_link": true
    },
    "kernelspec": {
      "name": "python3",
      "display_name": "Python 3"
    }
  },
  "cells": [
    {
      "cell_type": "markdown",
      "metadata": {
        "id": "view-in-github",
        "colab_type": "text"
      },
      "source": [
        "<a href=\"https://colab.research.google.com/github/songqsh/foo1/blob/master/src/value_iter_hjb_upwind.ipynb\" target=\"_parent\"><img src=\"https://colab.research.google.com/assets/colab-badge.svg\" alt=\"Open In Colab\"/></a>"
      ]
    },
    {
      "cell_type": "code",
      "metadata": {
        "id": "Fl-HiOYdo0yx",
        "colab_type": "code",
        "colab": {}
      },
      "source": [
        "import numpy as np\n",
        "import time\n",
        "start_time = time.time()\n",
        "\n",
        "import matplotlib.pyplot as plt"
      ],
      "execution_count": 0,
      "outputs": []
    },
    {
      "cell_type": "markdown",
      "metadata": {
        "id": "ZPLkIpt4sfso",
        "colab_type": "text"
      },
      "source": [
        "__Goal__\n",
        "\n",
        "It demonstrates that upwind FDM does not work for HJB equation. We used the same \n",
        "Whittle's flypaper ([here](https://github.com/songqsh/foo1/blob/master/src/value_iter_dirichlet_1d.ipynb)), but the transition probability and running cost in MDP will be given from upwind scheme, see P97, Example 4 of [Kushner and Dupuis 2001]."
      ]
    },
    {
      "cell_type": "code",
      "metadata": {
        "id": "666KHl1_o5Gc",
        "colab_type": "code",
        "colab": {}
      },
      "source": [
        "#configure\n",
        "C1 = 1\n",
        "C2 = 1\n",
        "\n",
        "U_LIM = 1 #upper limit for state\n",
        "L_LIM = 0 #lower limit for state\n",
        "\n",
        "TOL = 0.001 #tolerance for iteration\n",
        "MAX_ITER = 1000 #maximum iteration"
      ],
      "execution_count": 0,
      "outputs": []
    },
    {
      "cell_type": "code",
      "metadata": {
        "id": "PjoCIKGlo8Ps",
        "colab_type": "code",
        "colab": {}
      },
      "source": [
        "#start MDP approximation\n",
        "#configure\n",
        "\n",
        "NUM = 10 #num of meshes in one unit state space"
      ],
      "execution_count": 0,
      "outputs": []
    },
    {
      "cell_type": "code",
      "metadata": {
        "id": "VY8L88utpCId",
        "colab_type": "code",
        "colab": {}
      },
      "source": [
        "#configure\n",
        "\n",
        "lambda_ = 0. #discount rate\n",
        "sigma = 1. #diffusion coefficient\n",
        "drift = lambda x,a: a #drift coefficient\n",
        "\n",
        "run_cost = lambda x, a: (a**2+1)/2.\n",
        "term_cost = lambda x: - np.log(C1*np.exp(x) + C2*np.exp(-x))"
      ],
      "execution_count": 0,
      "outputs": []
    },
    {
      "cell_type": "code",
      "metadata": {
        "id": "UPPR6fIupzls",
        "colab_type": "code",
        "colab": {}
      },
      "source": [
        "h = 1./NUM #mesh size in state space\n",
        "\n",
        "s_space = np.arange(L_LIM, U_LIM+h, h) #state space\n",
        "\n",
        "a_space = np.arange(2*L_LIM, 2*U_LIM + h, h) #action space\n",
        "\n",
        "del_ind_space = np.array([-1,1]) #space of delta (1-step) index: -1 means left, 1 means right move\n",
        "\n",
        "term_ind_space = np.array([0, s_space.size-1]) #space of terminal state indice"
      ],
      "execution_count": 0,
      "outputs": []
    },
    {
      "cell_type": "code",
      "metadata": {
        "id": "IaTtM0nFp2rQ",
        "colab_type": "code",
        "colab": {}
      },
      "source": [
        "#transition probability \n",
        "#by upwind\n",
        "#output is probability (np array) on del_ind_space\n",
        "\n",
        "def transition_probability(x, a):\n",
        "  tp = np.zeros(del_ind_space.shape)\n",
        "  \n",
        "  b_ = drift(x,a)\n",
        "  b_plus = np.max([b_,0])\n",
        "  b_minus = np.max([-b_,0])\n",
        "  \n",
        "  tp[0] = (b_minus*h + sigma**2/2)/(2*sigma**2 + h*np.abs(b_)) #prob del_ind = -1\n",
        "  tp[1] = (b_plus*h + sigma**2/2)/(2*sigma**2 + h*np.abs(b_)) #prob del_ind = 1\n",
        "  \n",
        "  #correction on prob\n",
        "  if tp[1]<0:\n",
        "    tp = tp - tp[1]\n",
        "    tp = tp/tp.sum()\n",
        "    print('>>>>corrected')\n",
        "\n",
        "  return tp"
      ],
      "execution_count": 0,
      "outputs": []
    },
    {
      "cell_type": "code",
      "metadata": {
        "id": "G4e34_ljqePW",
        "colab_type": "code",
        "outputId": "da301bb9-96ce-4fc2-bd1f-a4ed19134768",
        "colab": {
          "base_uri": "https://localhost:8080/",
          "height": 34
        }
      },
      "source": [
        "#q-table and state value initialization\n",
        "\n",
        "s_val = np.zeros(s_space.size)\n",
        "q_table = np.zeros([s_space.size, a_space.size])\n",
        "\n",
        "'''\n",
        "#adjust start\n",
        "for i in range(s_space.size):\n",
        "  q_table[i] = term_cost(s_space[i])*np.ones(a_space.size)\n",
        "'''\n",
        "\n",
        "print('>>>>> q_table size is %i' %(q_table.size))"
      ],
      "execution_count": 7,
      "outputs": [
        {
          "output_type": "stream",
          "text": [
            ">>>>> q_table size is 231\n"
          ],
          "name": "stdout"
        }
      ]
    },
    {
      "cell_type": "code",
      "metadata": {
        "id": "Og87JBpJqfKs",
        "colab_type": "code",
        "colab": {}
      },
      "source": [
        "#q-table terminal setup\n",
        "for i in term_ind_space:\n",
        "  for j in range(a_space.size):\n",
        "    q_table[i,j] = term_cost(s_space[i])"
      ],
      "execution_count": 0,
      "outputs": []
    },
    {
      "cell_type": "code",
      "metadata": {
        "id": "OwnfnqIQr1Ft",
        "colab_type": "code",
        "colab": {}
      },
      "source": [
        "#sync q_table, s_val\n",
        "def q_s_sync(ind):\n",
        "  s_val[ind] = np.min(q_table[ind])\n",
        "  \n",
        "q_s_sync(0)\n",
        "q_s_sync(s_val.size-1)"
      ],
      "execution_count": 0,
      "outputs": []
    },
    {
      "cell_type": "code",
      "metadata": {
        "id": "TynP0mthr34E",
        "colab_type": "code",
        "colab": {}
      },
      "source": [
        "#value iteration\n",
        "\n",
        "eps = 1.\n",
        "iter = 0\n",
        "while eps>TOL and iter < MAX_ITER:\n",
        "  pre_s_val = s_val.copy()\n",
        "  #import pdb; pdb.set_trace()\n",
        "  for i in range(1, s_space.size -1):\n",
        "    for k in range(a_space.size):\n",
        "      x_ = s_space[i]\n",
        "      a_ = a_space[k]\n",
        "      tp_ = transition_probability(x_,a_)\n",
        "      run_cost_ = run_cost(x_,a_)*h**2/(sigma**2 + h*np.abs(drift(x_,a_))) #for upwind\n",
        "      Lambda_ = 1 + lambda_*h**2/sigma**2\n",
        "      \n",
        "      q_table[i,k] = (run_cost_ + tp_[0]*s_val[i-1] + tp_[1]*s_val[i+1])/Lambda_\n",
        "      \n",
        "    q_s_sync(i)\n",
        "    \n",
        "  \n",
        "  eps = np.max(np.abs(pre_s_val - s_val))\n",
        "  #import pdb; pdb.set_trace()\n",
        "  iter += 1\n",
        "  if np.mod(iter,10) == 0:\n",
        "    print('iterated ' + str(iter)+';')"
      ],
      "execution_count": 0,
      "outputs": []
    },
    {
      "cell_type": "code",
      "metadata": {
        "id": "IvSey_7Nr67M",
        "colab_type": "code",
        "outputId": "5b8c646d-50d4-4cf0-f6ee-8db0ed00924b",
        "colab": {
          "base_uri": "https://localhost:8080/",
          "height": 34
        }
      },
      "source": [
        "exact_val = term_cost(s_space) #exact value for performance compare\n",
        "end_time = time.time()\n",
        "print('elapsed time is %f seconds' %(end_time - start_time))"
      ],
      "execution_count": 11,
      "outputs": [
        {
          "output_type": "stream",
          "text": [
            "elapsed time is 0.236515 seconds\n"
          ],
          "name": "stdout"
        }
      ]
    },
    {
      "cell_type": "code",
      "metadata": {
        "id": "a5HWsPYyr_9z",
        "colab_type": "code",
        "outputId": "c9d989df-e504-4db9-e0a2-29a0332a7d3a",
        "colab": {
          "base_uri": "https://localhost:8080/",
          "height": 320
        }
      },
      "source": [
        "plt.plot(s_space, s_val, label = 'computed')\n",
        "plt.plot(s_space, exact_val, label = 'exact')\n",
        "plt.legend()\n",
        "print('>>>epsilon is ' + str(eps))\n",
        "print('>>>iter number is ' + str(iter))\n",
        "print('>>>max norm of error is ' + str(np.max(np.abs(s_val-exact_val))))\n"
      ],
      "execution_count": 12,
      "outputs": [
        {
          "output_type": "stream",
          "text": [
            ">>>epsilon is 0.00046987443039750096\n",
            ">>>iter number is 6\n",
            ">>>max norm of error is 0.9000558265990959\n"
          ],
          "name": "stdout"
        },
        {
          "output_type": "display_data",
          "data": {
            "image/png": "[encoded data removed]",
            "text/plain": [
              "<Figure size 432x288 with 1 Axes>"
            ]
          },
          "metadata": {
            "tags": []
          }
        }
      ]
    },
    {
      "cell_type": "code",
      "metadata": {
        "id": "-vni9F0tsCez",
        "colab_type": "code",
        "colab": {}
      },
      "source": [
        ""
      ],
      "execution_count": 0,
      "outputs": []
    }
  ]
}