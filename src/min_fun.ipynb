{
 "nbformat": 4,
 "nbformat_minor": 0,
 "metadata": {
  "colab": {
   "name": "min_fun.ipynb",
   "provenance": [],
   "include_colab_link": true
  },
  "kernelspec": {
   "name": "python3",
   "display_name": "Python 3"
  }
 },
 "cells": [
  {
   "cell_type": "code",
   "metadata": {
    "id": "bx38aSpVO8Eu",
    "colab_type": "code",
    "colab": {}
   },
   "source": [
    "import torch\n",
    "import torch.optim as optim\n",
    "import numpy as np"
   ],
   "execution_count": 1,
   "outputs": []
  },
  {
   "cell_type": "code",
   "metadata": {
    "id": "DmT3Tn590vvl",
    "colab_type": "code",
    "colab": {}
   },
   "source": [
    "# function to be minimized\n",
    "#m = torch.nn.ReLU()\n",
    "def ifun(a): \n",
    "  return (3*torch.sigmoid(a) - 2)**2"
   ],
   "execution_count": 2,
   "outputs": []
  },
  {
   "cell_type": "code",
   "metadata": {
    "id": "OE5kY_ELPHx2",
    "colab_type": "code",
    "colab": {}
   },
   "source": [
    "x = torch.tensor([-2], dtype=torch.float, requires_grad=True) #init"
   ],
   "execution_count": 3,
   "outputs": []
  },
  {
   "cell_type": "code",
   "metadata": {
    "id": "5ppiwKwOPtdV",
    "colab_type": "code",
    "colab": {}
   },
   "source": [
    "optimizer = optim.SGD([x], lr=0.01, momentum=.8)"
   ],
   "execution_count": 4,
   "outputs": []
  },
  {
   "cell_type": "code",
   "metadata": {
    "id": "LD2fpReDO8no",
    "colab_type": "code",
    "colab": {}
   },
   "source": [
    "epoch_n = 210\n",
    "print_n = 10\n",
    "epoch_per_print= np.floor(epoch_n/print_n)"
   ],
   "execution_count": 5,
   "outputs": []
  },
  {
   "cell_type": "code",
   "metadata": {
    "id": "8_aNy-SOTbUK",
    "colab_type": "code",
    "outputId": "44e81e53-2a85-4882-ee18-68dc689e8ca4",
    "colab": {
     "base_uri": "https://localhost:8080/",
     "height": 187
    }
   },
   "source": [
    "for epoch in range(epoch_n):\n",
    "    optimizer.zero_grad()\n",
    "    y = ifun(x)\n",
    "    y.backward(retain_graph=True)\n",
    "    optimizer.step()\n",
    "\n",
    "    if (epoch+1) % epoch_per_print == 0:\n",
    "      print('Epoch [{}/{}], Loss: {:.4f}, x: {:.4f}'.format(epoch+1, epoch_n, y.item(), x.item()))"
   ],
   "execution_count": 6,
   "outputs": [
    {
     "name": "stdout",
     "output_type": "stream",
     "text": [
      "Epoch [21/210], Loss: 1.4908, x: -0.9806\n",
      "Epoch [42/210], Loss: 0.1277, x: 0.2273\n",
      "Epoch [63/210], Loss: 0.0048, x: 0.5975\n",
      "Epoch [84/210], Loss: 0.0003, x: 0.6700\n",
      "Epoch [105/210], Loss: 0.0000, x: 0.6870\n",
      "Epoch [126/210], Loss: 0.0000, x: 0.6915\n",
      "Epoch [147/210], Loss: 0.0000, x: 0.6927\n",
      "Epoch [168/210], Loss: 0.0000, x: 0.6930\n",
      "Epoch [189/210], Loss: 0.0000, x: 0.6931\n",
      "Epoch [210/210], Loss: 0.0000, x: 0.6931\n"
     ]
    }
   ]
  },
  {
   "cell_type": "code",
   "metadata": {
    "id": "ISN0fakMPMwt",
    "colab_type": "code",
    "outputId": "78a3fb74-4924-4ae8-da3a-60ad9d3e82cc",
    "colab": {
     "base_uri": "https://localhost:8080/",
     "height": 34
    }
   },
   "source": [
    "print(x)"
   ],
   "execution_count": 7,
   "outputs": [
    {
     "name": "stdout",
     "output_type": "stream",
     "text": [
      "tensor([0.6931], requires_grad=True)\n"
     ]
    }
   ]
  },
  {
   "cell_type": "code",
   "metadata": {
    "id": "zOnwqkKGP6RF",
    "colab_type": "code",
    "colab": {}
   },
   "source": [
    ""
   ],
   "execution_count": 7,
   "outputs": []
  }
 ]
}