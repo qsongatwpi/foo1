{
  "nbformat": 4,
  "nbformat_minor": 0,
  "metadata": {
    "colab": {
      "name": "min_fun.ipynb",
      "provenance": [],
      "include_colab_link": true
    },
    "kernelspec": {
      "name": "python3",
      "display_name": "Python 3"
    }
  },
  "cells": [
    {
      "cell_type": "markdown",
      "metadata": {
        "id": "view-in-github",
        "colab_type": "text"
      },
      "source": [
        "<a href=\"https://colab.research.google.com/github/songqsh/foo1/blob/master/src/min_fun.ipynb\" target=\"_parent\"><img src=\"https://colab.research.google.com/assets/colab-badge.svg\" alt=\"Open In Colab\"/></a>"
      ]
    },
    {
      "cell_type": "code",
      "metadata": {
        "id": "bx38aSpVO8Eu",
        "colab_type": "code",
        "colab": {}
      },
      "source": [
        "import torch\n",
        "import torch.optim as optim\n",
        "import numpy as np"
      ],
      "execution_count": 0,
      "outputs": []
    },
    {
      "cell_type": "code",
      "metadata": {
        "id": "DmT3Tn590vvl",
        "colab_type": "code",
        "colab": {}
      },
      "source": [
        "# function to be minimized\n",
        "#m = torch.nn.ReLU()\n",
        "def ifun(a): \n",
        "  return (torch.sigmoid(a) - 2)**2"
      ],
      "execution_count": 0,
      "outputs": []
    },
    {
      "cell_type": "code",
      "metadata": {
        "id": "OE5kY_ELPHx2",
        "colab_type": "code",
        "colab": {}
      },
      "source": [
        "x = torch.tensor([0], dtype=torch.float, requires_grad=True) #init"
      ],
      "execution_count": 0,
      "outputs": []
    },
    {
      "cell_type": "code",
      "metadata": {
        "id": "5ppiwKwOPtdV",
        "colab_type": "code",
        "colab": {}
      },
      "source": [
        "optimizer = optim.SGD([x], lr=0.01, momentum=.9)"
      ],
      "execution_count": 0,
      "outputs": []
    },
    {
      "cell_type": "code",
      "metadata": {
        "id": "LD2fpReDO8no",
        "colab_type": "code",
        "colab": {}
      },
      "source": [
        "epoch_n = 2010\n",
        "print_n = 10\n",
        "epoch_per_print= np.floor(epoch_n/print_n)"
      ],
      "execution_count": 0,
      "outputs": []
    },
    {
      "cell_type": "code",
      "metadata": {
        "id": "8_aNy-SOTbUK",
        "colab_type": "code",
        "outputId": "5ed830b9-3e20-4086-af51-3b7a338cc5c3",
        "colab": {
          "base_uri": "https://localhost:8080/",
          "height": 187
        }
      },
      "source": [
        "for epoch in range(epoch_n):\n",
        "    optimizer.zero_grad()\n",
        "    y = ifun(x)\n",
        "    y.backward(retain_graph=True)\n",
        "    optimizer.step()\n",
        "\n",
        "    if (epoch+1) % epoch_per_print == 0:\n",
        "      print('Epoch [{}/{}], Loss: {:.4f}, x: {:.4f}'.format(epoch+1, epoch_n, y.item(), x.item()))"
      ],
      "execution_count": 6,
      "outputs": [
        {
          "output_type": "stream",
          "text": [
            "Epoch [201/2010], Loss: 1.0485, x: 3.7126\n",
            "Epoch [402/2010], Loss: 1.0243, x: 4.4048\n",
            "Epoch [603/2010], Loss: 1.0163, x: 4.8075\n",
            "Epoch [804/2010], Loss: 1.0123, x: 5.0931\n",
            "Epoch [1005/2010], Loss: 1.0098, x: 5.3147\n",
            "Epoch [1206/2010], Loss: 1.0082, x: 5.4958\n",
            "Epoch [1407/2010], Loss: 1.0070, x: 5.6490\n",
            "Epoch [1608/2010], Loss: 1.0062, x: 5.7817\n",
            "Epoch [1809/2010], Loss: 1.0055, x: 5.8989\n",
            "Epoch [2010/2010], Loss: 1.0049, x: 6.0037\n"
          ],
          "name": "stdout"
        }
      ]
    },
    {
      "cell_type": "code",
      "metadata": {
        "id": "ISN0fakMPMwt",
        "colab_type": "code",
        "outputId": "bc6f33bf-385c-4871-9b4f-de369991219a",
        "colab": {
          "base_uri": "https://localhost:8080/",
          "height": 34
        }
      },
      "source": [
        "print(x)"
      ],
      "execution_count": 7,
      "outputs": [
        {
          "output_type": "stream",
          "text": [
            "tensor([6.0037], requires_grad=True)\n"
          ],
          "name": "stdout"
        }
      ]
    },
    {
      "cell_type": "code",
      "metadata": {
        "id": "zOnwqkKGP6RF",
        "colab_type": "code",
        "colab": {}
      },
      "source": [
        ""
      ],
      "execution_count": 0,
      "outputs": []
    }
  ]
}