{
  "nbformat": 4,
  "nbformat_minor": 0,
  "metadata": {
    "colab": {
      "name": "min_fun.ipynb",
      "provenance": [],
      "include_colab_link": true
    },
    "kernelspec": {
      "name": "python3",
      "display_name": "Python 3"
    }
  },
  "cells": [
    {
      "cell_type": "markdown",
      "metadata": {
        "id": "view-in-github",
        "colab_type": "text"
      },
      "source": [
        "<a href=\"https://colab.research.google.com/github/songqsh/foo1/blob/master/src/min_fun.ipynb\" target=\"_parent\"><img src=\"https://colab.research.google.com/assets/colab-badge.svg\" alt=\"Open In Colab\"/></a>"
      ]
    },
    {
      "cell_type": "code",
      "metadata": {
        "id": "bx38aSpVO8Eu",
        "colab_type": "code",
        "colab": {}
      },
      "source": [
        "import torch\n",
        "import torch.optim as optimizer\n",
        "import numpy as np"
      ],
      "execution_count": 0,
      "outputs": []
    },
    {
      "cell_type": "code",
      "metadata": {
        "id": "OE5kY_ELPHx2",
        "colab_type": "code",
        "colab": {}
      },
      "source": [
        "x = torch.tensor([-2], dtype=torch.float, requires_grad=True)"
      ],
      "execution_count": 0,
      "outputs": []
    },
    {
      "cell_type": "code",
      "metadata": {
        "id": "5ppiwKwOPtdV",
        "colab_type": "code",
        "colab": {}
      },
      "source": [
        "optimizer = optimizer.SGD([x], lr=0.01, momentum=.9)"
      ],
      "execution_count": 0,
      "outputs": []
    },
    {
      "cell_type": "code",
      "metadata": {
        "id": "LD2fpReDO8no",
        "colab_type": "code",
        "colab": {}
      },
      "source": [
        "epoch_n = 201\n",
        "print_n = 10\n",
        "epoch_per_print= np.floor(epoch_n/print_n)"
      ],
      "execution_count": 0,
      "outputs": []
    },
    {
      "cell_type": "code",
      "metadata": {
        "id": "8_aNy-SOTbUK",
        "colab_type": "code",
        "colab": {
          "base_uri": "https://localhost:8080/",
          "height": 187
        },
        "outputId": "d780844d-fe86-4312-f5db-1d0a23d4f346"
      },
      "source": [
        "\n",
        "for epoch in range(epoch_n):\n",
        "    optimizer.zero_grad()\n",
        "    y = (x-2)**2\n",
        "    y.backward(retain_graph=True)\n",
        "    optimizer.step()\n",
        "\n",
        "    if (epoch+1) % epoch_per_print == 0:\n",
        "      print('Epoch [{}/{}], Loss: {:.4f}, x: {:.4f}'.format(epoch+1, epoch_n, y.item(), x.item()))"
      ],
      "execution_count": 5,
      "outputs": [
        {
          "output_type": "stream",
          "text": [
            "Epoch [20/201], Loss: 0.9824, x: 3.0827\n",
            "Epoch [40/201], Loss: 0.0199, x: 1.8011\n",
            "Epoch [60/201], Loss: 0.0010, x: 1.9942\n",
            "Epoch [80/201], Loss: 0.0014, x: 2.0278\n",
            "Epoch [100/201], Loss: 0.0004, x: 1.9831\n",
            "Epoch [120/201], Loss: 0.0001, x: 2.0073\n",
            "Epoch [140/201], Loss: 0.0000, x: 1.9974\n",
            "Epoch [160/201], Loss: 0.0000, x: 2.0007\n",
            "Epoch [180/201], Loss: 0.0000, x: 1.9998\n",
            "Epoch [200/201], Loss: 0.0000, x: 2.0000\n"
          ],
          "name": "stdout"
        }
      ]
    },
    {
      "cell_type": "code",
      "metadata": {
        "id": "ISN0fakMPMwt",
        "colab_type": "code",
        "colab": {
          "base_uri": "https://localhost:8080/",
          "height": 34
        },
        "outputId": "f73527d1-823f-4c3c-b693-1fbabdfa8275"
      },
      "source": [
        "print(x)"
      ],
      "execution_count": 6,
      "outputs": [
        {
          "output_type": "stream",
          "text": [
            "tensor([2.0000], requires_grad=True)\n"
          ],
          "name": "stdout"
        }
      ]
    },
    {
      "cell_type": "code",
      "metadata": {
        "id": "zOnwqkKGP6RF",
        "colab_type": "code",
        "colab": {}
      },
      "source": [
        ""
      ],
      "execution_count": 0,
      "outputs": []
    }
  ]
}