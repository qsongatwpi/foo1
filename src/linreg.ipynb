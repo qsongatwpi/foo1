{
  "nbformat": 4,
  "nbformat_minor": 0,
  "metadata": {
    "colab": {
      "name": "linreg.ipynb",
      "version": "0.3.2",
      "provenance": [],
      "include_colab_link": true
    },
    "kernelspec": {
      "name": "python3",
      "display_name": "Python 3"
    },
    "accelerator": "GPU"
  },
  "cells": [
    {
      "cell_type": "markdown",
      "metadata": {
        "id": "view-in-github",
        "colab_type": "text"
      },
      "source": [
        "<a href=\"https://colab.research.google.com/github/songqsh/foo1/blob/master/src/linreg.ipynb\" target=\"_parent\"><img src=\"https://colab.research.google.com/assets/colab-badge.svg\" alt=\"Open In Colab\"/></a>"
      ]
    },
    {
      "metadata": {
        "id": "ab-x_iV-b002",
        "colab_type": "text"
      },
      "cell_type": "markdown",
      "source": [
        "https://www.geeksforgeeks.org/linear-regression-using-tensorflow/"
      ]
    },
    {
      "metadata": {
        "id": "Ls-MdRZabMw4",
        "colab_type": "code",
        "colab": {
          "base_uri": "https://localhost:8080/",
          "height": 34
        },
        "outputId": "1d4f4cc1-30f6-46ee-c225-2ebffb362655"
      },
      "cell_type": "code",
      "source": [
        "#before implementation, first simply select \"GPU\" in the Accelerator drop-down in Notebook Settings (either through the Edit menu or the command palette at cmd/ctrl-shift-P)\n",
        "\n",
        "import tensorflow as tf\n",
        "device_name = tf.test.gpu_device_name()\n",
        "if device_name != '/device:GPU:0':\n",
        "  raise SystemError('GPU device not found')\n",
        "print('Found GPU at: {}'.format(device_name))\n",
        "\n",
        "import numpy as np \n",
        "import matplotlib.pyplot as plt \n",
        "import tensorflow.linalg as tfla"
      ],
      "execution_count": 47,
      "outputs": [
        {
          "output_type": "stream",
          "text": [
            "Found GPU at: /device:GPU:0\n"
          ],
          "name": "stdout"
        }
      ]
    },
    {
      "metadata": {
        "id": "69f_nPeQ4NaV",
        "colab_type": "code",
        "colab": {}
      },
      "cell_type": "code",
      "source": [
        "sess = tf.Session()"
      ],
      "execution_count": 0,
      "outputs": []
    },
    {
      "metadata": {
        "id": "a-iqKFUPbOAP",
        "colab_type": "code",
        "colab": {}
      },
      "cell_type": "code",
      "source": [
        "np.random.seed(101) \n",
        "tf.set_random_seed(101) \n"
      ],
      "execution_count": 0,
      "outputs": []
    },
    {
      "metadata": {
        "id": "7_ndW857bTfz",
        "colab_type": "code",
        "colab": {}
      },
      "cell_type": "code",
      "source": [
        "# Genrating random linear data \n",
        "\n",
        "n = 50 # Number of data points \n",
        "# There will be n data points ranging from 0 to n \n",
        "x = np.linspace(0, n, n) \n",
        "y = np.linspace(0, n, n) \n",
        "\n",
        "# Adding noise to the random linear data \n",
        "x += np.random.uniform(-4, 4, n) \n",
        "y += np.random.uniform(-4, 4, n) \n",
        "\n",
        "\n"
      ],
      "execution_count": 0,
      "outputs": []
    },
    {
      "metadata": {
        "id": "nGJE-5JXbbOH",
        "colab_type": "code",
        "outputId": "0b44bcce-87f1-443a-b57c-a6f0b3e143f9",
        "colab": {
          "base_uri": "https://localhost:8080/",
          "height": 295
        }
      },
      "cell_type": "code",
      "source": [
        "# Plot of Training Data \n",
        "plt.scatter(x, y) \n",
        "plt.xlabel('x') \n",
        "plt.xlabel('y') \n",
        "plt.title(\"Training Data\") \n",
        "plt.show() \n"
      ],
      "execution_count": 51,
      "outputs": [
        {
          "output_type": "display_data",
          "data": {
            "image/png": "[encoded data removed]",
            "text/plain": [
              "<Figure size 432x288 with 1 Axes>"
            ]
          },
          "metadata": {
            "tags": []
          }
        }
      ]
    },
    {
      "metadata": {
        "id": "LKLe2Q75lBkJ",
        "colab_type": "text"
      },
      "cell_type": "markdown",
      "source": [
        "- linear algebra approach"
      ]
    },
    {
      "metadata": {
        "id": "T2FAssj3lApQ",
        "colab_type": "code",
        "colab": {}
      },
      "cell_type": "code",
      "source": [
        "b = tf.constant(y, shape = [n,1])\n",
        "A = tf.transpose(np.array([np.ones(n), x]))\n",
        "lhs = tfla.transpose(A)@A\n",
        "rhs = tfla.transpose(A)@b\n",
        "alpha = tfla.solve(lhs, rhs)"
      ],
      "execution_count": 0,
      "outputs": []
    },
    {
      "metadata": {
        "id": "J47L_5wsoGwz",
        "colab_type": "code",
        "colab": {
          "base_uri": "https://localhost:8080/",
          "height": 51
        },
        "outputId": "3b37e2be-a773-42b8-b36c-3eb2b03eb0d4"
      },
      "cell_type": "code",
      "source": [
        "sess.run(alpha)"
      ],
      "execution_count": 53,
      "outputs": [
        {
          "output_type": "execute_result",
          "data": {
            "text/plain": [
              "array([[-0.03794613],\n",
              "       [ 0.98780167]])"
            ]
          },
          "metadata": {
            "tags": []
          },
          "execution_count": 53
        }
      ]
    },
    {
      "metadata": {
        "id": "SVSTqJoR4qFc",
        "colab_type": "code",
        "colab": {
          "base_uri": "https://localhost:8080/",
          "height": 281
        },
        "outputId": "bac2f989-f764-457e-baec-951f6b3ab655"
      },
      "cell_type": "code",
      "source": [
        "# Plotting the Results \n",
        "plt.plot(x, y, 'ro', label ='Original data') \n",
        "plt.plot(x, y_pred, label ='Fitted line') \n",
        "plt.title('Linear Regression Result') \n",
        "plt.legend() \n",
        "plt.show() "
      ],
      "execution_count": 54,
      "outputs": [
        {
          "output_type": "display_data",
          "data": {
            "image/png": "[encoded data removed]",
            "text/plain": [
              "<Figure size 432x288 with 1 Axes>"
            ]
          },
          "metadata": {
            "tags": []
          }
        }
      ]
    },
    {
      "metadata": {
        "id": "5m9GB5PJk5lV",
        "colab_type": "text"
      },
      "cell_type": "markdown",
      "source": [
        "- Gradient Descent approach"
      ]
    },
    {
      "metadata": {
        "id": "hreFjKMlbuNt",
        "colab_type": "code",
        "colab": {}
      },
      "cell_type": "code",
      "source": [
        "X = tf.placeholder(\"float\") \n",
        "Y = tf.placeholder(\"float\") "
      ],
      "execution_count": 0,
      "outputs": []
    },
    {
      "metadata": {
        "id": "HRx0upvDcJO8",
        "colab_type": "code",
        "colab": {}
      },
      "cell_type": "code",
      "source": [
        "W = tf.Variable(np.random.randn(), name = \"W\") \n",
        "b = tf.Variable(np.random.randn(), name = \"b\") \n"
      ],
      "execution_count": 0,
      "outputs": []
    },
    {
      "metadata": {
        "id": "vavdKONWccz-",
        "colab_type": "code",
        "colab": {}
      },
      "cell_type": "code",
      "source": [
        "learning_rate = 0.005\n",
        "training_epochs = 5000"
      ],
      "execution_count": 0,
      "outputs": []
    },
    {
      "metadata": {
        "id": "TJjVIWXWcjdC",
        "colab_type": "code",
        "colab": {}
      },
      "cell_type": "code",
      "source": [
        "# Hypothesis \n",
        "y_pred = tf.add(tf.multiply(X, W), b) \n",
        "\n",
        "# Mean Squared Error Cost Function \n",
        "cost = tf.reduce_sum(tf.pow(y_pred-Y, 2)) / (2 * n) \n",
        "\n",
        "# Gradient Descent Optimizer \n",
        "optimizer = tf.train.GradientDescentOptimizer(learning_rate).minimize(cost) \n",
        "\n",
        "# Global Variables Initializer \n",
        "init = tf.global_variables_initializer() \n"
      ],
      "execution_count": 0,
      "outputs": []
    },
    {
      "metadata": {
        "id": "PNYYUhiwc0Me",
        "colab_type": "code",
        "outputId": "4fc35d4a-d1eb-43bd-c0c4-e40fccfccf47",
        "colab": {
          "base_uri": "https://localhost:8080/",
          "height": 1717
        }
      },
      "cell_type": "code",
      "source": [
        "# Starting the Tensorflow Session \n",
        "with tf.Session() as sess: \n",
        "\t\n",
        "\t# Initializing the Variables \n",
        "\tsess.run(init) \n",
        "\t\n",
        "\t# Iterating through all the epochs \n",
        "\tfor epoch in range(training_epochs): \n",
        "\t\t\n",
        "\t\t# Feeding each data point into the optimizer using Feed Dictionary \n",
        "\t\tfor (_x, _y) in zip(x, y): \n",
        "\t\t\tsess.run(optimizer, feed_dict = {X : _x, Y : _y}) \n",
        "\t\t\n",
        "\t\t# Displaying the result after every 50 epochs \n",
        "\t\tif (epoch + 1) % 50 == 0: \n",
        "\t\t\t# Calculating the cost a every epoch \n",
        "\t\t\tc = sess.run(cost, feed_dict = {X : x, Y : y}) \n",
        "\t\t\tprint(\"Epoch\", (epoch + 1), \": cost =\", c, \"W =\", sess.run(W), \"b =\", sess.run(b)) \n",
        "\t\n",
        "\t# Storing necessary values to be used outside the Session \n",
        "\ttraining_cost = sess.run(cost, feed_dict ={X: x, Y: y}) \n",
        "\tweight = sess.run(W) \n",
        "\tbias = sess.run(b) \n"
      ],
      "execution_count": 59,
      "outputs": [
        {
          "output_type": "stream",
          "text": [
            "Epoch 50 : cost = 5.492666 W = 0.98134327 b = 1.2846274\n",
            "Epoch 100 : cost = 5.4442453 W = 0.9832994 b = 1.1951344\n",
            "Epoch 150 : cost = 5.401024 W = 0.9851376 b = 1.1110406\n",
            "Epoch 200 : cost = 5.362418 W = 0.98686475 b = 1.0320228\n",
            "Epoch 250 : cost = 5.3279157 W = 0.9884878 b = 0.9577729\n",
            "Epoch 300 : cost = 5.297059 W = 0.99001276 b = 0.8880045\n",
            "Epoch 350 : cost = 5.269449 W = 0.9914457 b = 0.8224473\n",
            "Epoch 400 : cost = 5.2447257 W = 0.9927922 b = 0.7608474\n",
            "Epoch 450 : cost = 5.22257 W = 0.9940574 b = 0.70296293\n",
            "Epoch 500 : cost = 5.202704 W = 0.99524635 b = 0.64857274\n",
            "Epoch 550 : cost = 5.1848745 W = 0.9963634 b = 0.5974642\n",
            "Epoch 600 : cost = 5.168865 W = 0.99741316 b = 0.54943967\n",
            "Epoch 650 : cost = 5.154476 W = 0.99839956 b = 0.5043132\n",
            "Epoch 700 : cost = 5.141534 W = 0.9993264 b = 0.4619104\n",
            "Epoch 750 : cost = 5.129883 W = 1.0001973 b = 0.4220671\n",
            "Epoch 800 : cost = 5.119386 W = 1.0010157 b = 0.3846279\n",
            "Epoch 850 : cost = 5.109922 W = 1.0017847 b = 0.34944755\n",
            "Epoch 900 : cost = 5.1013784 W = 1.0025072 b = 0.31639126\n",
            "Epoch 950 : cost = 5.0936627 W = 1.0031862 b = 0.28532976\n",
            "Epoch 1000 : cost = 5.086683 W = 1.0038241 b = 0.2561426\n",
            "Epoch 1050 : cost = 5.080371 W = 1.0044236 b = 0.22871703\n",
            "Epoch 1100 : cost = 5.0746527 W = 1.004987 b = 0.20294587\n",
            "Epoch 1150 : cost = 5.069465 W = 1.0055163 b = 0.17873016\n",
            "Epoch 1200 : cost = 5.064759 W = 1.0060136 b = 0.15597633\n",
            "Epoch 1250 : cost = 5.0604825 W = 1.0064809 b = 0.13459532\n",
            "Epoch 1300 : cost = 5.056596 W = 1.0069201 b = 0.11450478\n",
            "Epoch 1350 : cost = 5.053059 W = 1.0073328 b = 0.09562663\n",
            "Epoch 1400 : cost = 5.0498343 W = 1.0077205 b = 0.07788767\n",
            "Epoch 1450 : cost = 5.046893 W = 1.0080848 b = 0.061219223\n",
            "Epoch 1500 : cost = 5.0442095 W = 1.0084271 b = 0.04555672\n",
            "Epoch 1550 : cost = 5.041759 W = 1.0087489 b = 0.030839508\n",
            "Epoch 1600 : cost = 5.039517 W = 1.0090512 b = 0.017010383\n",
            "Epoch 1650 : cost = 5.0374637 W = 1.0093352 b = 0.004015917\n",
            "Epoch 1700 : cost = 5.0355825 W = 1.0096021 b = -0.008194432\n",
            "Epoch 1750 : cost = 5.0338583 W = 1.0098529 b = -0.019667948\n",
            "Epoch 1800 : cost = 5.032275 W = 1.0100886 b = -0.030449023\n",
            "Epoch 1850 : cost = 5.0308185 W = 1.0103099 b = -0.040579386\n",
            "Epoch 1900 : cost = 5.02948 W = 1.010518 b = -0.05009847\n",
            "Epoch 1950 : cost = 5.0282497 W = 1.0107136 b = -0.05904323\n",
            "Epoch 2000 : cost = 5.027116 W = 1.0108973 b = -0.067448124\n",
            "Epoch 2050 : cost = 5.0260696 W = 1.0110699 b = -0.075345814\n",
            "Epoch 2100 : cost = 5.025104 W = 1.0112321 b = -0.08276667\n",
            "Epoch 2150 : cost = 5.0242133 W = 1.0113845 b = -0.08973987\n",
            "Epoch 2200 : cost = 5.02339 W = 1.0115278 b = -0.09629232\n",
            "Epoch 2250 : cost = 5.0226283 W = 1.0116624 b = -0.102449164\n",
            "Epoch 2300 : cost = 5.0219245 W = 1.0117888 b = -0.10823456\n",
            "Epoch 2350 : cost = 5.0212693 W = 1.0119076 b = -0.11367071\n",
            "Epoch 2400 : cost = 5.0206647 W = 1.0120193 b = -0.11877857\n",
            "Epoch 2450 : cost = 5.020104 W = 1.0121242 b = -0.12357842\n",
            "Epoch 2500 : cost = 5.0195823 W = 1.0122228 b = -0.12808838\n",
            "Epoch 2550 : cost = 5.019097 W = 1.0123153 b = -0.13232654\n",
            "Epoch 2600 : cost = 5.018649 W = 1.0124024 b = -0.13630879\n",
            "Epoch 2650 : cost = 5.018231 W = 1.0124842 b = -0.14005111\n",
            "Epoch 2700 : cost = 5.0178432 W = 1.0125611 b = -0.14356698\n",
            "Epoch 2750 : cost = 5.017482 W = 1.0126333 b = -0.14687096\n",
            "Epoch 2800 : cost = 5.017145 W = 1.0127012 b = -0.14997555\n",
            "Epoch 2850 : cost = 5.016829 W = 1.0127648 b = -0.1528926\n",
            "Epoch 2900 : cost = 5.0165405 W = 1.0128249 b = -0.1556338\n",
            "Epoch 2950 : cost = 5.0162644 W = 1.012881 b = -0.15820958\n",
            "Epoch 3000 : cost = 5.016013 W = 1.0129341 b = -0.1606299\n",
            "Epoch 3050 : cost = 5.015776 W = 1.0129838 b = -0.16290405\n",
            "Epoch 3100 : cost = 5.0155554 W = 1.0130305 b = -0.16504094\n",
            "Epoch 3150 : cost = 5.015347 W = 1.0130744 b = -0.16704866\n",
            "Epoch 3200 : cost = 5.015152 W = 1.0131155 b = -0.16893579\n",
            "Epoch 3250 : cost = 5.0149746 W = 1.0131544 b = -0.17070882\n",
            "Epoch 3300 : cost = 5.014805 W = 1.0131907 b = -0.17237425\n",
            "Epoch 3350 : cost = 5.0146494 W = 1.0132251 b = -0.17393951\n",
            "Epoch 3400 : cost = 5.014498 W = 1.013257 b = -0.17541075\n",
            "Epoch 3450 : cost = 5.0143614 W = 1.0132873 b = -0.1767931\n",
            "Epoch 3500 : cost = 5.014234 W = 1.0133158 b = -0.17809184\n",
            "Epoch 3550 : cost = 5.0141125 W = 1.0133425 b = -0.1793124\n",
            "Epoch 3600 : cost = 5.014001 W = 1.0133675 b = -0.18045898\n",
            "Epoch 3650 : cost = 5.01389 W = 1.0133909 b = -0.18153645\n",
            "Epoch 3700 : cost = 5.0137944 W = 1.0134132 b = -0.18254822\n",
            "Epoch 3750 : cost = 5.013701 W = 1.0134339 b = -0.18349986\n",
            "Epoch 3800 : cost = 5.013613 W = 1.0134535 b = -0.18439403\n",
            "Epoch 3850 : cost = 5.013532 W = 1.0134718 b = -0.18523379\n",
            "Epoch 3900 : cost = 5.0134554 W = 1.0134891 b = -0.18602404\n",
            "Epoch 3950 : cost = 5.0133843 W = 1.0135053 b = -0.18676563\n",
            "Epoch 4000 : cost = 5.013316 W = 1.0135205 b = -0.18746291\n",
            "Epoch 4050 : cost = 5.013252 W = 1.0135348 b = -0.18811722\n",
            "Epoch 4100 : cost = 5.0131955 W = 1.0135484 b = -0.18873246\n",
            "Epoch 4150 : cost = 5.01314 W = 1.013561 b = -0.18931055\n",
            "Epoch 4200 : cost = 5.013087 W = 1.0135728 b = -0.18985352\n",
            "Epoch 4250 : cost = 5.0130396 W = 1.013584 b = -0.19036369\n",
            "Epoch 4300 : cost = 5.0129943 W = 1.0135945 b = -0.19084279\n",
            "Epoch 4350 : cost = 5.012951 W = 1.0136044 b = -0.19129376\n",
            "Epoch 4400 : cost = 5.0129094 W = 1.0136136 b = -0.19171838\n",
            "Epoch 4450 : cost = 5.0128717 W = 1.0136223 b = -0.19211681\n",
            "Epoch 4500 : cost = 5.012836 W = 1.0136304 b = -0.1924888\n",
            "Epoch 4550 : cost = 5.0128045 W = 1.0136381 b = -0.19284053\n",
            "Epoch 4600 : cost = 5.0127726 W = 1.0136454 b = -0.1931714\n",
            "Epoch 4650 : cost = 5.0127444 W = 1.0136522 b = -0.1934826\n",
            "Epoch 4700 : cost = 5.012715 W = 1.0136585 b = -0.19377431\n",
            "Epoch 4750 : cost = 5.0126886 W = 1.0136645 b = -0.19404843\n",
            "Epoch 4800 : cost = 5.012666 W = 1.0136702 b = -0.19430675\n",
            "Epoch 4850 : cost = 5.012642 W = 1.0136755 b = -0.1945486\n",
            "Epoch 4900 : cost = 5.0126224 W = 1.0136805 b = -0.19477563\n",
            "Epoch 4950 : cost = 5.0126 W = 1.013685 b = -0.1949887\n",
            "Epoch 5000 : cost = 5.012581 W = 1.0136894 b = -0.19518918\n"
          ],
          "name": "stdout"
        }
      ]
    },
    {
      "metadata": {
        "id": "0i4zI2swdVz-",
        "colab_type": "code",
        "outputId": "5ca72b7b-2799-4d06-a039-0f1bacd08794",
        "colab": {
          "base_uri": "https://localhost:8080/",
          "height": 51
        }
      },
      "cell_type": "code",
      "source": [
        "# Calculating the predictions \n",
        "predictions = weight * x + bias \n",
        "print(\"Training cost =\", training_cost, \"Weight =\", weight, \"bias =\", bias, '\\n') \n"
      ],
      "execution_count": 60,
      "outputs": [
        {
          "output_type": "stream",
          "text": [
            "Training cost = 5.012581 Weight = 1.0136894 bias = -0.19518918 \n",
            "\n"
          ],
          "name": "stdout"
        }
      ]
    },
    {
      "metadata": {
        "id": "M_8jMGH8eQS4",
        "colab_type": "code",
        "outputId": "18d704fa-e3f9-4a8f-e224-3ad574e79d28",
        "colab": {
          "base_uri": "https://localhost:8080/",
          "height": 281
        }
      },
      "cell_type": "code",
      "source": [
        "# Plotting the Results \n",
        "plt.plot(x, y, 'ro', label ='Original data') \n",
        "plt.plot(x, predictions, label ='Fitted line') \n",
        "plt.title('Linear Regression Result') \n",
        "plt.legend() \n",
        "plt.show() \n"
      ],
      "execution_count": 61,
      "outputs": [
        {
          "output_type": "display_data",
          "data": {
            "image/png": "[encoded data removed]",
            "text/plain": [
              "<Figure size 432x288 with 1 Axes>"
            ]
          },
          "metadata": {
            "tags": []
          }
        }
      ]
    }
  ]
}