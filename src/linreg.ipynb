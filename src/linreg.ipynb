{
  "nbformat": 4,
  "nbformat_minor": 0,
  "metadata": {
    "colab": {
      "name": "linreg.ipynb",
      "version": "0.3.2",
      "provenance": [],
      "include_colab_link": true
    },
    "kernelspec": {
      "name": "python3",
      "display_name": "Python 3"
    },
    "accelerator": "GPU"
  },
  "cells": [
    {
      "cell_type": "markdown",
      "metadata": {
        "id": "view-in-github",
        "colab_type": "text"
      },
      "source": [
        "<a href=\"https://colab.research.google.com/github/songqsh/foo1/blob/master/src/linreg.ipynb\" target=\"_parent\"><img src=\"https://colab.research.google.com/assets/colab-badge.svg\" alt=\"Open In Colab\"/></a>"
      ]
    },
    {
      "metadata": {
        "id": "ab-x_iV-b002",
        "colab_type": "text"
      },
      "cell_type": "markdown",
      "source": [
        "https://www.geeksforgeeks.org/linear-regression-using-tensorflow/"
      ]
    },
    {
      "metadata": {
        "id": "Ls-MdRZabMw4",
        "colab_type": "code",
        "outputId": "e6c27cab-3886-4c63-8dba-7e66f145a165",
        "colab": {
          "base_uri": "https://localhost:8080/",
          "height": 34
        }
      },
      "cell_type": "code",
      "source": [
        "#before implementation, first simply select \"GPU\" in the Accelerator drop-down in Notebook Settings (either through the Edit menu or the command palette at cmd/ctrl-shift-P)\n",
        "\n",
        "import tensorflow as tf\n",
        "device_name = tf.test.gpu_device_name()\n",
        "if device_name != '/device:GPU:0':\n",
        "  raise SystemError('GPU device not found')\n",
        "print('Found GPU at: {}'.format(device_name))\n",
        "\n",
        "import numpy as np \n",
        "import matplotlib.pyplot as plt \n",
        "import tensorflow.linalg as tfla"
      ],
      "execution_count": 19,
      "outputs": [
        {
          "output_type": "stream",
          "text": [
            "Found GPU at: /device:GPU:0\n"
          ],
          "name": "stdout"
        }
      ]
    },
    {
      "metadata": {
        "id": "69f_nPeQ4NaV",
        "colab_type": "code",
        "colab": {}
      },
      "cell_type": "code",
      "source": [
        "sess = tf.Session()"
      ],
      "execution_count": 0,
      "outputs": []
    },
    {
      "metadata": {
        "id": "a-iqKFUPbOAP",
        "colab_type": "code",
        "colab": {}
      },
      "cell_type": "code",
      "source": [
        "np.random.seed(101) \n",
        "tf.set_random_seed(101) \n"
      ],
      "execution_count": 0,
      "outputs": []
    },
    {
      "metadata": {
        "id": "7_ndW857bTfz",
        "colab_type": "code",
        "colab": {}
      },
      "cell_type": "code",
      "source": [
        "# Genrating random linear data \n",
        "\n",
        "n = 50 # Number of data points \n",
        "# There will be n data points ranging from 0 to n \n",
        "x = np.linspace(0, n, n) \n",
        "y = np.linspace(0, n, n) \n",
        "\n",
        "# Adding noise to the random linear data \n",
        "x += np.random.uniform(-4, 4, n) \n",
        "y += np.random.uniform(-4, 4, n) \n",
        "\n",
        "\n"
      ],
      "execution_count": 0,
      "outputs": []
    },
    {
      "metadata": {
        "id": "nGJE-5JXbbOH",
        "colab_type": "code",
        "outputId": "bcb49846-eb02-46ba-ee48-af026f1e9d79",
        "colab": {
          "base_uri": "https://localhost:8080/",
          "height": 295
        }
      },
      "cell_type": "code",
      "source": [
        "# Plot of Training Data \n",
        "plt.scatter(x, y) \n",
        "plt.xlabel('x') \n",
        "plt.xlabel('y') \n",
        "plt.title(\"Training Data\") \n",
        "plt.show() \n"
      ],
      "execution_count": 23,
      "outputs": [
        {
          "output_type": "display_data",
          "data": {
            "image/png": "[encoded data removed]",
            "text/plain": [
              "<Figure size 432x288 with 1 Axes>"
            ]
          },
          "metadata": {
            "tags": []
          }
        }
      ]
    },
    {
      "metadata": {
        "id": "LKLe2Q75lBkJ",
        "colab_type": "text"
      },
      "cell_type": "markdown",
      "source": [
        "- linear algebra approach"
      ]
    },
    {
      "metadata": {
        "id": "T2FAssj3lApQ",
        "colab_type": "code",
        "colab": {}
      },
      "cell_type": "code",
      "source": [
        "b = tf.constant(y, shape = [n,1])\n",
        "A = tf.transpose(np.array([np.ones(n), x]))\n",
        "lhs = tfla.transpose(A)@A\n",
        "rhs = tfla.transpose(A)@b\n",
        "alpha = tfla.solve(lhs, rhs)"
      ],
      "execution_count": 0,
      "outputs": []
    },
    {
      "metadata": {
        "id": "J47L_5wsoGwz",
        "colab_type": "code",
        "outputId": "0de5e3f8-cc7a-4299-feef-327c9d5f6005",
        "colab": {
          "base_uri": "https://localhost:8080/",
          "height": 51
        }
      },
      "cell_type": "code",
      "source": [
        "bias, weight = sess.run(alpha)\n",
        "print('bias:', bias)\n",
        "print('weight:', weight)"
      ],
      "execution_count": 25,
      "outputs": [
        {
          "output_type": "stream",
          "text": [
            "bias: [-0.03794613]\n",
            "weight: [0.98780167]\n"
          ],
          "name": "stdout"
        }
      ]
    },
    {
      "metadata": {
        "id": "SVSTqJoR4qFc",
        "colab_type": "code",
        "outputId": "962869d8-3dff-4fff-e5df-54efae8fd065",
        "colab": {
          "base_uri": "https://localhost:8080/",
          "height": 281
        }
      },
      "cell_type": "code",
      "source": [
        "# Plotting the Results \n",
        "plt.plot(x, y, 'ro', label ='Original data') \n",
        "y_pred = bias + x*weight\n",
        "plt.plot(x, y_pred, label ='Fitted line') \n",
        "plt.title('Linear Regression Result') \n",
        "plt.legend() \n",
        "plt.show() "
      ],
      "execution_count": 26,
      "outputs": [
        {
          "output_type": "display_data",
          "data": {
            "image/png": "[encoded data removed]",
            "text/plain": [
              "<Figure size 432x288 with 1 Axes>"
            ]
          },
          "metadata": {
            "tags": []
          }
        }
      ]
    },
    {
      "metadata": {
        "id": "5m9GB5PJk5lV",
        "colab_type": "text"
      },
      "cell_type": "markdown",
      "source": [
        "- Gradient Descent approach"
      ]
    },
    {
      "metadata": {
        "id": "hreFjKMlbuNt",
        "colab_type": "code",
        "colab": {}
      },
      "cell_type": "code",
      "source": [
        "X = tf.placeholder(\"float\") \n",
        "Y = tf.placeholder(\"float\") "
      ],
      "execution_count": 0,
      "outputs": []
    },
    {
      "metadata": {
        "id": "HRx0upvDcJO8",
        "colab_type": "code",
        "colab": {}
      },
      "cell_type": "code",
      "source": [
        "W = tf.Variable(np.random.randn(), name = \"W\") \n",
        "b = tf.Variable(np.random.randn(), name = \"b\") \n"
      ],
      "execution_count": 0,
      "outputs": []
    },
    {
      "metadata": {
        "id": "vavdKONWccz-",
        "colab_type": "code",
        "colab": {}
      },
      "cell_type": "code",
      "source": [
        "learning_rate = 0.005\n",
        "training_epochs = 1000"
      ],
      "execution_count": 0,
      "outputs": []
    },
    {
      "metadata": {
        "id": "TJjVIWXWcjdC",
        "colab_type": "code",
        "colab": {}
      },
      "cell_type": "code",
      "source": [
        "# Hypothesis \n",
        "y_pred = tf.add(tf.multiply(X, W), b) \n",
        "\n",
        "# Mean Squared Error Cost Function \n",
        "cost = tf.reduce_sum(tf.pow(y_pred-Y, 2)) / (2 * n) \n",
        "\n",
        "# Gradient Descent Optimizer \n",
        "optimizer = tf.train.GradientDescentOptimizer(learning_rate).minimize(cost) \n",
        "\n",
        "# Global Variables Initializer \n",
        "init = tf.global_variables_initializer() \n"
      ],
      "execution_count": 0,
      "outputs": []
    },
    {
      "metadata": {
        "id": "PNYYUhiwc0Me",
        "colab_type": "code",
        "outputId": "33dbeabb-f421-45d7-9e1d-851e03e5b601",
        "colab": {
          "base_uri": "https://localhost:8080/",
          "height": 357
        }
      },
      "cell_type": "code",
      "source": [
        "# Starting the Tensorflow Session \n",
        "with tf.Session() as sess: \n",
        "\t\n",
        "\t# Initializing the Variables \n",
        "\tsess.run(init) \n",
        "\t\n",
        "\t# Iterating through all the epochs \n",
        "\tfor epoch in range(training_epochs): \n",
        "\t\t\n",
        "\t\t# Feeding each data point into the optimizer using Feed Dictionary \n",
        "\t\tfor (_x, _y) in zip(x, y): \n",
        "\t\t\tsess.run(optimizer, feed_dict = {X : _x, Y : _y}) \n",
        "\t\t\n",
        "\t\t# Displaying the result after every 50 epochs \n",
        "\t\tif (epoch + 1) % 50 == 0: \n",
        "\t\t\t# Calculating the cost a every epoch \n",
        "\t\t\tc = sess.run(cost, feed_dict = {X : x, Y : y}) \n",
        "\t\t\tprint(\"Epoch\", (epoch + 1), \": cost =\", c, \"W =\", sess.run(W), \"b =\", sess.run(b)) \n",
        "\t\n",
        "\t# Storing necessary values to be used outside the Session \n",
        "\ttraining_cost = sess.run(cost, feed_dict ={X: x, Y: y}) \n",
        "\tweight = sess.run(W) \n",
        "\tbias = sess.run(b) \n"
      ],
      "execution_count": 31,
      "outputs": [
        {
          "output_type": "stream",
          "text": [
            "Epoch 50 : cost = 5.492666 W = 0.98134327 b = 1.2846274\n",
            "Epoch 100 : cost = 5.4442453 W = 0.9832994 b = 1.1951344\n",
            "Epoch 150 : cost = 5.401024 W = 0.9851376 b = 1.1110406\n",
            "Epoch 200 : cost = 5.362418 W = 0.98686475 b = 1.0320228\n",
            "Epoch 250 : cost = 5.3279157 W = 0.9884878 b = 0.9577729\n",
            "Epoch 300 : cost = 5.297059 W = 0.99001276 b = 0.8880045\n",
            "Epoch 350 : cost = 5.269449 W = 0.9914457 b = 0.8224473\n",
            "Epoch 400 : cost = 5.2447257 W = 0.9927922 b = 0.7608474\n",
            "Epoch 450 : cost = 5.22257 W = 0.9940574 b = 0.70296293\n",
            "Epoch 500 : cost = 5.202704 W = 0.99524635 b = 0.64857274\n",
            "Epoch 550 : cost = 5.1848745 W = 0.9963634 b = 0.5974642\n",
            "Epoch 600 : cost = 5.168865 W = 0.99741316 b = 0.54943967\n",
            "Epoch 650 : cost = 5.154476 W = 0.99839956 b = 0.5043132\n",
            "Epoch 700 : cost = 5.141534 W = 0.9993264 b = 0.4619104\n",
            "Epoch 750 : cost = 5.129883 W = 1.0001973 b = 0.4220671\n",
            "Epoch 800 : cost = 5.119386 W = 1.0010157 b = 0.3846279\n",
            "Epoch 850 : cost = 5.109922 W = 1.0017847 b = 0.34944755\n",
            "Epoch 900 : cost = 5.1013784 W = 1.0025072 b = 0.31639126\n",
            "Epoch 950 : cost = 5.0936627 W = 1.0031862 b = 0.28532976\n",
            "Epoch 1000 : cost = 5.086683 W = 1.0038241 b = 0.2561426\n"
          ],
          "name": "stdout"
        }
      ]
    },
    {
      "metadata": {
        "id": "0i4zI2swdVz-",
        "colab_type": "code",
        "outputId": "654d24aa-e237-483e-e6e7-e3e08293f8e4",
        "colab": {
          "base_uri": "https://localhost:8080/",
          "height": 51
        }
      },
      "cell_type": "code",
      "source": [
        "# Calculating the predictions \n",
        "predictions = weight * x + bias \n",
        "print(\"Training cost =\", training_cost, \"Weight =\", weight, \"bias =\", bias, '\\n') "
      ],
      "execution_count": 32,
      "outputs": [
        {
          "output_type": "stream",
          "text": [
            "Training cost = 5.086683 Weight = 1.0038241 bias = 0.2561426 \n",
            "\n"
          ],
          "name": "stdout"
        }
      ]
    },
    {
      "metadata": {
        "id": "M_8jMGH8eQS4",
        "colab_type": "code",
        "outputId": "349dde3a-79c6-4400-c578-dd380f870d24",
        "colab": {
          "base_uri": "https://localhost:8080/",
          "height": 281
        }
      },
      "cell_type": "code",
      "source": [
        "# Plotting the Results \n",
        "plt.plot(x, y, 'ro', label ='Original data') \n",
        "plt.plot(x, predictions, label ='Fitted line') \n",
        "plt.title('Linear Regression Result') \n",
        "plt.legend() \n",
        "plt.show() \n"
      ],
      "execution_count": 33,
      "outputs": [
        {
          "output_type": "display_data",
          "data": {
            "image/png": "[encoded data removed]",
            "text/plain": [
              "<Figure size 432x288 with 1 Axes>"
            ]
          },
          "metadata": {
            "tags": []
          }
        }
      ]
    },
    {
      "metadata": {
        "id": "w1tjInq-bwyX",
        "colab_type": "code",
        "colab": {}
      },
      "cell_type": "code",
      "source": [
        ""
      ],
      "execution_count": 0,
      "outputs": []
    }
  ]
}