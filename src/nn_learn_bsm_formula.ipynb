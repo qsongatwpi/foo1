{
  "nbformat": 4,
  "nbformat_minor": 0,
  "metadata": {
    "colab": {
      "name": "nn_learn_bsm_formula.ipynb",
      "provenance": [],
      "include_colab_link": true
    },
    "kernelspec": {
      "name": "python3",
      "display_name": "Python 3"
    }
  },
  "cells": [
    {
      "cell_type": "markdown",
      "metadata": {
        "id": "view-in-github",
        "colab_type": "text"
      },
      "source": [
        "<a href=\"https://colab.research.google.com/github/songqsh/foo1/blob/master/src/nn_learn_bsm_formula.ipynb\" target=\"_parent\"><img src=\"https://colab.research.google.com/assets/colab-badge.svg\" alt=\"Open In Colab\"/></a>"
      ]
    },
    {
      "cell_type": "code",
      "metadata": {
        "id": "RXd_brmsfEs9",
        "colab_type": "code",
        "colab": {}
      },
      "source": [
        "from mpl_toolkits.mplot3d import Axes3D\n",
        "import matplotlib.pyplot as plt\n",
        "from matplotlib import cm\n",
        "from matplotlib.ticker import LinearLocator, FormatStrFormatter\n",
        "import numpy as np\n",
        "import scipy.stats as ss\n",
        "\n",
        "import torch\n",
        "import torch.nn as nn\n",
        "from torch.autograd import grad"
      ],
      "execution_count": 0,
      "outputs": []
    },
    {
      "cell_type": "code",
      "metadata": {
        "id": "czvpqtvId_3D",
        "colab_type": "code",
        "colab": {}
      },
      "source": [
        "'''=========\n",
        "option class init\n",
        "=========='''\n",
        "class VanillaOption:\n",
        "    def __init__(\n",
        "        self,\n",
        "        otype = 1, # 1: 'call'\n",
        "                  # -1: 'put'\n",
        "        strike = 110.,\n",
        "        maturity = 1.,\n",
        "        market_price = 10.):\n",
        "      self.otype = otype\n",
        "      self.strike = strike\n",
        "      self.maturity = maturity\n",
        "      self.market_price = market_price #this will be used for calibration\n",
        "      \n",
        "        \n",
        "    def payoff(self, s): #s: excercise price\n",
        "      otype = self.otype\n",
        "      k = self.strike\n",
        "      maturity = self.maturity\n",
        "      return np.max([0, (s - k)*otype])"
      ],
      "execution_count": 0,
      "outputs": []
    },
    {
      "cell_type": "markdown",
      "metadata": {
        "id": "rdPRhkW0fhkn",
        "colab_type": "text"
      },
      "source": [
        "Next, we create the gbm class, which is \n",
        "determined by three parameters. We shall initialize it\n",
        "as it  is created."
      ]
    },
    {
      "cell_type": "code",
      "metadata": {
        "id": "CQbFAFX-fYuw",
        "colab_type": "code",
        "colab": {}
      },
      "source": [
        "'''============\n",
        "Gbm class inherited from sde_1d\n",
        "============='''\n",
        "\n",
        "class Gbm:\n",
        "    def __init__(self,\n",
        "                 init_state = 100.,\n",
        "                 drift_ratio = .0475,\n",
        "                 vol_ratio = .2\n",
        "                ):\n",
        "        self.init_state = init_state\n",
        "        self.drift_ratio = drift_ratio\n",
        "        self.vol_ratio = vol_ratio"
      ],
      "execution_count": 0,
      "outputs": []
    },
    {
      "cell_type": "markdown",
      "metadata": {
        "id": "6qcWtlDCgAO9",
        "colab_type": "text"
      },
      "source": [
        "BSM formula is given by a method of Gbm class with an input of an option."
      ]
    },
    {
      "cell_type": "code",
      "metadata": {
        "id": "KTFuh0GIfpOW",
        "colab_type": "code",
        "colab": {}
      },
      "source": [
        "'''========\n",
        "Black-Scholes-Merton formula. \n",
        "=========='''\n",
        "\n",
        "def bsm_price(self, vanilla_option):\n",
        "    s0 = self.init_state\n",
        "    sigma = self.vol_ratio\n",
        "    r = self.drift_ratio\n",
        "    \n",
        "    otype = vanilla_option.otype\n",
        "    k = vanilla_option.strike\n",
        "    maturity = vanilla_option.maturity\n",
        "    \n",
        "    d1 = (np.log(s0 / k) + (r + 0.5 * sigma ** 2) \n",
        "          * maturity) / (sigma * np.sqrt(maturity))\n",
        "    d2 = d1 - sigma * np.sqrt(maturity)\n",
        "    \n",
        "    return (otype * s0 * ss.norm.cdf(otype * d1) #line break needs parenthesis\n",
        "            - otype * np.exp(-r * maturity) * k * ss.norm.cdf(otype * d2))\n",
        "\n",
        "Gbm.bsm_price = bsm_price"
      ],
      "execution_count": 0,
      "outputs": []
    },
    {
      "cell_type": "code",
      "metadata": {
        "id": "5wYvBJwpcjVY",
        "colab_type": "code",
        "outputId": "defb785c-7b6f-44b0-e9dd-33f32b4f4b7f",
        "colab": {
          "base_uri": "https://localhost:8080/",
          "height": 283
        }
      },
      "source": [
        "'''===========\n",
        "target function\n",
        "==========='''\n",
        "\n",
        "def f(s):\n",
        "  gbm = Gbm(init_state=s)\n",
        "  option = VanillaOption(strike=10)\n",
        "  return gbm.bsm_price(option)\n",
        "\n",
        "batch_size = 21\n",
        "x_list = np.linspace(8, 11, batch_size)\n",
        "y_list = np.array([f(x) for x in x_list])\n",
        "plt.plot(x_list, y_list)"
      ],
      "execution_count": 5,
      "outputs": [
        {
          "output_type": "execute_result",
          "data": {
            "text/plain": [
              "[<matplotlib.lines.Line2D at 0x7f1b9eb5a358>]"
            ]
          },
          "metadata": {
            "tags": []
          },
          "execution_count": 5
        },
        {
          "output_type": "display_data",
          "data": {
            "image/png": "[encoded data removed]",
            "text/plain": [
              "<Figure size 432x288 with 1 Axes>"
            ]
          },
          "metadata": {
            "tags": []
          }
        }
      ]
    },
    {
      "cell_type": "code",
      "metadata": {
        "id": "riod025XdkyM",
        "colab_type": "code",
        "colab": {}
      },
      "source": [
        "H1 = 50; H2 = 11 #number of hidden layer\n",
        "model = nn.Sequential(\n",
        "    nn.Linear(1, H1), \n",
        "    nn.Sigmoid(),\n",
        "    nn.Linear(H1, H2),\n",
        "    nn.Sigmoid(),\n",
        "    nn.Linear(H2,2),\n",
        "    nn.Sigmoid(),\n",
        "    nn.Linear(2,1)\n",
        "    \n",
        ")\n",
        "#loss function \n",
        "criterion = nn.MSELoss()\n",
        "#optimizer\n",
        "learning_rate = 0.1\n",
        "optimizer = torch.optim.SGD(model.parameters(), lr=learning_rate, momentum=0.7)\n"
      ],
      "execution_count": 0,
      "outputs": []
    },
    {
      "cell_type": "code",
      "metadata": {
        "id": "VvYVGXM0rmoi",
        "colab_type": "code",
        "colab": {}
      },
      "source": [
        "batch_size = np.size(x_list)\n",
        "x_train0 = torch.from_numpy(x_list).reshape(batch_size,1).float()\n",
        "y_train0 = torch.from_numpy(y_list).reshape(batch_size,1).float()\n",
        "#model(x_train)"
      ],
      "execution_count": 0,
      "outputs": []
    },
    {
      "cell_type": "code",
      "metadata": {
        "id": "2H0f6xfNEa0J",
        "colab_type": "code",
        "colab": {}
      },
      "source": [
        "#normalization\n",
        "def linear_transform(xx, l = 0, u= 1):\n",
        "  M = torch.max(xx)\n",
        "  m = torch.min(xx)\n",
        "  return (u-l)/(M-m)*(xx-m)+l, m, M, l, u\n",
        "x_train, x_m, x_M, x_l, x_u = linear_transform(x_train0, -1, 1)\n",
        "y_train, y_m, y_M, y_l, y_u = linear_transform(y_train0, 0, 1)"
      ],
      "execution_count": 0,
      "outputs": []
    },
    {
      "cell_type": "code",
      "metadata": {
        "id": "YsHRQ6lrq4H1",
        "colab_type": "code",
        "colab": {
          "base_uri": "https://localhost:8080/",
          "height": 187
        },
        "outputId": "efc04b18-215c-4e5e-8ff4-52819aef43ac"
      },
      "source": [
        "# Train the model\n",
        "epoch_n = 1000\n",
        "print_n = 10\n",
        "epoch_per_print= np.floor(epoch_n/print_n)\n",
        "\n",
        "for epoch in range(epoch_n):\n",
        "\n",
        "    # Forward pass\n",
        "    outputs = model(x_train)\n",
        "    loss = criterion(outputs, y_train)  \n",
        "    \n",
        "    # Backward and optimize\n",
        "    optimizer.zero_grad()\n",
        "    loss.backward()\n",
        "    optimizer.step()\n",
        "    \n",
        "    if (epoch+1) % epoch_per_print == 0:\n",
        "      print('Epoch [{}/{}], Loss: {:.4f}'.format(epoch+1, epoch_n, loss.item()))"
      ],
      "execution_count": 9,
      "outputs": [
        {
          "output_type": "stream",
          "text": [
            "Epoch [100/1000], Loss: 0.0937\n",
            "Epoch [200/1000], Loss: 0.0891\n",
            "Epoch [300/1000], Loss: 0.0626\n",
            "Epoch [400/1000], Loss: 0.0026\n",
            "Epoch [500/1000], Loss: 0.0010\n",
            "Epoch [600/1000], Loss: 0.0005\n",
            "Epoch [700/1000], Loss: 0.0003\n",
            "Epoch [800/1000], Loss: 0.0002\n",
            "Epoch [900/1000], Loss: 0.0001\n",
            "Epoch [1000/1000], Loss: 0.0001\n"
          ],
          "name": "stdout"
        }
      ]
    },
    {
      "cell_type": "code",
      "metadata": {
        "id": "0kOmfncdE6nJ",
        "colab_type": "code",
        "colab": {}
      },
      "source": [
        "def learnedfun(x):\n",
        "  out = (1-(-1))/(x_M-x_m)*(x-x_m)+(-1.)\n",
        "  out = model(out)\n",
        "  out = (y_M- y_m)*out+y_m\n",
        "  return out\n",
        "\n",
        "y_pred = learnedfun(x_train0)"
      ],
      "execution_count": 0,
      "outputs": []
    },
    {
      "cell_type": "code",
      "metadata": {
        "id": "ix7JvEUJFAKy",
        "colab_type": "code",
        "colab": {
          "base_uri": "https://localhost:8080/",
          "height": 265
        },
        "outputId": "7ab11a2e-0b18-4bf2-a0a3-d45efa32eab4"
      },
      "source": [
        "#test\n",
        "plt.scatter(x_train0.detach().numpy(), y_train0.detach().numpy(), label='true')\n",
        "plt.plot(x_train0.detach().numpy(), y_pred.detach().numpy(), label='pred')\n",
        "\n",
        "plt.legend()\n",
        "plt.show()"
      ],
      "execution_count": 11,
      "outputs": [
        {
          "output_type": "display_data",
          "data": {
            "image/png": "[encoded data removed]",
            "text/plain": [
              "<Figure size 432x288 with 1 Axes>"
            ]
          },
          "metadata": {
            "tags": []
          }
        }
      ]
    },
    {
      "cell_type": "code",
      "metadata": {
        "id": "fyThVCQlYKSF",
        "colab_type": "code",
        "colab": {}
      },
      "source": [
        ""
      ],
      "execution_count": 0,
      "outputs": []
    }
  ]
}