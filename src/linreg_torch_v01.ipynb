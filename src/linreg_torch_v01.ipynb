{
  "nbformat": 4,
  "nbformat_minor": 0,
  "metadata": {
    "colab": {
      "name": "linreg_torch_v01.ipynb",
      "version": "0.3.2",
      "provenance": [],
      "include_colab_link": true
    },
    "kernelspec": {
      "name": "python3",
      "display_name": "Python 3"
    }
  },
  "cells": [
    {
      "cell_type": "markdown",
      "metadata": {
        "id": "view-in-github",
        "colab_type": "text"
      },
      "source": [
        "<a href=\"https://colab.research.google.com/github/songqsh/foo1/blob/master/src/linreg_torch_v01.ipynb\" target=\"_parent\"><img src=\"https://colab.research.google.com/assets/colab-badge.svg\" alt=\"Open In Colab\"/></a>"
      ]
    },
    {
      "cell_type": "code",
      "metadata": {
        "id": "5woR4KoCvJ1l",
        "colab_type": "code",
        "colab": {}
      },
      "source": [
        "import torch\n",
        "import torch.nn as nn\n",
        "import numpy as np\n",
        "import matplotlib.pyplot as plt"
      ],
      "execution_count": 0,
      "outputs": []
    },
    {
      "cell_type": "markdown",
      "metadata": {
        "id": "G006ruHmhkz6",
        "colab_type": "text"
      },
      "source": [
        "__Goal__\n",
        "\n",
        "We will implement a linear regression model using both linear algebra appoach and pytorch neural network."
      ]
    },
    {
      "cell_type": "markdown",
      "metadata": {
        "id": "jfL3p4EuhyCt",
        "colab_type": "text"
      },
      "source": [
        "__linear regression problem__\n",
        "\n",
        "Given a sequence of input and output pairs \n",
        "$$\\{(x_i, y_i): i = 1, 2, \\ldots, n\\}$$\n",
        "the problem is to find a pair of numbers $(w, b)$ to have a linear function\n",
        "$$ y = f(x) = wx + b$$\n",
        "fitting the given data. That is, \n",
        "$$(w, b) = \\arg\\min_{w, b} \\sum_i |y_i - f(x_i)|^2.$$"
      ]
    },
    {
      "cell_type": "markdown",
      "metadata": {
        "id": "6X2uvQP-i9po",
        "colab_type": "text"
      },
      "source": [
        "__input and output data cook up__"
      ]
    },
    {
      "cell_type": "code",
      "metadata": {
        "id": "piKakys4vMl2",
        "colab_type": "code",
        "colab": {}
      },
      "source": [
        "'''\n",
        "Create data\n",
        "'''\n",
        "\n",
        "batch_size = 50\n",
        "\n",
        "#Cook data using these param\n",
        "#Use regression on data to find param back\n",
        "bias_param = 5.\n",
        "weight_param = 2.\n",
        "\n",
        "x_train = torch.linspace(0, batch_size-1, batch_size).reshape(batch_size, 1)\n",
        "y_train = bias_param + weight_param * x_train\n",
        "y_train += torch.randn(batch_size,1)*3.0\n"
      ],
      "execution_count": 0,
      "outputs": []
    },
    {
      "cell_type": "code",
      "metadata": {
        "id": "DVwM97yMvs4E",
        "colab_type": "code",
        "outputId": "58caade8-cf96-4375-bc3c-e829e79c24cb",
        "colab": {
          "base_uri": "https://localhost:8080/",
          "height": 286
        }
      },
      "source": [
        "plt.scatter(x_train.numpy(), y_train.numpy())"
      ],
      "execution_count": 3,
      "outputs": [
        {
          "output_type": "execute_result",
          "data": {
            "text/plain": [
              "<matplotlib.collections.PathCollection at 0x7fac4a6a8cc0>"
            ]
          },
          "metadata": {
            "tags": []
          },
          "execution_count": 3
        },
        {
          "output_type": "display_data",
          "data": {
            "image/png": "[encoded data removed]",
            "text/plain": [
              "<Figure size 432x288 with 1 Axes>"
            ]
          },
          "metadata": {
            "tags": []
          }
        }
      ]
    },
    {
      "cell_type": "markdown",
      "metadata": {
        "id": "hKWkPW-A0JtW",
        "colab_type": "text"
      },
      "source": [
        "__Linear Algebra approach__\n",
        "\n",
        "Set\n",
        "$$A = \\begin{pmatrix}\n",
        "1 & x_1 \\\\\n",
        "1 & x_2 \\\\\n",
        "\\vdots & \\vdots \\\\\n",
        "1 & x_n\n",
        "\\end{pmatrix}\n",
        "$$\n",
        "and\n",
        "$$\n",
        "y = \n",
        "\\begin{bmatrix}\n",
        "y_1\\\\\n",
        "y_2\\\\\n",
        "\\vdots\\\\\n",
        "y_n\n",
        "\\end{bmatrix}\n",
        ".$$\n",
        "$(w,b)$ can be solved by\n",
        "$$\n",
        "A^T A \n",
        "\\begin{bmatrix}\n",
        "b\\\\\n",
        "w\n",
        "\\end{bmatrix} = A^T y.\n",
        "$$"
      ]
    },
    {
      "cell_type": "code",
      "metadata": {
        "id": "SXBSrIWozllt",
        "colab_type": "code",
        "colab": {}
      },
      "source": [
        "A = torch.cat((torch.ones(batch_size,1), x_train), 1)"
      ],
      "execution_count": 0,
      "outputs": []
    },
    {
      "cell_type": "code",
      "metadata": {
        "id": "waGEX5RavwhL",
        "colab_type": "code",
        "colab": {}
      },
      "source": [
        "bw, LU = torch.solve(A.t()@y_train, A.t()@A)\n",
        "bias = bw[0]\n",
        "weight = bw[1]"
      ],
      "execution_count": 0,
      "outputs": []
    },
    {
      "cell_type": "code",
      "metadata": {
        "id": "fY-VfDFAyxln",
        "colab_type": "code",
        "colab": {}
      },
      "source": [
        "y_pred = bias + weight*x_train"
      ],
      "execution_count": 0,
      "outputs": []
    },
    {
      "cell_type": "code",
      "metadata": {
        "id": "ZklDYzX5I7yM",
        "colab_type": "code",
        "outputId": "f8addaec-63ba-4e6c-d14a-fafe4d1176be",
        "colab": {
          "base_uri": "https://localhost:8080/",
          "height": 34
        }
      },
      "source": [
        "loss_la = nn.MSELoss()\n",
        "print('>>> loss from linear algebra approach is ' \n",
        "      + str(loss_la(y_pred, y_train).numpy()))"
      ],
      "execution_count": 7,
      "outputs": [
        {
          "output_type": "stream",
          "text": [
            ">>> loss from linear algebra approach is 10.480418\n"
          ],
          "name": "stdout"
        }
      ]
    },
    {
      "cell_type": "code",
      "metadata": {
        "id": "9x4pWQfA1bsL",
        "colab_type": "code",
        "outputId": "aca174c2-08aa-48ae-fff8-566edeecba30",
        "colab": {
          "base_uri": "https://localhost:8080/",
          "height": 298
        }
      },
      "source": [
        "print('>>>bias:'+str(bias.numpy()) \n",
        "      +' and weight:'+ str(weight.numpy()))\n",
        "\n",
        "plt.plot(x_train.numpy(), y_train.numpy(), \n",
        "         'ro', label ='Original data')\n",
        "plt.plot(x_train.numpy(), y_pred.numpy(), \n",
        "         label ='Fitted line')\n",
        "\n",
        "plt.title('Linear Regression Result') \n",
        "plt.legend() \n",
        "plt.show()"
      ],
      "execution_count": 8,
      "outputs": [
        {
          "output_type": "stream",
          "text": [
            ">>>bias:[4.9024854] and weight:[2.0181904]\n"
          ],
          "name": "stdout"
        },
        {
          "output_type": "display_data",
          "data": {
            "image/png": "[encoded data removed]",
            "text/plain": [
              "<Figure size 432x288 with 1 Axes>"
            ]
          },
          "metadata": {
            "tags": []
          }
        }
      ]
    },
    {
      "cell_type": "markdown",
      "metadata": {
        "id": "-Rdw2XiP6JOP",
        "colab_type": "text"
      },
      "source": [
        "__Torch nn__\n",
        "\n",
        "We implement linear regression by torch,.nn"
      ]
    },
    {
      "cell_type": "markdown",
      "metadata": {
        "id": "o1PuzC-8J3GZ",
        "colab_type": "text"
      },
      "source": [
        "Linear regression has three components:\n",
        "\n",
        "- function space: linear regression is indeed to find the __best__ function in the function space\n",
        "$$ \\mathcal F = \n",
        "\\{\n",
        "f(x; w, b) = wx + b| w, b\\in \\mathbb R^1\n",
        "\\}$$\n",
        "This can be implemented by nn.linear.\n",
        "\n",
        "- loss function: By best function among $\\mathcal F$, we mean the function which minimize a given loss defined apriori. In this case, the loss function is Mean sequared error, i.e.\n",
        "$$\n",
        "l(w,b) = \\sum_i |y_i - f(x_i, w, b)|^2\n",
        "$$\n",
        "This can be defined by nn.MSELoss\n",
        "\n",
        "- optimization: \n",
        "To minimize the loss function over all $(w,b)$, one shall need a iterative optimization scheme. In this example, we will use stochastic gradient descent implemented by torch.optim.SGD. see [ref](http://proceedings.mlr.press/v28/sutskever13.html)"
      ]
    },
    {
      "cell_type": "markdown",
      "metadata": {
        "id": "Bs0FFJyMXIA4",
        "colab_type": "text"
      },
      "source": [
        "__nn.Linear__\n",
        "\n",
        "nn.Linear(input_dim, output_dim) defines a function \n",
        "$$f(x, w, b) = x w^T+b$$\n",
        "where \n",
        "\n",
        "- $x \\in \\mathbb R^{1\\times n}$ is the input, where $n$ is equal to input_dim\n",
        "\n",
        "- $w \\in \\mathbb R^{m\\times n}$ is randomly assigned weight, where $m$ is equal to output_dim\n",
        "\n",
        "- $b \\in \\mathbb R^{1\\times m}$ is randomly assigned bias."
      ]
    },
    {
      "cell_type": "code",
      "metadata": {
        "id": "h14UiZfcY4fX",
        "colab_type": "code",
        "colab": {}
      },
      "source": [
        "#experiment for nn.Linear\n",
        "in_dim = 2\n",
        "out_dim = 1\n",
        "model = nn.Linear(in_dim, out_dim)"
      ],
      "execution_count": 0,
      "outputs": []
    },
    {
      "cell_type": "code",
      "metadata": {
        "id": "qg0a6L5ZZWQW",
        "colab_type": "code",
        "outputId": "314533d5-526e-46b1-babb-1efcdaa7b143",
        "colab": {
          "base_uri": "https://localhost:8080/",
          "height": 85
        }
      },
      "source": [
        "#print model parameters automatically\n",
        "for p in model.parameters():\n",
        "  print(p)"
      ],
      "execution_count": 10,
      "outputs": [
        {
          "output_type": "stream",
          "text": [
            "Parameter containing:\n",
            "tensor([[0.5949, 0.3562]], requires_grad=True)\n",
            "Parameter containing:\n",
            "tensor([-0.3227], requires_grad=True)\n"
          ],
          "name": "stdout"
        }
      ]
    },
    {
      "cell_type": "code",
      "metadata": {
        "id": "im3_y5ZZZWTG",
        "colab_type": "code",
        "outputId": "e96cb485-722c-44cc-c5d2-18eddfdf0121",
        "colab": {
          "base_uri": "https://localhost:8080/",
          "height": 85
        }
      },
      "source": [
        "#print model parameters manually\n",
        "print('weight is ' + str(model.weight))\n",
        "print('bias is ' + str(model.bias))"
      ],
      "execution_count": 11,
      "outputs": [
        {
          "output_type": "stream",
          "text": [
            "weight is Parameter containing:\n",
            "tensor([[0.5949, 0.3562]], requires_grad=True)\n",
            "bias is Parameter containing:\n",
            "tensor([-0.3227], requires_grad=True)\n"
          ],
          "name": "stdout"
        }
      ]
    },
    {
      "cell_type": "code",
      "metadata": {
        "id": "jBeYkYohZrLX",
        "colab_type": "code",
        "outputId": "081ca2f1-6396-484e-9f67-0a5653d251c2",
        "colab": {
          "base_uri": "https://localhost:8080/",
          "height": 85
        }
      },
      "source": [
        "#one can change parameters\n",
        "model.weight.data = torch.tensor([[2, -1]])\n",
        "model.bias.data = torch.tensor([1])\n",
        "for p in model.parameters():\n",
        "  print(p)"
      ],
      "execution_count": 12,
      "outputs": [
        {
          "output_type": "stream",
          "text": [
            "Parameter containing:\n",
            "tensor([[ 2, -1]], requires_grad=True)\n",
            "Parameter containing:\n",
            "tensor([1], requires_grad=True)\n"
          ],
          "name": "stdout"
        }
      ]
    },
    {
      "cell_type": "code",
      "metadata": {
        "id": "JKyaJfktaEGM",
        "colab_type": "code",
        "outputId": "56b20544-23ea-4a5f-94ee-201d8f35b149",
        "colab": {
          "base_uri": "https://localhost:8080/",
          "height": 34
        }
      },
      "source": [
        "#test computation of linear model defined above\n",
        "\n",
        "x = torch.tensor([1, 2])\n",
        "y = model(x)\n",
        "print(y)"
      ],
      "execution_count": 13,
      "outputs": [
        {
          "output_type": "stream",
          "text": [
            "tensor([1], grad_fn=<AddBackward0>)\n"
          ],
          "name": "stdout"
        }
      ]
    },
    {
      "cell_type": "markdown",
      "metadata": {
        "id": "rARfmRPVa9Rk",
        "colab_type": "text"
      },
      "source": [
        "__nn.MSELoss__\n",
        "\n",
        "pytorch provides MSELoss to save our work to define a function.\n",
        "The code below is to demonstrate how it works by comparing with manually created MSE function from the definition."
      ]
    },
    {
      "cell_type": "code",
      "metadata": {
        "id": "XPQcU30Qaxzq",
        "colab_type": "code",
        "outputId": "95ab0a0e-1aba-4442-9b76-baa574d0851c",
        "colab": {
          "base_uri": "https://localhost:8080/",
          "height": 51
        }
      },
      "source": [
        "input_ = torch.randn(3, 2)\n",
        "target_ = torch.randn(3, 2)\n",
        "\n",
        "loss = nn.MSELoss()\n",
        "output_mseloss = loss(input_, target_)\n",
        "print(output_mseloss.item())\n",
        "\n",
        "output_my = (target_ - input_).pow(2).mean()\n",
        "print(output_my.item())"
      ],
      "execution_count": 14,
      "outputs": [
        {
          "output_type": "stream",
          "text": [
            "3.4766438007354736\n",
            "3.4766438007354736\n"
          ],
          "name": "stdout"
        }
      ]
    },
    {
      "cell_type": "markdown",
      "metadata": {
        "id": "D2y9jczjfEUR",
        "colab_type": "text"
      },
      "source": [
        "__Implementation of linear regression by pytorch__"
      ]
    },
    {
      "cell_type": "code",
      "metadata": {
        "id": "FRQmLK6X_I9G",
        "colab_type": "code",
        "colab": {}
      },
      "source": [
        "# Hyper-parameters\n",
        "input_size = 1\n",
        "output_size = 1\n",
        "num_epochs = 10000\n",
        "learning_rate = 0.001\n",
        "\n",
        "# Linear regression model\n",
        "model = nn.Linear(input_size, output_size)\n",
        "\n",
        "# Loss and optimizer\n",
        "criterion = nn.MSELoss()\n",
        "optimizer = torch.optim.SGD(model.parameters(), lr=learning_rate)  "
      ],
      "execution_count": 0,
      "outputs": []
    },
    {
      "cell_type": "code",
      "metadata": {
        "id": "K6x2G2eo_0Dh",
        "colab_type": "code",
        "outputId": "1bfe0aab-1caf-466d-c5e3-6adb6659a4bf",
        "colab": {
          "base_uri": "https://localhost:8080/",
          "height": 357
        }
      },
      "source": [
        "# Train the model\n",
        "for epoch in range(num_epochs):\n",
        "\n",
        "    # Forward pass\n",
        "    outputs = model(x_train)\n",
        "    loss = criterion(outputs, y_train)\n",
        "    \n",
        "    # Backward and optimize\n",
        "    optimizer.zero_grad()\n",
        "    loss.backward()\n",
        "    optimizer.step()\n",
        "    \n",
        "    if (epoch+1) % 500 == 0:\n",
        "        print ('Epoch [{}/{}], Loss: {:.4f}'.format(epoch+1, \n",
        "                                                    num_epochs, loss.item()))\n",
        "\n"
      ],
      "execution_count": 21,
      "outputs": [
        {
          "output_type": "stream",
          "text": [
            "Epoch [500/10000], Loss: 15.7426\n",
            "Epoch [1000/10000], Loss: 13.6252\n",
            "Epoch [1500/10000], Loss: 12.3598\n",
            "Epoch [2000/10000], Loss: 11.6036\n",
            "Epoch [2500/10000], Loss: 11.1516\n",
            "Epoch [3000/10000], Loss: 10.8815\n",
            "Epoch [3500/10000], Loss: 10.7201\n",
            "Epoch [4000/10000], Loss: 10.6237\n",
            "Epoch [4500/10000], Loss: 10.5660\n",
            "Epoch [5000/10000], Loss: 10.5316\n",
            "Epoch [5500/10000], Loss: 10.5110\n",
            "Epoch [6000/10000], Loss: 10.4987\n",
            "Epoch [6500/10000], Loss: 10.4913\n",
            "Epoch [7000/10000], Loss: 10.4869\n",
            "Epoch [7500/10000], Loss: 10.4843\n",
            "Epoch [8000/10000], Loss: 10.4827\n",
            "Epoch [8500/10000], Loss: 10.4818\n",
            "Epoch [9000/10000], Loss: 10.4813\n",
            "Epoch [9500/10000], Loss: 10.4809\n",
            "Epoch [10000/10000], Loss: 10.4807\n"
          ],
          "name": "stdout"
        }
      ]
    },
    {
      "cell_type": "code",
      "metadata": {
        "id": "T138NRaz_0GF",
        "colab_type": "code",
        "outputId": "5eeed541-cd71-4c9f-8ff7-8f405530a50a",
        "colab": {
          "base_uri": "https://localhost:8080/",
          "height": 337
        }
      },
      "source": [
        "# Plot the graph\n",
        "#predicted = model(torch.from_numpy(x_train)).detach().numpy()\n",
        "predicted = model(x_train).detach().numpy()\n",
        "plt.plot(x_train.numpy(), y_train.numpy(), 'ro', label='Original data')\n",
        "plt.plot(x_train.numpy(), predicted, label='Fitted line')\n",
        "plt.legend()\n",
        "plt.show()\n",
        "\n",
        "#print model parameters automatically\n",
        "for p in model.parameters():\n",
        "  print(p)"
      ],
      "execution_count": 22,
      "outputs": [
        {
          "output_type": "display_data",
          "data": {
            "image/png": "[encoded data removed]",
            "text/plain": [
              "<Figure size 432x288 with 1 Axes>"
            ]
          },
          "metadata": {
            "tags": []
          }
        },
        {
          "output_type": "stream",
          "text": [
            "Parameter containing:\n",
            "tensor([[2.0192]], requires_grad=True)\n",
            "Parameter containing:\n",
            "tensor([4.8685], requires_grad=True)\n"
          ],
          "name": "stdout"
        }
      ]
    },
    {
      "cell_type": "code",
      "metadata": {
        "id": "VuqYTX4i_0Ip",
        "colab_type": "code",
        "outputId": "f59e0ad3-40ed-4de6-f176-3cfc3b5d1c65",
        "colab": {
          "base_uri": "https://localhost:8080/",
          "height": 34
        }
      },
      "source": [
        "print('>>>loss from one layer model is:', criterion(y_pred, y_train).item())"
      ],
      "execution_count": 23,
      "outputs": [
        {
          "output_type": "stream",
          "text": [
            ">>>loss from one layer model is: 10.48041820526123\n"
          ],
          "name": "stdout"
        }
      ]
    },
    {
      "cell_type": "markdown",
      "metadata": {
        "id": "BLVacJ5Lmgq_",
        "colab_type": "text"
      },
      "source": [
        "__Q.__ In this below, we deploy two linear layers and it shall do the same job as one-layer network. However, it actually blows up if we use the same lr. why? Actually it works with smaller lr."
      ]
    },
    {
      "cell_type": "code",
      "metadata": {
        "id": "IEdRtI4xftwt",
        "colab_type": "code",
        "outputId": "0ef7e49a-29de-449f-92c5-52eceb7f390b",
        "colab": {
          "base_uri": "https://localhost:8080/",
          "height": 527
        }
      },
      "source": [
        "# Hyper-parameters\n",
        "input_size = 1\n",
        "output_size = 1\n",
        "num_epochs = 30000\n",
        "learning_rate = 0.00003\n",
        "\n",
        "# Linear regression model\n",
        "H = 2\n",
        "\n",
        "#layer1 = nn.Linear(input_size, H)\n",
        "#layer2 = nn.Linear(H, output_size)\n",
        "\n",
        "layer2 = nn.Sequential(\n",
        "    nn.Linear(input_size, H),\n",
        "    nn.Linear(H, output_size)\n",
        ")\n",
        "\n",
        "#model = nn.Linear(input_size, output_size)\n",
        "\n",
        "# Loss and optimizer\n",
        "criterion = nn.MSELoss()\n",
        "optimizer = torch.optim.SGD(layer2.parameters(), lr=learning_rate)  \n",
        "\n",
        "# Train the model\n",
        "for epoch in range(num_epochs):\n",
        "\n",
        "    # Forward pass\n",
        "    #out1 = layer1(x_train)\n",
        "    #outputs = layer2(out1)\n",
        "    outputs = layer2(x_train)\n",
        "\n",
        "    loss = criterion(outputs, y_train)\n",
        "    \n",
        "    # Backward and optimize\n",
        "    optimizer.zero_grad()\n",
        "    loss.backward()\n",
        "    optimizer.step()\n",
        "    \n",
        "    if (epoch+1) % 1000 == 0:\n",
        "        print ('Epoch [{}/{}], Loss: {:.4f}'.format(epoch+1, \n",
        "                                                    num_epochs, loss.item()))"
      ],
      "execution_count": 24,
      "outputs": [
        {
          "output_type": "stream",
          "text": [
            "Epoch [1000/30000], Loss: 15.4830\n",
            "Epoch [2000/30000], Loss: 14.8774\n",
            "Epoch [3000/30000], Loss: 14.3432\n",
            "Epoch [4000/30000], Loss: 13.8690\n",
            "Epoch [5000/30000], Loss: 13.4464\n",
            "Epoch [6000/30000], Loss: 13.0689\n",
            "Epoch [7000/30000], Loss: 12.7315\n",
            "Epoch [8000/30000], Loss: 12.4303\n",
            "Epoch [9000/30000], Loss: 12.1619\n",
            "Epoch [10000/30000], Loss: 11.9236\n",
            "Epoch [11000/30000], Loss: 11.7130\n",
            "Epoch [12000/30000], Loss: 11.5276\n",
            "Epoch [13000/30000], Loss: 11.3655\n",
            "Epoch [14000/30000], Loss: 11.2246\n",
            "Epoch [15000/30000], Loss: 11.1028\n",
            "Epoch [16000/30000], Loss: 10.9983\n",
            "Epoch [17000/30000], Loss: 10.9092\n",
            "Epoch [18000/30000], Loss: 10.8337\n",
            "Epoch [19000/30000], Loss: 10.7702\n",
            "Epoch [20000/30000], Loss: 10.7170\n",
            "Epoch [21000/30000], Loss: 10.6728\n",
            "Epoch [22000/30000], Loss: 10.6363\n",
            "Epoch [23000/30000], Loss: 10.6063\n",
            "Epoch [24000/30000], Loss: 10.5817\n",
            "Epoch [25000/30000], Loss: 10.5616\n",
            "Epoch [26000/30000], Loss: 10.5454\n",
            "Epoch [27000/30000], Loss: 10.5323\n",
            "Epoch [28000/30000], Loss: 10.5217\n",
            "Epoch [29000/30000], Loss: 10.5132\n",
            "Epoch [30000/30000], Loss: 10.5064\n"
          ],
          "name": "stdout"
        }
      ]
    },
    {
      "cell_type": "code",
      "metadata": {
        "id": "W59zUVOohL3f",
        "colab_type": "code",
        "colab": {}
      },
      "source": [
        ""
      ],
      "execution_count": 0,
      "outputs": []
    }
  ]
}