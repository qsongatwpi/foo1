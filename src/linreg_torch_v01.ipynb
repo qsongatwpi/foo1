{
  "nbformat": 4,
  "nbformat_minor": 0,
  "metadata": {
    "colab": {
      "name": "linreg_torch_v01.ipynb",
      "version": "0.3.2",
      "provenance": [],
      "include_colab_link": true
    },
    "kernelspec": {
      "name": "python3",
      "display_name": "Python 3"
    }
  },
  "cells": [
    {
      "cell_type": "markdown",
      "metadata": {
        "id": "view-in-github",
        "colab_type": "text"
      },
      "source": [
        "<a href=\"https://colab.research.google.com/github/songqsh/foo1/blob/master/src/linreg_torch_v01.ipynb\" target=\"_parent\"><img src=\"https://colab.research.google.com/assets/colab-badge.svg\" alt=\"Open In Colab\"/></a>"
      ]
    },
    {
      "cell_type": "code",
      "metadata": {
        "id": "5woR4KoCvJ1l",
        "colab_type": "code",
        "colab": {}
      },
      "source": [
        "import torch\n",
        "import torch.nn as nn\n",
        "import numpy as np\n",
        "import matplotlib.pyplot as plt"
      ],
      "execution_count": 0,
      "outputs": []
    },
    {
      "cell_type": "code",
      "metadata": {
        "id": "piKakys4vMl2",
        "colab_type": "code",
        "colab": {}
      },
      "source": [
        "'''\n",
        "Create data\n",
        "'''\n",
        "\n",
        "batch_size = 50\n",
        "\n",
        "#Cook data using these param\n",
        "#Use regression on data to find param back\n",
        "bias_param = 5.\n",
        "weight_param = 2.\n",
        "\n",
        "x_train = torch.linspace(0, batch_size-1, batch_size).reshape(batch_size, 1)\n",
        "y_train = bias_param + weight_param * x_train\n",
        "y_train += torch.randn(batch_size,1)*3.0\n"
      ],
      "execution_count": 0,
      "outputs": []
    },
    {
      "cell_type": "code",
      "metadata": {
        "id": "DVwM97yMvs4E",
        "colab_type": "code",
        "colab": {
          "base_uri": "https://localhost:8080/",
          "height": 286
        },
        "outputId": "b071d7b1-a6c0-4f4c-8955-07d67ab49499"
      },
      "source": [
        "plt.scatter(x_train.numpy(), y_train.numpy())"
      ],
      "execution_count": 3,
      "outputs": [
        {
          "output_type": "execute_result",
          "data": {
            "text/plain": [
              "<matplotlib.collections.PathCollection at 0x7fd4f4f34748>"
            ]
          },
          "metadata": {
            "tags": []
          },
          "execution_count": 3
        },
        {
          "output_type": "display_data",
          "data": {
            "image/png": "[encoded data removed]",
            "text/plain": [
              "<Figure size 432x288 with 1 Axes>"
            ]
          },
          "metadata": {
            "tags": []
          }
        }
      ]
    },
    {
      "cell_type": "markdown",
      "metadata": {
        "id": "hKWkPW-A0JtW",
        "colab_type": "text"
      },
      "source": [
        "__Linear Algebra__"
      ]
    },
    {
      "cell_type": "code",
      "metadata": {
        "id": "SXBSrIWozllt",
        "colab_type": "code",
        "colab": {}
      },
      "source": [
        "A = torch.cat((torch.ones(batch_size,1), x_train), 1)"
      ],
      "execution_count": 0,
      "outputs": []
    },
    {
      "cell_type": "code",
      "metadata": {
        "id": "waGEX5RavwhL",
        "colab_type": "code",
        "colab": {}
      },
      "source": [
        "bw, LU = torch.solve(A.t()@y_train, A.t()@A)\n",
        "bias = bw[0]\n",
        "weight = bw[1]"
      ],
      "execution_count": 0,
      "outputs": []
    },
    {
      "cell_type": "code",
      "metadata": {
        "id": "fY-VfDFAyxln",
        "colab_type": "code",
        "colab": {}
      },
      "source": [
        "y_pred = bias + weight*x_train"
      ],
      "execution_count": 0,
      "outputs": []
    },
    {
      "cell_type": "code",
      "metadata": {
        "id": "9x4pWQfA1bsL",
        "colab_type": "code",
        "colab": {
          "base_uri": "https://localhost:8080/",
          "height": 298
        },
        "outputId": "b7fddc8a-5574-429f-d687-4181f3beb79d"
      },
      "source": [
        "plt.plot(x_train.numpy(), y_train.numpy(), 'ro', label ='Original data')\n",
        "plt.plot(x_train.numpy(), y_pred.numpy(), label ='Fitted line')\n",
        "print('bias:'+str(bias.numpy())+' and weight:'+ str(weight.numpy()))\n",
        "plt.title('Linear Regression Result') \n",
        "plt.legend() \n",
        "plt.show()"
      ],
      "execution_count": 7,
      "outputs": [
        {
          "output_type": "stream",
          "text": [
            "bias:[4.03428] and weight:[2.0122855]\n"
          ],
          "name": "stdout"
        },
        {
          "output_type": "display_data",
          "data": {
            "image/png": "[encoded data removed]",
            "text/plain": [
              "<Figure size 432x288 with 1 Axes>"
            ]
          },
          "metadata": {
            "tags": []
          }
        }
      ]
    },
    {
      "cell_type": "markdown",
      "metadata": {
        "id": "-Rdw2XiP6JOP",
        "colab_type": "text"
      },
      "source": [
        "__Torch nn__\n",
        "\n",
        "We implement linear regression by torch,.nn"
      ]
    },
    {
      "cell_type": "code",
      "metadata": {
        "id": "FRQmLK6X_I9G",
        "colab_type": "code",
        "colab": {}
      },
      "source": [
        "# Hyper-parameters\n",
        "input_size = 1\n",
        "output_size = 1\n",
        "num_epochs = 5000\n",
        "learning_rate = 0.001\n",
        "\n",
        "# Linear regression model\n",
        "model = nn.Linear(input_size, output_size)\n",
        "\n",
        "# Loss and optimizer\n",
        "criterion = nn.MSELoss()\n",
        "optimizer = torch.optim.SGD(model.parameters(), lr=learning_rate)  "
      ],
      "execution_count": 0,
      "outputs": []
    },
    {
      "cell_type": "code",
      "metadata": {
        "id": "K6x2G2eo_0Dh",
        "colab_type": "code",
        "colab": {
          "base_uri": "https://localhost:8080/",
          "height": 442
        },
        "outputId": "fad8d42c-e728-420a-9a9a-1c2b4f470118"
      },
      "source": [
        "# Train the model\n",
        "for epoch in range(num_epochs):\n",
        "\n",
        "    # Forward pass\n",
        "    outputs = model(x_train)\n",
        "    loss = criterion(outputs, y_train)\n",
        "    \n",
        "    # Backward and optimize\n",
        "    optimizer.zero_grad()\n",
        "    loss.backward()\n",
        "    optimizer.step()\n",
        "    \n",
        "    if (epoch+1) % 200 == 0:\n",
        "        print ('Epoch [{}/{}], Loss: {:.4f}'.format(epoch+1, num_epochs, loss.item()))\n",
        "\n"
      ],
      "execution_count": 9,
      "outputs": [
        {
          "output_type": "stream",
          "text": [
            "Epoch [200/5000], Loss: 11.7373\n",
            "Epoch [400/5000], Loss: 11.1477\n",
            "Epoch [600/5000], Loss: 10.6677\n",
            "Epoch [800/5000], Loss: 10.2771\n",
            "Epoch [1000/5000], Loss: 9.9592\n",
            "Epoch [1200/5000], Loss: 9.7004\n",
            "Epoch [1400/5000], Loss: 9.4898\n",
            "Epoch [1600/5000], Loss: 9.3184\n",
            "Epoch [1800/5000], Loss: 9.1789\n",
            "Epoch [2000/5000], Loss: 9.0654\n",
            "Epoch [2200/5000], Loss: 8.9730\n",
            "Epoch [2400/5000], Loss: 8.8978\n",
            "Epoch [2600/5000], Loss: 8.8366\n",
            "Epoch [2800/5000], Loss: 8.7867\n",
            "Epoch [3000/5000], Loss: 8.7462\n",
            "Epoch [3200/5000], Loss: 8.7132\n",
            "Epoch [3400/5000], Loss: 8.6863\n",
            "Epoch [3600/5000], Loss: 8.6645\n",
            "Epoch [3800/5000], Loss: 8.6467\n",
            "Epoch [4000/5000], Loss: 8.6322\n",
            "Epoch [4200/5000], Loss: 8.6204\n",
            "Epoch [4400/5000], Loss: 8.6108\n",
            "Epoch [4600/5000], Loss: 8.6030\n",
            "Epoch [4800/5000], Loss: 8.5966\n",
            "Epoch [5000/5000], Loss: 8.5915\n"
          ],
          "name": "stdout"
        }
      ]
    },
    {
      "cell_type": "code",
      "metadata": {
        "id": "T138NRaz_0GF",
        "colab_type": "code",
        "colab": {
          "base_uri": "https://localhost:8080/",
          "height": 269
        },
        "outputId": "eec7f756-8868-420c-8141-798e0066e3c0"
      },
      "source": [
        "# Plot the graph\n",
        "#predicted = model(torch.from_numpy(x_train)).detach().numpy()\n",
        "predicted = model(x_train).detach().numpy()\n",
        "plt.plot(x_train.numpy(), y_train.numpy(), 'ro', label='Original data')\n",
        "plt.plot(x_train.numpy(), predicted, label='Fitted line')\n",
        "plt.legend()\n",
        "plt.show()"
      ],
      "execution_count": 10,
      "outputs": [
        {
          "output_type": "display_data",
          "data": {
            "image/png": "[encoded data removed]",
            "text/plain": [
              "<Figure size 432x288 with 1 Axes>"
            ]
          },
          "metadata": {
            "tags": []
          }
        }
      ]
    },
    {
      "cell_type": "code",
      "metadata": {
        "id": "x9q_prZUCiB0",
        "colab_type": "code",
        "colab": {
          "base_uri": "https://localhost:8080/",
          "height": 68
        },
        "outputId": "3da15a9e-445d-42c0-ef30-d8fa38460757"
      },
      "source": [
        "# Print model's state_dict\n",
        "print(\"Model's state_dict:\")\n",
        "for param_tensor in model.state_dict():\n",
        "    print(param_tensor, \"\\t\", model.state_dict()[param_tensor])"
      ],
      "execution_count": 11,
      "outputs": [
        {
          "output_type": "stream",
          "text": [
            "Model's state_dict:\n",
            "weight \t tensor([[2.0213]])\n",
            "bias \t tensor([3.7380])\n"
          ],
          "name": "stdout"
        }
      ]
    },
    {
      "cell_type": "code",
      "metadata": {
        "id": "VuqYTX4i_0Ip",
        "colab_type": "code",
        "colab": {
          "base_uri": "https://localhost:8080/",
          "height": 34
        },
        "outputId": "78b91986-54c8-44a5-97fd-789d0e0a4ae1"
      },
      "source": [
        "print('loss from linear algebra is:', criterion(y_pred, y_train).numpy())"
      ],
      "execution_count": 12,
      "outputs": [
        {
          "output_type": "stream",
          "text": [
            "loss from linear algebra is: 8.56884\n"
          ],
          "name": "stdout"
        }
      ]
    }
  ]
}