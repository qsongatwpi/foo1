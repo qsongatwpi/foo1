{
  "nbformat": 4,
  "nbformat_minor": 0,
  "metadata": {
    "colab": {
      "name": "linreg_torch_v01.ipynb",
      "version": "0.3.2",
      "provenance": [],
      "include_colab_link": true
    },
    "kernelspec": {
      "name": "python3",
      "display_name": "Python 3"
    }
  },
  "cells": [
    {
      "cell_type": "markdown",
      "metadata": {
        "id": "view-in-github",
        "colab_type": "text"
      },
      "source": [
        "<a href=\"https://colab.research.google.com/github/songqsh/foo1/blob/master/src/linreg_torch_v01.ipynb\" target=\"_parent\"><img src=\"https://colab.research.google.com/assets/colab-badge.svg\" alt=\"Open In Colab\"/></a>"
      ]
    },
    {
      "cell_type": "code",
      "metadata": {
        "id": "5woR4KoCvJ1l",
        "colab_type": "code",
        "colab": {}
      },
      "source": [
        "import torch\n",
        "import torch.nn as nn\n",
        "import numpy as np\n",
        "import matplotlib.pyplot as plt"
      ],
      "execution_count": 0,
      "outputs": []
    },
    {
      "cell_type": "markdown",
      "metadata": {
        "id": "G006ruHmhkz6",
        "colab_type": "text"
      },
      "source": [
        "__Goal__\n",
        "\n",
        "We will implement a linear regression model using both linear algebra appoach and pytorch neural network."
      ]
    },
    {
      "cell_type": "markdown",
      "metadata": {
        "id": "jfL3p4EuhyCt",
        "colab_type": "text"
      },
      "source": [
        "__linear regression problem__\n",
        "\n",
        "Given a sequence of input and output pairs \n",
        "$$\\{(x_i, y_i): i = 1, 2, \\ldots, n\\}$$\n",
        "the problem is to find a pair of numbers $(w, b)$ to have a linear function\n",
        "$$ y = f(x) = wx + b$$\n",
        "fitting the given data. That is, \n",
        "$$(w, b) = \\arg\\min_{w, b} \\sum_i |y_i - f(x_i)|^2.$$"
      ]
    },
    {
      "cell_type": "markdown",
      "metadata": {
        "id": "6X2uvQP-i9po",
        "colab_type": "text"
      },
      "source": [
        "__input and output data cook up__"
      ]
    },
    {
      "cell_type": "code",
      "metadata": {
        "id": "piKakys4vMl2",
        "colab_type": "code",
        "colab": {}
      },
      "source": [
        "'''\n",
        "Create data\n",
        "'''\n",
        "\n",
        "batch_size = 50\n",
        "\n",
        "#Cook data using these param\n",
        "#Use regression on data to find param back\n",
        "bias_param = 5.\n",
        "weight_param = 2.\n",
        "\n",
        "x_train = torch.linspace(0, batch_size-1, batch_size).reshape(batch_size, 1)\n",
        "y_train = bias_param + weight_param * x_train\n",
        "y_train += torch.randn(batch_size,1)*3.0\n"
      ],
      "execution_count": 0,
      "outputs": []
    },
    {
      "cell_type": "code",
      "metadata": {
        "id": "DVwM97yMvs4E",
        "colab_type": "code",
        "outputId": "2b256e34-ad4e-411a-b36b-c73a848205d1",
        "colab": {
          "base_uri": "https://localhost:8080/",
          "height": 286
        }
      },
      "source": [
        "plt.scatter(x_train.numpy(), y_train.numpy())"
      ],
      "execution_count": 3,
      "outputs": [
        {
          "output_type": "execute_result",
          "data": {
            "text/plain": [
              "<matplotlib.collections.PathCollection at 0x7fdbde9d1b38>"
            ]
          },
          "metadata": {
            "tags": []
          },
          "execution_count": 3
        },
        {
          "output_type": "display_data",
          "data": {
            "image/png": "[encoded data removed]",
            "text/plain": [
              "<Figure size 432x288 with 1 Axes>"
            ]
          },
          "metadata": {
            "tags": []
          }
        }
      ]
    },
    {
      "cell_type": "markdown",
      "metadata": {
        "id": "hKWkPW-A0JtW",
        "colab_type": "text"
      },
      "source": [
        "__Linear Algebra approach__\n",
        "\n",
        "Set\n",
        "$$A = \\begin{pmatrix}\n",
        "1 & x_1 \\\\\n",
        "1 & x_2 \\\\\n",
        "\\vdots & \\vdots \\\\\n",
        "1 & x_n\n",
        "\\end{pmatrix}\n",
        "$$\n",
        "and\n",
        "$$\n",
        "y = \n",
        "\\begin{bmatrix}\n",
        "y_1\\\\\n",
        "y_2\\\\\n",
        "\\vdots\\\\\n",
        "y_n\n",
        "\\end{bmatrix}\n",
        ".$$\n",
        "$(w,b)$ can be solved by\n",
        "$$\n",
        "A^T A \n",
        "\\begin{bmatrix}\n",
        "b\\\\\n",
        "w\n",
        "\\end{bmatrix} = A^T y.\n",
        "$$"
      ]
    },
    {
      "cell_type": "code",
      "metadata": {
        "id": "SXBSrIWozllt",
        "colab_type": "code",
        "colab": {}
      },
      "source": [
        "A = torch.cat((torch.ones(batch_size,1), x_train), 1)"
      ],
      "execution_count": 0,
      "outputs": []
    },
    {
      "cell_type": "code",
      "metadata": {
        "id": "waGEX5RavwhL",
        "colab_type": "code",
        "colab": {}
      },
      "source": [
        "bw, LU = torch.solve(A.t()@y_train, A.t()@A)\n",
        "bias = bw[0]\n",
        "weight = bw[1]"
      ],
      "execution_count": 0,
      "outputs": []
    },
    {
      "cell_type": "code",
      "metadata": {
        "id": "fY-VfDFAyxln",
        "colab_type": "code",
        "colab": {}
      },
      "source": [
        "y_pred = bias + weight*x_train"
      ],
      "execution_count": 0,
      "outputs": []
    },
    {
      "cell_type": "code",
      "metadata": {
        "id": "ZklDYzX5I7yM",
        "colab_type": "code",
        "outputId": "b2dd0913-a380-4b89-a4e7-054014342124",
        "colab": {
          "base_uri": "https://localhost:8080/",
          "height": 34
        }
      },
      "source": [
        "loss_la = nn.MSELoss()\n",
        "print('>>> loss from linear algebra approach is ' \n",
        "      + str(loss_la(y_pred, y_train).numpy()))"
      ],
      "execution_count": 7,
      "outputs": [
        {
          "output_type": "stream",
          "text": [
            ">>> loss from linear algebra approach is 11.953303\n"
          ],
          "name": "stdout"
        }
      ]
    },
    {
      "cell_type": "code",
      "metadata": {
        "id": "9x4pWQfA1bsL",
        "colab_type": "code",
        "outputId": "5d3beb1e-5426-4e8b-f2cf-b44428d7edba",
        "colab": {
          "base_uri": "https://localhost:8080/",
          "height": 298
        }
      },
      "source": [
        "print('>>>bias:'+str(bias.numpy()) \n",
        "      +' and weight:'+ str(weight.numpy()))\n",
        "\n",
        "plt.plot(x_train.numpy(), y_train.numpy(), \n",
        "         'ro', label ='Original data')\n",
        "plt.plot(x_train.numpy(), y_pred.numpy(), \n",
        "         label ='Fitted line')\n",
        "\n",
        "plt.title('Linear Regression Result') \n",
        "plt.legend() \n",
        "plt.show()"
      ],
      "execution_count": 8,
      "outputs": [
        {
          "output_type": "stream",
          "text": [
            ">>>bias:[4.20319] and weight:[1.99903]\n"
          ],
          "name": "stdout"
        },
        {
          "output_type": "display_data",
          "data": {
            "image/png": "[encoded data removed]",
            "text/plain": [
              "<Figure size 432x288 with 1 Axes>"
            ]
          },
          "metadata": {
            "tags": []
          }
        }
      ]
    },
    {
      "cell_type": "markdown",
      "metadata": {
        "id": "-Rdw2XiP6JOP",
        "colab_type": "text"
      },
      "source": [
        "__Torch nn__\n",
        "\n",
        "We implement linear regression by torch,.nn"
      ]
    },
    {
      "cell_type": "markdown",
      "metadata": {
        "id": "o1PuzC-8J3GZ",
        "colab_type": "text"
      },
      "source": [
        "Linear regression has three components:\n",
        "\n",
        "- function space: linear regression is indeed to find the __best__ function in the function space\n",
        "$$ \\mathcal F = \n",
        "\\{\n",
        "f(x; w, b) = wx + b| w, b\\in \\mathbb R^1\n",
        "\\}$$\n",
        "This can be implemented by nn.linear.\n",
        "\n",
        "- loss function: By best function among $\\mathcal F$, we mean the function which minimize a given loss defined apriori. In this case, the loss function is Mean sequared error, i.e.\n",
        "$$\n",
        "l(w,b) = \\sum_i |y_i - f(x_i, w, b)|^2\n",
        "$$\n",
        "This can be defined by nn.MSELoss\n",
        "\n",
        "- optimization: \n",
        "To minimize the loss function over all $(w,b)$, one shall need a iterative optimization scheme. In this example, we will use stochastic gradient descent implemented by torch.optim.SGD. see [ref](http://proceedings.mlr.press/v28/sutskever13.html)"
      ]
    },
    {
      "cell_type": "markdown",
      "metadata": {
        "id": "Bs0FFJyMXIA4",
        "colab_type": "text"
      },
      "source": [
        "__nn.Linear__\n",
        "\n",
        "nn.Linear(input_dim, output_dim) defines a function \n",
        "$$f(x, w, b) = x w^T+b$$\n",
        "where \n",
        "\n",
        "- $x \\in \\mathbb R^{1\\times n}$ is the input, where $n$ is equal to input_dim\n",
        "\n",
        "- $w \\in \\mathbb R^{m\\times n}$ is randomly assigned weight, where $m$ is equal to output_dim\n",
        "\n",
        "- $b \\in \\mathbb R^{1\\times m}$ is randomly assigned bias."
      ]
    },
    {
      "cell_type": "code",
      "metadata": {
        "id": "h14UiZfcY4fX",
        "colab_type": "code",
        "colab": {}
      },
      "source": [
        "#experiment for nn.Linear\n",
        "in_dim = 2\n",
        "out_dim = 1\n",
        "model = nn.Linear(in_dim, out_dim)"
      ],
      "execution_count": 0,
      "outputs": []
    },
    {
      "cell_type": "code",
      "metadata": {
        "id": "qg0a6L5ZZWQW",
        "colab_type": "code",
        "outputId": "6e49016d-24eb-4bed-9624-1ee567b0e9f9",
        "colab": {
          "base_uri": "https://localhost:8080/",
          "height": 85
        }
      },
      "source": [
        "#print model parameters automatically\n",
        "for p in model.parameters():\n",
        "  print(p)"
      ],
      "execution_count": 10,
      "outputs": [
        {
          "output_type": "stream",
          "text": [
            "Parameter containing:\n",
            "tensor([[-0.4158,  0.1513]], requires_grad=True)\n",
            "Parameter containing:\n",
            "tensor([0.2169], requires_grad=True)\n"
          ],
          "name": "stdout"
        }
      ]
    },
    {
      "cell_type": "code",
      "metadata": {
        "id": "im3_y5ZZZWTG",
        "colab_type": "code",
        "outputId": "7b84bcf1-ae2c-4379-ef84-11665cdc77ec",
        "colab": {
          "base_uri": "https://localhost:8080/",
          "height": 85
        }
      },
      "source": [
        "#print model parameters manually\n",
        "print('weight is ' + str(model.weight))\n",
        "print('bias is ' + str(model.bias))"
      ],
      "execution_count": 11,
      "outputs": [
        {
          "output_type": "stream",
          "text": [
            "weight is Parameter containing:\n",
            "tensor([[-0.4158,  0.1513]], requires_grad=True)\n",
            "bias is Parameter containing:\n",
            "tensor([0.2169], requires_grad=True)\n"
          ],
          "name": "stdout"
        }
      ]
    },
    {
      "cell_type": "code",
      "metadata": {
        "id": "jBeYkYohZrLX",
        "colab_type": "code",
        "outputId": "9b4857fc-ba54-425d-f0a4-81f6e2deaf9d",
        "colab": {
          "base_uri": "https://localhost:8080/",
          "height": 85
        }
      },
      "source": [
        "#one can change parameters\n",
        "model.weight.data = torch.tensor([[2, -1]])\n",
        "model.bias.data = torch.tensor([1])\n",
        "for p in model.parameters():\n",
        "  print(p)"
      ],
      "execution_count": 12,
      "outputs": [
        {
          "output_type": "stream",
          "text": [
            "Parameter containing:\n",
            "tensor([[ 2, -1]], requires_grad=True)\n",
            "Parameter containing:\n",
            "tensor([1], requires_grad=True)\n"
          ],
          "name": "stdout"
        }
      ]
    },
    {
      "cell_type": "code",
      "metadata": {
        "id": "JKyaJfktaEGM",
        "colab_type": "code",
        "outputId": "3b013ae0-048a-4669-afb1-6728ed96bbec",
        "colab": {
          "base_uri": "https://localhost:8080/",
          "height": 34
        }
      },
      "source": [
        "#test computation of linear model defined above\n",
        "\n",
        "x = torch.tensor([1, 2])\n",
        "y = model(x)\n",
        "print(y)"
      ],
      "execution_count": 13,
      "outputs": [
        {
          "output_type": "stream",
          "text": [
            "tensor([1], grad_fn=<AddBackward0>)\n"
          ],
          "name": "stdout"
        }
      ]
    },
    {
      "cell_type": "markdown",
      "metadata": {
        "id": "rARfmRPVa9Rk",
        "colab_type": "text"
      },
      "source": [
        "__nn.MSELoss__\n",
        "\n",
        "pytorch provides MSELoss to save our work to define a function"
      ]
    },
    {
      "cell_type": "code",
      "metadata": {
        "id": "XPQcU30Qaxzq",
        "colab_type": "code",
        "outputId": "85e488c5-4230-416e-d4be-4dfbd9b2d8c2",
        "colab": {
          "base_uri": "https://localhost:8080/",
          "height": 51
        }
      },
      "source": [
        "input_ = torch.randn(3, 2)\n",
        "target_ = torch.randn(3, 2)\n",
        "\n",
        "loss = nn.MSELoss()\n",
        "output_mseloss = loss(input_, target_)\n",
        "print(output_mseloss.item())\n",
        "\n",
        "output_my = (target_ - input_).pow(2).mean()\n",
        "print(output_my.item())"
      ],
      "execution_count": 14,
      "outputs": [
        {
          "output_type": "stream",
          "text": [
            "3.9703023433685303\n",
            "3.9703023433685303\n"
          ],
          "name": "stdout"
        }
      ]
    },
    {
      "cell_type": "markdown",
      "metadata": {
        "id": "D2y9jczjfEUR",
        "colab_type": "text"
      },
      "source": [
        "__Implementation of linear regression by pytorch__"
      ]
    },
    {
      "cell_type": "code",
      "metadata": {
        "id": "FRQmLK6X_I9G",
        "colab_type": "code",
        "colab": {}
      },
      "source": [
        "# Hyper-parameters\n",
        "input_size = 1\n",
        "output_size = 1\n",
        "num_epochs = 10000\n",
        "learning_rate = 0.001\n",
        "\n",
        "# Linear regression model\n",
        "model = nn.Linear(input_size, output_size)\n",
        "\n",
        "# Loss and optimizer\n",
        "criterion = nn.MSELoss()\n",
        "optimizer = torch.optim.SGD(model.parameters(), lr=learning_rate)  "
      ],
      "execution_count": 0,
      "outputs": []
    },
    {
      "cell_type": "code",
      "metadata": {
        "id": "K6x2G2eo_0Dh",
        "colab_type": "code",
        "outputId": "f1827944-1d87-4b33-fce2-e5b0bae8c22d",
        "colab": {
          "base_uri": "https://localhost:8080/",
          "height": 357
        }
      },
      "source": [
        "# Train the model\n",
        "for epoch in range(num_epochs):\n",
        "\n",
        "    # Forward pass\n",
        "    outputs = model(x_train)\n",
        "    loss = criterion(outputs, y_train)\n",
        "    \n",
        "    # Backward and optimize\n",
        "    optimizer.zero_grad()\n",
        "    loss.backward()\n",
        "    optimizer.step()\n",
        "    \n",
        "    if (epoch+1) % 500 == 0:\n",
        "        print ('Epoch [{}/{}], Loss: {:.4f}'.format(epoch+1, \n",
        "                                                    num_epochs, loss.item()))\n",
        "\n"
      ],
      "execution_count": 16,
      "outputs": [
        {
          "output_type": "stream",
          "text": [
            "Epoch [500/10000], Loss: 14.4533\n",
            "Epoch [1000/10000], Loss: 13.4474\n",
            "Epoch [1500/10000], Loss: 12.8462\n",
            "Epoch [2000/10000], Loss: 12.4869\n",
            "Epoch [2500/10000], Loss: 12.2722\n",
            "Epoch [3000/10000], Loss: 12.1439\n",
            "Epoch [3500/10000], Loss: 12.0672\n",
            "Epoch [4000/10000], Loss: 12.0214\n",
            "Epoch [4500/10000], Loss: 11.9940\n",
            "Epoch [5000/10000], Loss: 11.9776\n",
            "Epoch [5500/10000], Loss: 11.9678\n",
            "Epoch [6000/10000], Loss: 11.9620\n",
            "Epoch [6500/10000], Loss: 11.9585\n",
            "Epoch [7000/10000], Loss: 11.9564\n",
            "Epoch [7500/10000], Loss: 11.9552\n",
            "Epoch [8000/10000], Loss: 11.9544\n",
            "Epoch [8500/10000], Loss: 11.9540\n",
            "Epoch [9000/10000], Loss: 11.9537\n",
            "Epoch [9500/10000], Loss: 11.9535\n",
            "Epoch [10000/10000], Loss: 11.9534\n"
          ],
          "name": "stdout"
        }
      ]
    },
    {
      "cell_type": "code",
      "metadata": {
        "id": "T138NRaz_0GF",
        "colab_type": "code",
        "outputId": "c965ef49-b594-4974-f0c1-fdfe7de2a1af",
        "colab": {
          "base_uri": "https://localhost:8080/",
          "height": 337
        }
      },
      "source": [
        "# Plot the graph\n",
        "#predicted = model(torch.from_numpy(x_train)).detach().numpy()\n",
        "predicted = model(x_train).detach().numpy()\n",
        "plt.plot(x_train.numpy(), y_train.numpy(), 'ro', label='Original data')\n",
        "plt.plot(x_train.numpy(), predicted, label='Fitted line')\n",
        "plt.legend()\n",
        "plt.show()\n",
        "\n",
        "#print model parameters automatically\n",
        "for p in model.parameters():\n",
        "  print(p)"
      ],
      "execution_count": 17,
      "outputs": [
        {
          "output_type": "display_data",
          "data": {
            "image/png": "[encoded data removed]",
            "text/plain": [
              "<Figure size 432x288 with 1 Axes>"
            ]
          },
          "metadata": {
            "tags": []
          }
        },
        {
          "output_type": "stream",
          "text": [
            "Parameter containing:\n",
            "tensor([[1.9997]], requires_grad=True)\n",
            "Parameter containing:\n",
            "tensor([4.1798], requires_grad=True)\n"
          ],
          "name": "stdout"
        }
      ]
    },
    {
      "cell_type": "code",
      "metadata": {
        "id": "VuqYTX4i_0Ip",
        "colab_type": "code",
        "outputId": "fdd70434-26e1-4eb5-cb3a-a189af5aafa6",
        "colab": {
          "base_uri": "https://localhost:8080/",
          "height": 34
        }
      },
      "source": [
        "print('>>>loss from linear algebra is:', criterion(y_pred, y_train).item())"
      ],
      "execution_count": 18,
      "outputs": [
        {
          "output_type": "stream",
          "text": [
            ">>>loss from linear algebra is: 11.953303337097168\n"
          ],
          "name": "stdout"
        }
      ]
    },
    {
      "cell_type": "markdown",
      "metadata": {
        "id": "BLVacJ5Lmgq_",
        "colab_type": "text"
      },
      "source": [
        "__Q.__ In this below, we deploy two linear layers and it shall do the same job as one-layer network. However, it actually blows up. why?"
      ]
    },
    {
      "cell_type": "code",
      "metadata": {
        "id": "IEdRtI4xftwt",
        "colab_type": "code",
        "outputId": "cd7abd81-9d56-42d1-a836-ef5602c74761",
        "colab": {
          "base_uri": "https://localhost:8080/",
          "height": 1717
        }
      },
      "source": [
        "# Hyper-parameters\n",
        "input_size = 1\n",
        "output_size = 1\n",
        "num_epochs = 10000\n",
        "learning_rate = 0.00001\n",
        "\n",
        "# Linear regression model\n",
        "H = 2\n",
        "\n",
        "#layer1 = nn.Linear(input_size, H)\n",
        "#layer2 = nn.Linear(H, output_size)\n",
        "\n",
        "layer2 = nn.Sequential(\n",
        "    nn.Linear(input_size, H),\n",
        "    nn.Linear(H, output_size)\n",
        ")\n",
        "\n",
        "#model = nn.Linear(input_size, output_size)\n",
        "\n",
        "# Loss and optimizer\n",
        "criterion = nn.MSELoss()\n",
        "optimizer = torch.optim.SGD(layer2.parameters(), lr=learning_rate)  \n",
        "\n",
        "# Train the model\n",
        "for epoch in range(num_epochs):\n",
        "\n",
        "    # Forward pass\n",
        "    #out1 = layer1(x_train)\n",
        "    #outputs = layer2(out1)\n",
        "    outputs = layer2(x_train)\n",
        "\n",
        "    loss = criterion(outputs, y_train)\n",
        "    \n",
        "    # Backward and optimize\n",
        "    optimizer.zero_grad()\n",
        "    loss.backward()\n",
        "    optimizer.step()\n",
        "    \n",
        "    if (epoch+1) % 100 == 0:\n",
        "        print ('Epoch [{}/{}], Loss: {:.4f}'.format(epoch+1, \n",
        "                                                    num_epochs, loss.item()))"
      ],
      "execution_count": 19,
      "outputs": [
        {
          "output_type": "stream",
          "text": [
            "Epoch [100/10000], Loss: 18.6648\n",
            "Epoch [200/10000], Loss: 18.6337\n",
            "Epoch [300/10000], Loss: 18.6119\n",
            "Epoch [400/10000], Loss: 18.5902\n",
            "Epoch [500/10000], Loss: 18.5685\n",
            "Epoch [600/10000], Loss: 18.5469\n",
            "Epoch [700/10000], Loss: 18.5254\n",
            "Epoch [800/10000], Loss: 18.5040\n",
            "Epoch [900/10000], Loss: 18.4827\n",
            "Epoch [1000/10000], Loss: 18.4614\n",
            "Epoch [1100/10000], Loss: 18.4402\n",
            "Epoch [1200/10000], Loss: 18.4191\n",
            "Epoch [1300/10000], Loss: 18.3980\n",
            "Epoch [1400/10000], Loss: 18.3770\n",
            "Epoch [1500/10000], Loss: 18.3561\n",
            "Epoch [1600/10000], Loss: 18.3353\n",
            "Epoch [1700/10000], Loss: 18.3145\n",
            "Epoch [1800/10000], Loss: 18.2938\n",
            "Epoch [1900/10000], Loss: 18.2732\n",
            "Epoch [2000/10000], Loss: 18.2526\n",
            "Epoch [2100/10000], Loss: 18.2322\n",
            "Epoch [2200/10000], Loss: 18.2118\n",
            "Epoch [2300/10000], Loss: 18.1914\n",
            "Epoch [2400/10000], Loss: 18.1711\n",
            "Epoch [2500/10000], Loss: 18.1509\n",
            "Epoch [2600/10000], Loss: 18.1308\n",
            "Epoch [2700/10000], Loss: 18.1107\n",
            "Epoch [2800/10000], Loss: 18.0907\n",
            "Epoch [2900/10000], Loss: 18.0708\n",
            "Epoch [3000/10000], Loss: 18.0509\n",
            "Epoch [3100/10000], Loss: 18.0311\n",
            "Epoch [3200/10000], Loss: 18.0113\n",
            "Epoch [3300/10000], Loss: 17.9917\n",
            "Epoch [3400/10000], Loss: 17.9720\n",
            "Epoch [3500/10000], Loss: 17.9525\n",
            "Epoch [3600/10000], Loss: 17.9330\n",
            "Epoch [3700/10000], Loss: 17.9136\n",
            "Epoch [3800/10000], Loss: 17.8942\n",
            "Epoch [3900/10000], Loss: 17.8749\n",
            "Epoch [4000/10000], Loss: 17.8557\n",
            "Epoch [4100/10000], Loss: 17.8365\n",
            "Epoch [4200/10000], Loss: 17.8174\n",
            "Epoch [4300/10000], Loss: 17.7984\n",
            "Epoch [4400/10000], Loss: 17.7794\n",
            "Epoch [4500/10000], Loss: 17.7604\n",
            "Epoch [4600/10000], Loss: 17.7416\n",
            "Epoch [4700/10000], Loss: 17.7227\n",
            "Epoch [4800/10000], Loss: 17.7040\n",
            "Epoch [4900/10000], Loss: 17.6853\n",
            "Epoch [5000/10000], Loss: 17.6667\n",
            "Epoch [5100/10000], Loss: 17.6481\n",
            "Epoch [5200/10000], Loss: 17.6296\n",
            "Epoch [5300/10000], Loss: 17.6111\n",
            "Epoch [5400/10000], Loss: 17.5927\n",
            "Epoch [5500/10000], Loss: 17.5743\n",
            "Epoch [5600/10000], Loss: 17.5560\n",
            "Epoch [5700/10000], Loss: 17.5378\n",
            "Epoch [5800/10000], Loss: 17.5196\n",
            "Epoch [5900/10000], Loss: 17.5015\n",
            "Epoch [6000/10000], Loss: 17.4834\n",
            "Epoch [6100/10000], Loss: 17.4654\n",
            "Epoch [6200/10000], Loss: 17.4475\n",
            "Epoch [6300/10000], Loss: 17.4296\n",
            "Epoch [6400/10000], Loss: 17.4117\n",
            "Epoch [6500/10000], Loss: 17.3939\n",
            "Epoch [6600/10000], Loss: 17.3761\n",
            "Epoch [6700/10000], Loss: 17.3584\n",
            "Epoch [6800/10000], Loss: 17.3408\n",
            "Epoch [6900/10000], Loss: 17.3232\n",
            "Epoch [7000/10000], Loss: 17.3057\n",
            "Epoch [7100/10000], Loss: 17.2882\n",
            "Epoch [7200/10000], Loss: 17.2708\n",
            "Epoch [7300/10000], Loss: 17.2534\n",
            "Epoch [7400/10000], Loss: 17.2361\n",
            "Epoch [7500/10000], Loss: 17.2188\n",
            "Epoch [7600/10000], Loss: 17.2016\n",
            "Epoch [7700/10000], Loss: 17.1844\n",
            "Epoch [7800/10000], Loss: 17.1673\n",
            "Epoch [7900/10000], Loss: 17.1502\n",
            "Epoch [8000/10000], Loss: 17.1331\n",
            "Epoch [8100/10000], Loss: 17.1162\n",
            "Epoch [8200/10000], Loss: 17.0992\n",
            "Epoch [8300/10000], Loss: 17.0824\n",
            "Epoch [8400/10000], Loss: 17.0655\n",
            "Epoch [8500/10000], Loss: 17.0487\n",
            "Epoch [8600/10000], Loss: 17.0320\n",
            "Epoch [8700/10000], Loss: 17.0153\n",
            "Epoch [8800/10000], Loss: 16.9987\n",
            "Epoch [8900/10000], Loss: 16.9821\n",
            "Epoch [9000/10000], Loss: 16.9655\n",
            "Epoch [9100/10000], Loss: 16.9491\n",
            "Epoch [9200/10000], Loss: 16.9326\n",
            "Epoch [9300/10000], Loss: 16.9162\n",
            "Epoch [9400/10000], Loss: 16.8998\n",
            "Epoch [9500/10000], Loss: 16.8835\n",
            "Epoch [9600/10000], Loss: 16.8673\n",
            "Epoch [9700/10000], Loss: 16.8510\n",
            "Epoch [9800/10000], Loss: 16.8349\n",
            "Epoch [9900/10000], Loss: 16.8187\n",
            "Epoch [10000/10000], Loss: 16.8026\n"
          ],
          "name": "stdout"
        }
      ]
    },
    {
      "cell_type": "code",
      "metadata": {
        "id": "W59zUVOohL3f",
        "colab_type": "code",
        "colab": {}
      },
      "source": [
        ""
      ],
      "execution_count": 0,
      "outputs": []
    }
  ]
}