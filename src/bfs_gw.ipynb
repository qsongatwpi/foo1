{
  "nbformat": 4,
  "nbformat_minor": 0,
  "metadata": {
    "colab": {
      "name": "Copy of python_notebook.ipynb",
      "provenance": [],
      "authorship_tag": "ABX9TyOkDGARnMVrClZ0WoY4wSh0",
      "include_colab_link": true
    },
    "kernelspec": {
      "name": "python3",
      "display_name": "Python 3"
    },
    "language_info": {
      "name": "python"
    }
  },
  "cells": [
    {
      "cell_type": "markdown",
      "metadata": {
        "id": "view-in-github",
        "colab_type": "text"
      },
      "source": [
        "<a href=\"https://colab.research.google.com/github/songqsh/foo1/blob/master/src/bfs_gw.ipynb\" target=\"_parent\"><img src=\"https://colab.research.google.com/assets/colab-badge.svg\" alt=\"Open In Colab\"/></a>"
      ]
    },
    {
      "cell_type": "markdown",
      "metadata": {
        "id": "0YJSS56376aX"
      },
      "source": [
        "# BFS\n",
        "\n"
      ]
    },
    {
      "cell_type": "code",
      "metadata": {
        "id": "LxkL8bK375hG"
      },
      "source": [
        "# import packages\n",
        "import numpy as np\n",
        "import numpy.linalg as la\n",
        "np.set_printoptions(suppress=True)\n",
        "import itertools"
      ],
      "execution_count": 1,
      "outputs": []
    },
    {
      "cell_type": "code",
      "metadata": {
        "id": "jw7rKh7AxW79",
        "colab": {
          "base_uri": "https://localhost:8080/"
        },
        "outputId": "5cb4b4ae-49aa-4a02-abfe-467af7c2f22d"
      },
      "source": [
        "A = np.array([[2., 1., 1, 0, 0], [1.,1,0,1, 0], [1., 0, 0, 0, 1]])\n",
        "b = np.array([100.,80,40])\n",
        "c = np.array([3,2,0., 0, 0])\n",
        "m, n = A.shape\n",
        "print(f'coefficient matrix is \\n {A}')\n",
        "print(f'right hand side vector is \\n {b}')\n",
        "print(f'coefficient of objective function is \\n {c}')\n",
        "print(f'n is {n} and m is {m}')"
      ],
      "execution_count": 2,
      "outputs": [
        {
          "output_type": "stream",
          "text": [
            "coefficient matrix is \n",
            " [[2. 1. 1. 0. 0.]\n",
            " [1. 1. 0. 1. 0.]\n",
            " [1. 0. 0. 0. 1.]]\n",
            "right hand side vector is \n",
            " [100.  80.  40.]\n",
            "coefficient of objective function is \n",
            " [3. 2. 0. 0. 0.]\n",
            "n is 5 and m is 3\n"
          ],
          "name": "stdout"
        }
      ]
    },
    {
      "cell_type": "code",
      "metadata": {
        "id": "Yde_dhs7x1-R",
        "colab": {
          "base_uri": "https://localhost:8080/"
        },
        "outputId": "1fd9d308-3108-4957-9731-44344ebf59ba"
      },
      "source": [
        "a_list = list(range(n))\n",
        "\n",
        "bv_list = itertools.combinations(a_list,m)\n",
        "counter = 0\n",
        "for bv in bv_list:\n",
        "  try:\n",
        "    bs = la.solve(A[:,bv], b)\n",
        "    print(f'bv is {bv} and bs is {bs}')\n",
        "    if min(bs) >= 0:\n",
        "      counter = counter + 1\n",
        "      z=0\n",
        "      for i in range(m):\n",
        "        z = z + c[bv[i]]*bs[i]\n",
        "      print(f'...it is bfs and z-value is {z}')\n",
        "\n",
        "  except:\n",
        "    #print(f'bv is {bv} and it is singular')\n",
        "    pass\n",
        "\n",
        "print(f'number of feasibles is {counter}')"
      ],
      "execution_count": 7,
      "outputs": [
        {
          "output_type": "stream",
          "text": [
            "bv is (0, 1, 2) and bs is [ 40.  40. -20.]\n",
            "bv is (0, 1, 3) and bs is [40. 20. 20.]\n",
            "...it is bfs and z-value is 160.0\n",
            "bv is (0, 1, 4) and bs is [20. 60. 20.]\n",
            "...it is bfs and z-value is 180.0\n",
            "bv is (0, 2, 3) and bs is [40. 20. 40.]\n",
            "...it is bfs and z-value is 120.0\n",
            "bv is (0, 2, 4) and bs is [ 80. -60. -40.]\n",
            "bv is (0, 3, 4) and bs is [ 50.  30. -10.]\n",
            "bv is (1, 2, 4) and bs is [80. 20. 40.]\n",
            "...it is bfs and z-value is 160.0\n",
            "bv is (1, 3, 4) and bs is [100. -20.  40.]\n",
            "bv is (2, 3, 4) and bs is [100.  80.  40.]\n",
            "...it is bfs and z-value is 0.0\n",
            "number of feasibles is 5\n"
          ],
          "name": "stdout"
        }
      ]
    },
    {
      "cell_type": "code",
      "metadata": {
        "id": "0iF7r5Il0cGH",
        "colab": {
          "base_uri": "https://localhost:8080/"
        },
        "outputId": "f94d9666-01cd-42f0-95a9-c3fc5433774e"
      },
      "source": [
        "bs"
      ],
      "execution_count": 4,
      "outputs": [
        {
          "output_type": "execute_result",
          "data": {
            "text/plain": [
              "array([100.,  80.,  40.])"
            ]
          },
          "metadata": {
            "tags": []
          },
          "execution_count": 4
        }
      ]
    },
    {
      "cell_type": "code",
      "metadata": {
        "id": "2d9zDXWyeCvi",
        "colab": {
          "base_uri": "https://localhost:8080/"
        },
        "outputId": "a8696f86-1782-437f-ced4-62a23f0fc751"
      },
      "source": [
        "bv"
      ],
      "execution_count": 5,
      "outputs": [
        {
          "output_type": "execute_result",
          "data": {
            "text/plain": [
              "(2, 3, 4)"
            ]
          },
          "metadata": {
            "tags": []
          },
          "execution_count": 5
        }
      ]
    },
    {
      "cell_type": "code",
      "metadata": {
        "id": "9-CwNVI0eHBD"
      },
      "source": [
        ""
      ],
      "execution_count": 5,
      "outputs": []
    },
    {
      "cell_type": "code",
      "metadata": {
        "id": "80IgYVFbepzR",
        "colab": {
          "base_uri": "https://localhost:8080/"
        },
        "outputId": "9ed33872-a24b-4177-dab0-7933314d7742"
      },
      "source": [
        "c"
      ],
      "execution_count": 6,
      "outputs": [
        {
          "output_type": "execute_result",
          "data": {
            "text/plain": [
              "array([3., 2., 0., 0., 0.])"
            ]
          },
          "metadata": {
            "tags": []
          },
          "execution_count": 6
        }
      ]
    },
    {
      "cell_type": "code",
      "metadata": {
        "id": "OcQwcWOqgYzg"
      },
      "source": [
        ""
      ],
      "execution_count": 6,
      "outputs": []
    }
  ]
}