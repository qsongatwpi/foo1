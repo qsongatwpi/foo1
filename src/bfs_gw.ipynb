{
  "nbformat": 4,
  "nbformat_minor": 0,
  "metadata": {
    "colab": {
      "name": "Copy of python_notebook.ipynb",
      "provenance": [],
      "authorship_tag": "ABX9TyPDz/K7bghnxo9Wd147VLHq",
      "include_colab_link": true
    },
    "kernelspec": {
      "name": "python3",
      "display_name": "Python 3"
    },
    "language_info": {
      "name": "python"
    }
  },
  "cells": [
    {
      "cell_type": "markdown",
      "metadata": {
        "id": "view-in-github",
        "colab_type": "text"
      },
      "source": [
        "<a href=\"https://colab.research.google.com/github/songqsh/foo1/blob/master/src/bfs_gw.ipynb\" target=\"_parent\"><img src=\"https://colab.research.google.com/assets/colab-badge.svg\" alt=\"Open In Colab\"/></a>"
      ]
    },
    {
      "cell_type": "markdown",
      "metadata": {
        "id": "0YJSS56376aX"
      },
      "source": [
        "# BFS\n",
        "\n"
      ]
    },
    {
      "cell_type": "code",
      "metadata": {
        "id": "LxkL8bK375hG"
      },
      "source": [
        "# import packages\n",
        "import numpy as np\n",
        "import numpy.linalg as la\n",
        "np.set_printoptions(suppress=True)\n",
        "import itertools"
      ],
      "execution_count": 2,
      "outputs": []
    },
    {
      "cell_type": "code",
      "metadata": {
        "id": "jw7rKh7AxW79",
        "colab": {
          "base_uri": "https://localhost:8080/"
        },
        "outputId": "d0cdee54-00e2-4515-fed4-69f7479a8687"
      },
      "source": [
        "A = np.array([[2., 1., 1, 0, 0], [1.,1,0,1, 0], [1., 0, 0, 0, 1]])\n",
        "b = np.array([100.,80,40])\n",
        "c = np.array([3,2,0., 0, 0])\n",
        "m, n = A.shape\n",
        "print(f'coefficient matrix is \\n {A}')\n",
        "print(f'right hand side vector is \\n {b}')\n",
        "print(f'coefficient of objective function is \\n {c}')\n",
        "print(f'n is {n} and m is {m}')"
      ],
      "execution_count": 10,
      "outputs": [
        {
          "output_type": "stream",
          "text": [
            "coefficient matrix is \n",
            " [[2. 1. 1. 0. 0.]\n",
            " [1. 1. 0. 1. 0.]\n",
            " [1. 0. 0. 0. 1.]]\n",
            "right hand side vector is \n",
            " [100.  80.  40.]\n",
            "coefficient of objective function is \n",
            " [3. 2. 0. 0. 0.]\n",
            "n is 5 and m is 3\n"
          ],
          "name": "stdout"
        }
      ]
    },
    {
      "cell_type": "code",
      "metadata": {
        "id": "Yde_dhs7x1-R",
        "colab": {
          "base_uri": "https://localhost:8080/"
        },
        "outputId": "4761f0e7-5b3d-4bff-9374-a4349f917e0e"
      },
      "source": [
        "a_list = list(range(n))\n",
        "\n",
        "bv_list = itertools.combinations(a_list,m)\n",
        "\n",
        "for bv in bv_list:\n",
        "  try:\n",
        "    bs = la.solve(A[:,bv], b)\n",
        "    print(f'bv is {bv} and bs is {bs}')\n",
        "    if min(bs) >= 0:\n",
        "      z=0\n",
        "      for i in range(m):\n",
        "        z = z + c[bv[i]]*bs[i]\n",
        "      print(f'...it is bfs and z-value is {z}')\n",
        "\n",
        "  except:\n",
        "    print(f'bv is {bv} and it is singular')\n"
      ],
      "execution_count": 26,
      "outputs": [
        {
          "output_type": "stream",
          "text": [
            "bv is (0, 1, 2) and bs is [ 40.  40. -20.]\n",
            "bv is (0, 1, 3) and bs is [40. 20. 20.]\n",
            "...it is bfs and z-value is 160.0\n",
            "bv is (0, 1, 4) and bs is [20. 60. 20.]\n",
            "...it is bfs and z-value is 180.0\n",
            "bv is (0, 2, 3) and bs is [40. 20. 40.]\n",
            "...it is bfs and z-value is 120.0\n",
            "bv is (0, 2, 4) and bs is [ 80. -60. -40.]\n",
            "bv is (0, 3, 4) and bs is [ 50.  30. -10.]\n",
            "bv is (1, 2, 3) and it is singular\n",
            "bv is (1, 2, 4) and bs is [80. 20. 40.]\n",
            "...it is bfs and z-value is 160.0\n",
            "bv is (1, 3, 4) and bs is [100. -20.  40.]\n",
            "bv is (2, 3, 4) and bs is [100.  80.  40.]\n",
            "...it is bfs and z-value is 0.0\n"
          ],
          "name": "stdout"
        }
      ]
    },
    {
      "cell_type": "code",
      "metadata": {
        "id": "0iF7r5Il0cGH",
        "outputId": "d07a5708-a1e8-4eb5-b22c-bcf533bdf6f2",
        "colab": {
          "base_uri": "https://localhost:8080/"
        }
      },
      "source": [
        "bs"
      ],
      "execution_count": 19,
      "outputs": [
        {
          "output_type": "execute_result",
          "data": {
            "text/plain": [
              "array([100.,  80.,  40.])"
            ]
          },
          "metadata": {
            "tags": []
          },
          "execution_count": 19
        }
      ]
    },
    {
      "cell_type": "code",
      "metadata": {
        "id": "2d9zDXWyeCvi",
        "outputId": "250791ae-bf03-4ebf-a5c1-c8938c07ea88",
        "colab": {
          "base_uri": "https://localhost:8080/"
        }
      },
      "source": [
        "bv"
      ],
      "execution_count": 20,
      "outputs": [
        {
          "output_type": "execute_result",
          "data": {
            "text/plain": [
              "(2, 3, 4)"
            ]
          },
          "metadata": {
            "tags": []
          },
          "execution_count": 20
        }
      ]
    },
    {
      "cell_type": "code",
      "metadata": {
        "id": "9-CwNVI0eHBD",
        "outputId": "a318fb2a-94c6-4182-8266-6ff4a6853358",
        "colab": {
          "base_uri": "https://localhost:8080/"
        }
      },
      "source": [
        ""
      ],
      "execution_count": 22,
      "outputs": [
        {
          "output_type": "stream",
          "text": [
            "0 2 100.0 0.0\n",
            "1 3 80.0 0.0\n",
            "2 4 40.0 0.0\n",
            "0.0\n"
          ],
          "name": "stdout"
        }
      ]
    },
    {
      "cell_type": "code",
      "metadata": {
        "id": "80IgYVFbepzR",
        "outputId": "55831346-5cf7-4127-8418-9888c3229a65",
        "colab": {
          "base_uri": "https://localhost:8080/"
        }
      },
      "source": [
        "c"
      ],
      "execution_count": 23,
      "outputs": [
        {
          "output_type": "execute_result",
          "data": {
            "text/plain": [
              "array([3., 2., 0., 0., 0.])"
            ]
          },
          "metadata": {
            "tags": []
          },
          "execution_count": 23
        }
      ]
    },
    {
      "cell_type": "code",
      "metadata": {
        "id": "OcQwcWOqgYzg"
      },
      "source": [
        ""
      ],
      "execution_count": null,
      "outputs": []
    }
  ]
}