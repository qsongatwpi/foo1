{
  "nbformat": 4,
  "nbformat_minor": 0,
  "metadata": {
    "colab": {
      "name": "Copy of python_notebook.ipynb",
      "provenance": [],
      "authorship_tag": "ABX9TyNbsscLdNaNFdQQwkQVIWQ0",
      "include_colab_link": true
    },
    "kernelspec": {
      "name": "python3",
      "display_name": "Python 3"
    },
    "language_info": {
      "name": "python"
    }
  },
  "cells": [
    {
      "cell_type": "markdown",
      "metadata": {
        "id": "view-in-github",
        "colab_type": "text"
      },
      "source": [
        "<a href=\"https://colab.research.google.com/github/songqsh/foo1/blob/master/src/bfs_gw.ipynb\" target=\"_parent\"><img src=\"https://colab.research.google.com/assets/colab-badge.svg\" alt=\"Open In Colab\"/></a>"
      ]
    },
    {
      "cell_type": "markdown",
      "metadata": {
        "id": "0YJSS56376aX"
      },
      "source": [
        "# BFS\n",
        "\n"
      ]
    },
    {
      "cell_type": "code",
      "metadata": {
        "id": "LxkL8bK375hG"
      },
      "source": [
        "# import packages\n",
        "import numpy as np\n",
        "import numpy.linalg as la\n",
        "np.set_printoptions(suppress=True)\n",
        "import itertools"
      ],
      "execution_count": null,
      "outputs": []
    },
    {
      "cell_type": "code",
      "metadata": {
        "id": "jw7rKh7AxW79",
        "colab": {
          "base_uri": "https://localhost:8080/"
        },
        "outputId": "d7287606-e5df-4489-cb29-b86b12dd376b"
      },
      "source": [
        "A = np.array([[2., 1., 1, 0, 0], [1.,1,0,1, 0], [1., 0, 0, 0, 1]])\n",
        "b = np.array([100.,80,40])\n",
        "m, n = A.shape\n",
        "print(f'coefficient matrix is {A}')\n",
        "print(f'right hand side vector is {b}')\n",
        "print(f'n is {n} and m is {m}')"
      ],
      "execution_count": null,
      "outputs": [
        {
          "output_type": "stream",
          "text": [
            "coefficient matrix is [[2. 1. 1. 0. 0.]\n",
            " [1. 1. 0. 1. 0.]\n",
            " [1. 0. 0. 0. 1.]]\n",
            "right hand side vector is [100.  80.  40.]\n",
            "n is 5 and m is 3\n"
          ],
          "name": "stdout"
        }
      ]
    },
    {
      "cell_type": "code",
      "metadata": {
        "id": "Yde_dhs7x1-R",
        "colab": {
          "base_uri": "https://localhost:8080/"
        },
        "outputId": "8a399bf8-2c04-4346-c5df-8ab452f4267e"
      },
      "source": [
        "a_list = list(range(n))\n",
        "\n",
        "bv_list = itertools.combinations(a_list,m)\n",
        "\n",
        "for bv in bv_list:\n",
        "  try:\n",
        "    bs = la.solve(A[:,bv], b)\n",
        "    print(f'bv is {bv} and bs is {bs}')\n",
        "  except:\n",
        "    print(f'bv is {bv} and it is singular')\n"
      ],
      "execution_count": null,
      "outputs": [
        {
          "output_type": "stream",
          "text": [
            "bv is (0, 1, 2) and bs is [ 40.  40. -20.]\n",
            "bv is (0, 1, 3) and bs is [40. 20. 20.]\n",
            "bv is (0, 1, 4) and bs is [20. 60. 20.]\n",
            "bv is (0, 2, 3) and bs is [40. 20. 40.]\n",
            "bv is (0, 2, 4) and bs is [ 80. -60. -40.]\n",
            "bv is (0, 3, 4) and bs is [ 50.  30. -10.]\n",
            "bv is (1, 2, 3) and it is singular\n",
            "bv is (1, 2, 4) and bs is [80. 20. 40.]\n",
            "bv is (1, 3, 4) and bs is [100. -20.  40.]\n",
            "bv is (2, 3, 4) and bs is [100.  80.  40.]\n"
          ],
          "name": "stdout"
        }
      ]
    },
    {
      "cell_type": "code",
      "metadata": {
        "id": "0iF7r5Il0cGH"
      },
      "source": [
        ""
      ],
      "execution_count": null,
      "outputs": []
    }
  ]
}