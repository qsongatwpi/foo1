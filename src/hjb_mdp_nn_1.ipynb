{
 "cells": [
  {
   "cell_type": "code",
   "execution_count": 6,
   "metadata": {},
   "outputs": [],
   "source": [
    "from hjb_mdp_nn_1 import *"
   ]
  },
  {
   "cell_type": "markdown",
   "metadata": {},
   "source": [
    "# Goal: Implementation of HJB-MDP from NN"
   ]
  },
  {
   "cell_type": "code",
   "execution_count": 8,
   "metadata": {},
   "outputs": [
    {
     "name": "stdout",
     "output_type": "stream",
     "text": [
      ">>>>Elliptic Linear PDE with 1-dim\n",
      ">>>>MDP with 1-dim 8 mesh num\n",
      "Sequential(\n",
      "  (0): Linear(in_features=1, out_features=12, bias=True)\n",
      "  (1): ReLU()\n",
      "  (2): Linear(in_features=12, out_features=1, bias=True)\n",
      ")\n",
      "Epoch [50/500], Loss: 0.0069\n",
      "Epoch [100/500], Loss: 0.0048\n",
      "Epoch [150/500], Loss: 0.0040\n",
      "Epoch [200/500], Loss: 0.0035\n",
      "Epoch [250/500], Loss: 0.0032\n",
      "Epoch [300/500], Loss: 0.0030\n",
      "Epoch [350/500], Loss: 0.0029\n",
      "Epoch [400/500], Loss: 0.0027\n",
      "Epoch [450/500], Loss: 0.0026\n",
      "Epoch [500/500], Loss: 0.0026\n",
      ">>>time elapsed is: 2.2880170345306396\n",
      ">>>L2-error-norm: 0.0248507568360288\n",
      "[0.22604329884052277, 0.22683648765087128, 0.2276296764612198, 0.2284228652715683, 0.2292160540819168, 0.23000924289226532, 0.2384519726037979, 0.2552565336227417, 0.27235257625579834]\n"
     ]
    },
    {
     "data": {
      "image/png": "[encoded data removed]",
      "text/plain": [
       "<Figure size 432x288 with 1 Axes>"
      ]
     },
     "metadata": {
      "needs_background": "light"
     },
     "output_type": "display_data"
    }
   ],
   "source": [
    "torch.manual_seed(0)\n",
    "p = Pde(n_dim_=1); m = Mdp(p, n_mesh_= 8, method='cfd')\n",
    "value = solver(m, n_epoch=500)\n",
    "######check solution\n",
    "err =0\n",
    "for ix1 in deep_iter(*m.v_shape_):\n",
    "    s1 = m.i2s(ix1)\n",
    "    v1 = value(torch.FloatTensor(s1)).item()\n",
    "    exact_v1 =p.exact_soln(s1) \n",
    "    err1 = v1-exact_v1\n",
    "    err += err1**2\n",
    "\n",
    "err = err/m.v_size_\n",
    "print('>>>L2-error-norm: '+str(err))\n",
    "\n",
    "\n",
    "if p.n_dim_==1:\n",
    "    cod_x = []; cod_y=[]; cod_y_pred = []\n",
    "    for ix1 in deep_iter(*m.v_shape_):\n",
    "        s1 = m.i2s(ix1); cod_x += [s1,]\n",
    "        v1 = value(torch.FloatTensor(s1)).item(); cod_y_pred += [v1,]\n",
    "        exact_v1 =p.exact_soln(s1); cod_y += [exact_v1,]\n",
    "\n",
    "    plt.plot(cod_x, cod_y, cod_x, cod_y_pred)\n",
    "\n",
    "print(cod_y_pred)"
   ]
  },
  {
   "cell_type": "code",
   "execution_count": null,
   "metadata": {},
   "outputs": [],
   "source": []
  }
 ],
 "metadata": {
  "kernelspec": {
   "display_name": "Python 3",
   "language": "python",
   "name": "python3"
  },
  "language_info": {
   "codemirror_mode": {
    "name": "ipython",
    "version": 3
   },
   "file_extension": ".py",
   "mimetype": "text/x-python",
   "name": "python",
   "nbconvert_exporter": "python",
   "pygments_lexer": "ipython3",
   "version": "3.7.4"
  }
 },
 "nbformat": 4,
 "nbformat_minor": 2
}
