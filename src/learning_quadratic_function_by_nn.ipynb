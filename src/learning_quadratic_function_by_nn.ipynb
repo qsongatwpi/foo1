{
 "cells": [
  {
   "cell_type": "code",
   "execution_count": 4,
   "metadata": {},
   "outputs": [],
   "source": [
    "%matplotlib inline \n",
    "import torch"
   ]
  },
  {
   "cell_type": "markdown",
   "metadata": {},
   "source": [
    "Our objective is to learn a quadratic function. \n",
    "The target function to learn is\n",
    "$$f(x) = x^2 + 2x -1.$$\n"
   ]
  },
  {
   "cell_type": "markdown",
   "metadata": {},
   "source": [
    "- We use the following network for the forward pass, but the result is not good."
   ]
  },
  {
   "cell_type": "code",
   "execution_count": 2,
   "metadata": {},
   "outputs": [],
   "source": [
    "#x = F.dropout(torch.sigmoid(self.fc1(x)), p=0.5)\n",
    "#x = F.relu(self.fc2(x))\n",
    "#x = self.fc3(x)"
   ]
  },
  {
   "cell_type": "code",
   "execution_count": 3,
   "metadata": {},
   "outputs": [
    {
     "name": "stdout",
     "output_type": "stream",
     "text": [
      "Epoch [10000/100000], Loss: 2.1831\n",
      "Epoch [20000/100000], Loss: 1.5725\n",
      "Epoch [30000/100000], Loss: 1.5067\n",
      "Epoch [40000/100000], Loss: 1.1541\n",
      "Epoch [50000/100000], Loss: 1.5413\n",
      "Epoch [60000/100000], Loss: 1.1791\n",
      "Epoch [70000/100000], Loss: 1.0967\n",
      "Epoch [80000/100000], Loss: 1.5277\n",
      "Epoch [90000/100000], Loss: 1.4074\n",
      "Epoch [100000/100000], Loss: 1.2521\n"
     ]
    },
    {
     "data": {
      "image/png": "[encoded data removed]",
      "text/plain": [
       "<Figure size 432x288 with 1 Axes>"
      ]
     },
     "metadata": {
      "needs_background": "light"
     },
     "output_type": "display_data"
    }
   ],
   "source": [
    "%run quadfun01.py"
   ]
  },
  {
   "cell_type": "code",
   "execution_count": 5,
   "metadata": {},
   "outputs": [],
   "source": []
  },
  {
   "cell_type": "code",
   "execution_count": null,
   "metadata": {},
   "outputs": [],
   "source": []
  }
 ],
 "metadata": {
  "kernelspec": {
   "display_name": "Python 3",
   "language": "python",
   "name": "python3"
  },
  "language_info": {
   "codemirror_mode": {
    "name": "ipython",
    "version": 3
   },
   "file_extension": ".py",
   "mimetype": "text/x-python",
   "name": "python",
   "nbconvert_exporter": "python",
   "pygments_lexer": "ipython3",
   "version": "3.7.4"
  }
 },
 "nbformat": 4,
 "nbformat_minor": 2
}
