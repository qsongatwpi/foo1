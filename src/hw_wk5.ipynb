{
  "nbformat": 4,
  "nbformat_minor": 0,
  "metadata": {
    "colab": {
      "name": "hw-wk5.ipynb",
      "provenance": [],
      "authorship_tag": "ABX9TyMuxhpy8aA8PEWIU+h4ZSxV",
      "include_colab_link": true
    },
    "kernelspec": {
      "name": "python3",
      "display_name": "Python 3"
    },
    "language_info": {
      "name": "python"
    }
  },
  "cells": [
    {
      "cell_type": "markdown",
      "metadata": {
        "id": "view-in-github",
        "colab_type": "text"
      },
      "source": [
        "<a href=\"https://colab.research.google.com/github/songqsh/foo1/blob/master/src/hw_wk5.ipynb\" target=\"_parent\"><img src=\"https://colab.research.google.com/assets/colab-badge.svg\" alt=\"Open In Colab\"/></a>"
      ]
    },
    {
      "cell_type": "code",
      "metadata": {
        "id": "LOCmByJLNy10"
      },
      "source": [
        "# import package\n",
        "import numpy as np\n",
        "import numpy.linalg as la\n",
        "float_formatter = \"{:.2f}\".format\n",
        "np.set_printoptions(formatter={'float_kind':float_formatter})\n",
        "import pandas as pd"
      ],
      "execution_count": 9,
      "outputs": []
    },
    {
      "cell_type": "code",
      "metadata": {
        "id": "VbrYjHnkN5Vc"
      },
      "source": [
        "def pivot(A, i, j):\n",
        "  A[i] = A[i]/A[i,j] #scale to get one in (i,j)\n",
        "  n_rows, _ = A.shape\n",
        "  for k in range(n_rows):\n",
        "    if k==i:\n",
        "      continue # skip i-row\n",
        "    A[k] = A[k] - A[i]*A[k,j] # replacement to get zero"
      ],
      "execution_count": 10,
      "outputs": []
    },
    {
      "cell_type": "markdown",
      "metadata": {
        "id": "SBVN7QKElQ2B"
      },
      "source": [
        "Ex 1: Solve the following linear system\n",
        "$$\n",
        "\\begin{array}\n",
        "{ll}\n",
        "-5 x_1 - 7 x_2 - 7 x_3 & = -3 \\\\\n",
        "-8 x_1 + 9 x_2 + 7 x_3 & = 5\\\\\n",
        "-6 x_1 + 8 x_2 - 4 x_3 & = -3\n",
        "\\end{array}\n",
        "$$"
      ]
    },
    {
      "cell_type": "code",
      "metadata": {
        "id": "NaCR_vuiObrJ"
      },
      "source": [
        "#matrix input\n",
        "M = np.array([[-5.,-7,-7,-3.],\n",
        "              [-8., 9, 7, 5], \n",
        "              [-6., 8, -4, -3]])"
      ],
      "execution_count": 11,
      "outputs": []
    },
    {
      "cell_type": "code",
      "metadata": {
        "colab": {
          "base_uri": "https://localhost:8080/"
        },
        "id": "a6l40btsPKTv",
        "outputId": "90f17a8f-0d4b-4ba8-a293-63c60d41bdb2"
      },
      "source": [
        "pivot(M,1,1)\n",
        "M"
      ],
      "execution_count": 12,
      "outputs": [
        {
          "output_type": "execute_result",
          "data": {
            "text/plain": [
              "array([[-11.22, 0.00, -1.56, 0.89],\n",
              "       [-0.89, 1.00, 0.78, 0.56],\n",
              "       [1.11, 0.00, -10.22, -7.44]])"
            ]
          },
          "metadata": {
            "tags": []
          },
          "execution_count": 12
        }
      ]
    },
    {
      "cell_type": "code",
      "metadata": {
        "colab": {
          "base_uri": "https://localhost:8080/"
        },
        "id": "3MHmuuONPLs6",
        "outputId": "1a7d48ce-7805-4437-e1d5-59ed0aa92b01"
      },
      "source": [
        "pivot(M,0,0)\n",
        "M"
      ],
      "execution_count": 13,
      "outputs": [
        {
          "output_type": "execute_result",
          "data": {
            "text/plain": [
              "array([[1.00, -0.00, 0.14, -0.08],\n",
              "       [0.00, 1.00, 0.90, 0.49],\n",
              "       [0.00, 0.00, -10.38, -7.36]])"
            ]
          },
          "metadata": {
            "tags": []
          },
          "execution_count": 13
        }
      ]
    },
    {
      "cell_type": "code",
      "metadata": {
        "colab": {
          "base_uri": "https://localhost:8080/"
        },
        "id": "dZiMks4lPVYP",
        "outputId": "2c480efc-a941-4a0c-ab2d-c71090c958fa"
      },
      "source": [
        "pivot(M,2,2)\n",
        "M"
      ],
      "execution_count": 14,
      "outputs": [
        {
          "output_type": "execute_result",
          "data": {
            "text/plain": [
              "array([[1.00, 0.00, 0.00, -0.18],\n",
              "       [0.00, 1.00, 0.00, -0.15],\n",
              "       [-0.00, -0.00, 1.00, 0.71]])"
            ]
          },
          "metadata": {
            "tags": []
          },
          "execution_count": 14
        }
      ]
    },
    {
      "cell_type": "markdown",
      "metadata": {
        "id": "VwkkxAlBsxc2"
      },
      "source": [
        "Ex 2. Solve the follwoing LP with tableau method\n",
        "$$\n",
        "\\begin{array}\n",
        "{ll}\n",
        "\\max z &  = 3 x_1 + 2 x_2 \\\\\n",
        "\\hbox{ s.t. }\n",
        "\\\\\n",
        "2x_1 + x_2 &\\le 100 \\\\\n",
        "x_1 + x_2 & \\le 80\\\\\n",
        "x_1 & \\le 40 \\\\\n",
        "x_1, x_2 \\ge 0\n",
        "\\end{array}\n",
        "$$"
      ]
    },
    {
      "cell_type": "code",
      "metadata": {
        "id": "xzrC6UaSPZWf"
      },
      "source": [
        "#pivotize with (i,j)\n",
        "def pivot(A, i, j):\n",
        "  A[i] = A[i]/A[i,j] #scale to get one in (i,j)\n",
        "  n_rows, _ = A.shape\n",
        "  for k in range(n_rows):\n",
        "    if k==i:\n",
        "      continue # skip i-row\n",
        "    A[k] = A[k] - A[i]*A[k,j] # replacement to get zero"
      ],
      "execution_count": 15,
      "outputs": []
    },
    {
      "cell_type": "code",
      "metadata": {
        "id": "GTWkQujVwpCs"
      },
      "source": [
        "def minratio(ratio_list):\n",
        "  pivot_row = 0;\n",
        "  minratio = np.inf;\n",
        "  for i in range(len(ratio_list)):\n",
        "    if ratio_list[i]>0 and ratio_list[i]<minratio:\n",
        "      pivot_row = i+1\n",
        "      minratio = ratio_list[i]\n",
        "  if minratio is np.inf:\n",
        "    return 0 #no leaving variable\n",
        "  else:\n",
        "    return pivot_row\n"
      ],
      "execution_count": 33,
      "outputs": []
    },
    {
      "cell_type": "code",
      "metadata": {
        "id": "2A34QUmUtK0T"
      },
      "source": [
        "def newpivot(M): #M is the tableau\n",
        "  m, n = M.shape\n",
        "  m = m-1 #number of constraints in the augmented form\n",
        "  n = n-2 #number of variables in the augmented form\n",
        "  optimal_test = min(M[0, range(1,n+1)])\n",
        "  \n",
        "  if optimal_test<0:\n",
        "    pivot_col = np.argmin(M[0,range(1,n+1)])+1\n",
        "  else:\n",
        "    print(f'pass the optimal test')\n",
        "    return(0)\n",
        "  ratio_list = np.divide(M[range(1,m+1),-1], M[range(1, m+1),pivot_col])\n",
        "\n",
        "  minratiotest = minratio(ratio_list)\n",
        "  if minratiotest is 0:\n",
        "    print(f'no leaving variable, here is the ratio list {ratio_list}')\n",
        "    return(0)\n",
        "  else:\n",
        "    pivot_row = minratiotest\n",
        "  return(pivot_row, pivot_col)\n"
      ],
      "execution_count": 34,
      "outputs": []
    },
    {
      "cell_type": "code",
      "metadata": {
        "colab": {
          "base_uri": "https://localhost:8080/",
          "height": 190
        },
        "id": "bf5cGkd1tLVQ",
        "outputId": "5801f421-189c-430a-8ec4-a86bbadf9dea"
      },
      "source": [
        "# input initial tableau\n",
        "M = np.array([\n",
        "               [1, -3, -2, 0, 0, 0, 0], \n",
        "               [0, 2, 1, 1, 0, 0, 100], \n",
        "               [0, 1, 1, 0, 1, 0, 80],\n",
        "               [0, 1, 0, 0, 0, 1, 40]\n",
        "               ], dtype = float)\n",
        "m, n = M.shape\n",
        "m = m-1\n",
        "n = n-2\n",
        "print(f'{m} constraints and {n} variables')\n",
        "pd.DataFrame(M) # print matrix"
      ],
      "execution_count": 35,
      "outputs": [
        {
          "output_type": "stream",
          "text": [
            "3 constraints and 5 variables\n"
          ],
          "name": "stdout"
        },
        {
          "output_type": "execute_result",
          "data": {
            "text/html": [
              "<div>\n",
              "<style scoped>\n",
              "    .dataframe tbody tr th:only-of-type {\n",
              "        vertical-align: middle;\n",
              "    }\n",
              "\n",
              "    .dataframe tbody tr th {\n",
              "        vertical-align: top;\n",
              "    }\n",
              "\n",
              "    .dataframe thead th {\n",
              "        text-align: right;\n",
              "    }\n",
              "</style>\n",
              "<table border=\"1\" class=\"dataframe\">\n",
              "  <thead>\n",
              "    <tr style=\"text-align: right;\">\n",
              "      <th></th>\n",
              "      <th>0</th>\n",
              "      <th>1</th>\n",
              "      <th>2</th>\n",
              "      <th>3</th>\n",
              "      <th>4</th>\n",
              "      <th>5</th>\n",
              "      <th>6</th>\n",
              "    </tr>\n",
              "  </thead>\n",
              "  <tbody>\n",
              "    <tr>\n",
              "      <th>0</th>\n",
              "      <td>1.0</td>\n",
              "      <td>-3.0</td>\n",
              "      <td>-2.0</td>\n",
              "      <td>0.0</td>\n",
              "      <td>0.0</td>\n",
              "      <td>0.0</td>\n",
              "      <td>0.0</td>\n",
              "    </tr>\n",
              "    <tr>\n",
              "      <th>1</th>\n",
              "      <td>0.0</td>\n",
              "      <td>2.0</td>\n",
              "      <td>1.0</td>\n",
              "      <td>1.0</td>\n",
              "      <td>0.0</td>\n",
              "      <td>0.0</td>\n",
              "      <td>100.0</td>\n",
              "    </tr>\n",
              "    <tr>\n",
              "      <th>2</th>\n",
              "      <td>0.0</td>\n",
              "      <td>1.0</td>\n",
              "      <td>1.0</td>\n",
              "      <td>0.0</td>\n",
              "      <td>1.0</td>\n",
              "      <td>0.0</td>\n",
              "      <td>80.0</td>\n",
              "    </tr>\n",
              "    <tr>\n",
              "      <th>3</th>\n",
              "      <td>0.0</td>\n",
              "      <td>1.0</td>\n",
              "      <td>0.0</td>\n",
              "      <td>0.0</td>\n",
              "      <td>0.0</td>\n",
              "      <td>1.0</td>\n",
              "      <td>40.0</td>\n",
              "    </tr>\n",
              "  </tbody>\n",
              "</table>\n",
              "</div>"
            ],
            "text/plain": [
              "     0    1    2    3    4    5      6\n",
              "0  1.0 -3.0 -2.0  0.0  0.0  0.0    0.0\n",
              "1  0.0  2.0  1.0  1.0  0.0  0.0  100.0\n",
              "2  0.0  1.0  1.0  0.0  1.0  0.0   80.0\n",
              "3  0.0  1.0  0.0  0.0  0.0  1.0   40.0"
            ]
          },
          "metadata": {
            "tags": []
          },
          "execution_count": 35
        }
      ]
    },
    {
      "cell_type": "code",
      "metadata": {
        "colab": {
          "base_uri": "https://localhost:8080/"
        },
        "id": "JQmeswwttsoR",
        "outputId": "97d31ca0-c223-49a4-fbce-9223a767c63e"
      },
      "source": [
        "npivot = newpivot(M)\n",
        "while npivot != 0:\n",
        "  print(f'new pivot is {npivot}')\n",
        "  if npivot is not 0:\n",
        "    pivot(M, npivot[0], npivot[1])\n",
        "    print(pd.DataFrame(M))\n",
        "    print(f'=======================')\n",
        "    npivot = newpivot(M)"
      ],
      "execution_count": 36,
      "outputs": [
        {
          "output_type": "stream",
          "text": [
            "new pivot is (3, 1)\n",
            "     0    1    2    3    4    5      6\n",
            "0  1.0  0.0 -2.0  0.0  0.0  3.0  120.0\n",
            "1  0.0  0.0  1.0  1.0  0.0 -2.0   20.0\n",
            "2  0.0  0.0  1.0  0.0  1.0 -1.0   40.0\n",
            "3  0.0  1.0  0.0  0.0  0.0  1.0   40.0\n",
            "=======================\n",
            "new pivot is (1, 2)\n",
            "     0    1    2    3    4    5      6\n",
            "0  1.0  0.0  0.0  2.0  0.0 -1.0  160.0\n",
            "1  0.0  0.0  1.0  1.0  0.0 -2.0   20.0\n",
            "2  0.0  0.0  0.0 -1.0  1.0  1.0   20.0\n",
            "3  0.0  1.0  0.0  0.0  0.0  1.0   40.0\n",
            "=======================\n",
            "new pivot is (2, 5)\n",
            "     0    1    2    3    4    5      6\n",
            "0  1.0  0.0  0.0  1.0  1.0  0.0  180.0\n",
            "1  0.0  0.0  1.0 -1.0  2.0  0.0   60.0\n",
            "2  0.0  0.0  0.0 -1.0  1.0  1.0   20.0\n",
            "3  0.0  1.0  0.0  1.0 -1.0  0.0   20.0\n",
            "=======================\n",
            "pass the optimal test\n"
          ],
          "name": "stdout"
        },
        {
          "output_type": "stream",
          "text": [
            "/usr/local/lib/python3.7/dist-packages/ipykernel_launcher.py:12: RuntimeWarning: divide by zero encountered in true_divide\n",
            "  if sys.path[0] == '':\n"
          ],
          "name": "stderr"
        }
      ]
    },
    {
      "cell_type": "code",
      "metadata": {
        "id": "yNzuq_2At10l"
      },
      "source": [
        ""
      ],
      "execution_count": null,
      "outputs": []
    }
  ]
}