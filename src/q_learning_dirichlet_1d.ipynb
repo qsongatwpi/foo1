{
  "nbformat": 4,
  "nbformat_minor": 0,
  "metadata": {
    "colab": {
      "name": "q_learning_dirichlet_1d.ipynb",
      "version": "0.3.2",
      "provenance": [],
      "include_colab_link": true
    },
    "kernelspec": {
      "name": "python3",
      "display_name": "Python 3"
    }
  },
  "cells": [
    {
      "cell_type": "markdown",
      "metadata": {
        "id": "view-in-github",
        "colab_type": "text"
      },
      "source": [
        "<a href=\"https://colab.research.google.com/github/songqsh/foo1/blob/master/src/q_learning_dirichlet_1d.ipynb\" target=\"_parent\"><img src=\"https://colab.research.google.com/assets/colab-badge.svg\" alt=\"Open In Colab\"/></a>"
      ]
    },
    {
      "cell_type": "markdown",
      "metadata": {
        "id": "0FE_3SbEHHAK",
        "colab_type": "text"
      },
      "source": [
        "__Goal__\n",
        "\n",
        "Here we solve 1d Dirichlet problem with q_learning. The same example with value iteration is given [here](https://github.com/songqsh/foo1/blob/master/src/value_iter_dirichlet_1d_v01.ipynb).\n",
        "\n",
        "__Conclusion__\n",
        "\n",
        "- Q_learning is kind of Monte carlo and much more instable than value iteration in 1-d problem.\n",
        "But it may work for high dimensional problem while value iteration may not. \n",
        "\n",
        "- Another observation is the quality of the solution highly depends on the initial q_table. In particular, one can feed initial q_value with the exact solution of continuous time problem, if it is available."
      ]
    },
    {
      "cell_type": "code",
      "metadata": {
        "id": "HlUEVd6451s0",
        "colab_type": "code",
        "colab": {}
      },
      "source": [
        "import numpy as np\n",
        "import time\n",
        "start_time = time.time()\n",
        "\n",
        "from tqdm import tqdm\n",
        "import matplotlib.pyplot as plt"
      ],
      "execution_count": 0,
      "outputs": []
    },
    {
      "cell_type": "code",
      "metadata": {
        "id": "KsXKcBQV57_J",
        "colab_type": "code",
        "colab": {}
      },
      "source": [
        "#PDE to be solved\n",
        "class pde:\n",
        "  def __init__(self):\n",
        "    #pde config\n",
        "    self.name = 'HJB 1d'\n",
        "    \n",
        "    self.U_LIM = 1 #upper limit for state\n",
        "    self.L_LIM = 0 #lower limit for state\n",
        "\n",
        "    self.lambda_ = 0. #discount rate\n",
        "    self.sigma = 1. #diffusion coefficient\n",
        "    self.drift = lambda x,a: a #drift coefficient function\n",
        "\n",
        "    self.run_cost = lambda x, a: (a**2+1)/2.\n",
        "\n",
        "    C1 = 1; C2 = 1\n",
        "    self.term_cost = lambda x: - np.log(C1*np.exp(x) + C2*np.exp(-x))\n",
        "    \n",
        "    #pde exact solution if available\n",
        "    self.exact_sol = self.term_cost"
      ],
      "execution_count": 0,
      "outputs": []
    },
    {
      "cell_type": "code",
      "metadata": {
        "id": "ph7MvtJ06BYu",
        "colab_type": "code",
        "colab": {}
      },
      "source": [
        "def mdp_space_config(self, \n",
        "                     NUM = 5 #num of meshes in one unit state space\n",
        "                    ):\n",
        "  self.NUM = NUM\n",
        "  \n",
        "  self.h = 1./self.NUM #mesh size in state space\n",
        "\n",
        "  self.s_space = np.arange(self.L_LIM, self.U_LIM+self.h, self.h) #state space\n",
        "\n",
        "  self.a_space = np.arange(2*self.L_LIM, 2*self.U_LIM + self.h, self.h) #action space\n",
        "\n",
        "  self.del_ind_space = np.array([-1,1]) #space of delta (1-step) index: -1 means left, 1 means right move\n",
        "\n",
        "  self.term_ind_space = np.array([0, self.s_space.size-1]) #space of terminal state indice\n",
        "\n",
        "  #q-table and state value initialization\n",
        "\n",
        "  self.s_val = np.zeros(self.s_space.size)\n",
        "  self.q_table = np.zeros([self.s_space.size, self.a_space.size])\n",
        "  \n",
        "  '''\n",
        "  #for test purpose, adjust initialization as exact solution\n",
        "  self.s_val = self.exact_sol(self.s_space)\n",
        "  for i in range(self.s_space.size):\n",
        "    self.q_table[i] = self.s_val[i]*np.ones(self.a_space.size)\n",
        "  '''\n",
        "  \n",
        "  print('>>>>> q_table size is %i' %(self.q_table.size))\n",
        "\n",
        "  #s_val and q-table terminal setup\n",
        "  for i in self.term_ind_space:\n",
        "    self.s_val[i] = self.term_cost(self.s_space[i])\n",
        "    for j in range(self.a_space.size):\n",
        "      self.q_table[i,j] = self.term_cost(self.s_space[i])\n",
        "  \n",
        "  \n",
        "pde.mdp_space_config = mdp_space_config"
      ],
      "execution_count": 0,
      "outputs": []
    },
    {
      "cell_type": "code",
      "metadata": {
        "id": "lqn0iaRM6Hvg",
        "colab_type": "code",
        "colab": {}
      },
      "source": [
        "#transition probability\n",
        "#output is probability (np array) on del_ind_space \n",
        "#central fdm\n",
        "\n",
        "def mdp_trans_prob_central(self,x,a):\n",
        "  tp = np.zeros(self.del_ind_space.shape)\n",
        "  \n",
        "  b_ = self.drift(x,a)\n",
        "  tp[0] = (-b_*self.h + self.sigma**2)/(2*self.sigma**2)\n",
        "  tp[1] = (b_*self.h + self.sigma**2)/(2*self.sigma**2)\n",
        "  \n",
        "  #correction on prob\n",
        "  if tp[1]<0:\n",
        "    tp = tp - tp[1]\n",
        "    tp = tp/tp.sum()\n",
        "    print('>>>>corrected probability due to negativity')\n",
        "\n",
        "  return tp  \n",
        "\n",
        "pde.mdp_trans_prob_central = mdp_trans_prob_central"
      ],
      "execution_count": 0,
      "outputs": []
    },
    {
      "cell_type": "code",
      "metadata": {
        "id": "6nsoo9DE6aYv",
        "colab_type": "code",
        "colab": {}
      },
      "source": [
        "def q_learning(self, n_epoch = 50000, learning_rate = 0.001, start_state = 0.5):\n",
        "  start_ind = np.int((start_state - self.L_LIM)/self.h)\n",
        "  Lambda_ = 1 + self.lambda_* self.h**2/ self.sigma**2 # reciprocal of discount factor\n",
        "  for epoch in tqdm(range(n_epoch)):\n",
        "    now_ind_ = start_ind #start\n",
        "    \n",
        "    while now_ind_ not in self.term_ind_space:\n",
        "      act_ind_ = np.argmin(self.q_table[now_ind_]) #choose action index\n",
        "      \n",
        "      x_ = self.s_space[now_ind_] #current state\n",
        "      a_ = self.a_space[act_ind_] #current action\n",
        "      \n",
        "      run_cost_ = self.run_cost(x_,a_)*self.h**2/self.sigma**2 #compute running cost\n",
        "      tp_ = self.mdp_trans_prob_central(x_, a_) #transition probability\n",
        "      \n",
        "      sampling_ = np.random.binomial(1, tp_[0]) #random sampling \n",
        "      del_ind_ = 1 # to the right\n",
        "      if sampling_ == 0:\n",
        "        del_ind_ = -1 #to the left\n",
        "      next_ind_ = now_ind_ + del_ind_ #next state index\n",
        "      \n",
        "      del_q = run_cost_ + self.s_val[next_ind_]/Lambda_ - self.q_table[now_ind_,act_ind_] #delta of q value for update\n",
        "      self.q_table[now_ind_, act_ind_] += learning_rate*del_q #update q_value\n",
        "      self.s_val[now_ind_] = np.min(self.q_table[now_ind_]) #sync q_table with s_val\n",
        "      \n",
        "      now_ind_ = next_ind_\n",
        "  return self.s_val[start_ind]\n",
        "  \n",
        "pde.q_learning = q_learning\n",
        "  "
      ],
      "execution_count": 0,
      "outputs": []
    },
    {
      "cell_type": "code",
      "metadata": {
        "id": "VDWH2xq4MEHh",
        "colab_type": "code",
        "outputId": "02d894d8-2d07-4296-85e8-f27253561108",
        "colab": {
          "base_uri": "https://localhost:8080/",
          "height": 221
        }
      },
      "source": [
        "ans = 0\n",
        "n = 5\n",
        "for i in range(n):\n",
        "  pde1 = pde()\n",
        "  pde1.mdp_space_config(NUM=8)\n",
        "  ans += pde1.q_learning()\n",
        "  \n",
        "print('\\n soln is'+str(ans/n))"
      ],
      "execution_count": 6,
      "outputs": [
        {
          "output_type": "stream",
          "text": [
            "  1%|          | 276/50000 [00:00<00:18, 2752.57it/s]"
          ],
          "name": "stderr"
        },
        {
          "output_type": "stream",
          "text": [
            ">>>>> q_table size is 153\n"
          ],
          "name": "stdout"
        },
        {
          "output_type": "stream",
          "text": [
            "100%|██████████| 50000/50000 [00:18<00:00, 2774.72it/s]\n",
            "  1%|          | 291/50000 [00:00<00:17, 2900.64it/s]"
          ],
          "name": "stderr"
        },
        {
          "output_type": "stream",
          "text": [
            ">>>>> q_table size is 153\n"
          ],
          "name": "stdout"
        },
        {
          "output_type": "stream",
          "text": [
            "100%|██████████| 50000/50000 [00:17<00:00, 2859.74it/s]\n",
            "  1%|          | 304/50000 [00:00<00:16, 3031.76it/s]"
          ],
          "name": "stderr"
        },
        {
          "output_type": "stream",
          "text": [
            ">>>>> q_table size is 153\n"
          ],
          "name": "stdout"
        },
        {
          "output_type": "stream",
          "text": [
            "100%|██████████| 50000/50000 [00:16<00:00, 3053.22it/s]\n",
            "  1%|          | 321/50000 [00:00<00:15, 3203.49it/s]"
          ],
          "name": "stderr"
        },
        {
          "output_type": "stream",
          "text": [
            ">>>>> q_table size is 153\n"
          ],
          "name": "stdout"
        },
        {
          "output_type": "stream",
          "text": [
            "100%|██████████| 50000/50000 [00:17<00:00, 2806.79it/s]\n",
            "  1%|          | 291/50000 [00:00<00:17, 2897.84it/s]"
          ],
          "name": "stderr"
        },
        {
          "output_type": "stream",
          "text": [
            ">>>>> q_table size is 153\n"
          ],
          "name": "stdout"
        },
        {
          "output_type": "stream",
          "text": [
            "100%|██████████| 50000/50000 [00:17<00:00, 2853.22it/s]"
          ],
          "name": "stderr"
        },
        {
          "output_type": "stream",
          "text": [
            "\n",
            " soln is-0.7572697808225146\n"
          ],
          "name": "stdout"
        },
        {
          "output_type": "stream",
          "text": [
            "\n"
          ],
          "name": "stderr"
        }
      ]
    },
    {
      "cell_type": "code",
      "metadata": {
        "id": "97U7TqOjNP3x",
        "colab_type": "code",
        "outputId": "acf26057-098b-46a8-a334-476fa9cfff0d",
        "colab": {
          "base_uri": "https://localhost:8080/",
          "height": 34
        }
      },
      "source": [
        "end_time = time.time()\n",
        "print('elapsed time is %f seconds' %(end_time - start_time))"
      ],
      "execution_count": 7,
      "outputs": [
        {
          "output_type": "stream",
          "text": [
            "elapsed time is 87.380742 seconds\n"
          ],
          "name": "stdout"
        }
      ]
    },
    {
      "cell_type": "code",
      "metadata": {
        "id": "hix7_ygDLRPT",
        "colab_type": "code",
        "outputId": "d0be8950-1746-4ebb-e353-41e4f1734d8a",
        "colab": {
          "base_uri": "https://localhost:8080/",
          "height": 34
        }
      },
      "source": [
        "pde1.exact_sol(0.5)"
      ],
      "execution_count": 8,
      "outputs": [
        {
          "output_type": "execute_result",
          "data": {
            "text/plain": [
              "-0.8132616875182228"
            ]
          },
          "metadata": {
            "tags": []
          },
          "execution_count": 8
        }
      ]
    },
    {
      "cell_type": "code",
      "metadata": {
        "id": "1jxcjJE8F2Qd",
        "colab_type": "code",
        "colab": {
          "base_uri": "https://localhost:8080/",
          "height": 51
        },
        "outputId": "47dbf966-51ec-494b-dc5a-5b8fb3590f17"
      },
      "source": [
        "pde1.s_val"
      ],
      "execution_count": 9,
      "outputs": [
        {
          "output_type": "execute_result",
          "data": {
            "text/plain": [
              "array([-0.69314718, -0.68978342, -0.70290325, -0.73102253, -0.77703311,\n",
              "       -0.84228545, -0.92013197, -1.01565081, -1.12692801])"
            ]
          },
          "metadata": {
            "tags": []
          },
          "execution_count": 9
        }
      ]
    },
    {
      "cell_type": "code",
      "metadata": {
        "id": "oxM3yVaTF57c",
        "colab_type": "code",
        "colab": {
          "base_uri": "https://localhost:8080/",
          "height": 286
        },
        "outputId": "16f336a1-ed8b-4019-ce08-4baa61c0afa5"
      },
      "source": [
        "plt.plot(pde1.s_space, pde1.s_val, label = 'computed')\n",
        "\n",
        "exact_val = pde1.exact_sol(pde1.s_space)\n",
        "plt.plot(pde1.s_space, exact_val, label = 'exact')\n",
        "plt.legend()\n",
        "\n"
      ],
      "execution_count": 10,
      "outputs": [
        {
          "output_type": "execute_result",
          "data": {
            "text/plain": [
              "<matplotlib.legend.Legend at 0x7f4c7076c278>"
            ]
          },
          "metadata": {
            "tags": []
          },
          "execution_count": 10
        },
        {
          "output_type": "display_data",
          "data": {
            "image/png": "[encoded data removed]",
            "text/plain": [
              "<Figure size 432x288 with 1 Axes>"
            ]
          },
          "metadata": {
            "tags": []
          }
        }
      ]
    },
    {
      "cell_type": "code",
      "metadata": {
        "id": "gtj_gH0HGCGF",
        "colab_type": "code",
        "colab": {}
      },
      "source": [
        ""
      ],
      "execution_count": 0,
      "outputs": []
    }
  ]
}