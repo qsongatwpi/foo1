{
 "nbformat": 4,
 "nbformat_minor": 0,
 "metadata": {
  "colab": {
   "name": "Simplex.ipynb",
   "provenance": [],
   "authorship_tag": "ABX9TyNP8ksT7GaLpIGXDdYlSOxj",
   "include_colab_link": true
  },
  "kernelspec": {
   "name": "python3",
   "display_name": "Python 3"
  }
 },
 "cells": [
  {
   "cell_type": "markdown",
   "metadata": {
    "id": "00ZyRRxarrBi"
   },
   "source": [
    "# Simplex method\n",
    "\n",
    "We are going to illustrate simplex tableau method for linear programing using the following example - WG:\n",
    "$$\\max z = 3 x_1 + 5 x_2$$\n",
    "s.t.\n",
    "$$\\begin{array}{lll}\n",
    "x_1 & & \\le 4 \\\\\n",
    "& 2 x_2 &\\le 12 \\\\\n",
    "3x_1 & + 2x_2 & \\le 18\\\\\n",
    "x_1, & x_2 & \\ge 0\n",
    "\\end{array}\n",
    "$$"
   ]
  },
  {
   "cell_type": "code",
   "metadata": {
    "id": "HdIczcDireLv"
   },
   "source": [
    "# import package\n",
    "import numpy as np\n",
    "float_formatter = \"{:.2f}\".format\n",
    "np.set_printoptions(formatter={'float_kind':float_formatter})\n",
    "import warnings\n",
    "#ignore by message\n",
    "warnings.filterwarnings(\"ignore\", message=\"divide by zero encountered in true_divide\")"
   ],
   "execution_count": 1,
   "outputs": []
  },
  {
   "cell_type": "code",
   "execution_count": 3,
   "outputs": [
    {
     "ename": "ImportError",
     "evalue": "cannot import name 'all' from 'simplex' (/Users/qsong/Documents/GitHub/foo1/src/simplex.py)",
     "output_type": "error",
     "traceback": [
      "\u001B[0;31m---------------------------------------------------------------------------\u001B[0m",
      "\u001B[0;31mImportError\u001B[0m                               Traceback (most recent call last)",
      "\u001B[0;32m/var/folders/lk/c59x1k5j5nj0r0hl3m7bfh400000gq/T/ipykernel_14464/2348121893.py\u001B[0m in \u001B[0;36m<module>\u001B[0;34m\u001B[0m\n\u001B[0;32m----> 1\u001B[0;31m \u001B[0;32mfrom\u001B[0m \u001B[0msimplex\u001B[0m \u001B[0;32mimport\u001B[0m \u001B[0mall\u001B[0m\u001B[0;34m\u001B[0m\u001B[0;34m\u001B[0m\u001B[0m\n\u001B[0m",
      "\u001B[0;31mImportError\u001B[0m: cannot import name 'all' from 'simplex' (/Users/qsong/Documents/GitHub/foo1/src/simplex.py)"
     ]
    }
   ],
   "source": [
    "from simplex import *"
   ],
   "metadata": {
    "collapsed": false,
    "pycharm": {
     "name": "#%%\n"
    }
   }
  },
  {
   "cell_type": "markdown",
   "source": [
    "# Simplex solver"
   ],
   "metadata": {
    "collapsed": false,
    "pycharm": {
     "name": "#%% md\n"
    }
   }
  },
  {
   "cell_type": "code",
   "execution_count": 2,
   "outputs": [
    {
     "name": "stdout",
     "output_type": "stream",
     "text": [
      "3 constraints and 5 variables\n",
      "initial tableau is:\n",
      "=======================\n",
      "     0    1    2    3    4    5     6\n",
      "0  1.0 -3.0 -5.0  0.0  0.0  0.0   0.0\n",
      "1  0.0  1.0  0.0  1.0  0.0  0.0   4.0\n",
      "2  0.0  0.0  2.0  0.0  1.0  0.0  12.0\n",
      "3  0.0  3.0  2.0  0.0  0.0  1.0  18.0\n",
      "=================================\n",
      "pass the optimal test\n",
      "optimal value is 36.0\n",
      "The final tableau is \n",
      "      0    1    2    3         4         5     6\n",
      "0  1.0  0.0  0.0  0.0  1.500000  1.000000  36.0\n",
      "1  0.0  0.0  0.0  1.0  0.333333 -0.333333   2.0\n",
      "2  0.0  0.0  1.0  0.0  0.500000  0.000000   6.0\n",
      "3  0.0  1.0  0.0  0.0 -0.333333  0.333333   2.0\n",
      "=================================\n"
     ]
    }
   ],
   "source": [
    "from simplex import simplex_solver\n",
    "# input initial tableau\n",
    "M_WG = np.array([\n",
    "    [1, -3, -5, 0, 0, 0, 0],\n",
    "    [0, 1, 0, 1, 0, 0, 4],\n",
    "    [0, 0, 2, 0, 1, 0, 12],\n",
    "    [0, 3, 2, 0, 0, 1, 18]\n",
    "], dtype=float)\n",
    "\n",
    "simplex_solver(M_WG, display=0) # display=1 print out intermediate tableau"
   ],
   "metadata": {
    "collapsed": false,
    "pycharm": {
     "name": "#%%\n"
    }
   }
  }
 ]
}