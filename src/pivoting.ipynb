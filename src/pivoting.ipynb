{
 "cells": [
  {
   "cell_type": "markdown",
   "source": [
    "## Pivoting\n",
    "\n",
    "Pivoting with $(i,j)$-entry means converting the matrix by multiple EROS so that the resulting matrix has all zeros in $j$-column,but one in $(i,j)$-entry. This is the key step in updating basic feasible solution. Pivoting is essential for solving linear systems and linear programmings. We consider the following linear system by pivoting as an example:\n",
    "$$\n",
    "x_1 + 2 x_2 - x_3  = 4$$\n",
    "$$- x_1 - x_2 + 2x_3  = 1$$\n",
    "$$x_1 \\quad \\quad \\quad + x_3  = 6$$\n"
   ],
   "metadata": {
    "collapsed": false,
    "pycharm": {
     "name": "#%% md\n"
    }
   }
  },
  {
   "cell_type": "code",
   "execution_count": 4,
   "outputs": [
    {
     "name": "stdout",
     "output_type": "stream",
     "text": [
      "============================\n",
      "initial augmented matrix is \n",
      " [[1.00 2.00 -1.00 4.00]\n",
      " [-1.00 -1.00 2.00 1.00]\n",
      " [1.00 0.00 1.00 6.00]]\n",
      "============================\n",
      "matrix after pivoting is \n",
      " [[1.00 0.00 0.00 3.00]\n",
      " [0.00 1.00 0.00 2.00]\n",
      " [0.00 0.00 1.00 3.00]]\n"
     ]
    }
   ],
   "source": [
    "import numpy as np\n",
    "from simplex import pivoting\n",
    "# initial matrix input\n",
    "M = np.array([[1,2,-1,4.],[-1.,-1, 2,1], [1.,0,1, 6]])\n",
    "print(f'============================')\n",
    "print(f'initial augmented matrix is \\n {M}')\n",
    "pivoting(M,0,0)\n",
    "pivoting(M,1,1)\n",
    "pivoting(M,2,2)\n",
    "print(f'============================')\n",
    "print(f'matrix after pivoting is \\n {M}')"
   ],
   "metadata": {
    "collapsed": false,
    "pycharm": {
     "name": "#%%\n"
    }
   }
  }
 ],
 "metadata": {
  "kernelspec": {
   "display_name": "Python 3",
   "language": "python",
   "name": "python3"
  },
  "language_info": {
   "codemirror_mode": {
    "name": "ipython",
    "version": 2
   },
   "file_extension": ".py",
   "mimetype": "text/x-python",
   "name": "python",
   "nbconvert_exporter": "python",
   "pygments_lexer": "ipython2",
   "version": "2.7.6"
  }
 },
 "nbformat": 4,
 "nbformat_minor": 0
}