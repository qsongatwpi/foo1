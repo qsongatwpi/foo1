{
 "nbformat": 4,
 "nbformat_minor": 0,
 "metadata": {
  "colab": {
   "name": "Simplex.ipynb",
   "provenance": [],
   "authorship_tag": "ABX9TyNP8ksT7GaLpIGXDdYlSOxj",
   "include_colab_link": true
  },
  "kernelspec": {
   "name": "python3",
   "display_name": "Python 3"
  }
 },
 "cells": [
  {
   "cell_type": "markdown",
   "metadata": {
    "id": "00ZyRRxarrBi"
   },
   "source": [
    "# Simplex method\n",
    "\n",
    "We are going to illustrate simplex tableau method for linear programing using the following example - WG:\n",
    "$$\\max z = 3 x_1 + 5 x_2$$\n",
    "s.t.\n",
    "$$\\begin{array}{lll}\n",
    "x_1 & & \\le 4 \\\\\n",
    "& 2 x_2 &\\le 12 \\\\\n",
    "3x_1 & + 2x_2 & \\le 18\\\\\n",
    "x_1, & x_2 & \\ge 0\n",
    "\\end{array}\n",
    "$$"
   ]
  },
  {
   "cell_type": "code",
   "metadata": {
    "id": "HdIczcDireLv"
   },
   "source": [
    "# import package\n",
    "import numpy as np\n",
    "float_formatter = \"{:.2f}\".format\n",
    "np.set_printoptions(formatter={'float_kind':float_formatter})\n",
    "import pandas as pd\n",
    "import warnings\n",
    "#ignore by message\n",
    "warnings.filterwarnings(\"ignore\", message=\"divide by zero encountered in true_divide\")"
   ],
   "execution_count": 1,
   "outputs": []
  },
  {
   "cell_type": "markdown",
   "metadata": {
    "id": "qPGpUZT94CSW"
   },
   "source": [
    "## Pivoting\n",
    "\n",
    "Pivoting with $(i,j)$-entry means converting the matrix by multiple EROS so that the resulting matrix has all zeros in $j$-column, but one in $(i,j)$-entry. This is the key step in updating basic feasible solution."
   ]
  },
  {
   "cell_type": "code",
   "metadata": {
    "id": "QOOCy0MY4kHm"
   },
   "source": [
    "#pivoting with (i,j)\n",
    "def pivoting(A, i, j):\n",
    "  A[i] = A[i]/A[i,j] #scale to get one in (i,j)\n",
    "  n_rows, _ = A.shape\n",
    "  for k in range(n_rows):\n",
    "    if k==i:\n",
    "      continue # skip i-row\n",
    "    A[k] = A[k] - A[i]*A[k,j] # replacement to get zero"
   ],
   "execution_count": 2,
   "outputs": []
  },
  {
   "cell_type": "markdown",
   "metadata": {
    "id": "o2p2m-mct1ZO"
   },
   "source": [
    "## minimum ratio test\n",
    "\n"
   ]
  },
  {
   "cell_type": "code",
   "metadata": {
    "id": "VmkY6n92WFEf"
   },
   "source": [
    "def min_ratio_test(ratio_list):\n",
    "  pivot_row = 0\n",
    "  min_ratio = np.inf\n",
    "  for i in range(len(ratio_list)):\n",
    "    if 0 < ratio_list[i] < min_ratio:\n",
    "      pivot_row = i+1\n",
    "      min_ratio = ratio_list[i]\n",
    "  if min_ratio is np.inf:\n",
    "    return 0 #no leaving variable\n",
    "  else:\n",
    "    return pivot_row"
   ],
   "execution_count": 3,
   "outputs": []
  },
  {
   "cell_type": "markdown",
   "metadata": {
    "id": "W_iRaOLGWMz5"
   },
   "source": [
    "# Pivot column and row"
   ]
  },
  {
   "cell_type": "code",
   "metadata": {
    "id": "-sVG0HjsGYFf"
   },
   "source": [
    "def new_pivot(M_mat): #M is the tableau\n",
    "  row_n, col_n = M_mat.shape\n",
    "  row_n = row_n-1 #number of constraints in the augmented form\n",
    "  col_n = col_n-2 #number of variables in the augmented form\n",
    "  optimal_test = min(M_mat[0, range(1,col_n+1)])\n",
    "  \n",
    "  if optimal_test<0:\n",
    "    pivot_col = np.argmin(M_mat[0,range(1,col_n+1)])+1\n",
    "  else:\n",
    "    print(f'pass the optimal test')\n",
    "    return 0\n",
    "  ratio_list = np.divide(M_mat[range(1,row_n+1),-1], M_mat[range(1, row_n+1),pivot_col])\n",
    "\n",
    "  pivot_row = min_ratio_test(ratio_list)\n",
    "  if pivot_row is 0:\n",
    "    print(f'no leaving variable, here is the ratio list {ratio_list}')\n",
    "    return 0\n",
    "  else:\n",
    "    return pivot_row, pivot_col"
   ],
   "execution_count": 4,
   "outputs": []
  },
  {
   "cell_type": "code",
   "metadata": {
    "colab": {
     "base_uri": "https://localhost:8080/",
     "height": 190
    },
    "id": "hM68Z6gnr17k",
    "outputId": "636e76d6-edc0-4a36-bad2-d414371abf30"
   },
   "source": [
    "# input initial tableau\n",
    "M = np.array([\n",
    "               [1, -3, -5, 0, 0, 0, 0], \n",
    "               [0, 1, 0, 1, 0, 0, 4], \n",
    "               [0, 0, 2, 0, 1, 0, 12],\n",
    "               [0, 3, 2, 0, 0, 1, 18]\n",
    "               ], dtype = float)\n",
    "m, n = M.shape\n",
    "m = m-1\n",
    "n = n-2\n",
    "print(f'{m} constraints and {n} variables')\n",
    "\n",
    "print(pd.DataFrame(M)) # print matrix"
   ],
   "execution_count": 5,
   "outputs": [
    {
     "name": "stdout",
     "output_type": "stream",
     "text": [
      "3 constraints and 5 variables\n",
      "     0    1    2    3    4    5     6\n",
      "0  1.0 -3.0 -5.0  0.0  0.0  0.0   0.0\n",
      "1  0.0  1.0  0.0  1.0  0.0  0.0   4.0\n",
      "2  0.0  0.0  2.0  0.0  1.0  0.0  12.0\n",
      "3  0.0  3.0  2.0  0.0  0.0  1.0  18.0\n"
     ]
    }
   ]
  },
  {
   "cell_type": "code",
   "metadata": {
    "colab": {
     "base_uri": "https://localhost:8080/"
    },
    "id": "lAckcMRnMwBo",
    "outputId": "a988efe6-3e0a-4729-a895-ac9efc7963be"
   },
   "source": [
    "pivot_n = new_pivot(M)\n",
    "while pivot_n is not 0:\n",
    "  print(f'new pivot is {pivot_n}')\n",
    "  pivoting(M, pivot_n[0], pivot_n[1])\n",
    "  print(pd.DataFrame(M))\n",
    "  print(f'=======================')\n",
    "  pivot_n = new_pivot(M)"
   ],
   "execution_count": 6,
   "outputs": [
    {
     "name": "stdout",
     "output_type": "stream",
     "text": [
      "new pivot is (2, 2)\n",
      "     0    1    2    3    4    5     6\n",
      "0  1.0 -3.0  0.0  0.0  2.5  0.0  30.0\n",
      "1  0.0  1.0  0.0  1.0  0.0  0.0   4.0\n",
      "2  0.0  0.0  1.0  0.0  0.5  0.0   6.0\n",
      "3  0.0  3.0  0.0  0.0 -1.0  1.0   6.0\n",
      "=======================\n",
      "new pivot is (3, 1)\n",
      "     0    1    2    3         4         5     6\n",
      "0  1.0  0.0  0.0  0.0  1.500000  1.000000  36.0\n",
      "1  0.0  0.0  0.0  1.0  0.333333 -0.333333   2.0\n",
      "2  0.0  0.0  1.0  0.0  0.500000  0.000000   6.0\n",
      "3  0.0  1.0  0.0  0.0 -0.333333  0.333333   2.0\n",
      "=======================\n",
      "pass the optimal test\n"
     ]
    }
   ]
  },
  {
   "cell_type": "markdown",
   "metadata": {
    "id": "eV1GoV1y_WkM"
   },
   "source": [
    "Since the 0-row has no negative number, the last entry of the first row is the maximum value, which is 36."
   ]
  },
  {
   "cell_type": "code",
   "metadata": {
    "id": "ygzTkYcThtuK"
   },
   "source": [
    ""
   ],
   "execution_count": 6,
   "outputs": []
  }
 ]
}