{
  "nbformat": 4,
  "nbformat_minor": 0,
  "metadata": {
    "colab": {
      "name": "Simplex.ipynb",
      "provenance": [],
      "authorship_tag": "ABX9TyMXTT++OG9aG9dWcjnI/3dY",
      "include_colab_link": true
    },
    "kernelspec": {
      "name": "python3",
      "display_name": "Python 3"
    }
  },
  "cells": [
    {
      "cell_type": "markdown",
      "metadata": {
        "id": "view-in-github",
        "colab_type": "text"
      },
      "source": [
        "<a href=\"https://colab.research.google.com/github/songqsh/foo1/blob/master/src/Simplex.ipynb\" target=\"_parent\"><img src=\"https://colab.research.google.com/assets/colab-badge.svg\" alt=\"Open In Colab\"/></a>"
      ]
    },
    {
      "cell_type": "markdown",
      "metadata": {
        "id": "00ZyRRxarrBi"
      },
      "source": [
        "# Simplex method\n",
        "\n",
        "We are going to illustrate simplex tableau method for linear programing using the following example - WG:\n",
        "$$\\max z = 3 x_1 + 5 x_2$$\n",
        "s.t.\n",
        "$$\\begin{array}{lll}\n",
        "x_1 & & \\le 4 \\\\\n",
        "& 2 x_2 &\\le 12 \\\\\n",
        "3x_1 & + 2x_2 & \\le 18\\\\\n",
        "x_1, & x_2 & \\ge 0\n",
        "\\end{array}\n",
        "$$"
      ]
    },
    {
      "cell_type": "code",
      "metadata": {
        "id": "HdIczcDireLv"
      },
      "source": [
        "# import package\n",
        "import numpy as np\n",
        "import numpy.linalg as la\n",
        "float_formatter = \"{:.2f}\".format\n",
        "np.set_printoptions(formatter={'float_kind':float_formatter})\n",
        "import pandas as pd"
      ],
      "execution_count": 1,
      "outputs": []
    },
    {
      "cell_type": "markdown",
      "metadata": {
        "id": "c2QmGEHdttx0"
      },
      "source": [
        "## Matrix in numpy"
      ]
    },
    {
      "cell_type": "markdown",
      "metadata": {
        "id": "qPGpUZT94CSW"
      },
      "source": [
        "## Pivotizing\n",
        "\n",
        "Pivotizing with $(i,j)$-entry means converting the matrix by multiple EROS so that the resulting matrix has all zeros in $j$-column, but one in $(i,j)$-entry. This is the key step in updating basic feasible solution."
      ]
    },
    {
      "cell_type": "code",
      "metadata": {
        "id": "QOOCy0MY4kHm"
      },
      "source": [
        "#pivotize with (i,j)\n",
        "def pivot(A, i, j):\n",
        "  A[i] = A[i]/A[i,j] #scale to get one in (i,j)\n",
        "  n_rows, _ = A.shape\n",
        "  for k in range(n_rows):\n",
        "    if k==i:\n",
        "      continue # skip i-row\n",
        "    A[k] = A[k] - A[i]*A[k,j] # replacement to get zero"
      ],
      "execution_count": 2,
      "outputs": []
    },
    {
      "cell_type": "markdown",
      "metadata": {
        "id": "o2p2m-mct1ZO"
      },
      "source": [
        "## Simplex tableau"
      ]
    },
    {
      "cell_type": "code",
      "metadata": {
        "id": "-sVG0HjsGYFf"
      },
      "source": [
        "def newpivot(M): #M is the tableau\n",
        "  optimal_test = min(M[0, range(1,6)])\n",
        "  m, n = M.shape\n",
        "  m = m-1 #number of constraints in the augmented form\n",
        "  n = n-2 #number of variables in the augmented form\n",
        "  if optimal_test<0:\n",
        "    pivot_col = np.argmin(M[0,range(1,n+1)])+1\n",
        "  else:\n",
        "    print(f'pass the optimal test')\n",
        "    return(0)\n",
        "  ratio_list = np.divide(M[range(1,m+1),-1], M[range(1, m+1),pivot_col])\n",
        "  ratio_list[ratio_list<0]=0\n",
        "  if np.min(ratio_list)==np.inf or np.min(ratio_list)<=0:\n",
        "    print(f'no leaving variable, here is the ratio list {ratio_list}')\n",
        "    return(0)\n",
        "  else:\n",
        "    pivot_row = np.argmin(ratio_list)+1\n",
        "  return(pivot_row, pivot_col)"
      ],
      "execution_count": 12,
      "outputs": []
    },
    {
      "cell_type": "code",
      "metadata": {
        "colab": {
          "base_uri": "https://localhost:8080/",
          "height": 190
        },
        "id": "hM68Z6gnr17k",
        "outputId": "c86ca3e7-6c94-468f-f1fb-064ab91ddd43"
      },
      "source": [
        "# input initial tableau\n",
        "M = np.array([\n",
        "               [1, -3, -5, 0, 0, 0, 0], \n",
        "               [0, 1, 0, 1, 0, 0, 4], \n",
        "               [0, 0, 2, 0, 1, 0, 12],\n",
        "               [0, 3, 2, 0, 0, 1, 18]\n",
        "               ], dtype = float)\n",
        "m, n = M.shape\n",
        "m = m-1\n",
        "n = n-2\n",
        "print(f'{m} constraints and {n} variables')\n",
        "\n",
        "pd.DataFrame(M) # print matrix"
      ],
      "execution_count": 13,
      "outputs": [
        {
          "output_type": "stream",
          "text": [
            "3 constraints and 5 variables\n"
          ],
          "name": "stdout"
        },
        {
          "output_type": "execute_result",
          "data": {
            "text/html": [
              "<div>\n",
              "<style scoped>\n",
              "    .dataframe tbody tr th:only-of-type {\n",
              "        vertical-align: middle;\n",
              "    }\n",
              "\n",
              "    .dataframe tbody tr th {\n",
              "        vertical-align: top;\n",
              "    }\n",
              "\n",
              "    .dataframe thead th {\n",
              "        text-align: right;\n",
              "    }\n",
              "</style>\n",
              "<table border=\"1\" class=\"dataframe\">\n",
              "  <thead>\n",
              "    <tr style=\"text-align: right;\">\n",
              "      <th></th>\n",
              "      <th>0</th>\n",
              "      <th>1</th>\n",
              "      <th>2</th>\n",
              "      <th>3</th>\n",
              "      <th>4</th>\n",
              "      <th>5</th>\n",
              "      <th>6</th>\n",
              "    </tr>\n",
              "  </thead>\n",
              "  <tbody>\n",
              "    <tr>\n",
              "      <th>0</th>\n",
              "      <td>1.0</td>\n",
              "      <td>-3.0</td>\n",
              "      <td>-5.0</td>\n",
              "      <td>0.0</td>\n",
              "      <td>0.0</td>\n",
              "      <td>0.0</td>\n",
              "      <td>0.0</td>\n",
              "    </tr>\n",
              "    <tr>\n",
              "      <th>1</th>\n",
              "      <td>0.0</td>\n",
              "      <td>1.0</td>\n",
              "      <td>0.0</td>\n",
              "      <td>1.0</td>\n",
              "      <td>0.0</td>\n",
              "      <td>0.0</td>\n",
              "      <td>4.0</td>\n",
              "    </tr>\n",
              "    <tr>\n",
              "      <th>2</th>\n",
              "      <td>0.0</td>\n",
              "      <td>0.0</td>\n",
              "      <td>2.0</td>\n",
              "      <td>0.0</td>\n",
              "      <td>1.0</td>\n",
              "      <td>0.0</td>\n",
              "      <td>12.0</td>\n",
              "    </tr>\n",
              "    <tr>\n",
              "      <th>3</th>\n",
              "      <td>0.0</td>\n",
              "      <td>3.0</td>\n",
              "      <td>2.0</td>\n",
              "      <td>0.0</td>\n",
              "      <td>0.0</td>\n",
              "      <td>1.0</td>\n",
              "      <td>18.0</td>\n",
              "    </tr>\n",
              "  </tbody>\n",
              "</table>\n",
              "</div>"
            ],
            "text/plain": [
              "     0    1    2    3    4    5     6\n",
              "0  1.0 -3.0 -5.0  0.0  0.0  0.0   0.0\n",
              "1  0.0  1.0  0.0  1.0  0.0  0.0   4.0\n",
              "2  0.0  0.0  2.0  0.0  1.0  0.0  12.0\n",
              "3  0.0  3.0  2.0  0.0  0.0  1.0  18.0"
            ]
          },
          "metadata": {
            "tags": []
          },
          "execution_count": 13
        }
      ]
    },
    {
      "cell_type": "code",
      "metadata": {
        "colab": {
          "base_uri": "https://localhost:8080/"
        },
        "id": "lAckcMRnMwBo",
        "outputId": "aaa856d2-3f06-49c3-e12a-a24d4233a761"
      },
      "source": [
        "npivot = newpivot(M)\n",
        "while npivot != 0:\n",
        "  print(f'new pivot is {npivot}')\n",
        "  if npivot is not 0:\n",
        "    pivot(M, npivot[0], npivot[1])\n",
        "    print(pd.DataFrame(M))\n",
        "    print(f'=======================')\n",
        "    npivot = newpivot(M)"
      ],
      "execution_count": 16,
      "outputs": [
        {
          "output_type": "stream",
          "text": [
            "new pivot is (2, 2)\n",
            "     0    1    2    3    4    5     6\n",
            "0  1.0 -3.0  0.0  0.0  2.5  0.0  30.0\n",
            "1  0.0  1.0  0.0  1.0  0.0  0.0   4.0\n",
            "2  0.0  0.0  1.0  0.0  0.5  0.0   6.0\n",
            "3  0.0  3.0  0.0  0.0 -1.0  1.0   6.0\n",
            "=======================\n",
            "new pivot is (3, 1)\n",
            "     0    1    2    3         4         5     6\n",
            "0  1.0  0.0  0.0  0.0  1.500000  1.000000  36.0\n",
            "1  0.0  0.0  0.0  1.0  0.333333 -0.333333   2.0\n",
            "2  0.0  0.0  1.0  0.0  0.500000  0.000000   6.0\n",
            "3  0.0  1.0  0.0  0.0 -0.333333  0.333333   2.0\n",
            "=======================\n",
            "pass the optimal test\n"
          ],
          "name": "stdout"
        },
        {
          "output_type": "stream",
          "text": [
            "/usr/local/lib/python3.7/dist-packages/ipykernel_launcher.py:11: RuntimeWarning: divide by zero encountered in true_divide\n",
            "  # This is added back by InteractiveShellApp.init_path()\n",
            "/usr/local/lib/python3.7/dist-packages/ipykernel_launcher.py:11: RuntimeWarning: divide by zero encountered in true_divide\n",
            "  # This is added back by InteractiveShellApp.init_path()\n"
          ],
          "name": "stderr"
        }
      ]
    },
    {
      "cell_type": "markdown",
      "metadata": {
        "id": "eV1GoV1y_WkM"
      },
      "source": [
        "Since the 0-row has no negative number, the last entry of the first row is the maximum value, which is 36."
      ]
    }
  ]
}