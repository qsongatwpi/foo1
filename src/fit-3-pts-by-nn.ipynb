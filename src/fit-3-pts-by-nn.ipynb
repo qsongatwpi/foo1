{
 "cells": [
  {
   "cell_type": "code",
   "execution_count": 1,
   "metadata": {},
   "outputs": [],
   "source": [
    "%matplotlib inline\n",
    "import numpy as np\n",
    "import torch\n",
    "import matplotlib.pyplot as plt"
   ]
  },
  {
   "cell_type": "markdown",
   "metadata": {},
   "source": [
    "__Goal__\n",
    "\n",
    "Our objective is to fit three points with two different methods. \n",
    "\n",
    "__Description__\n",
    "\n",
    "We have interploated two points [here](fitting-two-pts-by-nn.ipynb) and simple linear nn is enough to have a perfect fitting. \n",
    "\n",
    "Given a target function $f(x) = |x|+1$, by taking three points on the curve as training data, it is not enough to just take linear nn since the three points may not be on a straight line. In this below, we train two different nonlinear networks, one has relu the other is sigmoid. \n",
    "Two different networks both give perfect 3-pt fitting. \n",
    "However, the resulting trained function is totally different from two different activation function. "
   ]
  },
  {
   "cell_type": "code",
   "execution_count": 2,
   "metadata": {},
   "outputs": [],
   "source": [
    "%run fit_3pts_02.py"
   ]
  },
  {
   "cell_type": "code",
   "execution_count": 3,
   "metadata": {},
   "outputs": [],
   "source": [
    "#training data\n",
    "batch_size = 3\n",
    "#x_train = 2*torch.rand(batch_size,1)-1\n",
    "x_train = torch.tensor([-.5, 0., .5]).reshape(3,1)\n",
    "y_train = f(x_train)"
   ]
  },
  {
   "cell_type": "markdown",
   "metadata": {},
   "source": [
    "__Method 1__\n",
    "\n",
    "Use sigmoid"
   ]
  },
  {
   "cell_type": "code",
   "execution_count": 4,
   "metadata": {},
   "outputs": [],
   "source": [
    "#model and optimizer\n",
    "net1 = Net(1) #with method 1\n",
    "learning_rate = 0.1\n",
    "optimizer = torch.optim.SGD(net1.parameters(), lr=learning_rate)"
   ]
  },
  {
   "cell_type": "code",
   "execution_count": 5,
   "metadata": {},
   "outputs": [
    {
     "name": "stdout",
     "output_type": "stream",
     "text": [
      "Epoch [2000/10000], Loss: 0.0552\n",
      "Epoch [4000/10000], Loss: 0.0521\n",
      "Epoch [6000/10000], Loss: 0.0243\n",
      "Epoch [8000/10000], Loss: 0.0001\n",
      "Epoch [10000/10000], Loss: 0.0000\n"
     ]
    }
   ],
   "source": [
    "# Train the model\n",
    "num_epochs = 10000\n",
    "\n",
    "for epoch in range(num_epochs):\n",
    "\n",
    "    # Forward pass\n",
    "    outputs = net1(x_train)\n",
    "    loss = criterion(outputs, y_train)\n",
    "    \n",
    "    # Backward and optimize\n",
    "\n",
    "    optimizer.zero_grad()\n",
    "    loss.backward()\n",
    "    optimizer.step()\n",
    "    \n",
    "    if (epoch+1) % 2000 == 0:\n",
    "        print ('Epoch [{}/{}], Loss: {:.4f}'.format(epoch+1, \n",
    "                                                    num_epochs, loss.item()))"
   ]
  },
  {
   "cell_type": "code",
   "execution_count": 6,
   "metadata": {},
   "outputs": [
    {
     "data": {
      "image/png": "[encoded data removed]",
      "text/plain": [
       "<Figure size 432x288 with 1 Axes>"
      ]
     },
     "metadata": {
      "needs_background": "light"
     },
     "output_type": "display_data"
    }
   ],
   "source": [
    "#test\n",
    "y_ = f(x_train)\n",
    "plt.scatter(x_train.detach().numpy(), y_.detach().numpy(), label='true')\n",
    "\n",
    "x_test=torch.linspace(-1, 1, 100).reshape(100,1)\n",
    "y_pred = net1(x_test)\n",
    "plt.plot(x_test.detach().numpy(), y_pred.detach().numpy(), label='pred')\n",
    "\n",
    "plt.legend()\n",
    "plt.show()"
   ]
  },
  {
   "cell_type": "markdown",
   "metadata": {},
   "source": [
    "__Method 2__\n",
    "\n",
    "Use relu"
   ]
  },
  {
   "cell_type": "code",
   "execution_count": 7,
   "metadata": {},
   "outputs": [],
   "source": [
    "#model and optimizer\n",
    "net2 = Net(2) #with method 2\n",
    "learning_rate = 0.1\n",
    "optimizer = torch.optim.SGD(net2.parameters(), lr=learning_rate)"
   ]
  },
  {
   "cell_type": "code",
   "execution_count": 8,
   "metadata": {},
   "outputs": [
    {
     "name": "stdout",
     "output_type": "stream",
     "text": [
      "Epoch [100/1000], Loss: 0.0329\n",
      "Epoch [200/1000], Loss: 0.0128\n",
      "Epoch [300/1000], Loss: 0.0040\n",
      "Epoch [400/1000], Loss: 0.0007\n",
      "Epoch [500/1000], Loss: 0.0001\n",
      "Epoch [600/1000], Loss: 0.0000\n",
      "Epoch [700/1000], Loss: 0.0000\n",
      "Epoch [800/1000], Loss: 0.0000\n",
      "Epoch [900/1000], Loss: 0.0000\n",
      "Epoch [1000/1000], Loss: 0.0000\n"
     ]
    }
   ],
   "source": [
    "# Train the model\n",
    "num_epochs = 1000\n",
    "\n",
    "for epoch in range(num_epochs):\n",
    "\n",
    "    # Forward pass\n",
    "    outputs = net2(x_train)\n",
    "    loss = criterion(outputs, y_train)\n",
    "    \n",
    "    # Backward and optimize\n",
    "\n",
    "    optimizer.zero_grad()\n",
    "    loss.backward()\n",
    "    optimizer.step()\n",
    "    \n",
    "    if (epoch+1) % 100 == 0:\n",
    "        print ('Epoch [{}/{}], Loss: {:.4f}'.format(epoch+1, \n",
    "                                                    num_epochs, loss.item()))"
   ]
  },
  {
   "cell_type": "code",
   "execution_count": 9,
   "metadata": {},
   "outputs": [
    {
     "data": {
      "image/png": "[encoded data removed]",
      "text/plain": [
       "<Figure size 432x288 with 1 Axes>"
      ]
     },
     "metadata": {
      "needs_background": "light"
     },
     "output_type": "display_data"
    }
   ],
   "source": [
    "#test\n",
    "y_ = f(x_train)\n",
    "plt.scatter(x_train.detach().numpy(), y_.detach().numpy(), label='true')\n",
    "\n",
    "x_test=torch.linspace(-1, 1, 100).reshape(100,1)\n",
    "y_pred = net2(x_test)\n",
    "plt.plot(x_test.detach().numpy(), y_pred.detach().numpy(), label='pred')\n",
    "\n",
    "plt.legend()\n",
    "plt.show()"
   ]
  },
  {
   "cell_type": "code",
   "execution_count": null,
   "metadata": {},
   "outputs": [],
   "source": []
  }
 ],
 "metadata": {
  "kernelspec": {
   "display_name": "Python 3",
   "language": "python",
   "name": "python3"
  },
  "language_info": {
   "codemirror_mode": {
    "name": "ipython",
    "version": 3
   },
   "file_extension": ".py",
   "mimetype": "text/x-python",
   "name": "python",
   "nbconvert_exporter": "python",
   "pygments_lexer": "ipython3",
   "version": "3.7.4"
  }
 },
 "nbformat": 4,
 "nbformat_minor": 2
}
