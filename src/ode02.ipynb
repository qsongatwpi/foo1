{
  "nbformat": 4,
  "nbformat_minor": 0,
  "metadata": {
    "colab": {
      "name": "ode02.ipynb",
      "provenance": [],
      "include_colab_link": true
    },
    "kernelspec": {
      "name": "python3",
      "display_name": "Python 3"
    }
  },
  "cells": [
    {
      "cell_type": "markdown",
      "metadata": {
        "id": "view-in-github",
        "colab_type": "text"
      },
      "source": [
        "<a href=\"https://colab.research.google.com/github/songqsh/foo1/blob/master/src/ode02.ipynb\" target=\"_parent\"><img src=\"https://colab.research.google.com/assets/colab-badge.svg\" alt=\"Open In Colab\"/></a>"
      ]
    },
    {
      "cell_type": "markdown",
      "metadata": {
        "id": "-rG7O5fIbYRq",
        "colab_type": "text"
      },
      "source": [
        "__Goal__\n",
        "\n",
        "We want to solve ODE\n",
        "$$u''(x) - 2 = 0, u(1) = u(-1) = 0, x\\in [-1,1]$$\n",
        "with neural network and compare this with true solution $u(x) = x^2 - 1$.\n",
        "\n",
        "__Method__\n",
        "\n",
        "- Build a neural network, say $v(x;w)$, where $x$ is 1-d input and $w$ is weight. \n",
        "- Set loss function as\n",
        "$$l(w) = \\frac{1}{10} \n",
        "\\sum_{j=1}^{10} \\Big(\\frac{\\partial^2}{\\partial_{xx}} v(j/10, w) - 1 \\Big)^2 + (v(0) - 1)^2 + (v(1) - 1)^2.$$\n",
        "- Use an optimizer to minimize the loss\n"
      ]
    },
    {
      "cell_type": "code",
      "metadata": {
        "id": "0rhGwHmBXJiF",
        "colab_type": "code",
        "colab": {}
      },
      "source": [
        "import torch\n",
        "import torch.nn as nn\n",
        "from torch.autograd import grad\n",
        "\n",
        "import numpy as np\n",
        "import matplotlib.pyplot as plt"
      ],
      "execution_count": 0,
      "outputs": []
    },
    {
      "cell_type": "code",
      "metadata": {
        "id": "ooBozAznYass",
        "colab_type": "code",
        "colab": {}
      },
      "source": [
        "#parameters\n",
        "diffusion = 1.\n",
        "drift = 0.\n",
        "run_cost = -2.\n",
        "l_val = 0.\n",
        "r_val = 0.\n",
        "\n",
        "l_end = -1.\n",
        "r_end = 1.\n",
        "mesh_n = 20\n",
        "mesh_x = torch.linspace(l_end, r_end, mesh_n +1, dtype = torch.float, requires_grad=True).reshape(mesh_n+1,1)\n"
      ],
      "execution_count": 0,
      "outputs": []
    },
    {
      "cell_type": "code",
      "metadata": {
        "id": "fPtZC59LXMGn",
        "colab_type": "code",
        "outputId": "2d1a4131-f39a-48d8-ad44-253442f9f8da",
        "colab": {
          "base_uri": "https://localhost:8080/",
          "height": 357
        }
      },
      "source": [
        "H1 = 5; H2 = 5 #number of hidden layer\n",
        "model = nn.Sequential(\n",
        "    nn.Linear(1, H1), \n",
        "    nn.Sigmoid(),\n",
        "    nn.Linear(H1, H2),\n",
        "    nn.Sigmoid(),\n",
        "    nn.Linear(H2,1)\n",
        ")\n",
        "\n",
        "for p in model.parameters():\n",
        "  print(p)\n",
        "#model(torch.randn(5,1))"
      ],
      "execution_count": 3,
      "outputs": [
        {
          "output_type": "stream",
          "text": [
            "Parameter containing:\n",
            "tensor([[-0.6425],\n",
            "        [ 0.5207],\n",
            "        [-0.7532],\n",
            "        [-0.5245],\n",
            "        [-0.3355]], requires_grad=True)\n",
            "Parameter containing:\n",
            "tensor([-0.5175,  0.1597, -0.3216,  0.3426, -0.5238], requires_grad=True)\n",
            "Parameter containing:\n",
            "tensor([[-0.2483, -0.4440, -0.3065,  0.2641, -0.2096],\n",
            "        [ 0.3937, -0.3882, -0.3373, -0.3417,  0.1445],\n",
            "        [-0.2051, -0.1520,  0.1001,  0.3227, -0.3015],\n",
            "        [ 0.1021, -0.0552, -0.3455,  0.3159,  0.2698],\n",
            "        [-0.2514, -0.2028, -0.2662,  0.3784, -0.0128]], requires_grad=True)\n",
            "Parameter containing:\n",
            "tensor([ 0.2764, -0.0047,  0.3756, -0.0996,  0.2986], requires_grad=True)\n",
            "Parameter containing:\n",
            "tensor([[-0.4351, -0.0499,  0.2362, -0.3393,  0.1279]], requires_grad=True)\n",
            "Parameter containing:\n",
            "tensor([-0.1637], requires_grad=True)\n"
          ],
          "name": "stdout"
        }
      ]
    },
    {
      "cell_type": "code",
      "metadata": {
        "id": "T8IrqZq0XMJn",
        "colab_type": "code",
        "colab": {}
      },
      "source": [
        "def loss1(model, mesh_x, drift, run_cost): #loss in the interior\n",
        "  loss = 0.\n",
        "  for x in mesh_x[1:]:\n",
        "    y = model(x) #function value\n",
        "    y_g1 = grad(y, x, create_graph=True)[0] #first order derivative\n",
        "\n",
        "    y_g2 = grad(y_g1, x, create_graph=True)[0] #second order\n",
        "    #print('y_g2', y_g2) \n",
        "\n",
        "    loss = loss + torch.pow(y_g2*diffusion + y_g1*drift + run_cost, 2)\n",
        "    \n",
        "  return torch.div(loss, mesh_x.shape[0])\n",
        "\n",
        "#loss_total = loss interior + loss boundary\n",
        "def loss_tot(model, mesh_x, drfit, run_cost, l_val, r_val):\n",
        "  l1 = loss1(model, mesh_x, drift, run_cost) #loss interior\n",
        "  l0 = torch.pow(model(mesh_x[0]) - l_val, 2) + \\\n",
        "        torch.pow(model(mesh_x[-1]) - r_val, 2) #loss boundary\n",
        "  return torch.add(l1,l0)\n",
        "\n",
        "#loss_tot(model, mesh_x, drift, run_cost, l_val, r_val)  "
      ],
      "execution_count": 0,
      "outputs": []
    },
    {
      "cell_type": "code",
      "metadata": {
        "id": "eG-J0PkRd8Va",
        "colab_type": "code",
        "colab": {}
      },
      "source": [
        "#optimizer\n",
        "learning_rate = 0.1\n",
        "optimizer = torch.optim.SGD(model.parameters(), lr=learning_rate)"
      ],
      "execution_count": 0,
      "outputs": []
    },
    {
      "cell_type": "code",
      "metadata": {
        "id": "WAc40uW6eKg9",
        "colab_type": "code",
        "outputId": "280fbe3a-0f1b-43da-cc17-a7bf263a04eb",
        "colab": {
          "base_uri": "https://localhost:8080/",
          "height": 187
        }
      },
      "source": [
        "# Train the model\n",
        "#num_epochs = 40\n",
        "epoch_n = 1000\n",
        "print_n = 10\n",
        "epoch_per_print= np.floor(epoch_n/print_n)\n",
        "\n",
        "for epoch in range(epoch_n):\n",
        "\n",
        "    # Forward pass\n",
        "    loss = loss_tot(model, mesh_x, drift, run_cost, l_val, r_val)  \n",
        "    \n",
        "    # Backward and optimize\n",
        "    optimizer.zero_grad()\n",
        "    loss.backward()\n",
        "    optimizer.step()\n",
        "    \n",
        "    if (epoch+1) % epoch_per_print == 0:\n",
        "      print('Epoch [{}/{}], Loss: {:.4f}'.format(epoch+1, epoch_n, loss.item()))"
      ],
      "execution_count": 6,
      "outputs": [
        {
          "output_type": "stream",
          "text": [
            "Epoch [100/1000], Loss: 3.7955\n",
            "Epoch [200/1000], Loss: 3.7053\n",
            "Epoch [300/1000], Loss: 0.7352\n",
            "Epoch [400/1000], Loss: 0.0938\n",
            "Epoch [500/1000], Loss: 0.5043\n",
            "Epoch [600/1000], Loss: 0.0981\n",
            "Epoch [700/1000], Loss: 0.0489\n",
            "Epoch [800/1000], Loss: 0.0564\n",
            "Epoch [900/1000], Loss: 0.0584\n",
            "Epoch [1000/1000], Loss: 0.0279\n"
          ],
          "name": "stdout"
        }
      ]
    },
    {
      "cell_type": "code",
      "metadata": {
        "id": "KMK2r89xkxDp",
        "colab_type": "code",
        "outputId": "9e2b538f-f075-4a94-b133-0c37c2c4ff7b",
        "colab": {
          "base_uri": "https://localhost:8080/",
          "height": 282
        }
      },
      "source": [
        "x_np = mesh_x.detach().numpy()\n",
        "y_np = model(mesh_x).detach().numpy()\n",
        "plt.plot(x_np, y_np)"
      ],
      "execution_count": 7,
      "outputs": [
        {
          "output_type": "execute_result",
          "data": {
            "text/plain": [
              "[<matplotlib.lines.Line2D at 0x7f5adbcb78d0>]"
            ]
          },
          "metadata": {
            "tags": []
          },
          "execution_count": 7
        },
        {
          "output_type": "display_data",
          "data": {
            "image/png": "[encoded data removed]",
            "text/plain": [
              "<Figure size 432x288 with 1 Axes>"
            ]
          },
          "metadata": {
            "tags": []
          }
        }
      ]
    },
    {
      "cell_type": "code",
      "metadata": {
        "id": "UshzrJl1lRPM",
        "colab_type": "code",
        "colab": {}
      },
      "source": [
        ""
      ],
      "execution_count": 0,
      "outputs": []
    }
  ]
}