{
  "nbformat": 4,
  "nbformat_minor": 0,
  "metadata": {
    "colab": {
      "name": "ode02.ipynb",
      "provenance": [],
      "include_colab_link": true
    },
    "kernelspec": {
      "name": "python3",
      "display_name": "Python 3"
    }
  },
  "cells": [
    {
      "cell_type": "markdown",
      "metadata": {
        "id": "view-in-github",
        "colab_type": "text"
      },
      "source": [
        "<a href=\"https://colab.research.google.com/github/songqsh/foo1/blob/master/src/ode02.ipynb\" target=\"_parent\"><img src=\"https://colab.research.google.com/assets/colab-badge.svg\" alt=\"Open In Colab\"/></a>"
      ]
    },
    {
      "cell_type": "code",
      "metadata": {
        "id": "0rhGwHmBXJiF",
        "colab_type": "code",
        "colab": {}
      },
      "source": [
        "import torch\n",
        "import torch.nn as nn\n",
        "from torch.autograd import grad\n",
        "\n",
        "import numpy as np\n",
        "import matplotlib.pyplot as plt"
      ],
      "execution_count": 0,
      "outputs": []
    },
    {
      "cell_type": "markdown",
      "metadata": {
        "id": "-rG7O5fIbYRq",
        "colab_type": "text"
      },
      "source": [
        "__Goal__\n",
        "\n",
        "We want to solve ODE\n",
        "$$u''(x) - 20 = 0,  u(-1) = -12, u(1) = 6, x\\in [-1,1]$$\n",
        "with neural network and compare this with true solution $u(x) = 10 x^2 +9x - 13$.\n",
        "\n",
        "__Method__\n",
        "\n",
        "- Build a neural network, say $v(x;w)$, where $x$ is 1-d input and $w$ is weight. \n",
        "- Set loss function as\n",
        "$$l(w) = \\frac{1}{10} \n",
        "\\sum_{j=1}^{10} \\Big(\\frac{\\partial^2}{\\partial_{xx}} v(j/10, w) - 1 \\Big)^2 + (v(0) - 1)^2 + (v(1) - 1)^2.$$\n",
        "- Use an optimizer to minimize the loss\n"
      ]
    },
    {
      "cell_type": "code",
      "metadata": {
        "id": "ooBozAznYass",
        "colab_type": "code",
        "colab": {}
      },
      "source": [
        "#parameters\n",
        "diffusion0 = 1.\n",
        "drift0 = 0.\n",
        "run_cost0 = -20.\n",
        "l_val0 = -12.\n",
        "r_val0 = 6.\n",
        "\n",
        "l_end = -1.\n",
        "r_end = 1.\n",
        "mesh_n = 20\n",
        "mesh_x = torch.linspace(l_end, r_end, mesh_n +1, dtype = torch.float, requires_grad=True).reshape(mesh_n+1,1)\n"
      ],
      "execution_count": 0,
      "outputs": []
    },
    {
      "cell_type": "code",
      "metadata": {
        "id": "iEZvFGhCKmJh",
        "colab_type": "code",
        "colab": {}
      },
      "source": [
        "#normalize\n",
        "c_y = np.max([np.abs(l_val0), np.abs(r_val0)])\n",
        "diffusion = diffusion0\n",
        "drift= drift0; \n",
        "run_cost = run_cost0/c_y\n",
        "l_val = l_val0/c_y\n",
        "r_val = r_val0/c_y\n"
      ],
      "execution_count": 0,
      "outputs": []
    },
    {
      "cell_type": "code",
      "metadata": {
        "id": "fPtZC59LXMGn",
        "colab_type": "code",
        "outputId": "0ef607cc-b09f-48c1-ac32-c6ff8dfd8fd9",
        "colab": {
          "base_uri": "https://localhost:8080/",
          "height": 357
        }
      },
      "source": [
        "H1 = 5; H2 = 5 #number of hidden layer\n",
        "model = nn.Sequential(\n",
        "    nn.Linear(1, H1), \n",
        "    nn.Sigmoid(),\n",
        "    nn.Linear(H1, H2),\n",
        "    nn.Sigmoid(),\n",
        "    nn.Linear(H2,1)\n",
        ")\n",
        "\n",
        "for p in model.parameters():\n",
        "  print(p)\n",
        "#model(torch.randn(5,1))"
      ],
      "execution_count": 4,
      "outputs": [
        {
          "output_type": "stream",
          "text": [
            "Parameter containing:\n",
            "tensor([[ 0.3082],\n",
            "        [ 0.0373],\n",
            "        [-0.8968],\n",
            "        [ 0.1171],\n",
            "        [-0.9723]], requires_grad=True)\n",
            "Parameter containing:\n",
            "tensor([ 0.5452, -0.8017,  0.2476,  0.9348, -0.7730], requires_grad=True)\n",
            "Parameter containing:\n",
            "tensor([[ 0.0484, -0.2227, -0.0316, -0.1291,  0.1836],\n",
            "        [-0.0318, -0.3983, -0.1365, -0.0761,  0.1924],\n",
            "        [-0.1712, -0.3857,  0.2994, -0.1483,  0.2743],\n",
            "        [ 0.1218,  0.0734,  0.4072,  0.1724,  0.0417],\n",
            "        [-0.1662, -0.4039, -0.1691,  0.0525,  0.2111]], requires_grad=True)\n",
            "Parameter containing:\n",
            "tensor([ 0.2521,  0.0845,  0.1354,  0.2775, -0.1011], requires_grad=True)\n",
            "Parameter containing:\n",
            "tensor([[-0.0323,  0.2888,  0.1991,  0.0815, -0.3002]], requires_grad=True)\n",
            "Parameter containing:\n",
            "tensor([0.1479], requires_grad=True)\n"
          ],
          "name": "stdout"
        }
      ]
    },
    {
      "cell_type": "code",
      "metadata": {
        "id": "T8IrqZq0XMJn",
        "colab_type": "code",
        "colab": {}
      },
      "source": [
        "def loss1(model, mesh_x, drift, run_cost): #loss in the interior\n",
        "  loss = 0.\n",
        "  for x in mesh_x[1:]:\n",
        "    y = model(x) #function value\n",
        "    y_g1 = grad(y, x, create_graph=True)[0] #first order derivative\n",
        "\n",
        "    y_g2 = grad(y_g1, x, create_graph=True)[0] #second order\n",
        "    #print('y_g2', y_g2) \n",
        "\n",
        "    loss = loss + torch.pow(y_g2*diffusion + y_g1*drift + run_cost, 2)\n",
        "    \n",
        "  return torch.div(loss, mesh_x.shape[0])\n",
        "\n",
        "#loss_total = loss interior + loss boundary\n",
        "def loss_tot(model, mesh_x, drfit, run_cost, l_val, r_val):\n",
        "  l1 = loss1(model, mesh_x, drift, run_cost) #loss interior\n",
        "  l0 = torch.pow(model(mesh_x[0]) - l_val, 2) + \\\n",
        "        torch.pow(model(mesh_x[-1]) - r_val, 2) #loss boundary\n",
        "  return torch.add(l1,l0)\n",
        "\n",
        "#loss_tot(model, mesh_x, drift, run_cost, l_val, r_val)  "
      ],
      "execution_count": 0,
      "outputs": []
    },
    {
      "cell_type": "code",
      "metadata": {
        "id": "eG-J0PkRd8Va",
        "colab_type": "code",
        "colab": {}
      },
      "source": [
        "#optimizer\n",
        "learning_rate = 0.1\n",
        "optimizer = torch.optim.SGD(model.parameters(), lr=learning_rate, momentum=.7)"
      ],
      "execution_count": 0,
      "outputs": []
    },
    {
      "cell_type": "code",
      "metadata": {
        "id": "WAc40uW6eKg9",
        "colab_type": "code",
        "outputId": "120a81f4-132c-4c26-c102-7ca482717f61",
        "colab": {
          "base_uri": "https://localhost:8080/",
          "height": 187
        }
      },
      "source": [
        "# Train the model\n",
        "#num_epochs = 40\n",
        "epoch_n = 1000\n",
        "print_n = 10\n",
        "epoch_per_print= np.floor(epoch_n/print_n)\n",
        "\n",
        "for epoch in range(epoch_n):\n",
        "\n",
        "    # Forward pass\n",
        "    loss = loss_tot(model, mesh_x, drift, run_cost, l_val, r_val)  \n",
        "    \n",
        "    # Backward and optimize\n",
        "    optimizer.zero_grad()\n",
        "    loss.backward()\n",
        "    optimizer.step()\n",
        "    \n",
        "    if (epoch+1) % epoch_per_print == 0:\n",
        "      print('Epoch [{}/{}], Loss: {:.4f}'.format(epoch+1, epoch_n, loss.item()))"
      ],
      "execution_count": 7,
      "outputs": [
        {
          "output_type": "stream",
          "text": [
            "Epoch [100/1000], Loss: 0.5763\n",
            "Epoch [200/1000], Loss: 0.5098\n",
            "Epoch [300/1000], Loss: 0.4608\n",
            "Epoch [400/1000], Loss: 0.0174\n",
            "Epoch [500/1000], Loss: 0.0022\n",
            "Epoch [600/1000], Loss: 0.0014\n",
            "Epoch [700/1000], Loss: 0.0011\n",
            "Epoch [800/1000], Loss: 0.0008\n",
            "Epoch [900/1000], Loss: 0.0007\n",
            "Epoch [1000/1000], Loss: 0.0005\n"
          ],
          "name": "stdout"
        }
      ]
    },
    {
      "cell_type": "code",
      "metadata": {
        "id": "27tNiG5LL3zK",
        "colab_type": "code",
        "colab": {}
      },
      "source": [
        "learnedfun = lambda x: c_y*model(x)"
      ],
      "execution_count": 0,
      "outputs": []
    },
    {
      "cell_type": "code",
      "metadata": {
        "id": "8fbXNsekO4V4",
        "colab_type": "code",
        "colab": {
          "base_uri": "https://localhost:8080/",
          "height": 282
        },
        "outputId": "ba8166f1-80f9-4723-90a0-17fb0db00806"
      },
      "source": [
        "true_fun = lambda x: 10*x**2+9*x-13\n",
        "xx = np.linspace(-1,1,100)\n",
        "plt.plot(xx, true_fun(xx))"
      ],
      "execution_count": 9,
      "outputs": [
        {
          "output_type": "execute_result",
          "data": {
            "text/plain": [
              "[<matplotlib.lines.Line2D at 0x7fcc9c7bada0>]"
            ]
          },
          "metadata": {
            "tags": []
          },
          "execution_count": 9
        },
        {
          "output_type": "display_data",
          "data": {
            "image/png": "[encoded data removed]",
            "text/plain": [
              "<Figure size 432x288 with 1 Axes>"
            ]
          },
          "metadata": {
            "tags": []
          }
        }
      ]
    },
    {
      "cell_type": "code",
      "metadata": {
        "id": "KMK2r89xkxDp",
        "colab_type": "code",
        "outputId": "ba7cee9e-d677-4f9b-c49f-25faad520646",
        "colab": {
          "base_uri": "https://localhost:8080/",
          "height": 282
        }
      },
      "source": [
        "x_np = mesh_x.detach().numpy()\n",
        "#y_np = model(mesh_x).detach().numpy()\n",
        "y_np = learnedfun(mesh_x).detach().numpy()\n",
        "plt.plot(x_np, y_np, label='nn')\n",
        "true_y = true_fun(x_np)\n",
        "plt.scatter(x_np, true_y, label = 'true')\n",
        "plt.legend()"
      ],
      "execution_count": 10,
      "outputs": [
        {
          "output_type": "execute_result",
          "data": {
            "text/plain": [
              "<matplotlib.legend.Legend at 0x7fcc9c318588>"
            ]
          },
          "metadata": {
            "tags": []
          },
          "execution_count": 10
        },
        {
          "output_type": "display_data",
          "data": {
            "image/png": "[encoded data removed]",
            "text/plain": [
              "<Figure size 432x288 with 1 Axes>"
            ]
          },
          "metadata": {
            "tags": []
          }
        }
      ]
    },
    {
      "cell_type": "code",
      "metadata": {
        "id": "UshzrJl1lRPM",
        "colab_type": "code",
        "colab": {}
      },
      "source": [
        ""
      ],
      "execution_count": 0,
      "outputs": []
    }
  ]
}