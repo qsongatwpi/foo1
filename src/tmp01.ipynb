{
 "cells": [
  {
   "cell_type": "code",
   "execution_count": 1,
   "metadata": {
    "colab": {},
    "colab_type": "code",
    "id": "bx38aSpVO8Eu"
   },
   "outputs": [],
   "source": [
    "import torch\n",
    "import torch.optim as optim\n",
    "import numpy as np"
   ]
  },
  {
   "cell_type": "code",
   "execution_count": 6,
   "metadata": {},
   "outputs": [
    {
     "name": "stdout",
     "output_type": "stream",
     "text": [
      "1\n",
      "2\n"
     ]
    }
   ],
   "source": [
    "def f(x):\n",
    "    return x, x+1\n",
    "a, _ = f(1)\n",
    "print(a)\n",
    "print(f(1)[1])"
   ]
  },
  {
   "cell_type": "code",
   "execution_count": 2,
   "metadata": {
    "colab": {},
    "colab_type": "code",
    "id": "DmT3Tn590vvl"
   },
   "outputs": [],
   "source": [
    "# function to be minimized\n",
    "#m = torch.nn.ReLU()\n",
    "def ifun(a): \n",
    "  return (3*torch.sigmoid(a) - 2)**2"
   ]
  },
  {
   "cell_type": "code",
   "execution_count": 3,
   "metadata": {
    "colab": {},
    "colab_type": "code",
    "id": "OE5kY_ELPHx2"
   },
   "outputs": [],
   "source": [
    "x = torch.tensor([-2], dtype=torch.float, requires_grad=True) #init"
   ]
  },
  {
   "cell_type": "code",
   "execution_count": 4,
   "metadata": {
    "colab": {},
    "colab_type": "code",
    "id": "5ppiwKwOPtdV"
   },
   "outputs": [],
   "source": [
    "optimizer = optim.SGD([x], lr=0.01, momentum=.8)"
   ]
  },
  {
   "cell_type": "code",
   "execution_count": 5,
   "metadata": {
    "colab": {},
    "colab_type": "code",
    "id": "LD2fpReDO8no"
   },
   "outputs": [],
   "source": [
    "epoch_n = 210\n",
    "print_n = 10\n",
    "epoch_per_print= np.floor(epoch_n/print_n)"
   ]
  },
  {
   "cell_type": "code",
   "execution_count": 6,
   "metadata": {
    "colab": {
     "base_uri": "https://localhost:8080/",
     "height": 187
    },
    "colab_type": "code",
    "id": "8_aNy-SOTbUK",
    "outputId": "44e81e53-2a85-4882-ee18-68dc689e8ca4"
   },
   "outputs": [
    {
     "name": "stdout",
     "output_type": "stream",
     "text": [
      "Epoch [21/210], Loss: 1.4908, x: -0.9806\n",
      "Epoch [42/210], Loss: 0.1277, x: 0.2273\n",
      "Epoch [63/210], Loss: 0.0048, x: 0.5975\n",
      "Epoch [84/210], Loss: 0.0003, x: 0.6700\n",
      "Epoch [105/210], Loss: 0.0000, x: 0.6870\n",
      "Epoch [126/210], Loss: 0.0000, x: 0.6915\n",
      "Epoch [147/210], Loss: 0.0000, x: 0.6927\n",
      "Epoch [168/210], Loss: 0.0000, x: 0.6930\n",
      "Epoch [189/210], Loss: 0.0000, x: 0.6931\n",
      "Epoch [210/210], Loss: 0.0000, x: 0.6931\n"
     ]
    }
   ],
   "source": [
    "for epoch in range(epoch_n):\n",
    "    optimizer.zero_grad()\n",
    "    y = ifun(x)\n",
    "    y.backward(retain_graph=True)\n",
    "    optimizer.step()\n",
    "\n",
    "    if (epoch+1) % epoch_per_print == 0:\n",
    "      print('Epoch [{}/{}], Loss: {:.4f}, x: {:.4f}'.format(epoch+1, epoch_n, y.item(), x.item()))"
   ]
  },
  {
   "cell_type": "code",
   "execution_count": 7,
   "metadata": {
    "colab": {
     "base_uri": "https://localhost:8080/",
     "height": 34
    },
    "colab_type": "code",
    "id": "ISN0fakMPMwt",
    "outputId": "78a3fb74-4924-4ae8-da3a-60ad9d3e82cc"
   },
   "outputs": [
    {
     "name": "stdout",
     "output_type": "stream",
     "text": [
      "tensor([0.6931], requires_grad=True)\n"
     ]
    }
   ],
   "source": [
    "print(x)"
   ]
  },
  {
   "cell_type": "code",
   "execution_count": null,
   "metadata": {
    "colab": {},
    "colab_type": "code",
    "id": "zOnwqkKGP6RF"
   },
   "outputs": [],
   "source": []
  }
 ],
 "metadata": {
  "colab": {
   "include_colab_link": true,
   "name": "min_fun.ipynb",
   "provenance": []
  },
  "kernelspec": {
   "display_name": "Python 3",
   "language": "python",
   "name": "python3"
  },
  "language_info": {
   "codemirror_mode": {
    "name": "ipython",
    "version": 3
   },
   "file_extension": ".py",
   "mimetype": "text/x-python",
   "name": "python",
   "nbconvert_exporter": "python",
   "pygments_lexer": "ipython3",
   "version": "3.7.4"
  }
 },
 "nbformat": 4,
 "nbformat_minor": 1
}
