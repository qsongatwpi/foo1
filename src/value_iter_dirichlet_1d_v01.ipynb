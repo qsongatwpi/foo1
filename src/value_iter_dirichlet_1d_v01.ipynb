{
 "cells": [
  {
   "cell_type": "markdown",
   "metadata": {
    "colab_type": "text",
    "id": "view-in-github"
   },
   "source": [
    "<a href=\"https://colab.research.google.com/github/songqsh/foo1/blob/master/src/value_iter_dirichlet_1d_v01.ipynb\" target=\"_parent\"><img src=\"https://colab.research.google.com/assets/colab-badge.svg\" alt=\"Open In Colab\"/></a>"
   ]
  },
  {
   "cell_type": "code",
   "execution_count": 0,
   "metadata": {
    "colab": {},
    "colab_type": "code",
    "id": "WrJvkAbpNyR3"
   },
   "outputs": [],
   "source": [
    "import numpy as np\n",
    "import time\n",
    "start_time = time.time()\n",
    "\n",
    "from tqdm import tqdm\n",
    "import matplotlib.pyplot as plt"
   ]
  },
  {
   "cell_type": "markdown",
   "metadata": {
    "colab_type": "text",
    "id": "xNFJIMnEa39w"
   },
   "source": [
    "__Goal__\n",
    "\n",
    "Implement value iteration on 1d HJB with Dirichlet data and verify with the explicit solution on Whittle’s “Flypaper”\n",
    "\n",
    "__Ref__\n",
    "\n",
    "- [1] Chap V.7 of [Roger and Williams 2000] \n",
    "\n",
    "- [2] P97, Example 4 of [Kushner and Dupuis 2001]\n",
    "\n",
    "- [previous version](https://github.com/songqsh/foo1/blob/master/src/value_iter_dirichlet_1d.ipynb)\n"
   ]
  },
  {
   "cell_type": "markdown",
   "metadata": {
    "colab_type": "text",
    "id": "pqDOVcH776J5"
   },
   "source": [
    "__Problem setup__\n",
    "\n",
    "We want to solve HJB\n",
    "$$\\inf_a \\{b(x,a) v'(x) + \\frac 1 2 \\sigma^2 v''(x) - \\lambda v(x) + \\ell(x,a)\\} = 0, \\quad \\hbox{ on } O = (l, u)$$\n",
    "with Dirichlet data\n",
    "$$v(x) = g(x), \\quad x= l, u.$$\n",
    "\n",
    "It's equivalent to the following stochastic control formulation in a broad sense. Given a controlled diffusion\n",
    "$$d X_t = b(X_t, a_t) dt + \\sigma dW_t$$\n",
    "we seek for the value function\n",
    "$$v(x) = \\inf_{a(\\cdot)} \\mathbb E^x \\Big[\\int_0^\\tau e^{-\\lambda s} \\ell(X_s, a_s) ds + e^{-\\lambda \\tau} g(X_\\tau) \\Big],$$\n",
    "where $\\tau$ is\n",
    "$$\\tau = \\inf\\{t>0: X_t \\notin O\\}.$$\n"
   ]
  },
  {
   "cell_type": "markdown",
   "metadata": {
    "colab_type": "text",
    "id": "uVhPAihx-88o"
   },
   "source": [
    "__MDP discretization__\n",
    "\n",
    "One can use central finite difference scheme with parameter $h$ to obtain the following MDP. \n",
    "\n",
    "- Let $X^h$ be a controlled Markov chain on its state space \n",
    "$$\\mathbb  R^h = \\{h i: i\\in \\mathbb Z\\}.$$\n",
    "\n",
    "- transition probability is, with sufficiently small $h>0$, \n",
    "$$p^h(x+h|x, a) = \\frac{b(x,a) h + \\sigma^2}{2\\sigma^2}$$\n",
    "and\n",
    "$$p^h(x-h|x, a) = \\frac{-b(x,a) h + \\sigma^2}{2\\sigma^2}.$$\n",
    "\n",
    "- terminal time is\n",
    "$$\\tau^h = \\inf\\{t>0: X^h \\notin O \\}.$$\n",
    "\n",
    "- value function is\n",
    "$$v^h(x) = \\inf_{a^h} \\mathbb E^x \\Big[ \n",
    "\\sum_{t=0}^{\\tau^h-1} \\Lambda^{-t} \\ell^h(X^h_t, a^h_t) + \n",
    "\\Lambda^{-\\tau^h} g(X_{\\tau^h})\n",
    "\\Big],$$\n",
    "where the discount rate and the running cost become\n",
    "$$\n",
    "\\Lambda = 1 + \\lambda \\frac{h^2}{\\sigma^2},\n",
    "$$\n",
    "and\n",
    "$$\n",
    "\\ell^h(x, a) = \\ell(x, a) \\frac{h^2}{\\sigma^2}.\n",
    "$$"
   ]
  },
  {
   "cell_type": "markdown",
   "metadata": {
    "colab_type": "text",
    "id": "2upaYLRHDJUU"
   },
   "source": [
    "__Rk__\n",
    "\n",
    "There is essential difference of above MDP approximation using central FDM from the one\n",
    "using upward FDM provided by P97 of [2]."
   ]
  },
  {
   "cell_type": "markdown",
   "metadata": {
    "colab_type": "text",
    "id": "x_SpZFKwf3lO"
   },
   "source": [
    "__benchmark__\n",
    "\n",
    "\n",
    "We will recall a simple stochastic control problem, so called \n",
    "Whittle's ``flypaper'' given in [1]. This is a homogenous \n",
    "stochastic exit problem, which can be explicitly solved out.\n",
    "\n",
    "\n",
    "Let parameters be given by\n",
    "\n",
    "- $O = (0, z)$\n",
    "\n",
    "- $\\sigma = 1$\n",
    "\n",
    "- $b(x,a) = a$\n",
    "\n",
    "- $\\lambda = 0$\n",
    "\n",
    "- $\\ell(x,a) = \\frac 1 2 (a^2+1)$\n",
    "\n",
    "- $g(x) = - \\ln (c_1 e^x + c_2 e^{-x}).$\n",
    "\n",
    "The value function is \n",
    "$$v(x) = g(x)$$\n",
    "and the optimal policy is\n",
    "$$a^*(x) = - g'(x).$$"
   ]
  },
  {
   "cell_type": "markdown",
   "metadata": {
    "colab_type": "text",
    "id": "L3cMt40aE69T"
   },
   "source": [
    "__Ex__ In the above Whittle's \"flypaper\", answer the following questions:\n",
    "\n",
    "- show that $v$ is concave.\n",
    "- show that the optimal policy $|a^*(x)|\\le 1$.\n",
    "- solve for the exact solution for terminal cost given by\n",
    "$$g(x) = x^2.$$"
   ]
  },
  {
   "cell_type": "code",
   "execution_count": 0,
   "metadata": {
    "colab": {},
    "colab_type": "code",
    "id": "PjDWKL6fvFNz"
   },
   "outputs": [],
   "source": [
    "#PDE to be solved\n",
    "class pde:\n",
    "  def __init__(self):\n",
    "    #pde config\n",
    "    self.name = 'HJB 1d'\n",
    "    \n",
    "    self.U_LIM = 1 #upper limit for state\n",
    "    self.L_LIM = 0 #lower limit for state\n",
    "\n",
    "    self.lambda_ = 0. #discount rate\n",
    "    self.sigma = 1. #diffusion coefficient\n",
    "    self.drift = lambda x,a: a #drift coefficient function\n",
    "\n",
    "    self.run_cost = lambda x, a: (a**2+1)/2.\n",
    "\n",
    "    C1 = 1; C2 = 1\n",
    "    self.term_cost = lambda x: - np.log(C1*np.exp(x) + C2*np.exp(-x))\n",
    "    \n",
    "    #pde exact solution if available\n",
    "    self.exact_sol = self.term_cost\n",
    "\n",
    "    "
   ]
  },
  {
   "cell_type": "code",
   "execution_count": 0,
   "metadata": {
    "colab": {},
    "colab_type": "code",
    "id": "h1biA8Y8R2Oc"
   },
   "outputs": [],
   "source": [
    "def mdp_space_config(self, \n",
    "                     NUM = 5 #num of meshes in one unit state space\n",
    "                    ):\n",
    "  self.NUM = NUM\n",
    "  \n",
    "  self.h = 1./self.NUM #mesh size in state space\n",
    "\n",
    "  self.s_space = np.arange(self.L_LIM, self.U_LIM+self.h, self.h) #state space\n",
    "\n",
    "  self.a_space = np.arange(2*self.L_LIM, 2*self.U_LIM + self.h, self.h) #action space\n",
    "\n",
    "  self.del_ind_space = np.array([-1,1]) #space of delta (1-step) index: -1 means left, 1 means right move\n",
    "\n",
    "  self.term_ind_space = np.array([0, self.s_space.size-1]) #space of terminal state indice\n",
    "\n",
    "  #q-table and state value initialization\n",
    "\n",
    "  self.s_val = np.zeros(self.s_space.size)\n",
    "  self.q_table = np.zeros([self.s_space.size, self.a_space.size])\n",
    "  \n",
    "  print('>>>>> q_table size is %i' %(self.q_table.size))\n",
    "\n",
    "  #s_val and q-table terminal setup\n",
    "  for i in self.term_ind_space:\n",
    "    self.s_val[i] = self.term_cost(self.s_space[i])\n",
    "    for j in range(self.a_space.size):\n",
    "      self.q_table[i,j] = self.term_cost(self.s_space[i])\n",
    "  \n",
    "  \n",
    "pde.mdp_space_config = mdp_space_config"
   ]
  },
  {
   "cell_type": "code",
   "execution_count": 0,
   "metadata": {
    "colab": {},
    "colab_type": "code",
    "id": "QIl6C9yFVLO_"
   },
   "outputs": [],
   "source": [
    "#transition probability\n",
    "#output is probability (np array) on del_ind_space \n",
    "#central fdm\n",
    "\n",
    "def mdp_trans_prob_central(self,x,a):\n",
    "  tp = np.zeros(self.del_ind_space.shape)\n",
    "  \n",
    "  b_ = self.drift(x,a)\n",
    "  tp[0] = (-b_*self.h + self.sigma**2)/(2*self.sigma**2)\n",
    "  tp[1] = (b_*self.h + self.sigma**2)/(2*self.sigma**2)\n",
    "  \n",
    "  #correction on prob\n",
    "  if tp[1]<0:\n",
    "    tp = tp - tp[1]\n",
    "    tp = tp/tp.sum()\n",
    "    print('>>>>corrected probability due to negativity')\n",
    "\n",
    "  return tp  \n",
    "\n",
    "pde.mdp_trans_prob_central = mdp_trans_prob_central"
   ]
  },
  {
   "cell_type": "code",
   "execution_count": 0,
   "metadata": {
    "colab": {},
    "colab_type": "code",
    "id": "7ksl6Piqaye1"
   },
   "outputs": [],
   "source": [
    "def value_iter(self, \n",
    "               TOL= 0.001, #tolerance for iteration\n",
    "               MAX_ITER= 1000 #maximum iteration\n",
    "              ):\n",
    " \n",
    "  err_ = 1. #error init\n",
    "  \n",
    "  n_iter = 0 #iteration counter\n",
    "\n",
    "  while err_>TOL and n_iter < MAX_ITER:\n",
    "    pre_s_val = self.s_val.copy()\n",
    "\n",
    "    for i in range(1, self.s_space.size - 1):\n",
    "      for k in range(self.a_space.size):\n",
    "        x_ = self.s_space[i]\n",
    "        a_ = self.a_space[k]\n",
    "        tp_ = self.mdp_trans_prob_central(x_, a_)\n",
    "        \n",
    "        run_cost_ = self.run_cost(x_,a_)*self.h**2/self.sigma**2\n",
    "        Lambda_ = 1 + self.lambda_* self.h**2/ self.sigma**2\n",
    "\n",
    "        self.q_table[i,k] = (run_cost_ + \n",
    "                             tp_[0]*self.s_val[i-1] + \n",
    "                             tp_[1]*self.s_val[i+1])/Lambda_\n",
    "\n",
    "      self.s_val[i] = np.min(self.q_table[i]) #sync q_table with s_val\n",
    "    err_ = np.max(np.abs(pre_s_val - self.s_val))\n",
    "\n",
    "    n_iter += 1\n",
    "    if np.mod(n_iter,10) == 0:\n",
    "      print('iterated ' + str(n_iter)+';')\n",
    "      \n",
    "  return [err_, n_iter]\n",
    "      \n",
    "pde.value_iter = value_iter      "
   ]
  },
  {
   "cell_type": "markdown",
   "metadata": {
    "colab_type": "text",
    "id": "5rn12SWBlW8r"
   },
   "source": [
    "__Implementation__\n",
    "\n",
    "One can change mesh numbers (NUM), iteration tolerance (TOL), and maximum iteration number (MAX_ITER) according to your needs."
   ]
  },
  {
   "cell_type": "code",
   "execution_count": 6,
   "metadata": {
    "colab": {
     "base_uri": "https://localhost:8080/",
     "height": 102
    },
    "colab_type": "code",
    "id": "RKyeoluzY8Lu",
    "outputId": "f186fbc2-a2a0-41a7-82ae-971780ac5f16"
   },
   "outputs": [
    {
     "name": "stdout",
     "output_type": "stream",
     "text": [
      ">>>>> q_table size is 231\n",
      "iterated 10;\n",
      "iterated 20;\n",
      "iterated 30;\n",
      "iterated 40;\n"
     ]
    }
   ],
   "source": [
    "pde1 = pde()\n",
    "pde1.mdp_space_config(NUM=10) #if NUM is chosen to be 20 or bigger number, the result is bad\n",
    "err, n_iter = pde1.value_iter(TOL = 0.001, MAX_ITER = 1000)"
   ]
  },
  {
   "cell_type": "code",
   "execution_count": 7,
   "metadata": {
    "colab": {
     "base_uri": "https://localhost:8080/",
     "height": 34
    },
    "colab_type": "code",
    "id": "uoSTvMv3-Bl9",
    "outputId": "3f16ee22-1034-4228-ece1-0419459a3ed0"
   },
   "outputs": [
    {
     "name": "stdout",
     "output_type": "stream",
     "text": [
      "elapsed time is 0.195254 seconds\n"
     ]
    }
   ],
   "source": [
    "\n",
    "end_time = time.time()\n",
    "print('elapsed time is %f seconds' %(end_time - start_time))"
   ]
  },
  {
   "cell_type": "code",
   "execution_count": 8,
   "metadata": {
    "colab": {
     "base_uri": "https://localhost:8080/",
     "height": 320
    },
    "colab_type": "code",
    "id": "xiyvqE3d_JPk",
    "outputId": "9dd557fd-e8a9-4768-89c5-624d1c6af6fd"
   },
   "outputs": [
    {
     "name": "stdout",
     "output_type": "stream",
     "text": [
      ">>>iteration error is 0.0009022032639104394\n",
      ">>>iter number is 44\n",
      ">>>max norm of error is 0.007988133303176492\n"
     ]
    },
    {
     "data": {
      "image/png": "[encoded data removed]",
      "text/plain": [
       "<Figure size 432x288 with 1 Axes>"
      ]
     },
     "metadata": {
      "tags": []
     },
     "output_type": "display_data"
    }
   ],
   "source": [
    "plt.plot(pde1.s_space, pde1.s_val, label = 'computed')\n",
    "\n",
    "exact_val = pde1.exact_sol(pde1.s_space)\n",
    "plt.plot(pde1.s_space, exact_val, label = 'exact')\n",
    "plt.legend()\n",
    "\n",
    "print('>>>iteration error is ' + str(err))\n",
    "print('>>>iter number is ' + str(n_iter))\n",
    "print('>>>max norm of error is ' + str(np.max(np.abs(pde1.s_val-exact_val))))\n"
   ]
  },
  {
   "cell_type": "markdown",
   "metadata": {
    "colab_type": "text",
    "id": "55c5anj__b0m"
   },
   "source": [
    "__Remark__\n",
    "\n",
    "If one wants to have even more accurate result, one shall in general set a bigger NUM, as well as smaller TOL and bigger MAX_ITER. Only making bigger NUM without changing other parameters results in bad computational result."
   ]
  },
  {
   "cell_type": "code",
   "execution_count": 0,
   "metadata": {
    "colab": {},
    "colab_type": "code",
    "id": "h4sQ33Igk9NT"
   },
   "outputs": [],
   "source": []
  }
 ],
 "metadata": {
  "colab": {
   "include_colab_link": true,
   "name": "value_iter_dirichlet_1d_v01.ipynb",
   "provenance": [],
   "version": "0.3.2"
  },
  "kernelspec": {
   "display_name": "Python 3",
   "language": "python",
   "name": "python3"
  },
  "language_info": {
   "codemirror_mode": {
    "name": "ipython",
    "version": 3
   },
   "file_extension": ".py",
   "mimetype": "text/x-python",
   "name": "python",
   "nbconvert_exporter": "python",
   "pygments_lexer": "ipython3",
   "version": "3.7.4"
  }
 },
 "nbformat": 4,
 "nbformat_minor": 1
}
