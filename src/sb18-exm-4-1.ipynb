{
  "nbformat": 4,
  "nbformat_minor": 0,
  "metadata": {
    "kernelspec": {
      "display_name": "Python 3",
      "language": "python",
      "name": "python3"
    },
    "language_info": {
      "codemirror_mode": {
        "name": "ipython",
        "version": 3
      },
      "file_extension": ".py",
      "mimetype": "text/x-python",
      "name": "python",
      "nbconvert_exporter": "python",
      "pygments_lexer": "ipython3",
      "version": "3.7.4"
    },
    "colab": {
      "name": "sb18-exm-4-1.ipynb",
      "provenance": [],
      "include_colab_link": true
    }
  },
  "cells": [
    {
      "cell_type": "markdown",
      "metadata": {
        "id": "view-in-github",
        "colab_type": "text"
      },
      "source": [
        "<a href=\"https://colab.research.google.com/github/songqsh/foo1/blob/master/src/sb18-exm-4-1.ipynb\" target=\"_parent\"><img src=\"https://colab.research.google.com/assets/colab-badge.svg\" alt=\"Open In Colab\"/></a>"
      ]
    },
    {
      "cell_type": "markdown",
      "metadata": {
        "id": "YE1Dsk04eql-",
        "colab_type": "text"
      },
      "source": [
        "# Gridworld\n",
        "\n",
        "It is n-d generalization of 2-d gridworld of Example 4.1 of [SB18]."
      ]
    },
    {
      "cell_type": "markdown",
      "metadata": {
        "id": "z65HethOeqmB",
        "colab_type": "text"
      },
      "source": [
        "## Code"
      ]
    },
    {
      "cell_type": "code",
      "metadata": {
        "id": "opOwKB82eqmB",
        "colab_type": "code",
        "colab": {}
      },
      "source": [
        "\"\"\"\n",
        "Created on Wed Dec  4 17:36:40 2019\n",
        "\n",
        "@author: songqsh\n",
        "\"\"\"\n",
        "\n",
        "import numpy as np\n",
        "\n",
        "class gridworld:\n",
        "    def __init__(\n",
        "            self,\n",
        "            WORLD_SIZE = 4, #length of each side\n",
        "            DIM = 2, #dimension number\n",
        "            verbose = True\n",
        "            ):\n",
        "        self.WORLD_SIZE = WORLD_SIZE\n",
        "        self.DIM = DIM\n",
        "        self.ACTIONS = np.append(np.eye(DIM), -np.eye(DIM), axis=0) #each row is one action\n",
        "        self.ACTION_PROB = 1./(2*DIM) #random policy \n",
        "        if verbose:\n",
        "            print(str(DIM) + \n",
        "                  '-d Gridworld, \\n length of each side: '\n",
        "                  + str(WORLD_SIZE)\n",
        "                  + '\\n reflecting boundary \\n and absorbing corner'\n",
        "                  )\n",
        "        \n",
        "    #state: n-d array \n",
        "    #return: true (if reflecting) or false.\n",
        "    def is_reflecting(self, state): \n",
        "      out = 0 #false by dafault\n",
        "      out = out or np.any(state>self.WORLD_SIZE-1)\n",
        "      out = out or np.any(state < 0)\n",
        "      return  out\n",
        "\n",
        "\n",
        "    #state: n-d array \n",
        "    #return: true (if absorbing/terminating) or false.\n",
        "    def is_absorbing(self, state): \n",
        "      out = 0\n",
        "      out = out or np.all(state == 0)\n",
        "      out = out or np.all(state == self.WORLD_SIZE-1)\n",
        "      return  out\n",
        "      \n",
        "    \n",
        "    #input\n",
        "    #state: n-d np.array\n",
        "    #action: n-d np.array\n",
        "    #return:\n",
        "    #new_state: n-d np.array, \n",
        "    #           if it is terminal, then stay\n",
        "    #           if next move is absorbing, then stay in previous state\n",
        "    #           otherwise state + action\n",
        "    #reward: -1 for each move\n",
        "    \n",
        "    def step(self, state, action):\n",
        "      next_state = state+action\n",
        "      if self.is_absorbing(state) or self.is_reflecting(next_state):\n",
        "        next_state = state\n",
        "      reward = -1\n",
        "      return next_state, reward\n",
        "        \n",
        "        \n",
        "    #value iteration\n",
        "    #return:\n",
        "      #v0: state value matrix\n",
        "      #iter_n: number of iterations.\n",
        "    def value_iteration(self):\n",
        "      v_shape = (np.ones(self.DIM)*self.WORLD_SIZE).astype(int)\n",
        "      v0 = np.zeros(shape=v_shape)\n",
        "      v1 = v0.copy()\n",
        "    \n",
        "      iter_n = 1\n",
        "      while True:\n",
        "        it = np.nditer(v0, flags=['multi_index'])\n",
        "        while not it.finished:\n",
        "          state0 = np.array(it.multi_index)\n",
        "          if self.is_absorbing(state0):\n",
        "            v1[it.multi_index] = 0.\n",
        "          else:\n",
        "            rhs = 0\n",
        "            for a in self.ACTIONS:\n",
        "                state1, reward = self.step(state0, a)\n",
        "                state1_tuple = tuple([i for i in state1.astype(int)])\n",
        "                rhs += self.ACTION_PROB*(reward+v0[state1_tuple])\n",
        "            v1[it.multi_index]= rhs \n",
        "          it.iternext()\n",
        "          \n",
        "        if np.sum(np.abs(v1-v0)) < 1e-4:\n",
        "          v0 = v1.copy()\n",
        "          break\n",
        "        v0 = v1.copy()\n",
        "        iter_n += 1\n",
        "    \n",
        "      return v0, iter_n"
      ],
      "execution_count": 0,
      "outputs": []
    },
    {
      "cell_type": "markdown",
      "metadata": {
        "id": "dqbuIUf-eqmF",
        "colab_type": "text"
      },
      "source": [
        "## Example for 2-d"
      ]
    },
    {
      "cell_type": "code",
      "metadata": {
        "id": "qN8G0AIieqmF",
        "colab_type": "code",
        "colab": {}
      },
      "source": [
        "import timeit"
      ],
      "execution_count": 0,
      "outputs": []
    },
    {
      "cell_type": "code",
      "metadata": {
        "id": "qL8gF57_eqmI",
        "colab_type": "code",
        "colab": {
          "base_uri": "https://localhost:8080/",
          "height": 85
        },
        "outputId": "9ff5366d-9fa8-47a3-a180-c0e9d245f2e8"
      },
      "source": [
        "g2 = gridworld(DIM=2, WORLD_SIZE=4)"
      ],
      "execution_count": 3,
      "outputs": [
        {
          "output_type": "stream",
          "text": [
            "2-d Gridworld, \n",
            " length of each side: 4\n",
            " reflecting boundary \n",
            " and absorbing corner\n"
          ],
          "name": "stdout"
        }
      ]
    },
    {
      "cell_type": "code",
      "metadata": {
        "id": "adAnExu5eqmL",
        "colab_type": "code",
        "colab": {
          "base_uri": "https://localhost:8080/",
          "height": 153
        },
        "outputId": "24304ecb-fd81-42ef-db6f-25fa6ad8bc79"
      },
      "source": [
        "start = timeit.default_timer()\n",
        "out = g2.value_iteration()\n",
        "stop = timeit.default_timer()\n",
        "print('Run Time: ', stop - start) \n",
        "print('>>>number of iteration: \\n'+ str(out[1]))\n",
        "print('>>>the state value function: \\n'+ str(out[0]))"
      ],
      "execution_count": 4,
      "outputs": [
        {
          "output_type": "stream",
          "text": [
            "Run Time:  0.37140565699999684\n",
            ">>>number of iteration: \n",
            "218\n",
            ">>>the state value function: \n",
            "[[  0.         -13.99990931 -19.99986561 -21.99984961]\n",
            " [-13.99990931 -17.99988161 -19.99986651 -19.99986561]\n",
            " [-19.99986561 -19.99986651 -17.99988161 -13.99990931]\n",
            " [-21.99984961 -19.99986561 -13.99990931   0.        ]]\n"
          ],
          "name": "stdout"
        }
      ]
    },
    {
      "cell_type": "markdown",
      "metadata": {
        "id": "BdAnk10KeqmN",
        "colab_type": "text"
      },
      "source": [
        "## Example for 4-d"
      ]
    },
    {
      "cell_type": "code",
      "metadata": {
        "id": "tL--8HtVeqmN",
        "colab_type": "code",
        "colab": {
          "base_uri": "https://localhost:8080/",
          "height": 85
        },
        "outputId": "75fed588-9b1d-4e54-ec80-7b70a5d15a7c"
      },
      "source": [
        "g3 = gridworld(DIM=4, WORLD_SIZE=4)"
      ],
      "execution_count": 5,
      "outputs": [
        {
          "output_type": "stream",
          "text": [
            "4-d Gridworld, \n",
            " length of each side: 4\n",
            " reflecting boundary \n",
            " and absorbing corner\n"
          ],
          "name": "stdout"
        }
      ]
    },
    {
      "cell_type": "code",
      "metadata": {
        "id": "-q8nkdB8eqmQ",
        "colab_type": "code",
        "colab": {
          "base_uri": "https://localhost:8080/",
          "height": 1000
        },
        "outputId": "2ddc709b-515d-4796-d1c2-bb1da5913420"
      },
      "source": [
        "start = timeit.default_timer()\n",
        "out = g3.value_iteration()\n",
        "stop = timeit.default_timer()\n",
        "print('Run Time: ', stop - start) \n",
        "print('>>>number of iteration: \\n'+ str(out[1]))\n",
        "#print('>>>the state value function: \\n'+ str(out[0]))"
      ],
      "execution_count": 6,
      "outputs": [
        {
          "output_type": "stream",
          "text": [
            "Run Time:  279.966130668\n",
            ">>>number of iteration: \n",
            "5132\n",
            ">>>the state value function: \n",
            "[[[[   0.         -253.99990046 -327.85701407 -349.85700528]\n",
            "   [-253.99990046 -311.38083017 -342.47605586 -354.52367007]\n",
            "   [-327.85701407 -342.47605586 -353.66652755 -358.76176359]\n",
            "   [-349.85700528 -354.52367007 -358.76176359 -360.76176277]]\n",
            "\n",
            "  [[-253.99990046 -311.38083017 -342.47605586 -354.52367007]\n",
            "   [-311.38083017 -333.66653559 -349.7141482  -356.7617644 ]\n",
            "   [-342.47605586 -349.7141482  -355.76176481 -358.42843039]\n",
            "   [-354.52367007 -356.7617644  -358.42843039 -358.76176359]]\n",
            "\n",
            "  [[-327.85701407 -342.47605586 -353.66652755 -358.76176359]\n",
            "   [-342.47605586 -349.7141482  -355.76176481 -358.42843039]\n",
            "   [-353.66652755 -355.76176481 -356.95224052 -356.7617644 ]\n",
            "   [-358.76176359 -358.42843039 -356.7617644  -354.52367007]]\n",
            "\n",
            "  [[-349.85700528 -354.52367007 -358.76176359 -360.76176277]\n",
            "   [-354.52367007 -356.7617644  -358.42843039 -358.76176359]\n",
            "   [-358.76176359 -358.42843039 -356.7617644  -354.52367007]\n",
            "   [-360.76176277 -358.76176359 -354.52367007 -349.85700528]]]\n",
            "\n",
            "\n",
            " [[[-253.99990046 -311.38083017 -342.47605586 -354.52367007]\n",
            "   [-311.38083017 -333.66653559 -349.7141482  -356.7617644 ]\n",
            "   [-342.47605586 -349.7141482  -355.76176481 -358.42843039]\n",
            "   [-354.52367007 -356.7617644  -358.42843039 -358.76176359]]\n",
            "\n",
            "  [[-311.38083017 -333.66653559 -349.7141482  -356.7617644 ]\n",
            "   [-333.66653559 -344.38081702 -353.09509922 -356.95224052]\n",
            "   [-349.7141482  -353.09509922 -355.42843162 -355.76176481]\n",
            "   [-356.7617644  -356.95224052 -355.76176481 -353.66652755]]\n",
            "\n",
            "  [[-342.47605586 -349.7141482  -355.76176481 -358.42843039]\n",
            "   [-349.7141482  -353.09509922 -355.42843162 -355.76176481]\n",
            "   [-355.76176481 -355.42843162 -353.09509922 -349.7141482 ]\n",
            "   [-358.42843039 -355.76176481 -349.7141482  -342.47605586]]\n",
            "\n",
            "  [[-354.52367007 -356.7617644  -358.42843039 -358.76176359]\n",
            "   [-356.7617644  -356.95224052 -355.76176481 -353.66652755]\n",
            "   [-358.42843039 -355.76176481 -349.7141482  -342.47605586]\n",
            "   [-358.76176359 -353.66652755 -342.47605586 -327.85701407]]]\n",
            "\n",
            "\n",
            " [[[-327.85701407 -342.47605586 -353.66652755 -358.76176359]\n",
            "   [-342.47605586 -349.7141482  -355.76176481 -358.42843039]\n",
            "   [-353.66652755 -355.76176481 -356.95224052 -356.7617644 ]\n",
            "   [-358.76176359 -358.42843039 -356.7617644  -354.52367007]]\n",
            "\n",
            "  [[-342.47605586 -349.7141482  -355.76176481 -358.42843039]\n",
            "   [-349.7141482  -353.09509922 -355.42843162 -355.76176481]\n",
            "   [-355.76176481 -355.42843162 -353.09509922 -349.7141482 ]\n",
            "   [-358.42843039 -355.76176481 -349.7141482  -342.47605586]]\n",
            "\n",
            "  [[-353.66652755 -355.76176481 -356.95224052 -356.7617644 ]\n",
            "   [-355.76176481 -355.42843162 -353.09509922 -349.7141482 ]\n",
            "   [-356.95224052 -353.09509922 -344.38081702 -333.66653559]\n",
            "   [-356.7617644  -349.7141482  -333.66653559 -311.38083017]]\n",
            "\n",
            "  [[-358.76176359 -358.42843039 -356.7617644  -354.52367007]\n",
            "   [-358.42843039 -355.76176481 -349.7141482  -342.47605586]\n",
            "   [-356.7617644  -349.7141482  -333.66653559 -311.38083017]\n",
            "   [-354.52367007 -342.47605586 -311.38083017 -253.99990046]]]\n",
            "\n",
            "\n",
            " [[[-349.85700528 -354.52367007 -358.76176359 -360.76176277]\n",
            "   [-354.52367007 -356.7617644  -358.42843039 -358.76176359]\n",
            "   [-358.76176359 -358.42843039 -356.7617644  -354.52367007]\n",
            "   [-360.76176277 -358.76176359 -354.52367007 -349.85700528]]\n",
            "\n",
            "  [[-354.52367007 -356.7617644  -358.42843039 -358.76176359]\n",
            "   [-356.7617644  -356.95224052 -355.76176481 -353.66652755]\n",
            "   [-358.42843039 -355.76176481 -349.7141482  -342.47605586]\n",
            "   [-358.76176359 -353.66652755 -342.47605586 -327.85701407]]\n",
            "\n",
            "  [[-358.76176359 -358.42843039 -356.7617644  -354.52367007]\n",
            "   [-358.42843039 -355.76176481 -349.7141482  -342.47605586]\n",
            "   [-356.7617644  -349.7141482  -333.66653559 -311.38083017]\n",
            "   [-354.52367007 -342.47605586 -311.38083017 -253.99990046]]\n",
            "\n",
            "  [[-360.76176277 -358.76176359 -354.52367007 -349.85700528]\n",
            "   [-358.76176359 -353.66652755 -342.47605586 -327.85701407]\n",
            "   [-354.52367007 -342.47605586 -311.38083017 -253.99990046]\n",
            "   [-349.85700528 -327.85701407 -253.99990046    0.        ]]]]\n"
          ],
          "name": "stdout"
        }
      ]
    },
    {
      "cell_type": "markdown",
      "metadata": {
        "id": "xX5E9yANeqmS",
        "colab_type": "text"
      },
      "source": [
        "## Remark: Can you run 5-d gridworld"
      ]
    },
    {
      "cell_type": "code",
      "metadata": {
        "id": "dszBRMgieqmT",
        "colab_type": "code",
        "colab": {}
      },
      "source": [
        ""
      ],
      "execution_count": 0,
      "outputs": []
    }
  ]
}