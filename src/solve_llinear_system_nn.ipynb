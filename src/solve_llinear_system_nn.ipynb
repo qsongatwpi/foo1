{
 "cells": [
  {
   "cell_type": "markdown",
   "metadata": {},
   "source": [
    "# Solving linear system by nn"
   ]
  },
  {
   "cell_type": "markdown",
   "metadata": {},
   "source": [
    "Our goal is to solve $Ax = b$ by nn. Of course, we can use LU decomposition. This below is for the validation purpose."
   ]
  },
  {
   "cell_type": "code",
   "execution_count": 1,
   "metadata": {},
   "outputs": [],
   "source": [
    "import torch\n",
    "import torch.nn as nn\n"
   ]
  },
  {
   "cell_type": "code",
   "execution_count": 2,
   "metadata": {},
   "outputs": [
    {
     "name": "stdout",
     "output_type": "stream",
     "text": [
      ">>>matrix A:tensor([[ 3.,  5.],\n",
      "        [-2., 13.]]), \n",
      " vector b: tensor([[1.],\n",
      "        [1.]])\n",
      ">>>soln from LU factorization is tensor([[0.1633],\n",
      "        [0.1020]])\n"
     ]
    }
   ],
   "source": [
    "\n",
    "A = torch.tensor([3, 5, -2, 13], dtype=torch.float).reshape(2,2)\n",
    "b = torch.ones(2,1)\n",
    "\n",
    "x = torch.solve(b,A)\n",
    "print(f'>>>matrix A:{A}, \\n vector b: {b}')\n",
    "print(f'>>>soln from LU factorization is {x[0]}')"
   ]
  },
  {
   "cell_type": "markdown",
   "metadata": {},
   "source": [
    "- Next, we can use the following nn"
   ]
  },
  {
   "cell_type": "code",
   "execution_count": 3,
   "metadata": {},
   "outputs": [
    {
     "name": "stdout",
     "output_type": "stream",
     "text": [
      "Epoch 50, Loss: 3.957065200665966e-05, \n",
      " soln: [0.16491079330444336, 0.1020437628030777]\n",
      "Epoch 100, Loss: 9.795542155188741e-08, \n",
      " soln: [0.16334718465805054, 0.10204096138477325]\n",
      "Epoch 150, Loss: 2.404512144948967e-10, \n",
      " soln: [0.16326940059661865, 0.10204081982374191]\n",
      "Epoch 200, Loss: 9.237055564881302e-13, \n",
      " soln: [0.16326555609703064, 0.10204081982374191]\n",
      "Epoch 250, Loss: 2.842170943040401e-14, \n",
      " soln: [0.16326534748077393, 0.10204081237316132]\n",
      "Epoch 300, Loss: 2.842170943040401e-14, \n",
      " soln: [0.16326534748077393, 0.10204081982374191]\n",
      "Epoch 350, Loss: 0.0, \n",
      " soln: [0.16326533257961273, 0.10204081982374191]\n",
      "Epoch 400, Loss: 0.0, \n",
      " soln: [0.16326533257961273, 0.10204081982374191]\n",
      "Epoch 450, Loss: 0.0, \n",
      " soln: [0.16326533257961273, 0.10204081982374191]\n",
      "Epoch 500, Loss: 0.0, \n",
      " soln: [0.16326533257961273, 0.10204081982374191]\n"
     ]
    }
   ],
   "source": [
    "net = nn.Sequential(\n",
    "    nn.Linear(1, 10),\n",
    "    nn.ReLU(),\n",
    "    nn.Linear(10,1),\n",
    ")\n",
    "\n",
    "def loss_list():  \n",
    "  ix = torch.tensor([0,1], dtype=torch.float).reshape(2,1)\n",
    "  return A@net(ix)-b\n",
    "\n",
    "\n",
    "print_n = 10\n",
    "n_epoch=500; epoch_per_print= int(n_epoch/print_n)\n",
    "\n",
    "for epoch in range(n_epoch):\n",
    "    #ipdb.set_trace()\n",
    "    loss = sum([a**2. for a in loss_list()]) #forward pass\n",
    "    #backward propogation\n",
    "    lr = max(1./(n_epoch+100), 0.001)\n",
    "    optimizer = torch.optim.SGD(net.parameters(), lr, momentum = .8) \n",
    "    optimizer.zero_grad()\n",
    "    loss.backward()\n",
    "    optimizer.step()\n",
    "    \n",
    "    if (epoch+1) % epoch_per_print == 0:\n",
    "        x_pre = (net(torch.tensor([0,1], dtype=torch.float).reshape(2,1)))          \n",
    "        print(f'Epoch {epoch+1}, Loss: {loss.item()}, \\n soln: [{x_pre[0].item()}, {x_pre[1].item()}]')"
   ]
  },
  {
   "cell_type": "markdown",
   "metadata": {},
   "source": [
    "- If the condition number is bad, the nn does not work."
   ]
  },
  {
   "cell_type": "code",
   "execution_count": null,
   "metadata": {},
   "outputs": [],
   "source": []
  }
 ],
 "metadata": {
  "kernelspec": {
   "display_name": "Python 3",
   "language": "python",
   "name": "python3"
  },
  "language_info": {
   "codemirror_mode": {
    "name": "ipython",
    "version": 3
   },
   "file_extension": ".py",
   "mimetype": "text/x-python",
   "name": "python",
   "nbconvert_exporter": "python",
   "pygments_lexer": "ipython3",
   "version": "3.7.4"
  }
 },
 "nbformat": 4,
 "nbformat_minor": 2
}
