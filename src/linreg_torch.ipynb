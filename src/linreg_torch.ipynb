{
  "nbformat": 4,
  "nbformat_minor": 0,
  "metadata": {
    "colab": {
      "name": "linreg_torch.ipynb",
      "version": "0.3.2",
      "provenance": [],
      "include_colab_link": true
    },
    "kernelspec": {
      "name": "python3",
      "display_name": "Python 3"
    },
    "accelerator": "GPU"
  },
  "cells": [
    {
      "cell_type": "markdown",
      "metadata": {
        "id": "view-in-github",
        "colab_type": "text"
      },
      "source": [
        "<a href=\"https://colab.research.google.com/github/songqsh/foo1/blob/master/src/linreg_torch.ipynb\" target=\"_parent\"><img src=\"https://colab.research.google.com/assets/colab-badge.svg\" alt=\"Open In Colab\"/></a>"
      ]
    },
    {
      "metadata": {
        "id": "Q3Diq113plTT",
        "colab_type": "code",
        "colab": {}
      },
      "cell_type": "code",
      "source": [
        "import torch\n",
        "import torch.nn as nn\n",
        "import numpy as np\n",
        "import matplotlib.pyplot as plt"
      ],
      "execution_count": 0,
      "outputs": []
    },
    {
      "metadata": {
        "id": "G8hPKgqIrexQ",
        "colab_type": "code",
        "outputId": "9180e68a-8c15-497d-a5d6-4915c6e45342",
        "colab": {
          "base_uri": "https://localhost:8080/",
          "height": 286
        }
      },
      "cell_type": "code",
      "source": [
        "'''\n",
        "Step 0: Creat data\n",
        "'''\n",
        "\n",
        "input_dim = 1\n",
        "output_dim = 1\n",
        "\n",
        "batch_size = 100\n",
        "\n",
        "x_train = torch.randn(batch_size, input_dim)\n",
        "noise = torch.randn(batch_size, input_dim)*0.2\n",
        "y_train = 0.5 + 2*x_train + noise\n",
        "\n",
        "plt.plot(x_train.numpy(), y_train.numpy(), 'ro')"
      ],
      "execution_count": 24,
      "outputs": [
        {
          "output_type": "execute_result",
          "data": {
            "text/plain": [
              "[<matplotlib.lines.Line2D at 0x7f3753df6a20>]"
            ]
          },
          "metadata": {
            "tags": []
          },
          "execution_count": 24
        },
        {
          "output_type": "display_data",
          "data": {
            "image/png": "[encoded data removed]",
            "text/plain": [
              "<Figure size 432x288 with 1 Axes>"
            ]
          },
          "metadata": {
            "tags": []
          }
        }
      ]
    },
    {
      "metadata": {
        "id": "2QFHRtWTpmkt",
        "colab_type": "code",
        "colab": {}
      },
      "cell_type": "code",
      "source": [
        "'''\n",
        "STEP 1: CREATE MODEL CLASS\n",
        "'''\n",
        "class LinearRegressionModel(nn.Module):\n",
        "    def __init__(self, input_dim, output_dim):\n",
        "        super(LinearRegressionModel, self).__init__()\n",
        "        self.linear = nn.Linear(input_dim, output_dim)  \n",
        "    \n",
        "    def forward(self, x):\n",
        "        out = self.linear(x)\n",
        "        return out\n",
        "\n",
        "'''\n",
        "STEP 2: INSTANTIATE MODEL CLASS\n",
        "'''\n",
        "\n",
        "model = LinearRegressionModel(input_dim, output_dim)\n"
      ],
      "execution_count": 0,
      "outputs": []
    },
    {
      "metadata": {
        "id": "KBq2YufMqI6i",
        "colab_type": "code",
        "colab": {}
      },
      "cell_type": "code",
      "source": [
        "'''\n",
        "STEP 3: INSTANTIATE LOSS CLASS\n",
        "'''\n",
        "\n",
        "criterion = nn.MSELoss()\n",
        "\n",
        "'''\n",
        "STEP 4: INSTANTIATE OPTIMIZER CLASS\n",
        "'''\n",
        "\n",
        "learning_rate = 0.01\n",
        "\n",
        "optimizer = torch.optim.SGD(model.parameters(), lr=learning_rate)\n"
      ],
      "execution_count": 0,
      "outputs": []
    },
    {
      "metadata": {
        "id": "34xCIWrrrEx9",
        "colab_type": "code",
        "outputId": "0f6648c0-507d-4d6e-de55-43e2f6fe4616",
        "colab": {
          "base_uri": "https://localhost:8080/",
          "height": 1717
        }
      },
      "cell_type": "code",
      "source": [
        "\n",
        "'''\n",
        "STEP 5: TRAIN THE MODEL\n",
        "'''\n",
        "epochs = 100\n",
        "for epoch in range(epochs):\n",
        "    epoch += 1\n",
        "    \n",
        "    #######################\n",
        "    #  USE GPU FOR MODEL  #\n",
        "    #######################\n",
        "\n",
        "    \n",
        "    # Clear gradients w.r.t. parameters\n",
        "    optimizer.zero_grad() \n",
        "    \n",
        "    # Forward to get output\n",
        "    y_pred = model(x_train)\n",
        "    \n",
        "    # Calculate Loss\n",
        "    loss = criterion(y_pred, y_train)\n",
        "    \n",
        "    # Getting gradients w.r.t. parameters\n",
        "    loss.backward()\n",
        "    \n",
        "    # Updating parameters\n",
        "    optimizer.step()\n",
        "    \n",
        "    # Logging\n",
        "    print('epoch {}, loss {}'.format(epoch, loss.item()))"
      ],
      "execution_count": 27,
      "outputs": [
        {
          "output_type": "stream",
          "text": [
            "epoch 1, loss 3.0585718154907227\n",
            "epoch 2, loss 2.9493319988250732\n",
            "epoch 3, loss 2.8440346717834473\n",
            "epoch 4, loss 2.742537498474121\n",
            "epoch 5, loss 2.644702911376953\n",
            "epoch 6, loss 2.550398826599121\n",
            "epoch 7, loss 2.4594974517822266\n",
            "epoch 8, loss 2.371875762939453\n",
            "epoch 9, loss 2.2874152660369873\n",
            "epoch 10, loss 2.2060017585754395\n",
            "epoch 11, loss 2.1275250911712646\n",
            "epoch 12, loss 2.051879405975342\n",
            "epoch 13, loss 1.9789623022079468\n",
            "epoch 14, loss 1.9086750745773315\n",
            "epoch 15, loss 1.8409228324890137\n",
            "epoch 16, loss 1.7756140232086182\n",
            "epoch 17, loss 1.7126601934432983\n",
            "epoch 18, loss 1.6519768238067627\n",
            "epoch 19, loss 1.593481421470642\n",
            "epoch 20, loss 1.5370949506759644\n",
            "epoch 21, loss 1.4827417135238647\n",
            "epoch 22, loss 1.4303478002548218\n",
            "epoch 23, loss 1.3798428773880005\n",
            "epoch 24, loss 1.3311585187911987\n",
            "epoch 25, loss 1.284229040145874\n",
            "epoch 26, loss 1.238991141319275\n",
            "epoch 27, loss 1.1953835487365723\n",
            "epoch 28, loss 1.1533478498458862\n",
            "epoch 29, loss 1.112826943397522\n",
            "epoch 30, loss 1.0737662315368652\n",
            "epoch 31, loss 1.0361132621765137\n",
            "epoch 32, loss 0.9998168349266052\n",
            "epoch 33, loss 0.9648283123970032\n",
            "epoch 34, loss 0.9311003684997559\n",
            "epoch 35, loss 0.8985876441001892\n",
            "epoch 36, loss 0.867246150970459\n",
            "epoch 37, loss 0.8370338678359985\n",
            "epoch 38, loss 0.8079097867012024\n",
            "epoch 39, loss 0.7798348069190979\n",
            "epoch 40, loss 0.7527710795402527\n",
            "epoch 41, loss 0.7266820669174194\n",
            "epoch 42, loss 0.7015326023101807\n",
            "epoch 43, loss 0.6772890090942383\n",
            "epoch 44, loss 0.6539183855056763\n",
            "epoch 45, loss 0.6313893795013428\n",
            "epoch 46, loss 0.6096715331077576\n",
            "epoch 47, loss 0.5887357592582703\n",
            "epoch 48, loss 0.5685538053512573\n",
            "epoch 49, loss 0.5490984320640564\n",
            "epoch 50, loss 0.5303434729576111\n",
            "epoch 51, loss 0.5122637152671814\n",
            "epoch 52, loss 0.4948348104953766\n",
            "epoch 53, loss 0.47803327441215515\n",
            "epoch 54, loss 0.46183642745018005\n",
            "epoch 55, loss 0.44622260332107544\n",
            "epoch 56, loss 0.4311707615852356\n",
            "epoch 57, loss 0.41666072607040405\n",
            "epoch 58, loss 0.40267276763916016\n",
            "epoch 59, loss 0.3891882300376892\n",
            "epoch 60, loss 0.3761889338493347\n",
            "epoch 61, loss 0.3636574149131775\n",
            "epoch 62, loss 0.35157686471939087\n",
            "epoch 63, loss 0.3399309515953064\n",
            "epoch 64, loss 0.3287040591239929\n",
            "epoch 65, loss 0.3178810477256775\n",
            "epoch 66, loss 0.30744749307632446\n",
            "epoch 67, loss 0.2973892092704773\n",
            "epoch 68, loss 0.28769272565841675\n",
            "epoch 69, loss 0.27834510803222656\n",
            "epoch 70, loss 0.26933372020721436\n",
            "epoch 71, loss 0.2606464624404907\n",
            "epoch 72, loss 0.2522715926170349\n",
            "epoch 73, loss 0.2441980242729187\n",
            "epoch 74, loss 0.2364148050546646\n",
            "epoch 75, loss 0.22891150414943695\n",
            "epoch 76, loss 0.2216780185699463\n",
            "epoch 77, loss 0.21470458805561066\n",
            "epoch 78, loss 0.20798197388648987\n",
            "epoch 79, loss 0.2015010565519333\n",
            "epoch 80, loss 0.1952531635761261\n",
            "epoch 81, loss 0.18922993540763855\n",
            "epoch 82, loss 0.1834232360124588\n",
            "epoch 83, loss 0.17782528698444366\n",
            "epoch 84, loss 0.17242859303951263\n",
            "epoch 85, loss 0.16722595691680908\n",
            "epoch 86, loss 0.16221031546592712\n",
            "epoch 87, loss 0.15737499296665192\n",
            "epoch 88, loss 0.15271344780921936\n",
            "epoch 89, loss 0.14821946620941162\n",
            "epoch 90, loss 0.1438869684934616\n",
            "epoch 91, loss 0.1397102028131485\n",
            "epoch 92, loss 0.1356835663318634\n",
            "epoch 93, loss 0.13180160522460938\n",
            "epoch 94, loss 0.12805914878845215\n",
            "epoch 95, loss 0.12445119768381119\n",
            "epoch 96, loss 0.12097290903329849\n",
            "epoch 97, loss 0.1176195964217186\n",
            "epoch 98, loss 0.11438673734664917\n",
            "epoch 99, loss 0.11127005517482758\n",
            "epoch 100, loss 0.10826537758111954\n"
          ],
          "name": "stdout"
        }
      ]
    },
    {
      "metadata": {
        "id": "cUMieNqTtKbK",
        "colab_type": "code",
        "colab": {}
      },
      "cell_type": "code",
      "source": [
        "y_pred = model(x_train)"
      ],
      "execution_count": 0,
      "outputs": []
    },
    {
      "metadata": {
        "id": "FdU-4SuK0NbM",
        "colab_type": "code",
        "outputId": "9c16874a-ba7e-4447-a4cb-296ad00c6afd",
        "colab": {
          "base_uri": "https://localhost:8080/",
          "height": 286
        }
      },
      "cell_type": "code",
      "source": [
        "plt.plot(x_train.numpy(), y_train.numpy(), 'ro')\n",
        "plt.plot(x_train.detach().numpy(), y_pred.detach().numpy())"
      ],
      "execution_count": 29,
      "outputs": [
        {
          "output_type": "execute_result",
          "data": {
            "text/plain": [
              "[<matplotlib.lines.Line2D at 0x7f3753db00b8>]"
            ]
          },
          "metadata": {
            "tags": []
          },
          "execution_count": 29
        },
        {
          "output_type": "display_data",
          "data": {
            "image/png": "[encoded data removed]",
            "text/plain": [
              "<Figure size 432x288 with 1 Axes>"
            ]
          },
          "metadata": {
            "tags": []
          }
        }
      ]
    },
    {
      "metadata": {
        "id": "mc09EznX1b1T",
        "colab_type": "code",
        "colab": {}
      },
      "cell_type": "code",
      "source": [
        ""
      ],
      "execution_count": 0,
      "outputs": []
    }
  ]
}