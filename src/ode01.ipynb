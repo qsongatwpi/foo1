{
  "nbformat": 4,
  "nbformat_minor": 0,
  "metadata": {
    "colab": {
      "name": "ode01.ipynb",
      "provenance": [],
      "include_colab_link": true
    },
    "kernelspec": {
      "name": "python3",
      "display_name": "Python 3"
    }
  },
  "cells": [
    {
      "cell_type": "markdown",
      "metadata": {
        "id": "view-in-github",
        "colab_type": "text"
      },
      "source": [
        "<a href=\"https://colab.research.google.com/github/songqsh/foo1/blob/master/src/ode01.ipynb\" target=\"_parent\"><img src=\"https://colab.research.google.com/assets/colab-badge.svg\" alt=\"Open In Colab\"/></a>"
      ]
    },
    {
      "cell_type": "markdown",
      "metadata": {
        "id": "-rG7O5fIbYRq",
        "colab_type": "text"
      },
      "source": [
        "__Goal__\n",
        "\n",
        "We want to solve ODE\n",
        "$$u'(x) - 1 = 0, u(0) = 0, x\\in [0,1]$$\n",
        "with neural network and compare this with true solution $u(x) = x$.\n",
        "\n",
        "__Method__\n",
        "\n",
        "- Build a neural network, say $v(x;w)$, where $x$ is 1-d input and $w$ is weight. \n",
        "- Set loss function as\n",
        "$$l(w) = \\frac{1}{10}\\sum_{j=1}^{10} \\Big(\\frac{\\partial}{\\partial_x} v(j/10, w) - 1 \\Big)^2 + (v(0) - 0)^2.$$\n",
        "- Use an optimizer to minimize the loss\n"
      ]
    },
    {
      "cell_type": "code",
      "metadata": {
        "id": "0rhGwHmBXJiF",
        "colab_type": "code",
        "colab": {}
      },
      "source": [
        "import torch\n",
        "import torch.nn as nn\n",
        "from torch.autograd import grad"
      ],
      "execution_count": 0,
      "outputs": []
    },
    {
      "cell_type": "code",
      "metadata": {
        "id": "ooBozAznYass",
        "colab_type": "code",
        "colab": {}
      },
      "source": [
        "#parameters\n",
        "\n",
        "drift = 1.\n",
        "run_cost = -1.\n",
        "boundary = 0.\n",
        "\n",
        "l_bd = 0.\n",
        "r_bd = 1.\n",
        "mesh_n = 10\n",
        "mesh_x = torch.linspace(l_bd, r_bd, mesh_n +1, dtype = torch.float, requires_grad=True).reshape(mesh_n+1,1)\n"
      ],
      "execution_count": 0,
      "outputs": []
    },
    {
      "cell_type": "code",
      "metadata": {
        "id": "fPtZC59LXMGn",
        "colab_type": "code",
        "colab": {}
      },
      "source": [
        "model = nn.Linear(1, 1) #model for solution"
      ],
      "execution_count": 0,
      "outputs": []
    },
    {
      "cell_type": "code",
      "metadata": {
        "id": "T8IrqZq0XMJn",
        "colab_type": "code",
        "colab": {}
      },
      "source": [
        "#loss in the interior\n",
        "def loss1(model, mesh_x, drift, run_cost):\n",
        "  loss = 0.\n",
        "  for x in mesh_x[1:]:\n",
        "    y = model(x) #function value\n",
        "    y_g1 = grad(y, x, create_graph=True)[0] #first order derivative\n",
        "    loss = loss + torch.pow(y_g1*drift + run_cost, 2)\n",
        "    \n",
        "  return torch.div(loss, mesh_x.shape[0])\n",
        "\n",
        "#loss_total = loss interior + loss boundary\n",
        "def loss_tot(model, mesh_x, drfit, run_cost, boundary):\n",
        "  l1 = loss1(model, mesh_x, drift, run_cost) #loss interior\n",
        "  l0 = torch.pow(model(mesh_x[0]) - boundary, 2) #loss boundary\n",
        "  return torch.add(l1,l0)\n",
        "\n",
        "#loss_tot(model, mesh_x, drift, run_cost, boundary)  "
      ],
      "execution_count": 0,
      "outputs": []
    },
    {
      "cell_type": "code",
      "metadata": {
        "id": "eG-J0PkRd8Va",
        "colab_type": "code",
        "colab": {}
      },
      "source": [
        "#optimizer\n",
        "learning_rate = 0.1\n",
        "optimizer = torch.optim.SGD(model.parameters(), lr=learning_rate)"
      ],
      "execution_count": 0,
      "outputs": []
    },
    {
      "cell_type": "code",
      "metadata": {
        "id": "WAc40uW6eKg9",
        "colab_type": "code",
        "outputId": "23c95212-72ab-492c-992d-301799219f4e",
        "colab": {
          "base_uri": "https://localhost:8080/",
          "height": 357
        }
      },
      "source": [
        "# Train the model\n",
        "num_epochs = 40\n",
        "\n",
        "for epoch in range(num_epochs):\n",
        "\n",
        "    # Forward pass\n",
        "    loss = loss_tot(model, mesh_x, drift, run_cost, boundary)  \n",
        "    \n",
        "    # Backward and optimize\n",
        "    optimizer.zero_grad()\n",
        "    loss.backward()\n",
        "    optimizer.step()\n",
        "    \n",
        "    if (epoch+1) % 2 == 0:\n",
        "        print ('Epoch [{}/{}], Loss: {:.4f}'.format(epoch+1, \n",
        "                                                    num_epochs, loss.item()))"
      ],
      "execution_count": 6,
      "outputs": [
        {
          "output_type": "stream",
          "text": [
            "Epoch [2/40], Loss: 0.2115\n",
            "Epoch [4/40], Loss: 0.0900\n",
            "Epoch [6/40], Loss: 0.0384\n",
            "Epoch [8/40], Loss: 0.0164\n",
            "Epoch [10/40], Loss: 0.0070\n",
            "Epoch [12/40], Loss: 0.0030\n",
            "Epoch [14/40], Loss: 0.0013\n",
            "Epoch [16/40], Loss: 0.0006\n",
            "Epoch [18/40], Loss: 0.0002\n",
            "Epoch [20/40], Loss: 0.0001\n",
            "Epoch [22/40], Loss: 0.0000\n",
            "Epoch [24/40], Loss: 0.0000\n",
            "Epoch [26/40], Loss: 0.0000\n",
            "Epoch [28/40], Loss: 0.0000\n",
            "Epoch [30/40], Loss: 0.0000\n",
            "Epoch [32/40], Loss: 0.0000\n",
            "Epoch [34/40], Loss: 0.0000\n",
            "Epoch [36/40], Loss: 0.0000\n",
            "Epoch [38/40], Loss: 0.0000\n",
            "Epoch [40/40], Loss: 0.0000\n"
          ],
          "name": "stdout"
        }
      ]
    },
    {
      "cell_type": "code",
      "metadata": {
        "id": "M_d9CyJ8dVT-",
        "colab_type": "code",
        "colab": {}
      },
      "source": [
        "import numpy as np\n",
        "import matplotlib.pyplot as plt"
      ],
      "execution_count": 0,
      "outputs": []
    },
    {
      "cell_type": "code",
      "metadata": {
        "id": "KMK2r89xkxDp",
        "colab_type": "code",
        "outputId": "bb24a9df-a2fb-48ab-f0d5-ec89d23b9427",
        "colab": {
          "base_uri": "https://localhost:8080/",
          "height": 282
        }
      },
      "source": [
        "x_np = mesh_x.detach().numpy()\n",
        "y_np = model(mesh_x).detach().numpy()\n",
        "plt.plot(x_np, y_np)"
      ],
      "execution_count": 8,
      "outputs": [
        {
          "output_type": "execute_result",
          "data": {
            "text/plain": [
              "[<matplotlib.lines.Line2D at 0x7f8893cb94a8>]"
            ]
          },
          "metadata": {
            "tags": []
          },
          "execution_count": 8
        },
        {
          "output_type": "display_data",
          "data": {
            "image/png": "[encoded data removed]",
            "text/plain": [
              "<Figure size 432x288 with 1 Axes>"
            ]
          },
          "metadata": {
            "tags": []
          }
        }
      ]
    },
    {
      "cell_type": "code",
      "metadata": {
        "id": "UshzrJl1lRPM",
        "colab_type": "code",
        "colab": {}
      },
      "source": [
        ""
      ],
      "execution_count": 0,
      "outputs": []
    }
  ]
}