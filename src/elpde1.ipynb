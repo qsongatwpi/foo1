{
 "cells": [
  {
   "cell_type": "markdown",
   "metadata": {},
   "source": [
    "# Solve Elliptic Linear PDE with Neural Network\n",
    "- see [pdf](../doc/191222epde.pdf)"
   ]
  },
  {
   "cell_type": "code",
   "execution_count": 1,
   "metadata": {},
   "outputs": [],
   "source": [
    "from elpde1 import *"
   ]
  },
  {
   "cell_type": "code",
   "execution_count": 2,
   "metadata": {},
   "outputs": [
    {
     "name": "stdout",
     "output_type": "stream",
     "text": [
      ">>>>Elliptic Linear PDE with 1-dim\n",
      ">>>>MDP with 1-dim 16 mesh num\n",
      "Sequential(\n",
      "  (0): Linear(in_features=1, out_features=3, bias=True)\n",
      "  (1): ReLU()\n",
      "  (2): Linear(in_features=3, out_features=2, bias=True)\n",
      "  (3): ReLU()\n",
      "  (4): Linear(in_features=2, out_features=1, bias=True)\n",
      ")\n",
      "Epoch [10/100], Loss: 0.0128\n",
      "Epoch [20/100], Loss: 0.0064\n",
      "Epoch [30/100], Loss: 0.0031\n",
      "Epoch [40/100], Loss: 0.0015\n",
      "Epoch [50/100], Loss: 0.0007\n",
      "Epoch [60/100], Loss: 0.0004\n",
      "Epoch [70/100], Loss: 0.0002\n",
      "Epoch [80/100], Loss: 0.0001\n",
      "Epoch [90/100], Loss: 0.0001\n",
      "Epoch [100/100], Loss: 0.0000\n",
      ">>>time elapsed is: 1.3148808479309082\n",
      ">>>L2-error-norm: 0.035596059540625204\n"
     ]
    }
   ],
   "source": [
    "p = Pde(n_dim_=1); m = Mdp(p, n_mesh_=16, method='cfd')\n",
    "value = solver(m, n_epoch=100)\n",
    "######check solution\n",
    "err =0\n",
    "for ix1 in deep_iter(*m.v_shape_):\n",
    "    s1 = m.i2s(ix1)\n",
    "    v1 = value(torch.FloatTensor(s1)).item()\n",
    "    err1 = v1-p.exact_soln(s1)\n",
    "    err += err1**2\n",
    "    #print(ix1, i2s(ix1), v1, exact_soln(s1),err1)\n",
    "\n",
    "err = err/m.v_size_\n",
    "print('>>>L2-error-norm: '+str(err))\n"
   ]
  },
  {
   "cell_type": "code",
   "execution_count": null,
   "metadata": {},
   "outputs": [],
   "source": []
  }
 ],
 "metadata": {
  "kernelspec": {
   "display_name": "Python 3",
   "language": "python",
   "name": "python3"
  },
  "language_info": {
   "codemirror_mode": {
    "name": "ipython",
    "version": 3
   },
   "file_extension": ".py",
   "mimetype": "text/x-python",
   "name": "python",
   "nbconvert_exporter": "python",
   "pygments_lexer": "ipython3",
   "version": "3.7.4"
  }
 },
 "nbformat": 4,
 "nbformat_minor": 2
}
