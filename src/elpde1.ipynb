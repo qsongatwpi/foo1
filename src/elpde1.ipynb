{
  "nbformat": 4,
  "nbformat_minor": 0,
  "metadata": {
    "kernelspec": {
      "display_name": "Python 3",
      "language": "python",
      "name": "python3"
    },
    "language_info": {
      "codemirror_mode": {
        "name": "ipython",
        "version": 3
      },
      "file_extension": ".py",
      "mimetype": "text/x-python",
      "name": "python",
      "nbconvert_exporter": "python",
      "pygments_lexer": "ipython3",
      "version": "3.7.4"
    },
    "colab": {
      "name": "elpde1.ipynb",
      "provenance": [],
      "toc_visible": true,
      "include_colab_link": true
    }
  },
  "cells": [
    {
      "cell_type": "markdown",
      "metadata": {
        "id": "view-in-github",
        "colab_type": "text"
      },
      "source": [
        "<a href=\"https://colab.research.google.com/github/songqsh/foo1/blob/master/src/elpde1.ipynb\" target=\"_parent\"><img src=\"https://colab.research.google.com/assets/colab-badge.svg\" alt=\"Open In Colab\"/></a>"
      ]
    },
    {
      "cell_type": "markdown",
      "metadata": {
        "id": "CN6jeezOy39T",
        "colab_type": "text"
      },
      "source": [
        "# Solve Elliptic Linear PDE with Neural Network\n",
        "- see [pdf](https://github.com/songqsh/foo1/blob/da1d48de52eda0fff5f128553c8d917f7215040b/doc/191222epde.pdf)"
      ]
    },
    {
      "cell_type": "code",
      "metadata": {
        "id": "uK5_yKMY0DVT",
        "colab_type": "code",
        "colab": {}
      },
      "source": [
        "'''======\n",
        "run once, then comment it off, and run again\n",
        "========'''\n",
        "#!git clone https://github.com/songqsh/foo1.git \n",
        "pass"
      ],
      "execution_count": 0,
      "outputs": []
    },
    {
      "cell_type": "code",
      "metadata": {
        "id": "w6RK-krR0ynL",
        "colab_type": "code",
        "colab": {
          "base_uri": "https://localhost:8080/",
          "height": 34
        },
        "outputId": "1ae12b54-0429-4e1b-cb2a-3b4675b3f1f4"
      },
      "source": [
        "cd foo1/src/"
      ],
      "execution_count": 2,
      "outputs": [
        {
          "output_type": "stream",
          "text": [
            "/content/foo1/src\n"
          ],
          "name": "stdout"
        }
      ]
    },
    {
      "cell_type": "code",
      "metadata": {
        "id": "TEuJMP1Gy39W",
        "colab_type": "code",
        "colab": {}
      },
      "source": [
        "from elpde1 import *"
      ],
      "execution_count": 0,
      "outputs": []
    },
    {
      "cell_type": "code",
      "metadata": {
        "id": "03yit8_2y39g",
        "colab_type": "code",
        "colab": {
          "base_uri": "https://localhost:8080/",
          "height": 374
        },
        "outputId": "35920ffb-ebea-4d4a-ccab-1a23d93049a3"
      },
      "source": [
        "p = Pde(n_dim_=1); m = Mdp(p, n_mesh_=16, method='cfd')\n",
        "value = solver(m, n_epoch=100)\n",
        "######check solution\n",
        "err =0\n",
        "for ix1 in deep_iter(*m.v_shape_):\n",
        "    s1 = m.i2s(ix1)\n",
        "    v1 = value(torch.FloatTensor(s1)).item()\n",
        "    err1 = v1-p.exact_soln(s1)\n",
        "    err += err1**2\n",
        "    #print(ix1, i2s(ix1), v1, exact_soln(s1),err1)\n",
        "\n",
        "err = err/m.v_size_\n",
        "print('>>>L2-error-norm: '+str(err))\n"
      ],
      "execution_count": 4,
      "outputs": [
        {
          "output_type": "stream",
          "text": [
            ">>>>Elliptic Linear PDE with 1-dim\n",
            ">>>>MDP with 1-dim 16 mesh num\n",
            "Sequential(\n",
            "  (0): Linear(in_features=1, out_features=3, bias=True)\n",
            "  (1): ReLU()\n",
            "  (2): Linear(in_features=3, out_features=2, bias=True)\n",
            "  (3): ReLU()\n",
            "  (4): Linear(in_features=2, out_features=1, bias=True)\n",
            ")\n",
            "Epoch [10/100], Loss: 0.0104\n",
            "Epoch [20/100], Loss: 0.0075\n",
            "Epoch [30/100], Loss: 0.0053\n",
            "Epoch [40/100], Loss: 0.0037\n",
            "Epoch [50/100], Loss: 0.0026\n",
            "Epoch [60/100], Loss: 0.0018\n",
            "Epoch [70/100], Loss: 0.0012\n",
            "Epoch [80/100], Loss: 0.0008\n",
            "Epoch [90/100], Loss: 0.0006\n",
            "Epoch [100/100], Loss: 0.0004\n",
            ">>>time elapsed is: 1.9979112148284912\n",
            ">>>L2-error-norm: 0.017025111104823566\n"
          ],
          "name": "stdout"
        }
      ]
    },
    {
      "cell_type": "code",
      "metadata": {
        "id": "UznLHM8yy39k",
        "colab_type": "code",
        "colab": {}
      },
      "source": [
        ""
      ],
      "execution_count": 0,
      "outputs": []
    }
  ]
}