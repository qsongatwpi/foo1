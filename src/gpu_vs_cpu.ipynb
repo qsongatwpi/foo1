{
  "nbformat": 4,
  "nbformat_minor": 0,
  "metadata": {
    "colab": {
      "name": "gpu_vs_cpu.ipynb",
      "version": "0.3.2",
      "provenance": [],
      "include_colab_link": true
    },
    "kernelspec": {
      "name": "python3",
      "display_name": "Python 3"
    },
    "accelerator": "GPU"
  },
  "cells": [
    {
      "cell_type": "markdown",
      "metadata": {
        "id": "view-in-github",
        "colab_type": "text"
      },
      "source": [
        "<a href=\"https://colab.research.google.com/github/songqsh/foo1/blob/master/src/gpu_vs_cpu.ipynb\" target=\"_parent\"><img src=\"https://colab.research.google.com/assets/colab-badge.svg\" alt=\"Open In Colab\"/></a>"
      ]
    },
    {
      "cell_type": "code",
      "metadata": {
        "id": "D-ZN7vQHtraF",
        "colab_type": "code",
        "colab": {}
      },
      "source": [
        "import torch\n",
        "import numpy as np\n",
        "import time"
      ],
      "execution_count": 0,
      "outputs": []
    },
    {
      "cell_type": "markdown",
      "metadata": {
        "id": "TztwOCyI-amb",
        "colab_type": "text"
      },
      "source": [
        "__Goal__\n",
        "\n",
        "We compare the performance of GPU and CPU on the same task using pytorch\n",
        "\n",
        "__Rk__\n",
        "\n",
        "- Colab does not allow even bigger tensor calculation.\n",
        "- cpu time is 50 times of gpu time"
      ]
    },
    {
      "cell_type": "code",
      "metadata": {
        "id": "iTwgAVNRH8WT",
        "colab_type": "code",
        "colab": {}
      },
      "source": [
        "dim_ = 9\n",
        "len_ = 9\n",
        "size_ = torch.ones(dim_, dtype = torch.int8)*len_\n",
        "size_ = tuple(map(lambda x: x, size_))\n"
      ],
      "execution_count": 0,
      "outputs": []
    },
    {
      "cell_type": "code",
      "metadata": {
        "id": "VJUO6rBozXc6",
        "colab_type": "code",
        "colab": {
          "base_uri": "https://localhost:8080/",
          "height": 68
        },
        "outputId": "8725875b-7dd3-4c2a-c202-7ded1fc9b5d1"
      },
      "source": [
        "#cpu\n",
        "\n",
        "tensor_1 = torch.randn(size_)\n",
        "#tensor_2 = torch.randn(size_)\n",
        "\n",
        "print('>>>go CPU')\n",
        "start_ = time.perf_counter()\n",
        "\n",
        "#tensor_3 = tensor_1 + tensor_2\n",
        "tensor_3 = torch.mul(tensor_1, tensor_1) + tensor_1\n",
        "print(tensor_3.sum()/tensor_3.nelement())\n",
        "\n",
        "end_ = time.perf_counter()\n",
        "print('>>>CPU elapsed time is ' + str(end_ - start_))"
      ],
      "execution_count": 3,
      "outputs": [
        {
          "output_type": "stream",
          "text": [
            ">>>go CPU\n",
            "tensor(1.0272)\n",
            ">>>CPU elapsed time is 2.461075013000027\n"
          ],
          "name": "stdout"
        }
      ]
    },
    {
      "cell_type": "code",
      "metadata": {
        "id": "KXFEQbz-y9sg",
        "colab_type": "code",
        "colab": {
          "base_uri": "https://localhost:8080/",
          "height": 68
        },
        "outputId": "48545193-72cf-474c-87e7-ae6296330ce8"
      },
      "source": [
        "#gpu\n",
        "\n",
        "tensor_gpu_1 = torch.randn(size_).cuda()\n",
        "#tensor_gpu_2 = torch.randn(size_).cuda()\n",
        "torch.cuda.synchronize()\n",
        "\n",
        "print('>>>go GPU')\n",
        "start_ = time.perf_counter()\n",
        "\n",
        "#tensor_gpu_3 = tensor_gpu_1 + tensor_gpu_2\n",
        "tensor_gpu_3 = torch.mul(tensor_gpu_1, tensor_gpu_1) + tensor_gpu_1\n",
        "print(tensor_gpu_3.sum()/tensor_gpu_3.nelement())\n",
        "\n",
        "torch.cuda.synchronize()\n",
        "end_ = time.perf_counter()\n",
        "print('>>>GPU elapsed time is ' + str(end_ - start_))"
      ],
      "execution_count": 4,
      "outputs": [
        {
          "output_type": "stream",
          "text": [
            ">>>go GPU\n",
            "tensor(1.0001, device='cuda:0')\n",
            ">>>GPU elapsed time is 0.04175654999971812\n"
          ],
          "name": "stdout"
        }
      ]
    },
    {
      "cell_type": "code",
      "metadata": {
        "id": "m5OF5o8dFhtQ",
        "colab_type": "code",
        "colab": {}
      },
      "source": [
        ""
      ],
      "execution_count": 0,
      "outputs": []
    }
  ]
}