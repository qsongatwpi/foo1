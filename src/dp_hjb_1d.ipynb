{
  "nbformat": 4,
  "nbformat_minor": 0,
  "metadata": {
    "colab": {
      "name": "dp_hjb_1d.ipynb",
      "version": "0.3.2",
      "provenance": [],
      "include_colab_link": true
    },
    "kernelspec": {
      "name": "python3",
      "display_name": "Python 3"
    }
  },
  "cells": [
    {
      "cell_type": "markdown",
      "metadata": {
        "id": "view-in-github",
        "colab_type": "text"
      },
      "source": [
        "<a href=\"https://colab.research.google.com/github/songqsh/foo1/blob/master/src/dp_hjb_1d.ipynb\" target=\"_parent\"><img src=\"https://colab.research.google.com/assets/colab-badge.svg\" alt=\"Open In Colab\"/></a>"
      ]
    },
    {
      "cell_type": "code",
      "metadata": {
        "id": "-mCD_D47zZyN",
        "colab_type": "code",
        "colab": {}
      },
      "source": [
        "import numpy as np\n",
        "import time\n",
        "start_time = time.time()\n",
        "from tqdm import tqdm\n",
        "import matplotlib.pyplot as plt"
      ],
      "execution_count": 0,
      "outputs": []
    },
    {
      "cell_type": "markdown",
      "metadata": {
        "id": "l5zX8bb6RjKY",
        "colab_type": "text"
      },
      "source": [
        "We consider control problem with controlled dynamic\n",
        "$$ dX_t = b(t, X_t, m_t) dt + \\sigma dW_t,$$\n",
        "with value\n",
        "$$v(t,x) = \\inf_m \\mathbb E^{t,x} [\\int_t^T \\ell (s, X_s, m_s) ds + g(X_T)].$$\n"
      ]
    },
    {
      "cell_type": "markdown",
      "metadata": {
        "id": "ao_vngAUSBmZ",
        "colab_type": "text"
      },
      "source": [
        "With \n",
        "$$b(t, x, a) = a, \\sigma = 1, \\ell(s, x, a) = \\frac 1 2 a^2, g(x) = \\frac 1 2 x^2$$\n",
        "we have explicit solution\n",
        "$$v(t,x) = \\frac{x^2}{2(1+T-t)} + \\frac 1 2 \\ln (1 + T-t).$$\n",
        "Optimal solution can be given as feedback form of\n",
        "$$a(t,x) = - \\frac{x}{1+T-t}.$$\n",
        "See detailed derivation [here](https://github.com/songqsh/foo1/blob/master/doc/170810.pdf)\n",
        "\n",
        "We want to check the algorithm with explicit solution $v(0,0)$ with $T=1$."
      ]
    },
    {
      "cell_type": "markdown",
      "metadata": {
        "id": "d9TFsKLWTuSD",
        "colab_type": "text"
      },
      "source": [
        "Controlled transition probability with $(\\delta, h)$ for time and state mesh size is calculated by\n",
        "$$p(x\\pm h |t, x, a) = (b^\\pm(t,x,a) h + \\frac 1 2 \\sigma^2) \\frac \\delta {h^2}$$\n",
        "and\n",
        "$$p(x|t,x,a) = 1 - (p(x+ h |t, x, a) + p(x- h |t, x, a)).$$"
      ]
    },
    {
      "cell_type": "code",
      "metadata": {
        "id": "qVygXOKFz3QP",
        "colab_type": "code",
        "colab": {}
      },
      "source": [
        "#configuration\n",
        "\n",
        "TERM = 1.\n",
        "SIGMA = 1.\n",
        "\n",
        "def drift(t,x,a):\n",
        "  return a\n",
        "\n",
        "def term_cost(x):\n",
        "  return x**2/2\n",
        "\n",
        "def run_cost(t,x,a):\n",
        "  return a**2/2\n",
        "\n"
      ],
      "execution_count": 0,
      "outputs": []
    },
    {
      "cell_type": "code",
      "metadata": {
        "id": "qASpw8s4zqW0",
        "colab_type": "code",
        "colab": {}
      },
      "source": [
        "#configurations\n",
        "\n",
        "NUM = 5 #num of meshes in one unit state space\n",
        "\n",
        "h = 1./NUM #mesh size in state space\n",
        "\n",
        "n_time = np.int(2*TERM*SIGMA**2/h**2)+1 #t_space.size\n",
        "\n",
        "del_t = TERM/(n_time-1) #time mesh size\n",
        "\n",
        "t_space = np.arange(n_time)*del_t #time space\n",
        "\n",
        "u_lim = (t_space.size -1)*h #upper limit of state space\n",
        "l_lim = - u_lim #lower limit ...\n",
        "\n",
        "s_space = np.arange(l_lim, u_lim+h, h) #state space\n",
        "\n",
        "a_space = np.arange(5*l_lim, 5*u_lim+h, h) #action space"
      ],
      "execution_count": 0,
      "outputs": []
    },
    {
      "cell_type": "code",
      "metadata": {
        "id": "_qXYR6Be1hvs",
        "colab_type": "code",
        "colab": {}
      },
      "source": [
        "#one step move\n",
        "\n",
        "del_ind_space = np.arange(-1, 2)\n",
        "\n",
        "#inputs:\n",
        "#state_ind: ranging from 0 to s_space.size-1\n",
        "#del_ind: from del_ind_space\n",
        "def next_state_ind(state_ind, del_ind):\n",
        "  \n",
        "  next_state_ind = state_ind + del_ind\n",
        "  if next_state_ind > s_space.size - 1:\n",
        "    next_state_ind = s_space.size - 1\n",
        "  elif next_state_ind < 0:\n",
        "    next_state_ind = 0\n",
        "  \n",
        "  return next_state_ind"
      ],
      "execution_count": 0,
      "outputs": []
    },
    {
      "cell_type": "code",
      "metadata": {
        "id": "8T0vyQE26QL-",
        "colab_type": "code",
        "colab": {}
      },
      "source": [
        "\n",
        "\n",
        "#transition probability\n",
        "#output is probability of del_ind_space\n",
        "\n",
        "def transition_probability(t, x, a):\n",
        "  tp = np.zeros(del_ind_space.shape)\n",
        "  \n",
        "  b_plus = np.max([0, drift(t,x,a)])\n",
        "  b_minus = np.max([0, -drift(t,x,a)])\n",
        "  \n",
        "  tp[0] = del_t/h**2*(b_minus*h + SIGMA**2/2) #prob to -1\n",
        "  tp[2] = del_t/h**2*(b_plus*h + SIGMA**2/2) #prob to +1\n",
        "  tp[1] = 1 - tp[0] - tp[2] #prob to +0\n",
        "  \n",
        "  '''\n",
        "  #correction on prob\n",
        "  if tp[1] <0:\n",
        "    \n",
        "    tp = tp - tp[1]\n",
        "    tp = tp/tp.sum()\n",
        "  ''' \n",
        "    \n",
        "  return tp"
      ],
      "execution_count": 0,
      "outputs": []
    },
    {
      "cell_type": "code",
      "metadata": {
        "id": "5j_Q7tXw6arX",
        "colab_type": "code",
        "outputId": "38320077-a341-4f09-dbb6-a0b055e1e66a",
        "colab": {
          "base_uri": "https://localhost:8080/",
          "height": 34
        }
      },
      "source": [
        "#q-table and state value initialization\n",
        "s_val = np.zeros([t_space.size, s_space.size])\n",
        "q_table = np.zeros([t_space.size, s_space.size, a_space.size])\n",
        "\n",
        "print('>>>>> q_table size is %i' %(q_table.size))"
      ],
      "execution_count": 6,
      "outputs": [
        {
          "output_type": "stream",
          "text": [
            ">>>>> q_table size is 2430450\n"
          ],
          "name": "stdout"
        }
      ]
    },
    {
      "cell_type": "code",
      "metadata": {
        "id": "WcDvrvrh-VjO",
        "colab_type": "code",
        "colab": {}
      },
      "source": [
        "#q-table terminal setup\n",
        "for i in range(s_space.size):\n",
        "  for j in range(a_space.size):\n",
        "    q_table[-1,i,j] = term_cost(s_space[i])"
      ],
      "execution_count": 0,
      "outputs": []
    },
    {
      "cell_type": "code",
      "metadata": {
        "id": "2Fp1lLoR_GJu",
        "colab_type": "code",
        "colab": {}
      },
      "source": [
        "#sync q_table, s_val\n",
        "def q_s_sync(t_ind, s_val, q_table):\n",
        "  for i in range(s_space.size):\n",
        "    s_val[t_ind, i] = np.min(q_table[t_ind,i])\n",
        "    \n",
        "q_s_sync(-1, s_val, q_table)"
      ],
      "execution_count": 0,
      "outputs": []
    },
    {
      "cell_type": "code",
      "metadata": {
        "id": "4IFgoYlb_wxK",
        "colab_type": "code",
        "outputId": "debc003f-f3cb-40a2-9fd1-2100f794b23b",
        "colab": {
          "base_uri": "https://localhost:8080/",
          "height": 34
        }
      },
      "source": [
        "#backward iteration\n",
        "for i in tqdm(np.arange(t_space.size-2, -1, -1)):\n",
        "  for j in np.arange(s_space.size):\n",
        "    for k in np.arange(a_space.size):\n",
        "      t_ = t_space[i]\n",
        "      x_ = s_space[j]\n",
        "      a_ = a_space[k]\n",
        "      \n",
        "      cost_ = run_cost(t_, x_, a_)\n",
        "      \n",
        "      tp_ = transition_probability(t_, x_, a_)\n",
        "      \n",
        "      for ii in range(del_ind_space.size):\n",
        "        next_j = next_state_ind(j, del_ind_space[ii])\n",
        "        cost_ += tp_[ii]*s_val[i+1, next_j]\n",
        "      q_table[i,j,k] = cost_\n",
        "      \n",
        "  q_s_sync(i, s_val, q_table)"
      ],
      "execution_count": 9,
      "outputs": [
        {
          "output_type": "stream",
          "text": [
            "100%|██████████| 49/49 [00:53<00:00,  1.10s/it]\n"
          ],
          "name": "stderr"
        }
      ]
    },
    {
      "cell_type": "code",
      "metadata": {
        "id": "nWpdCOjJzcxl",
        "colab_type": "code",
        "outputId": "d506c739-5100-46f5-fd24-3c98860e2582",
        "colab": {
          "base_uri": "https://localhost:8080/",
          "height": 34
        }
      },
      "source": [
        "end_time = time.time()\n",
        "print('elapsed time is %f seconds' %(end_time - start_time))"
      ],
      "execution_count": 10,
      "outputs": [
        {
          "output_type": "stream",
          "text": [
            "elapsed time is 53.929043 seconds\n"
          ],
          "name": "stdout"
        }
      ]
    },
    {
      "cell_type": "markdown",
      "metadata": {
        "id": "M1WfkGf8vI0e",
        "colab_type": "text"
      },
      "source": [
        "__remark__"
      ]
    },
    {
      "cell_type": "code",
      "metadata": {
        "id": "6sw5w2aq_w0S",
        "colab_type": "code",
        "outputId": "362e66ee-779b-4d5f-a4cd-277a3f8efd53",
        "colab": {
          "base_uri": "https://localhost:8080/",
          "height": 34
        }
      },
      "source": [
        "print('>>>>>the computed value at (0,0) is %f' %(s_val[0, int(s_space.size/2)]))\n",
        "#s_space[int(s_space.size/2)]"
      ],
      "execution_count": 11,
      "outputs": [
        {
          "output_type": "stream",
          "text": [
            ">>>>>the computed value at (0,0) is 0.500000\n"
          ],
          "name": "stdout"
        }
      ]
    },
    {
      "cell_type": "code",
      "metadata": {
        "id": "SlP9M2-yOI-j",
        "colab_type": "code",
        "colab": {
          "base_uri": "https://localhost:8080/",
          "height": 51
        },
        "outputId": "0a0f02a0-627d-4367-9083-09bb61710c61"
      },
      "source": [
        "def exact_v(t,x):\n",
        "  tau = TERM -t\n",
        "  return (x**2/(1+tau)+np.log(1+tau))/2\n",
        "\n",
        "print('the exact value at (0,0) is %f' %(exact_v(0,0)))\n",
        "print('>>>> it is not satisfactory')"
      ],
      "execution_count": 12,
      "outputs": [
        {
          "output_type": "stream",
          "text": [
            "the exact value at (0,0) is 0.346574\n",
            ">>>> it is not satisfactory\n"
          ],
          "name": "stdout"
        }
      ]
    },
    {
      "cell_type": "markdown",
      "metadata": {
        "id": "5oBkP8-Evm61",
        "colab_type": "text"
      },
      "source": [
        "One may think of the value function is\n",
        "$$v(t,x) = - \\ln  \\mathbb E [\\exp(-(x+ \\sqrt{2} W_{T-t})^2)]$$\n",
        "We can compare this with exact value and computed value together."
      ]
    },
    {
      "cell_type": "code",
      "metadata": {
        "id": "5J2Y6nP-umNp",
        "colab_type": "code",
        "colab": {
          "base_uri": "https://localhost:8080/",
          "height": 34
        },
        "outputId": "95fff238-8e89-4e37-a15c-4b3b907af41f"
      },
      "source": [
        "#one other possible value \n",
        "def other_val(t,x):\n",
        "  var1 = np.random.normal(0,1,1000)\n",
        "  var2 = x + np.sqrt(2*(TERM-t))*var1\n",
        "  var3 = np.exp(-var2**2).mean()\n",
        "  return -np.log(var3)\n",
        "print('>>>> other value at (0,0) is %f' %(other_val(0,0)))"
      ],
      "execution_count": 13,
      "outputs": [
        {
          "output_type": "stream",
          "text": [
            ">>>> other value at (0,0) is 0.799034\n"
          ],
          "name": "stdout"
        }
      ]
    },
    {
      "cell_type": "code",
      "metadata": {
        "id": "q6uqaGP4DG5o",
        "colab_type": "code",
        "outputId": "9e706c66-0f4a-468a-c5db-1599214f4feb",
        "colab": {
          "base_uri": "https://localhost:8080/",
          "height": 286
        }
      },
      "source": [
        "plt.plot(s_space, s_val[0],label='computed')\n",
        "exact_sol = [exact_v(0,x) for x in s_space]\n",
        "plt.plot(s_space, exact_sol, label='exact')\n",
        "other_sol = [other_val(0,x) for x in s_space]\n",
        "plt.plot(s_space, other_sol, label = 'other')\n",
        "plt.legend()"
      ],
      "execution_count": 14,
      "outputs": [
        {
          "output_type": "execute_result",
          "data": {
            "text/plain": [
              "<matplotlib.legend.Legend at 0x7f62c1fdb438>"
            ]
          },
          "metadata": {
            "tags": []
          },
          "execution_count": 14
        },
        {
          "output_type": "display_data",
          "data": {
            "image/png": "[encoded data removed]",
            "text/plain": [
              "<Figure size 432x288 with 1 Axes>"
            ]
          },
          "metadata": {
            "tags": []
          }
        }
      ]
    },
    {
      "cell_type": "code",
      "metadata": {
        "id": "fr86Q0Seyi3s",
        "colab_type": "code",
        "colab": {}
      },
      "source": [
        ""
      ],
      "execution_count": 0,
      "outputs": []
    }
  ]
}