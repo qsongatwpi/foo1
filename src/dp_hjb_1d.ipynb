{
  "nbformat": 4,
  "nbformat_minor": 0,
  "metadata": {
    "colab": {
      "name": "dp_hjb_1d.ipynb",
      "version": "0.3.2",
      "provenance": [],
      "include_colab_link": true
    },
    "kernelspec": {
      "name": "python3",
      "display_name": "Python 3"
    }
  },
  "cells": [
    {
      "cell_type": "markdown",
      "metadata": {
        "id": "view-in-github",
        "colab_type": "text"
      },
      "source": [
        "<a href=\"https://colab.research.google.com/github/songqsh/foo1/blob/master/src/dp_hjb_1d.ipynb\" target=\"_parent\"><img src=\"https://colab.research.google.com/assets/colab-badge.svg\" alt=\"Open In Colab\"/></a>"
      ]
    },
    {
      "cell_type": "markdown",
      "metadata": {
        "id": "-1ry9p2G-ZXG",
        "colab_type": "text"
      },
      "source": [
        "# Goal\n",
        "\n",
        "- Compute exact solution for LQG\n",
        "- Check possible semi-explicit formula by comparing with exact solution\n",
        "- Check the computation of LQG by Q-learning and compare with exact solution"
      ]
    },
    {
      "cell_type": "markdown",
      "metadata": {
        "id": "dtUIOtkr_dc1",
        "colab_type": "text"
      },
      "source": [
        "## Math formula for LQG"
      ]
    },
    {
      "cell_type": "markdown",
      "metadata": {
        "id": "l5zX8bb6RjKY",
        "colab_type": "text"
      },
      "source": [
        "We consider control problem with controlled dynamic\n",
        "$$ dX_t = b(t, X_t, m_t) dt + \\sigma dW_t,$$\n",
        "with value\n",
        "$$v(t,x) = \\inf_m \\mathbb E^{t,x} \\Big[\n",
        "\\int_t^T \\ell (s, X_s, m_s) ds + g(X_T)\n",
        "\\Big].$$\n"
      ]
    },
    {
      "cell_type": "markdown",
      "metadata": {
        "id": "ao_vngAUSBmZ",
        "colab_type": "text"
      },
      "source": [
        "With \n",
        "$$b(t, x, a) = a, \\sigma = 1, \\ell(s, x, a) = \\frac 1 2 a^2, g(x) = \\frac 1 2 x^2$$\n",
        "we have explicit solution\n",
        "$$v(t,x) = \\frac{x^2}{2(1+T-t)} + \\frac 1 2 \\ln (1 + T-t).$$\n",
        "Optimal solution can be given as feedback form of\n",
        "$$a(t,x) = - \\frac{x}{1+T-t}.$$\n",
        "See detailed derivation \n",
        "[here](https://github.com/songqsh/foo1/blob/master/doc/170810.pdf)"
      ]
    },
    {
      "cell_type": "markdown",
      "metadata": {
        "id": "CQ5KDAUFAY-9",
        "colab_type": "text"
      },
      "source": [
        "## Check semi-explicit formula\n",
        "\n",
        "We first calculate exact numeric value of $v(0,0)$ using the above math formula."
      ]
    },
    {
      "cell_type": "code",
      "metadata": {
        "id": "-mCD_D47zZyN",
        "colab_type": "code",
        "colab": {}
      },
      "source": [
        "import numpy as np\n",
        "import time\n",
        "\n",
        "from tqdm import tqdm\n",
        "import matplotlib.pyplot as plt"
      ],
      "execution_count": 0,
      "outputs": []
    },
    {
      "cell_type": "code",
      "metadata": {
        "id": "SlP9M2-yOI-j",
        "colab_type": "code",
        "outputId": "ede9e7c0-ee38-4dba-f515-b69cf049ca23",
        "colab": {
          "base_uri": "https://localhost:8080/",
          "height": 34
        }
      },
      "source": [
        "def exact_v(t,x):\n",
        "  tau = TERM -t\n",
        "  return (x**2/(1+tau)+np.log(1+tau))/2\n",
        "\n",
        "print('>>>>>> the exact value at (0,0) is %f' %(exact_v(0,0)))"
      ],
      "execution_count": 19,
      "outputs": [
        {
          "output_type": "stream",
          "text": [
            ">>>>>> the exact value at (0,0) is 0.346574\n"
          ],
          "name": "stdout"
        }
      ]
    },
    {
      "cell_type": "markdown",
      "metadata": {
        "id": "5oBkP8-Evm61",
        "colab_type": "text"
      },
      "source": [
        "One may think of the value function can be represented by\n",
        "$$v(t,x) = - \\ln  \\mathbb E [\\exp(-(x+ \\sqrt{2} W_{T-t})^2)]$$\n",
        "We can compute $v(0,0)$ with this formula by Monte-Carlo method, and then compare this with exact computed value in the above."
      ]
    },
    {
      "cell_type": "code",
      "metadata": {
        "id": "5J2Y6nP-umNp",
        "colab_type": "code",
        "outputId": "4b617d74-440c-441d-a0d4-b1353ebc18d9",
        "colab": {
          "base_uri": "https://localhost:8080/",
          "height": 51
        }
      },
      "source": [
        "#one other possible value \n",
        "def other_val(t,x):\n",
        "  var1 = np.random.normal(0,1,10000)\n",
        "  var2 = x + np.sqrt(2*(TERM-t))*var1\n",
        "  var3 = np.exp(-var2**2).mean()\n",
        "  return -np.log(var3)\n",
        "\n",
        "print('>>>>>>> the value at (0,0) computed by semi-explicit formula is %f' %(other_val(0,0)))\n",
        "print('>>>>>>> while the value at (0,0) from the exact formula is %f' %(exact_v(0,0)))"
      ],
      "execution_count": 24,
      "outputs": [
        {
          "output_type": "stream",
          "text": [
            ">>>>>>> the value at (0,0) computed by semi-explicit formula is 0.807459\n",
            ">>>>>>> while the value at (0,0) from the exact formula is 0.346574\n"
          ],
          "name": "stdout"
        }
      ]
    },
    {
      "cell_type": "markdown",
      "metadata": {
        "id": "21QFarHtCiKG",
        "colab_type": "text"
      },
      "source": [
        "## Computation by Q-learning"
      ]
    },
    {
      "cell_type": "markdown",
      "metadata": {
        "id": "d9TFsKLWTuSD",
        "colab_type": "text"
      },
      "source": [
        "Controlled transition probability with $(\\delta, h)$ for time and state mesh size is calculated by\n",
        "$$p^h(x\\pm h |t, x, a) = (b^\\pm(t,x,a) h + \\frac 1 2 \\sigma^2) \\frac \\delta {h^2}$$\n",
        "and\n",
        "$$p^h(x|t,x,a) = 1 - (p(x+ h |t, x, a) + p(x- h |t, x, a)),$$\n",
        "and the running cost is\n",
        "$$\\ell^h(t,x,a) = \\ell(t,x,a)\\cdot \\delta.$$\n",
        "We perform the Q-learning in this below."
      ]
    },
    {
      "cell_type": "code",
      "metadata": {
        "id": "qVygXOKFz3QP",
        "colab_type": "code",
        "colab": {}
      },
      "source": [
        "start_time = time.time()\n",
        "\n",
        "#configuration\n",
        "\n",
        "TERM = 1.\n",
        "SIGMA = 1.\n",
        "\n",
        "def drift(t,x,a):\n",
        "  return a\n",
        "\n",
        "def term_cost(x):\n",
        "  return x**2/2\n",
        "\n",
        "def run_cost(t,x,a):\n",
        "  return a**2/2\n",
        "\n"
      ],
      "execution_count": 0,
      "outputs": []
    },
    {
      "cell_type": "code",
      "metadata": {
        "id": "qASpw8s4zqW0",
        "colab_type": "code",
        "colab": {}
      },
      "source": [
        "#configurations\n",
        "\n",
        "NUM = 5 #num of meshes in one unit state space\n",
        "\n",
        "h = 1./NUM #mesh size in state space\n",
        "\n",
        "n_time = np.int(2*TERM*SIGMA**2/h**2)+1 #t_space.size\n",
        "\n",
        "del_t = TERM/(n_time-1) #time mesh size\n",
        "\n",
        "t_space = np.arange(n_time)*del_t #time space\n",
        "\n",
        "u_lim = (t_space.size -1)*h #upper limit of state space\n",
        "l_lim = - u_lim #lower limit ...\n",
        "\n",
        "s_space = np.arange(l_lim, u_lim+h, h) #state space\n",
        "\n",
        "a_space = np.arange(5*l_lim, 5*u_lim+h, h) #action space"
      ],
      "execution_count": 0,
      "outputs": []
    },
    {
      "cell_type": "code",
      "metadata": {
        "id": "_qXYR6Be1hvs",
        "colab_type": "code",
        "colab": {}
      },
      "source": [
        "#one step move\n",
        "\n",
        "del_ind_space = np.arange(-1, 2)\n",
        "\n",
        "#inputs:\n",
        "#state_ind: ranging from 0 to s_space.size-1\n",
        "#del_ind: from del_ind_space\n",
        "def next_state_ind(state_ind, del_ind):\n",
        "  \n",
        "  next_state_ind = state_ind + del_ind\n",
        "  if next_state_ind > s_space.size - 1:\n",
        "    next_state_ind = s_space.size - 1\n",
        "  elif next_state_ind < 0:\n",
        "    next_state_ind = 0\n",
        "  \n",
        "  return next_state_ind"
      ],
      "execution_count": 0,
      "outputs": []
    },
    {
      "cell_type": "code",
      "metadata": {
        "id": "8T0vyQE26QL-",
        "colab_type": "code",
        "colab": {}
      },
      "source": [
        "#transition probability\n",
        "#output is probability of del_ind_space\n",
        "\n",
        "def transition_probability(t, x, a):\n",
        "  tp = np.zeros(del_ind_space.shape)\n",
        "  \n",
        "  b_plus = np.max([0, drift(t,x,a)])\n",
        "  b_minus = np.max([0, -drift(t,x,a)])\n",
        "  \n",
        "  tp[0] = del_t/h**2*(b_minus*h + SIGMA**2/2) #prob to -1\n",
        "  tp[2] = del_t/h**2*(b_plus*h + SIGMA**2/2) #prob to +1\n",
        "  tp[1] = 1 - tp[0] - tp[2] #prob to +0\n",
        "  \n",
        "  '''\n",
        "  #correction on prob\n",
        "  if tp[1] <0:\n",
        "    \n",
        "    tp = tp - tp[1]\n",
        "    tp = tp/tp.sum()\n",
        "  ''' \n",
        "    \n",
        "  return tp"
      ],
      "execution_count": 0,
      "outputs": []
    },
    {
      "cell_type": "code",
      "metadata": {
        "id": "5j_Q7tXw6arX",
        "colab_type": "code",
        "outputId": "8b107908-5cc9-4c56-d8c9-b134e8087ee7",
        "colab": {
          "base_uri": "https://localhost:8080/",
          "height": 34
        }
      },
      "source": [
        "#q-table and state value initialization\n",
        "s_val = np.zeros([t_space.size, s_space.size])\n",
        "q_table = np.zeros([t_space.size, s_space.size, a_space.size])\n",
        "\n",
        "print('>>>>> q_table size is %i' %(q_table.size))"
      ],
      "execution_count": 32,
      "outputs": [
        {
          "output_type": "stream",
          "text": [
            ">>>>> q_table size is 2430450\n"
          ],
          "name": "stdout"
        }
      ]
    },
    {
      "cell_type": "code",
      "metadata": {
        "id": "WcDvrvrh-VjO",
        "colab_type": "code",
        "colab": {}
      },
      "source": [
        "#q-table terminal setup\n",
        "for i in range(s_space.size):\n",
        "  for j in range(a_space.size):\n",
        "    q_table[-1,i,j] = term_cost(s_space[i])"
      ],
      "execution_count": 0,
      "outputs": []
    },
    {
      "cell_type": "code",
      "metadata": {
        "id": "2Fp1lLoR_GJu",
        "colab_type": "code",
        "colab": {}
      },
      "source": [
        "#sync q_table, s_val\n",
        "def q_s_sync(t_ind, s_val, q_table):\n",
        "  for i in range(s_space.size):\n",
        "    s_val[t_ind, i] = np.min(q_table[t_ind,i])\n",
        "    \n",
        "q_s_sync(-1, s_val, q_table)"
      ],
      "execution_count": 0,
      "outputs": []
    },
    {
      "cell_type": "code",
      "metadata": {
        "id": "4IFgoYlb_wxK",
        "colab_type": "code",
        "outputId": "96d46365-79fe-4e2b-d54b-8b523e55dd73",
        "colab": {
          "base_uri": "https://localhost:8080/",
          "height": 34
        }
      },
      "source": [
        "#backward iteration\n",
        "for i in tqdm(np.arange(t_space.size-2, -1, -1)):\n",
        "  for j in np.arange(s_space.size):\n",
        "    for k in np.arange(a_space.size):\n",
        "      t_ = t_space[i]\n",
        "      x_ = s_space[j]\n",
        "      a_ = a_space[k]\n",
        "      \n",
        "      cost_ = run_cost(t_, x_, a_)*del_t\n",
        "      \n",
        "      tp_ = transition_probability(t_, x_, a_)\n",
        "      \n",
        "      for ii in range(del_ind_space.size):\n",
        "        next_j = next_state_ind(j, del_ind_space[ii])\n",
        "        cost_ += tp_[ii]*s_val[i+1, next_j]\n",
        "      q_table[i,j,k] = cost_\n",
        "      \n",
        "  q_s_sync(i, s_val, q_table)"
      ],
      "execution_count": 35,
      "outputs": [
        {
          "output_type": "stream",
          "text": [
            "100%|██████████| 49/49 [00:53<00:00,  1.09s/it]\n"
          ],
          "name": "stderr"
        }
      ]
    },
    {
      "cell_type": "code",
      "metadata": {
        "id": "nWpdCOjJzcxl",
        "colab_type": "code",
        "outputId": "82a05e75-9494-4e03-b7da-469a0cbfd2eb",
        "colab": {
          "base_uri": "https://localhost:8080/",
          "height": 34
        }
      },
      "source": [
        "end_time = time.time()\n",
        "print('elapsed time is %f seconds' %(end_time - start_time))"
      ],
      "execution_count": 36,
      "outputs": [
        {
          "output_type": "stream",
          "text": [
            "elapsed time is 130.941250 seconds\n"
          ],
          "name": "stdout"
        }
      ]
    },
    {
      "cell_type": "code",
      "metadata": {
        "id": "6sw5w2aq_w0S",
        "colab_type": "code",
        "outputId": "3a583450-8236-41fa-dbab-e5b0a989fb55",
        "colab": {
          "base_uri": "https://localhost:8080/",
          "height": 34
        }
      },
      "source": [
        "print('>>>>>>>>>> the computed value at (0,0) by Q-learning is %f' %(s_val[0, int(s_space.size/2)]))\n",
        "#s_space[int(s_space.size/2)]"
      ],
      "execution_count": 37,
      "outputs": [
        {
          "output_type": "stream",
          "text": [
            ">>>>>>>>>> the computed value at (0,0) by Q-learning is 0.372013\n"
          ],
          "name": "stdout"
        }
      ]
    },
    {
      "cell_type": "markdown",
      "metadata": {
        "id": "7ZfN22dvGNO-",
        "colab_type": "text"
      },
      "source": [
        "## Conclusion\n",
        "\n",
        "In this below, we will graph values in a neighborhood of zero using three methods: exact solution, semi-explicit representation, q-learning. It tells us that Q-learning is close to exact solution, although its not effective enough."
      ]
    },
    {
      "cell_type": "code",
      "metadata": {
        "id": "3BQmKjcoFgNo",
        "colab_type": "code",
        "colab": {
          "base_uri": "https://localhost:8080/",
          "height": 286
        },
        "outputId": "76112a61-3742-4863-99e6-5ee2a5ab8abb"
      },
      "source": [
        "l_ind = 40\n",
        "u_ind = 59\n",
        "\n",
        "plt.plot(s_space[l_ind:u_ind], s_val[0, l_ind:u_ind], label = 'Q-learning')\n",
        "\n",
        "exact_sol = [exact_v(0,x) for x in s_space]\n",
        "plt.plot(s_space[l_ind:u_ind], exact_sol[l_ind:u_ind], label='exact-solution')\n",
        "\n",
        "other_sol = [other_val(0,x) for x in s_space[l_ind:u_ind]]\n",
        "plt.plot(s_space[l_ind:u_ind], other_sol, label = 'semi-explicit solution')\n",
        "\n",
        "plt.legend()"
      ],
      "execution_count": 57,
      "outputs": [
        {
          "output_type": "execute_result",
          "data": {
            "text/plain": [
              "<matplotlib.legend.Legend at 0x7f49b0b49a90>"
            ]
          },
          "metadata": {
            "tags": []
          },
          "execution_count": 57
        },
        {
          "output_type": "display_data",
          "data": {
            "image/png": "[encoded data removed]",
            "text/plain": [
              "<Figure size 432x288 with 1 Axes>"
            ]
          },
          "metadata": {
            "tags": []
          }
        }
      ]
    },
    {
      "cell_type": "code",
      "metadata": {
        "id": "_Y_IdsEeEr3o",
        "colab_type": "code",
        "colab": {}
      },
      "source": [
        ""
      ],
      "execution_count": 0,
      "outputs": []
    }
  ]
}