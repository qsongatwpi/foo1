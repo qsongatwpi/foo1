{
  "nbformat": 4,
  "nbformat_minor": 0,
  "metadata": {
    "colab": {
      "name": "dp_hjb_cauchy.ipynb",
      "version": "0.3.2",
      "provenance": [],
      "include_colab_link": true
    },
    "kernelspec": {
      "name": "python3",
      "display_name": "Python 3"
    }
  },
  "cells": [
    {
      "cell_type": "markdown",
      "metadata": {
        "id": "view-in-github",
        "colab_type": "text"
      },
      "source": [
        "<a href=\"https://colab.research.google.com/github/songqsh/foo1/blob/master/src/dp_hjb_cauchy.ipynb\" target=\"_parent\"><img src=\"https://colab.research.google.com/assets/colab-badge.svg\" alt=\"Open In Colab\"/></a>"
      ]
    },
    {
      "cell_type": "code",
      "metadata": {
        "id": "ezO7EpW3Oaun",
        "colab_type": "code",
        "colab": {}
      },
      "source": [
        "import numpy as np"
      ],
      "execution_count": 0,
      "outputs": []
    },
    {
      "cell_type": "markdown",
      "metadata": {
        "id": "CcLS9uT1TUlG",
        "colab_type": "text"
      },
      "source": [
        "__ref__ \n",
        "\n",
        "- notes on dp - [pdf](https://github.com/songqsh/foo1/blob/master/doc/190531note.pdf)"
      ]
    },
    {
      "cell_type": "code",
      "metadata": {
        "id": "gEzK81H6VHBs",
        "colab_type": "code",
        "colab": {}
      },
      "source": [
        "# paras\n",
        "\n",
        "DIM = 2 #Dimension for state space;\n",
        "\n",
        "TERM = 1 #Terminal time\n",
        "\n",
        "#We want the value function on the hybercube domain [LOW, HIGH]^DIM\n",
        "LOW = -1\n",
        "\n",
        "HIGH = 1\n",
        "\n",
        "NUM = 2 #discrete parameter, usually number of meshes in one space unit\n",
        "\n",
        "\n",
        "\n",
        "#Define action space on the hybercube domain [LOW, HIGH]^DIM\n",
        "#assume action space has the same dim as state\n",
        "\n",
        "LOW_A = -1\n",
        "\n",
        "HIGH_A = 1\n",
        "\n",
        "NUM_A = 4 #discrete parameter, usually number of meshes in one unit in action space\n"
      ],
      "execution_count": 0,
      "outputs": []
    },
    {
      "cell_type": "code",
      "metadata": {
        "id": "WulRMuhvDskc",
        "colab_type": "code",
        "colab": {}
      },
      "source": [
        "#paras\n",
        "\n",
        "lambda_ = 1 # lambda is python keyword, so use lambda_ instead\n",
        "\n",
        "#fun_g is terminal cost\n",
        "#input x is an array with length = DIM\n",
        "def fun_g(x):\n",
        "  return np.log((np.sum(x**2)+1)/2)\n",
        "\n",
        "#fun_l is running cost\n",
        "#input t (1-d), x (DIM-d), a (DIM-d)\n",
        "def fun_l(t, x, a):\n",
        "  return np.sum(a**2)\n",
        "  \n",
        "#fun_b is drift\n",
        "#input t (1-d), x (DIM-d), a (DIM-d)\n",
        "\n",
        "def fun_b(t,x,a):\n",
        "  return 2*np.sqrt(lambda_)*a"
      ],
      "execution_count": 0,
      "outputs": []
    },
    {
      "cell_type": "code",
      "metadata": {
        "id": "yn9LY7YAVpaR",
        "colab_type": "code",
        "colab": {}
      },
      "source": [
        "# paras\n",
        "\n",
        "h = 1/NUM #mesh size in state space\n",
        "\n",
        "delta = h**2/2 #mesh size in time space\n",
        "\n",
        "n_time = int(TERM/delta)+1 # number of times\n",
        "\n",
        "n_one_state = int((HIGH-LOW)/h+1) # number of states in one axis\n",
        "\n",
        "h_a = 1/NUM_A #mesh size in action space\n",
        "\n",
        "n_one_action = int((HIGH_A - LOW_A)/h_a +1) # number of actions along one axis\n",
        "\n",
        "n_step = 2*DIM+1 "
      ],
      "execution_count": 0,
      "outputs": []
    },
    {
      "cell_type": "code",
      "metadata": {
        "id": "KmIqDP0A8rOr",
        "colab_type": "code",
        "colab": {}
      },
      "source": [
        "#initialize q_value and state value as zero\n",
        "state_shape = n_one_state*np.ones(DIM, dtype = int)\n",
        "action_shape = n_one_action*np.ones(DIM, dtype = int)\n",
        "\n",
        "time_state_shape = np.insert(state_shape, 0, n_time) \n",
        "time_state_action_shape = np.append(time_state_shape, action_shape) \n",
        "\n",
        "q_val = np.zeros(tuple(time_state_action_shape), dtype = float)\n",
        "s_val = np.zeros(tuple(time_state_shape), dtype = float)\n"
      ],
      "execution_count": 0,
      "outputs": []
    },
    {
      "cell_type": "code",
      "metadata": {
        "id": "BS6-Frn63LoC",
        "colab_type": "code",
        "colab": {}
      },
      "source": [
        "def s_q_sync(s_val, q_val, i):\n",
        "  s_val_buf = s_val[i]\n",
        "  q_val_buf = q_val[i]\n",
        "  it = np.nditer(s_val_buf, flags = ['multi_index'], op_flags = ['readwrite'])\n",
        "  with it:\n",
        "    while not it.finished:\n",
        "      ind_ = it.multi_index \n",
        "      it[0] = np.min(q_val_buf[ind_])\n",
        "      it.iternext()\n",
        "      \n",
        "  s_val[i] = s_val_buf"
      ],
      "execution_count": 0,
      "outputs": []
    },
    {
      "cell_type": "code",
      "metadata": {
        "id": "r1CrBRgVD-Bw",
        "colab_type": "code",
        "colab": {}
      },
      "source": [
        "# set q_value at the terminal time as the terminal cost\n",
        "\n",
        "q_val_buf = q_val[-1]\n",
        "\n",
        "it = np.nditer(q_val_buf, flags=['multi_index'], op_flags=['readwrite'])\n",
        "with it:\n",
        "  while not it.finished:\n",
        "    ind_ = it.multi_index[0:DIM] #array index for current state\n",
        "    x = LOW + h*np.array(ind_) #actual coordinate for the current state\n",
        "    it[0] = fun_g(x) #update q_val_buf\n",
        "    it.iternext()\n",
        "    \n",
        "q_val[-1] = q_val_buf #update q_val\n",
        "s_q_sync(s_val, q_val, -1) #sync s_val and q_val"
      ],
      "execution_count": 0,
      "outputs": []
    },
    {
      "cell_type": "code",
      "metadata": {
        "id": "ZUv5BygINXi3",
        "colab_type": "code",
        "colab": {}
      },
      "source": [
        "'''\n",
        "This function returns next time_state_ind \n",
        "by taking current time_state_ind and \n",
        "step_ind.\n",
        "\n",
        "Inputs:\n",
        "  time_state: DIM+1 array\n",
        "  time_state[0]: time ranging from 0 to n_time-1\n",
        "  time_state[i] for i >=1 : state on i-axis ranging from 0 to n_one_sate-1\n",
        "  step_ind: step index ranging from 0 to n_step -1\n",
        "output:\n",
        "  next_state: DIM+1 array\n",
        "'''\n",
        "\n",
        "def post_state(time_state, step_ind):\n",
        "  next_state = np.array(time_state)\n",
        "  next_state[0] += 1\n",
        "  if step_ind > 0:\n",
        "    n_axis = int((step_ind+1)/2)\n",
        "    step_size = 1\n",
        "    if np.mod(step_ind,2) == 0: \n",
        "      step_size = -1\n",
        "    next_state[n_axis] += step_size\n",
        "    \n",
        "    #if move out from above, go flat\n",
        "    next_state[n_axis] = np.min([np.max([next_state[n_axis], 0]), n_one_state-1])\n",
        "      \n",
        "  return next_state"
      ],
      "execution_count": 0,
      "outputs": []
    },
    {
      "cell_type": "code",
      "metadata": {
        "id": "EpIIaUnu2fnx",
        "colab_type": "code",
        "colab": {}
      },
      "source": [
        "'''\n",
        "Inputs:\n",
        "  time_state: DIM+1 array\n",
        "  time_state[0]: time ranging from 0 to n_time-1\n",
        "  time_state[i] for i >=1 : state on i-axis ranging from 0 to n_one_sate-1\n",
        "output:\n",
        "  actual_state: DIM+1 array\n",
        "'''\n",
        "\n",
        "def coordinate(time_state):\n",
        "  return np.array(time_state[0])*delta, LOW + np.array(time_state[1:])*h"
      ],
      "execution_count": 0,
      "outputs": []
    },
    {
      "cell_type": "code",
      "metadata": {
        "id": "X_IeNasod8aN",
        "colab_type": "code",
        "colab": {}
      },
      "source": [
        "'''\n",
        "Inputs:\n",
        "  time: scalar\n",
        "  state: DIM-d array\n",
        "  action: DIM-d array\n",
        "output:\n",
        "  running cost: a scalar\n",
        "  policy: a prob on step_ind space of length 2*DIM+1  \n",
        "'''\n",
        "\n",
        "def policy_fun(time, state, action):  \n",
        "  b_ = fun_b(time, state, action)\n",
        "  \n",
        "  policy = np.zeros(n_step)\n",
        "  \n",
        "  \n",
        "  \n",
        "  for i in range(1,n_step):\n",
        "    axis_n = int((i+1)/2)\n",
        "    \n",
        "    if np.mod(i,2) == 1:\n",
        "      policy[i] = (np.max([0, b_[axis_n-1]])*h+1)*delta/(h**2)\n",
        "    else:\n",
        "      policy[i] = (np.max([0, -b_[axis_n-1]])*h+1)*delta/(h**2)\n",
        "  \n",
        "  policy[0] = np.max([1 - np.sum(policy), 0]) \n",
        "  \n",
        "  if policy[0] == 0:\n",
        "    policy = policy/np.sum(policy)\n",
        "\n",
        "  return policy"
      ],
      "execution_count": 0,
      "outputs": []
    },
    {
      "cell_type": "code",
      "metadata": {
        "id": "UVoc3vv9-SiP",
        "colab_type": "code",
        "colab": {}
      },
      "source": [
        "# update q_value and s_value backward in time\n",
        "\n",
        "for t_ind in range(n_time-2,-1,-1):\n",
        "  time = t_ind*delta  \n",
        "  q_val_buf = q_val[t_ind]\n",
        "  \n",
        "\n",
        "  it = np.nditer(q_val_buf, flags=['multi_index'], op_flags=['readwrite'])\n",
        "  with it:\n",
        "    while not it.finished:\n",
        "      ind_ = it.multi_index[0:DIM] #array index for current state\n",
        "      state = LOW + h*np.array(ind_) #actual coordinate for the current state\n",
        "      a_ind_ = it.multi_index[DIM:] #array index for current action\n",
        "      action = LOW_A + np.array(a_ind_)*h_a #actual action value\n",
        "      #update q_val_buf      \n",
        "      tmp1 = fun_l(time, state, action) #loss\n",
        "      policy = policy_fun(time, state, action)\n",
        "      for i in range(len(policy)):\n",
        "        now_ind_ = np.append([t_ind], ind_)\n",
        "        next_ind_ = post_state(now_ind_, i)\n",
        "        \n",
        "        tmp1 += s_val[tuple(next_ind_)]*policy[i]\n",
        "      it[0] = tmp1  \n",
        "      it.iternext()\n",
        "    \n",
        "  q_val[t_ind] = q_val_buf#update q_val\n",
        "  s_q_sync(s_val, q_val, t_ind) #sync s_val and q_val"
      ],
      "execution_count": 0,
      "outputs": []
    },
    {
      "cell_type": "code",
      "metadata": {
        "id": "8SksYiYn62A9",
        "colab_type": "code",
        "outputId": "868bf900-2e4b-4dc9-8c48-cd2e11051af3",
        "colab": {
          "base_uri": "https://localhost:8080/",
          "height": 102
        }
      },
      "source": [
        "print(s_val[0])"
      ],
      "execution_count": 0,
      "outputs": [
        {
          "output_type": "stream",
          "text": [
            "[[-0.02973043 -0.0411894  -0.04840844 -0.0411894  -0.02973043]\n",
            " [-0.0411894  -0.0528793  -0.05974552 -0.0528793  -0.0411894 ]\n",
            " [-0.04840844 -0.05974552 -0.0671953  -0.05974552 -0.04840844]\n",
            " [-0.0411894  -0.0528793  -0.05974552 -0.0528793  -0.0411894 ]\n",
            " [-0.02973043 -0.0411894  -0.04840844 -0.0411894  -0.02973043]]\n"
          ],
          "name": "stdout"
        }
      ]
    },
    {
      "cell_type": "code",
      "metadata": {
        "id": "j3nAVGqo7nRR",
        "colab_type": "code",
        "colab": {}
      },
      "source": [
        ""
      ],
      "execution_count": 0,
      "outputs": []
    }
  ]
}