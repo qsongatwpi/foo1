{
  "nbformat": 4,
  "nbformat_minor": 0,
  "metadata": {
    "colab": {
      "name": "value_iter_dirichlet_1d.ipynb",
      "version": "0.3.2",
      "provenance": [],
      "include_colab_link": true
    },
    "kernelspec": {
      "name": "python3",
      "display_name": "Python 3"
    }
  },
  "cells": [
    {
      "cell_type": "markdown",
      "metadata": {
        "id": "view-in-github",
        "colab_type": "text"
      },
      "source": [
        "<a href=\"https://colab.research.google.com/github/songqsh/foo1/blob/master/src/value_iter_dirichlet_1d.ipynb\" target=\"_parent\"><img src=\"https://colab.research.google.com/assets/colab-badge.svg\" alt=\"Open In Colab\"/></a>"
      ]
    },
    {
      "cell_type": "code",
      "metadata": {
        "id": "WrJvkAbpNyR3",
        "colab_type": "code",
        "colab": {}
      },
      "source": [
        "import numpy as np\n",
        "import time\n",
        "start_time = time.time()\n",
        "\n",
        "from tqdm import tqdm\n",
        "import matplotlib.pyplot as plt"
      ],
      "execution_count": 0,
      "outputs": []
    },
    {
      "cell_type": "markdown",
      "metadata": {
        "id": "xNFJIMnEa39w",
        "colab_type": "text"
      },
      "source": [
        "__Goal__\n",
        "\n",
        "Implement value iteration on 1d HJB with Dirichlet data and verify with the explicit solution on Whittle’s “Flypaper”\n",
        "\n",
        "__Ref__\n",
        "\n",
        "- [1] Chap V.7 of [Roger and Williams 2000] \n",
        "\n",
        "- [2] P97, Example 4 of [Kushner and Dupuis 2001]\n"
      ]
    },
    {
      "cell_type": "markdown",
      "metadata": {
        "id": "pqDOVcH776J5",
        "colab_type": "text"
      },
      "source": [
        "__Problem setup__\n",
        "\n",
        "We want to solve HJB\n",
        "$$\\inf_a \\{b(x,a) v'(x) + \\frac 1 2 \\sigma^2 v''(x) - \\lambda v(x) + \\ell(x,a)\\} = 0, \\quad \\hbox{ on } O = (l, u)$$\n",
        "with Dirichlet data\n",
        "$$v(x) = g(x), \\quad x= l, u.$$\n",
        "\n",
        "It's equivalent to the following stochastic control formulation in a broad sense. Given a controlled diffusion\n",
        "$$d X_t = b(X_t, a_t) dt + \\sigma dW_t$$\n",
        "we seek for the value function\n",
        "$$v(x) = \\inf_{a(\\cdot)} \\mathbb E^x [e^{-\\lambda s} \\ell(X_s, a_s) ds + e^{-\\lambda \\tau} g(X_\\tau)],$$\n",
        "where $\\tau$ is\n",
        "$$\\tau = \\inf\\{t>0: X_t \\notin O\\}.$$\n"
      ]
    },
    {
      "cell_type": "markdown",
      "metadata": {
        "id": "uVhPAihx-88o",
        "colab_type": "text"
      },
      "source": [
        "__MDP discretization__\n",
        "\n",
        "One can use central finite difference scheme with parameter $h$ to obtain the following MDP. \n",
        "\n",
        "- Let $X^h$ be a controlled Markov chain on its state space \n",
        "$$\\mathbb  R^h = \\{h i: i\\in \\mathbb Z\\}.$$\n",
        "\n",
        "- transition probability is, with sufficiently small $h>0$, \n",
        "$$p^h(x+h|x, a) = \\frac{b(x,a) + \\sigma^2}{2\\sigma^2}$$\n",
        "and\n",
        "$$p^h(x+h|x, a) = \\frac{-b(x,a) + \\sigma^2}{2\\sigma^2}.$$\n",
        "\n",
        "- terminal time is\n",
        "$$\\tau^h = \\inf\\{t>0: X^h \\notin O \\}.$$\n",
        "\n",
        "- value function is\n",
        "$$v^h(x) = \\inf_{a^h} \\mathbb E^x \\Big[ \n",
        "\\sum_{t=0}^{\\tau^h-1} \\Lambda^{-t} \\ell^h(X^h_t, a^h_t) + \n",
        "\\Lambda^{-\\tau^h} g(X_{\\tau^h})\n",
        "\\Big],$$\n",
        "where\n",
        "$$\n",
        "\\Lambda = 1 + \\lambda \\frac{h^2}{\\sigma^2}.\n",
        "$$"
      ]
    },
    {
      "cell_type": "markdown",
      "metadata": {
        "id": "2upaYLRHDJUU",
        "colab_type": "text"
      },
      "source": [
        "__Rk__\n",
        "\n",
        "There is essential difference of above MDP approximation using central FDM from the one\n",
        "using upward FDM provided by P97 of [2]."
      ]
    },
    {
      "cell_type": "markdown",
      "metadata": {
        "id": "x_SpZFKwf3lO",
        "colab_type": "text"
      },
      "source": [
        "__benchmark__\n",
        "\n",
        "\n",
        "We will recall a simple stochastic control problem, so called \n",
        "Whittle's ``flypaper'' given in [1]. This is a homogenous \n",
        "stochastic exit problem, which can be explicitly solved out.\n",
        "\n",
        "\n",
        "Let parameters be given by\n",
        "\n",
        "- $O = (0, z)$\n",
        "\n",
        "- $\\sigma = 1$\n",
        "\n",
        "- $b(x,a) = a$\n",
        "\n",
        "- $\\lambda = 0$\n",
        "\n",
        "- $\\ell(x,a) = \\frac 1 2 (a^2+1)$\n",
        "\n",
        "- $g(x) = - \\ln (c_1 e^x + c_2 e^{-x}).$\n",
        "\n",
        "The value function is \n",
        "$$v(x) = g(x)$$\n",
        "and the optimal policy is\n",
        "$$a^*(x) = - g'(x).$$"
      ]
    },
    {
      "cell_type": "markdown",
      "metadata": {
        "id": "L3cMt40aE69T",
        "colab_type": "text"
      },
      "source": [
        "__Ex__ In the above Whittle's \"flypaper\", answer the following questions:\n",
        "\n",
        "- show that $v$ is concave.\n",
        "- show that the optimal policy $|a^*(x)|\\le 1$.\n",
        "- solve for the exact solution for terminal cost given by\n",
        "$$g(x) = x^2.$$"
      ]
    },
    {
      "cell_type": "code",
      "metadata": {
        "id": "sPNbl6v5N1_Q",
        "colab_type": "code",
        "colab": {}
      },
      "source": [
        "#configure\n",
        "C1 = 1\n",
        "C2 = 1\n",
        "\n",
        "U_LIM = 1 #upper limit for state\n",
        "L_LIM = 0 #lower limit for state\n",
        "\n",
        "TOL = 0.001 #tolerance for iteration\n",
        "MAX_ITER = 1000 #maximum iteration"
      ],
      "execution_count": 0,
      "outputs": []
    },
    {
      "cell_type": "code",
      "metadata": {
        "id": "PXeOZdkHOMiB",
        "colab_type": "code",
        "colab": {}
      },
      "source": [
        "#start MDP approximation\n",
        "#configure\n",
        "\n",
        "NUM = 5 #num of meshes in one unit state space"
      ],
      "execution_count": 0,
      "outputs": []
    },
    {
      "cell_type": "code",
      "metadata": {
        "id": "KKtzhrAfN_bR",
        "colab_type": "code",
        "colab": {}
      },
      "source": [
        "#configure\n",
        "\n",
        "lambda_ = 0. #discount rate\n",
        "sigma = 1. #diffusion coefficient\n",
        "drift = lambda x,a: a #drift coefficient\n",
        "\n",
        "run_cost = lambda x, a: (a**2+1)/2.\n",
        "term_cost = lambda x: - np.log(C1*np.exp(x) + C2*np.exp(-x))\n",
        "\n"
      ],
      "execution_count": 0,
      "outputs": []
    },
    {
      "cell_type": "code",
      "metadata": {
        "id": "sTmjlEc6Px0m",
        "colab_type": "code",
        "colab": {}
      },
      "source": [
        "h = 1./NUM #mesh size in state space\n",
        "\n",
        "s_space = np.arange(L_LIM, U_LIM+h, h) #state space\n",
        "\n",
        "a_space = np.arange(2*L_LIM, 2*U_LIM + h, h) #action space\n",
        "\n",
        "del_ind_space = np.array([-1,1]) #space of delta (1-step) index: -1 means left, 1 means right move\n",
        "\n",
        "term_ind_space = np.array([0, s_space.size-1]) #space of terminal state indice\n"
      ],
      "execution_count": 0,
      "outputs": []
    },
    {
      "cell_type": "code",
      "metadata": {
        "id": "GeEmrE5tU27d",
        "colab_type": "code",
        "colab": {}
      },
      "source": [
        "#transition probability\n",
        "#output is probability (np array) on del_ind_space\n",
        "\n",
        "def transition_probability(x, a):\n",
        "  tp = np.zeros(del_ind_space.shape)\n",
        "  \n",
        "  b_ = drift(x,a)\n",
        "  tp[0] = (-b_*h + sigma**2)/(2*sigma**2)\n",
        "  tp[1] = (b_*h + sigma**2)/(2*sigma**2)\n",
        "  \n",
        "  #correction on prob\n",
        "  if tp[1]<0:\n",
        "    tp = tp - tp[1]\n",
        "    tp = tp/tp.sum()\n",
        "    print('>>>>corrected')\n",
        "\n",
        "  return tp"
      ],
      "execution_count": 0,
      "outputs": []
    },
    {
      "cell_type": "code",
      "metadata": {
        "id": "BLS6teTeQUNN",
        "colab_type": "code",
        "outputId": "a4e7c321-bdf6-4ac5-f149-b825c642479c",
        "colab": {
          "base_uri": "https://localhost:8080/",
          "height": 34
        }
      },
      "source": [
        "#q-table and state value initialization\n",
        "\n",
        "s_val = np.zeros(s_space.size)\n",
        "q_table = np.zeros([s_space.size, a_space.size])\n",
        "\n",
        "'''\n",
        "#adjust start\n",
        "for i in range(s_space.size):\n",
        "  q_table[i] = term_cost(s_space[i])*np.ones(a_space.size)\n",
        "'''\n",
        "\n",
        "print('>>>>> q_table size is %i' %(q_table.size))"
      ],
      "execution_count": 7,
      "outputs": [
        {
          "output_type": "stream",
          "text": [
            ">>>>> q_table size is 66\n"
          ],
          "name": "stdout"
        }
      ]
    },
    {
      "cell_type": "code",
      "metadata": {
        "id": "hjevEBewaZa0",
        "colab_type": "code",
        "colab": {}
      },
      "source": [
        "#q-table terminal setup\n",
        "for i in term_ind_space:\n",
        "  for j in range(a_space.size):\n",
        "    q_table[i,j] = term_cost(s_space[i])"
      ],
      "execution_count": 0,
      "outputs": []
    },
    {
      "cell_type": "code",
      "metadata": {
        "id": "n1n-ZgbBa8cx",
        "colab_type": "code",
        "colab": {}
      },
      "source": [
        "#sync q_table, s_val\n",
        "def q_s_sync(ind):\n",
        "  s_val[ind] = np.min(q_table[ind])\n",
        "  \n",
        "q_s_sync(0)\n",
        "q_s_sync(s_val.size-1)"
      ],
      "execution_count": 0,
      "outputs": []
    },
    {
      "cell_type": "code",
      "metadata": {
        "id": "CPDCLWnqr4-S",
        "colab_type": "code",
        "outputId": "c9bf3077-e47d-409b-f77a-c1493a81f221",
        "colab": {
          "base_uri": "https://localhost:8080/",
          "height": 34
        }
      },
      "source": [
        "#value iteration\n",
        "\n",
        "eps = 1.\n",
        "iter = 0\n",
        "while eps>TOL and iter < MAX_ITER:\n",
        "  pre_s_val = s_val.copy()\n",
        "  #import pdb; pdb.set_trace()\n",
        "  for i in range(1, s_space.size -1):\n",
        "    for k in range(a_space.size):\n",
        "      x_ = s_space[i]\n",
        "      a_ = a_space[k]\n",
        "      tp_ = transition_probability(x_,a_)\n",
        "      run_cost_ = run_cost(x_,a_)*h**2/sigma**2\n",
        "      Lambda_ = 1 + lambda_*h**2/sigma**2\n",
        "      \n",
        "      q_table[i,k] = (run_cost_ + tp_[0]*s_val[i-1] + tp_[1]*s_val[i+1])/Lambda_\n",
        "      \n",
        "    q_s_sync(i)\n",
        "    \n",
        "  \n",
        "  eps = np.max(np.abs(pre_s_val - s_val))\n",
        "  #import pdb; pdb.set_trace()\n",
        "  iter += 1\n",
        "  if np.mod(iter,10) == 0:\n",
        "    print('iterated ' + str(iter)+';')"
      ],
      "execution_count": 10,
      "outputs": [
        {
          "output_type": "stream",
          "text": [
            "iterated 10;\n"
          ],
          "name": "stdout"
        }
      ]
    },
    {
      "cell_type": "code",
      "metadata": {
        "id": "uoSTvMv3-Bl9",
        "colab_type": "code",
        "outputId": "b7db49c4-d510-4c7c-f90f-e116c9737244",
        "colab": {
          "base_uri": "https://localhost:8080/",
          "height": 34
        }
      },
      "source": [
        "exact_val = term_cost(s_space) #exact value for performance compare\n",
        "end_time = time.time()\n",
        "print('elapsed time is %f seconds' %(end_time - start_time))"
      ],
      "execution_count": 11,
      "outputs": [
        {
          "output_type": "stream",
          "text": [
            "elapsed time is 0.149739 seconds\n"
          ],
          "name": "stdout"
        }
      ]
    },
    {
      "cell_type": "code",
      "metadata": {
        "id": "xiyvqE3d_JPk",
        "colab_type": "code",
        "outputId": "5a06c9ee-2e9f-4664-f49c-5591e98b0f18",
        "colab": {
          "base_uri": "https://localhost:8080/",
          "height": 320
        }
      },
      "source": [
        "plt.plot(s_space, s_val, label = 'computed')\n",
        "plt.plot(s_space, exact_val, label = 'exact')\n",
        "plt.legend()\n",
        "print('>>>epsilon is ' + str(eps))\n",
        "print('>>>iter number is ' + str(iter))\n",
        "print('>>>max norm of error is ' + str(np.max(np.abs(s_val-exact_val))))"
      ],
      "execution_count": 12,
      "outputs": [
        {
          "output_type": "stream",
          "text": [
            ">>>epsilon is 0.0006691019413483934\n",
            ">>>iter number is 15\n",
            ">>>max norm of error is 0.002093589827348974\n"
          ],
          "name": "stdout"
        },
        {
          "output_type": "display_data",
          "data": {
            "image/png": "[encoded data removed]",
            "text/plain": [
              "<Figure size 432x288 with 1 Axes>"
            ]
          },
          "metadata": {
            "tags": []
          }
        }
      ]
    },
    {
      "cell_type": "code",
      "metadata": {
        "id": "2AZb3Kzl_PYI",
        "colab_type": "code",
        "colab": {}
      },
      "source": [
        ""
      ],
      "execution_count": 0,
      "outputs": []
    }
  ]
}