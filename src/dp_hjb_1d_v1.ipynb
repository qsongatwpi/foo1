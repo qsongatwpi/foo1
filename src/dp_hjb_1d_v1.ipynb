{
  "nbformat": 4,
  "nbformat_minor": 0,
  "metadata": {
    "colab": {
      "name": "dp_hjb_1d_v1.ipynb",
      "version": "0.3.2",
      "provenance": [],
      "include_colab_link": true
    },
    "kernelspec": {
      "name": "python3",
      "display_name": "Python 3"
    }
  },
  "cells": [
    {
      "cell_type": "markdown",
      "metadata": {
        "id": "view-in-github",
        "colab_type": "text"
      },
      "source": [
        "<a href=\"https://colab.research.google.com/github/songqsh/foo1/blob/master/src/dp_hjb_1d_v1.ipynb\" target=\"_parent\"><img src=\"https://colab.research.google.com/assets/colab-badge.svg\" alt=\"Open In Colab\"/></a>"
      ]
    },
    {
      "cell_type": "markdown",
      "metadata": {
        "id": "-1ry9p2G-ZXG",
        "colab_type": "text"
      },
      "source": [
        "# Goal\n",
        "\n",
        "- Compute exact solution for LQG\n",
        "- Check possible semi-explicit formula by comparing with exact solution\n",
        "- Check the computation of LQG by Q-learning and compare with exact solution"
      ]
    },
    {
      "cell_type": "markdown",
      "metadata": {
        "id": "dtUIOtkr_dc1",
        "colab_type": "text"
      },
      "source": [
        "## Math formula for LQG"
      ]
    },
    {
      "cell_type": "markdown",
      "metadata": {
        "id": "l5zX8bb6RjKY",
        "colab_type": "text"
      },
      "source": [
        "We consider general form of the control problem with controlled dynamic\n",
        "$$ dX_t = b(t, X_t, m_t) dt + \\sigma dW_t,$$\n",
        "with value\n",
        "$$v(t,x) = \\inf_m \\mathbb E^{t,x} \\Big[\n",
        "\\int_t^T \\ell (s, X_s, m_s) ds + g(X_T)\n",
        "\\Big].$$\n"
      ]
    },
    {
      "cell_type": "markdown",
      "metadata": {
        "id": "ao_vngAUSBmZ",
        "colab_type": "text"
      },
      "source": [
        "__LQG problem__\n",
        "\n",
        "For the verification purpose of the computations, we take the following parameters as our example:\n",
        "$$b(t, x, a) = a, \\  \\sigma = \\sqrt{2}, \\ \\ell(s, x, a) = \\frac 1 2 a^2, \n",
        "\\ g(x) = \\frac 1 2 x^2.$$\n",
        "Such a problem is termed as LQG problem and its explicit solution can be written by\n",
        "we have explicit solution\n",
        "$$v(t,x) = \\frac{x^2}{2(1+T-t)} + \\ln (1 + T-t).$$\n",
        "Optimal solution can be given as feedback form of\n",
        "$$a(t,x) = - \\frac{x}{1+T-t}.$$\n",
        "One can check its HJB with the above value function for the verification purpose:\n",
        "$$v_t + v_xx - \\frac 1 2 v_x^2 = 0.$$"
      ]
    },
    {
      "cell_type": "markdown",
      "metadata": {
        "id": "CQ5KDAUFAY-9",
        "colab_type": "text"
      },
      "source": [
        "## Check semi-explicit formula\n",
        "\n",
        "We first calculate exact numeric value of $v(0,0)$ using the above math formula."
      ]
    },
    {
      "cell_type": "code",
      "metadata": {
        "id": "-mCD_D47zZyN",
        "colab_type": "code",
        "colab": {}
      },
      "source": [
        "import numpy as np\n",
        "import time\n",
        "\n",
        "from tqdm import tqdm\n",
        "import matplotlib.pyplot as plt"
      ],
      "execution_count": 0,
      "outputs": []
    },
    {
      "cell_type": "code",
      "metadata": {
        "id": "qVygXOKFz3QP",
        "colab_type": "code",
        "colab": {}
      },
      "source": [
        "#configuration\n",
        "\n",
        "TERM = 1.\n",
        "SIGMA = np.sqrt(2.)\n",
        "\n",
        "def drift(t,x,a):\n",
        "  return a\n",
        "\n",
        "def term_cost(x):\n",
        "  return x**2/2\n",
        "\n",
        "def run_cost(t,x,a):\n",
        "  return a**2/2\n",
        "\n"
      ],
      "execution_count": 0,
      "outputs": []
    },
    {
      "cell_type": "code",
      "metadata": {
        "id": "SlP9M2-yOI-j",
        "colab_type": "code",
        "outputId": "d0e5cbf9-a227-4add-9ad1-34d5f668eb51",
        "colab": {
          "base_uri": "https://localhost:8080/",
          "height": 34
        }
      },
      "source": [
        "def exact_v(t,x):\n",
        "  tau = TERM -t\n",
        "  return (x**2/(1+tau) + SIGMA**2*np.log(1+tau))/2\n",
        "\n",
        "print('>>>>>> the exact value at (0,0) is %f' %(exact_v(0,0)))"
      ],
      "execution_count": 9,
      "outputs": [
        {
          "output_type": "stream",
          "text": [
            ">>>>>> the exact value at (0,0) is 0.693147\n"
          ],
          "name": "stdout"
        }
      ]
    },
    {
      "cell_type": "markdown",
      "metadata": {
        "id": "5oBkP8-Evm61",
        "colab_type": "text"
      },
      "source": [
        "One may think of the value function can be represented by\n",
        "$$v(t,x) = - \\frac 1 2 \\ln  \\mathbb E \\Big[\n",
        "\\exp\n",
        "\\Big(\n",
        "- \\frac 1 4 (x+ \\sqrt{2} W_{T-t})^2\n",
        "\\Big)\n",
        "\\Big]$$\n",
        "We can compute $v(0,0)$ with this formula by Monte-Carlo method, and then compare this with exact computed value in the above."
      ]
    },
    {
      "cell_type": "code",
      "metadata": {
        "id": "5J2Y6nP-umNp",
        "colab_type": "code",
        "outputId": "a8d09e0d-dd1e-4558-9325-5395240f8649",
        "colab": {
          "base_uri": "https://localhost:8080/",
          "height": 51
        }
      },
      "source": [
        "#one other possible value \n",
        "def other_val(t,x):\n",
        "  var1 = np.random.normal(0,1,10000)\n",
        "  var2 = -(x + np.sqrt(2*(TERM-t))*var1)**2./4.\n",
        "\n",
        "  var3 = np.exp(var2).mean()\n",
        "  return -np.log(var3)/2.\n",
        "\n",
        "print('>>>>>>> the value at (0,0) computed by semi-explicit formula is %f' %(other_val(0,0)))\n",
        "print('>>>>>>> while the value at (0,0) from the exact formula is %f' %(exact_v(0,0)))"
      ],
      "execution_count": 10,
      "outputs": [
        {
          "output_type": "stream",
          "text": [
            ">>>>>>> the value at (0,0) computed by semi-explicit formula is 0.175952\n",
            ">>>>>>> while the value at (0,0) from the exact formula is 0.693147\n"
          ],
          "name": "stdout"
        }
      ]
    },
    {
      "cell_type": "markdown",
      "metadata": {
        "id": "21QFarHtCiKG",
        "colab_type": "text"
      },
      "source": [
        "## Computation by Q-learning"
      ]
    },
    {
      "cell_type": "markdown",
      "metadata": {
        "id": "d9TFsKLWTuSD",
        "colab_type": "text"
      },
      "source": [
        "Now, we use central finite difference to convert HJB equation into MDP and use Q-learning to compute for the LQG problem for its verification.\n",
        "Controlled transition probability with $(\\delta, h)$ for time and state mesh size is calculated by\n",
        "$$p^h(x\\pm h |t, x, a) = (b^\\pm(t,x,a) h + \\frac 1 2 \\sigma^2) \\frac \\delta {h^2}$$\n",
        "and\n",
        "$$p^h(x|t,x,a) = 1 - (p(x+ h |t, x, a) + p(x- h |t, x, a)),$$\n",
        "and the running cost is\n",
        "$$\\ell^h(t,x,a) = \\ell(t,x,a)\\cdot \\delta.$$\n",
        "We perform the Q-learning in this below."
      ]
    },
    {
      "cell_type": "code",
      "metadata": {
        "id": "qASpw8s4zqW0",
        "colab_type": "code",
        "colab": {}
      },
      "source": [
        "#configurations\n",
        "\n",
        "NUM = 5 #num of meshes in one unit state space\n",
        "\n",
        "h = 1./NUM #mesh size in state space\n",
        "\n",
        "n_time = np.int(2*TERM*SIGMA**2/h**2)+1 #t_space.size\n",
        "\n",
        "del_t = TERM/(n_time-1) #time mesh size\n",
        "\n",
        "t_space = np.arange(n_time)*del_t #time space\n",
        "\n",
        "u_lim = (t_space.size -1)*h #upper limit of state space\n",
        "l_lim = - u_lim #lower limit ...\n",
        "\n",
        "s_space = np.arange(l_lim, u_lim+h, h) #state space\n",
        "\n",
        "a_space = np.arange(5*l_lim, 5*u_lim+h, h) #action space"
      ],
      "execution_count": 0,
      "outputs": []
    },
    {
      "cell_type": "code",
      "metadata": {
        "id": "_qXYR6Be1hvs",
        "colab_type": "code",
        "colab": {}
      },
      "source": [
        "#one step move\n",
        "\n",
        "del_ind_space = np.arange(-1, 2)\n",
        "\n",
        "#inputs:\n",
        "#state_ind: ranging from 0 to s_space.size-1\n",
        "#del_ind: from del_ind_space\n",
        "def next_state_ind(state_ind, del_ind):\n",
        "  \n",
        "  next_state_ind = state_ind + del_ind\n",
        "  if next_state_ind > s_space.size - 1:\n",
        "    next_state_ind = s_space.size - 1\n",
        "  elif next_state_ind < 0:\n",
        "    next_state_ind = 0\n",
        "  \n",
        "  return next_state_ind"
      ],
      "execution_count": 0,
      "outputs": []
    },
    {
      "cell_type": "code",
      "metadata": {
        "id": "8T0vyQE26QL-",
        "colab_type": "code",
        "colab": {}
      },
      "source": [
        "#transition probability\n",
        "#output is probability of del_ind_space\n",
        "\n",
        "def transition_probability(t, x, a):\n",
        "  tp = np.zeros(del_ind_space.shape)\n",
        "  \n",
        "  b_plus = np.max([0, drift(t,x,a)])\n",
        "  b_minus = np.max([0, -drift(t,x,a)])\n",
        "  \n",
        "  tp[0] = del_t/h**2*(b_minus*h + SIGMA**2/2) #prob to -1\n",
        "  tp[2] = del_t/h**2*(b_plus*h + SIGMA**2/2) #prob to +1\n",
        "  tp[1] = 1 - tp[0] - tp[2] #prob to +0\n",
        "  \n",
        "  '''\n",
        "  #correction on prob\n",
        "  if tp[1] <0:\n",
        "    \n",
        "    tp = tp - tp[1]\n",
        "    tp = tp/tp.sum()\n",
        "  ''' \n",
        "    \n",
        "  return tp"
      ],
      "execution_count": 0,
      "outputs": []
    },
    {
      "cell_type": "code",
      "metadata": {
        "id": "5j_Q7tXw6arX",
        "colab_type": "code",
        "outputId": "6b933e5f-cc44-4553-fcc1-f55dea3b4bcf",
        "colab": {
          "base_uri": "https://localhost:8080/",
          "height": 34
        }
      },
      "source": [
        "#q-table and state value initialization\n",
        "s_val = np.zeros([t_space.size, s_space.size])\n",
        "q_table = np.zeros([t_space.size, s_space.size, a_space.size])\n",
        "\n",
        "print('>>>>> q_table size is %i' %(q_table.size))"
      ],
      "execution_count": 14,
      "outputs": [
        {
          "output_type": "stream",
          "text": [
            ">>>>> q_table size is 20321301\n"
          ],
          "name": "stdout"
        }
      ]
    },
    {
      "cell_type": "code",
      "metadata": {
        "id": "WcDvrvrh-VjO",
        "colab_type": "code",
        "colab": {}
      },
      "source": [
        "#q-table terminal setup\n",
        "for i in range(s_space.size):\n",
        "  for j in range(a_space.size):\n",
        "    q_table[-1,i,j] = term_cost(s_space[i])"
      ],
      "execution_count": 0,
      "outputs": []
    },
    {
      "cell_type": "code",
      "metadata": {
        "id": "2Fp1lLoR_GJu",
        "colab_type": "code",
        "colab": {}
      },
      "source": [
        "#sync q_table, s_val\n",
        "def q_s_sync(t_ind, s_val, q_table):\n",
        "  for i in range(s_space.size):\n",
        "    s_val[t_ind, i] = np.min(q_table[t_ind,i])\n",
        "    \n",
        "q_s_sync(-1, s_val, q_table)"
      ],
      "execution_count": 0,
      "outputs": []
    },
    {
      "cell_type": "code",
      "metadata": {
        "id": "Tr5mi6AEHGlc",
        "colab_type": "code",
        "colab": {}
      },
      "source": [
        "start_time = time.time()"
      ],
      "execution_count": 0,
      "outputs": []
    },
    {
      "cell_type": "code",
      "metadata": {
        "id": "4IFgoYlb_wxK",
        "colab_type": "code",
        "outputId": "7c521b64-7f7c-45d5-9f31-40c59b96b32e",
        "colab": {
          "base_uri": "https://localhost:8080/",
          "height": 34
        }
      },
      "source": [
        "#backward iteration\n",
        "for i in tqdm(np.arange(t_space.size-2, -1, -1)):\n",
        "  for j in np.arange(s_space.size):\n",
        "    for k in np.arange(a_space.size):\n",
        "      t_ = t_space[i]\n",
        "      x_ = s_space[j]\n",
        "      a_ = a_space[k]\n",
        "      \n",
        "      cost_ = run_cost(t_, x_, a_)*del_t\n",
        "      \n",
        "      tp_ = transition_probability(t_, x_, a_)\n",
        "      \n",
        "      for ii in range(del_ind_space.size):\n",
        "        next_j = next_state_ind(j, del_ind_space[ii])\n",
        "        cost_ += tp_[ii]*s_val[i+1, next_j]\n",
        "      q_table[i,j,k] = cost_\n",
        "      \n",
        "  q_s_sync(i, s_val, q_table)"
      ],
      "execution_count": 18,
      "outputs": [
        {
          "output_type": "stream",
          "text": [
            "100%|██████████| 100/100 [07:24<00:00,  4.45s/it]\n"
          ],
          "name": "stderr"
        }
      ]
    },
    {
      "cell_type": "code",
      "metadata": {
        "id": "nWpdCOjJzcxl",
        "colab_type": "code",
        "outputId": "6a629a31-780e-40e0-9a82-65e9d07f498e",
        "colab": {
          "base_uri": "https://localhost:8080/",
          "height": 34
        }
      },
      "source": [
        "end_time = time.time()\n",
        "print('elapsed time is %f seconds' %(end_time - start_time))"
      ],
      "execution_count": 19,
      "outputs": [
        {
          "output_type": "stream",
          "text": [
            "elapsed time is 504.965040 seconds\n"
          ],
          "name": "stdout"
        }
      ]
    },
    {
      "cell_type": "code",
      "metadata": {
        "id": "6sw5w2aq_w0S",
        "colab_type": "code",
        "outputId": "435e15a3-0a43-459a-ccb6-0d9a16f7f57a",
        "colab": {
          "base_uri": "https://localhost:8080/",
          "height": 34
        }
      },
      "source": [
        "print('>>>>>>>>>> the computed value at (0,0) by Q-learning is %f' %(s_val[0, int(s_space.size/2)]))\n",
        "#s_space[int(s_space.size/2)]"
      ],
      "execution_count": 20,
      "outputs": [
        {
          "output_type": "stream",
          "text": [
            ">>>>>>>>>> the computed value at (0,0) by Q-learning is 0.728565\n"
          ],
          "name": "stdout"
        }
      ]
    },
    {
      "cell_type": "markdown",
      "metadata": {
        "id": "7ZfN22dvGNO-",
        "colab_type": "text"
      },
      "source": [
        "## Conclusion\n",
        "\n",
        "In this below, we will graph values in a neighborhood of zero using three methods: exact solution, semi-explicit representation, q-learning. It tells us that Q-learning is close to exact solution, although its not effective enough."
      ]
    },
    {
      "cell_type": "code",
      "metadata": {
        "id": "3BQmKjcoFgNo",
        "colab_type": "code",
        "outputId": "81321501-53e7-40b1-a7ce-43806d89ea98",
        "colab": {
          "base_uri": "https://localhost:8080/",
          "height": 286
        }
      },
      "source": [
        "l_ind = np.int((np.size(s_space)+1)/2-11)\n",
        "u_ind = np.int((np.size(s_space)+1)/2+10)\n",
        "\n",
        "plt.plot(s_space[l_ind:u_ind], s_val[0, l_ind:u_ind], label = 'Q-learning')\n",
        "\n",
        "exact_sol = [exact_v(0,x) for x in s_space]\n",
        "plt.plot(s_space[l_ind:u_ind], exact_sol[l_ind:u_ind], label='exact-solution')\n",
        "\n",
        "other_sol = [other_val(0,x) for x in s_space[l_ind:u_ind]]\n",
        "plt.plot(s_space[l_ind:u_ind], other_sol, label = 'semi-explicit solution')\n",
        "\n",
        "plt.legend()"
      ],
      "execution_count": 28,
      "outputs": [
        {
          "output_type": "execute_result",
          "data": {
            "text/plain": [
              "<matplotlib.legend.Legend at 0x7ff1fed00898>"
            ]
          },
          "metadata": {
            "tags": []
          },
          "execution_count": 28
        },
        {
          "output_type": "display_data",
          "data": {
            "image/png": "[encoded data removed]",
            "text/plain": [
              "<Figure size 432x288 with 1 Axes>"
            ]
          },
          "metadata": {
            "tags": []
          }
        }
      ]
    },
    {
      "cell_type": "code",
      "metadata": {
        "id": "_Y_IdsEeEr3o",
        "colab_type": "code",
        "colab": {
          "base_uri": "https://localhost:8080/",
          "height": 34
        },
        "outputId": "88c62366-b7b4-4278-eeae-14a94243886c"
      },
      "source": [
        "l_ind = np.int((np.size(s_space)+1)/2-10)\n",
        "l_ind"
      ],
      "execution_count": 23,
      "outputs": [
        {
          "output_type": "execute_result",
          "data": {
            "text/plain": [
              "91"
            ]
          },
          "metadata": {
            "tags": []
          },
          "execution_count": 23
        }
      ]
    },
    {
      "cell_type": "code",
      "metadata": {
        "id": "rEfT7RhRk-mC",
        "colab_type": "code",
        "colab": {}
      },
      "source": [
        ""
      ],
      "execution_count": 0,
      "outputs": []
    }
  ]
}