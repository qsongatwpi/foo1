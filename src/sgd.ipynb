{
  "nbformat": 4,
  "nbformat_minor": 0,
  "metadata": {
    "colab": {
      "name": "sgd.ipynb",
      "provenance": [],
      "authorship_tag": "ABX9TyOtvCD6AXHfTUu5enuF4+y/",
      "include_colab_link": true
    },
    "kernelspec": {
      "name": "python3",
      "display_name": "Python 3"
    },
    "language_info": {
      "name": "python"
    }
  },
  "cells": [
    {
      "cell_type": "markdown",
      "metadata": {
        "id": "view-in-github",
        "colab_type": "text"
      },
      "source": [
        "<a href=\"https://colab.research.google.com/github/songqsh/foo1/blob/master/src/sgd.ipynb\" target=\"_parent\"><img src=\"https://colab.research.google.com/assets/colab-badge.svg\" alt=\"Open In Colab\"/></a>"
      ]
    },
    {
      "cell_type": "markdown",
      "metadata": {
        "id": "J6NYoyMxsA4P"
      },
      "source": [
        "# Stochastic gradient descent"
      ]
    },
    {
      "cell_type": "markdown",
      "metadata": {
        "id": "HvnCp1IAsG0q"
      },
      "source": [
        "- Objective: For a given set of functions $\\{f_i(\\theta): i = 1, 2, \\ldots, n\\}$, find \n",
        "$$\\theta^* = \\arg\\min_\\theta \\frac 1 n \\sum_{i=1}^n f_i(\\theta).$$\n",
        "\n",
        "- Algorithm GD: Update the current $\\theta$ by\n",
        "$$\\theta' = \\theta - \\gamma \\cdot \\frac 1 n \\sum_{i=1}^n \\nabla f_i(\\theta).$$\n",
        "\n",
        "- Algorithm SGD: Update the current $\\theta$ by\n",
        "$$\\theta' = \\theta - \\gamma \\nabla f_i(\\theta),$$\n",
        "where $i$ is the iid uniform random varialbe on the set $\\{1,2,\\ldots, n\\}$."
      ]
    },
    {
      "cell_type": "code",
      "metadata": {
        "id": "IiUhDjA83xvR"
      },
      "source": [
        "# gradient descent\n",
        "import numpy as np\n",
        "\n",
        "def gd(val_g, grad_g, th0=0., eps = 0.01):\n",
        "  th0 = np.array(th0)\n",
        "  for i in range(1000):\n",
        "    th1 = th0 - eps*np.array(grad_g(th0))\n",
        "    th0 = th1\n",
        "  return th0"
      ],
      "execution_count": 20,
      "outputs": []
    },
    {
      "cell_type": "markdown",
      "metadata": {
        "id": "kh_lc00GxkOB"
      },
      "source": [
        "# A test on 1-d functions with 2 samples"
      ]
    },
    {
      "cell_type": "code",
      "metadata": {
        "id": "DZbwuZz1r-t7"
      },
      "source": [
        "# Given value and gradient of the functions\n",
        "def f1(th):\n",
        "  return float(th)**2\n",
        "\n",
        "def grad_f1(th):\n",
        "  return 2.* float(th)\n",
        "\n",
        "def f2(th):\n",
        "  return (float(th)- 2.)**2\n",
        "\n",
        "def grad_f2(th):\n",
        "  return 2.* (th -2.)\n",
        "\n",
        "list_val_f = [f1, f2]\n",
        "list_grad_f = [grad_f1, grad_f2]"
      ],
      "execution_count": 18,
      "outputs": []
    },
    {
      "cell_type": "code",
      "metadata": {
        "colab": {
          "base_uri": "https://localhost:8080/"
        },
        "id": "dLdtJF4g0K_4",
        "outputId": "b177135c-2b56-4009-806e-5317dc98670f"
      },
      "source": [
        "# gradient descent\n",
        "\n",
        "def val_g(th):\n",
        "  val = 0.\n",
        "  for f in list_val_f:\n",
        "    val += f(th)\n",
        "  return val/len(list_val_f)\n",
        "\n",
        "def grad_g(th):\n",
        "  grad = 0.\n",
        "  for f in list_grad_f:\n",
        "    grad += f(th)\n",
        "  return grad/len(list_grad_f)\n",
        "\n",
        "gd(val_g, grad_g, th0=0., eps = 0.01)"
      ],
      "execution_count": 24,
      "outputs": [
        {
          "output_type": "execute_result",
          "data": {
            "text/plain": [
              "0.9999999983170326"
            ]
          },
          "metadata": {
            "tags": []
          },
          "execution_count": 24
        }
      ]
    },
    {
      "cell_type": "code",
      "metadata": {
        "id": "soO1ruhq4lXy"
      },
      "source": [
        ""
      ],
      "execution_count": null,
      "outputs": []
    }
  ]
}