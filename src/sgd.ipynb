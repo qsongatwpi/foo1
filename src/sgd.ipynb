{
  "nbformat": 4,
  "nbformat_minor": 0,
  "metadata": {
    "colab": {
      "name": "sgd.ipynb",
      "provenance": [],
      "authorship_tag": "ABX9TyOHHp3YC/8GkM236ZbDFMGW",
      "include_colab_link": true
    },
    "kernelspec": {
      "name": "python3",
      "display_name": "Python 3"
    },
    "language_info": {
      "name": "python"
    }
  },
  "cells": [
    {
      "cell_type": "markdown",
      "metadata": {
        "id": "view-in-github",
        "colab_type": "text"
      },
      "source": [
        "<a href=\"https://colab.research.google.com/github/songqsh/foo1/blob/master/src/sgd.ipynb\" target=\"_parent\"><img src=\"https://colab.research.google.com/assets/colab-badge.svg\" alt=\"Open In Colab\"/></a>"
      ]
    },
    {
      "cell_type": "markdown",
      "metadata": {
        "id": "J6NYoyMxsA4P"
      },
      "source": [
        "# Stochastic gradient descent"
      ]
    },
    {
      "cell_type": "markdown",
      "metadata": {
        "id": "HvnCp1IAsG0q"
      },
      "source": [
        "- Objective: For a given set of functions $\\{f_i(\\theta): i = 1, 2, \\ldots, n\\}$, find \n",
        "$$\\theta^* = \\arg\\min_\\theta \\frac 1 n \\sum_{i=1}^n f_i(\\theta).$$\n",
        "\n",
        "- Algorithm GD: Update the current $\\theta$ by\n",
        "$$\\theta' = \\theta - \\gamma \\cdot \\frac 1 n \\sum_{i=1}^n \\nabla f_i(\\theta).$$\n",
        "\n",
        "- Algorithm SGD: Update the current $\\theta$ by\n",
        "$$\\theta' = \\theta - \\gamma \\nabla f_i(\\theta),$$\n",
        "where $i$ is the iid uniform random varialbe on the set $\\{1,2,\\ldots, n\\}$."
      ]
    },
    {
      "cell_type": "code",
      "metadata": {
        "id": "pas2ofiDIBrn"
      },
      "source": [
        "import numpy as np\n",
        "from random import randrange"
      ],
      "execution_count": 1,
      "outputs": []
    },
    {
      "cell_type": "code",
      "metadata": {
        "id": "IiUhDjA83xvR"
      },
      "source": [
        "# gradient descent\n",
        "def gd(val_g, grad_g, th0=0., eps = 0.01):\n",
        "  th0 = np.array(th0)\n",
        "  for i in range(1000):\n",
        "    th1 = th0 - eps*np.array(grad_g(th0))\n",
        "    th0 = th1\n",
        "  return th0"
      ],
      "execution_count": 2,
      "outputs": []
    },
    {
      "cell_type": "code",
      "metadata": {
        "id": "cXXck6fVH591"
      },
      "source": [
        "# stochastic gradient descent\n",
        "def sgd(list_val_f, list_grad_f, th0 = 0., eps = .01, n_iter = 1000):\n",
        "  th0 = np.array(th0)\n",
        "  for i in range(n_iter):\n",
        "    sample_ind = randrange(len(list_val_f))\n",
        "    grad_f = list_grad_f[sample_ind]\n",
        "    th1 = th0 - eps*np.array(grad_f(th0))\n",
        "    th0 = th1\n",
        "  return th0"
      ],
      "execution_count": 3,
      "outputs": []
    },
    {
      "cell_type": "markdown",
      "metadata": {
        "id": "kh_lc00GxkOB"
      },
      "source": [
        "# A test on 1-d functions with 2 samples\n",
        "- 2 convex functions"
      ]
    },
    {
      "cell_type": "code",
      "metadata": {
        "id": "DZbwuZz1r-t7"
      },
      "source": [
        "# Given value and gradient of the functions\n",
        "def f1(th):\n",
        "  return float(th)**2\n",
        "\n",
        "def grad_f1(th):\n",
        "  return 2.* float(th)\n",
        "\n",
        "def f2(th):\n",
        "  return (float(th)- 2.)**2\n",
        "\n",
        "def grad_f2(th):\n",
        "  return 2.* (th -2.)\n",
        "\n",
        "list_val_f = [f1, f2]\n",
        "list_grad_f = [grad_f1, grad_f2]"
      ],
      "execution_count": 4,
      "outputs": []
    },
    {
      "cell_type": "code",
      "metadata": {
        "colab": {
          "base_uri": "https://localhost:8080/"
        },
        "id": "dLdtJF4g0K_4",
        "outputId": "2de59896-fc8f-45b5-a02c-78cba4488af4"
      },
      "source": [
        "# gradient descent\n",
        "\n",
        "def val_g(th):\n",
        "  val = 0.\n",
        "  for f in list_val_f:\n",
        "    val += f(th)\n",
        "  return val/len(list_val_f)\n",
        "\n",
        "def grad_g(th):\n",
        "  grad = 0.\n",
        "  for f in list_grad_f:\n",
        "    grad += f(th)\n",
        "  return grad/len(list_grad_f)\n",
        "\n",
        "gd(val_g, grad_g, th0=0., eps = 0.01)"
      ],
      "execution_count": 5,
      "outputs": [
        {
          "output_type": "execute_result",
          "data": {
            "text/plain": [
              "0.9999999983170326"
            ]
          },
          "metadata": {
            "tags": []
          },
          "execution_count": 5
        }
      ]
    },
    {
      "cell_type": "code",
      "metadata": {
        "id": "soO1ruhq4lXy",
        "outputId": "67937edb-6eea-4d0f-8e1d-de84ae504663",
        "colab": {
          "base_uri": "https://localhost:8080/"
        }
      },
      "source": [
        "sgd(list_val_f, list_grad_f, th0 = 3., eps = .001, n_iter=10000)"
      ],
      "execution_count": 12,
      "outputs": [
        {
          "output_type": "execute_result",
          "data": {
            "text/plain": [
              "0.9847938495203538"
            ]
          },
          "metadata": {
            "tags": []
          },
          "execution_count": 12
        }
      ]
    },
    {
      "cell_type": "markdown",
      "metadata": {
        "id": "26hIbBuBSzuZ"
      },
      "source": [
        "# A test on 1-d functions with 2 samples\n",
        "- 1 convex and 1 concave functions"
      ]
    },
    {
      "cell_type": "code",
      "metadata": {
        "id": "0gPODskyKSkB"
      },
      "source": [
        "# Given value and gradient of the functions\n",
        "def f1(th):\n",
        "  return - float(th)**2\n",
        "\n",
        "def grad_f1(th):\n",
        "  return - 2. * th\n",
        "\n",
        "def f2(th):\n",
        "  return 2.* (float(th)-1.)**2\n",
        "\n",
        "def grad_f2(th):\n",
        "  return 4.* (th -1.)\n",
        "\n",
        "list_val_f = [f1, f2]\n",
        "list_grad_f = [grad_f1, grad_f2]"
      ],
      "execution_count": 13,
      "outputs": []
    },
    {
      "cell_type": "code",
      "metadata": {
        "id": "bDUACxjPTf6-",
        "outputId": "2b94dd8d-3a8e-45e3-d79d-f6602ce7d00d",
        "colab": {
          "base_uri": "https://localhost:8080/"
        }
      },
      "source": [
        "# gradient descent\n",
        "\n",
        "def val_g(th):\n",
        "  val = 0.\n",
        "  for f in list_val_f:\n",
        "    val += f(th)\n",
        "  return val/len(list_val_f)\n",
        "\n",
        "def grad_g(th):\n",
        "  grad = 0.\n",
        "  for f in list_grad_f:\n",
        "    grad += f(th)\n",
        "  return grad/len(list_grad_f)\n",
        "\n",
        "gd(val_g, grad_g, th0=0., eps = 0.01)"
      ],
      "execution_count": 14,
      "outputs": [
        {
          "output_type": "execute_result",
          "data": {
            "text/plain": [
              "1.9999136575051788"
            ]
          },
          "metadata": {
            "tags": []
          },
          "execution_count": 14
        }
      ]
    },
    {
      "cell_type": "code",
      "metadata": {
        "id": "hTNpMsOHTk0n",
        "outputId": "ab5aceda-7e72-4e21-f132-71f879e4f378",
        "colab": {
          "base_uri": "https://localhost:8080/"
        }
      },
      "source": [
        "sgd(list_val_f, list_grad_f, th0 = 3., eps = .001, n_iter=10000)"
      ],
      "execution_count": 15,
      "outputs": [
        {
          "output_type": "execute_result",
          "data": {
            "text/plain": [
              "1.974463698564762"
            ]
          },
          "metadata": {
            "tags": []
          },
          "execution_count": 15
        }
      ]
    },
    {
      "cell_type": "code",
      "metadata": {
        "id": "tXW2y0FNTqBl"
      },
      "source": [
        ""
      ],
      "execution_count": null,
      "outputs": []
    }
  ]
}