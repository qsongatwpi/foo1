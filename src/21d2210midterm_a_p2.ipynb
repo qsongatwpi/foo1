{
  "nbformat": 4,
  "nbformat_minor": 0,
  "metadata": {
    "colab": {
      "name": "21d2210midterm_a_p2.ipynb",
      "provenance": [],
      "authorship_tag": "ABX9TyOEMUDfiPSYXSzzJxa/YoiY",
      "include_colab_link": true
    },
    "kernelspec": {
      "name": "python3",
      "display_name": "Python 3"
    }
  },
  "cells": [
    {
      "cell_type": "markdown",
      "metadata": {
        "id": "view-in-github",
        "colab_type": "text"
      },
      "source": [
        "<a href=\"https://colab.research.google.com/github/songqsh/foo1/blob/master/src/21d2210midterm_a_p2.ipynb\" target=\"_parent\"><img src=\"https://colab.research.google.com/assets/colab-badge.svg\" alt=\"Open In Colab\"/></a>"
      ]
    },
    {
      "cell_type": "markdown",
      "metadata": {
        "id": "00ZyRRxarrBi"
      },
      "source": [
        "# Simplex method\n",
        "\n"
      ]
    },
    {
      "cell_type": "code",
      "metadata": {
        "id": "HdIczcDireLv"
      },
      "source": [
        "# import package\n",
        "import numpy as np\n",
        "import numpy.linalg as la\n",
        "float_formatter = \"{:.2f}\".format\n",
        "np.set_printoptions(formatter={'float_kind':float_formatter})\n",
        "import pandas as pd\n"
      ],
      "execution_count": 1,
      "outputs": []
    },
    {
      "cell_type": "markdown",
      "metadata": {
        "id": "qPGpUZT94CSW"
      },
      "source": [
        "## Pivotizing\n",
        "\n",
        "Pivotizing with $(i,j)$-entry means converting the matrix by multiple EROS so that the resulting matrix has all zeros in $j$-column, but one in $(i,j)$-entry. This is the key step in updating basic feasible solution."
      ]
    },
    {
      "cell_type": "code",
      "metadata": {
        "id": "QOOCy0MY4kHm"
      },
      "source": [
        "#pivotize with (i,j)\n",
        "def pivot(A, i, j):\n",
        "  A[i] = A[i]/A[i,j] #scale to get one in (i,j)\n",
        "  n_rows, _ = A.shape\n",
        "  for k in range(n_rows):\n",
        "    if k==i:\n",
        "      continue # skip i-row\n",
        "    A[k] = A[k] - A[i]*A[k,j] # replacement to get zero\n",
        "    "
      ],
      "execution_count": 2,
      "outputs": []
    },
    {
      "cell_type": "markdown",
      "metadata": {
        "id": "c2QmGEHdttx0"
      },
      "source": [
        "## Initial tableau"
      ]
    },
    {
      "cell_type": "code",
      "metadata": {
        "colab": {
          "base_uri": "https://localhost:8080/",
          "height": 159
        },
        "id": "S92X6MV5n6pX",
        "outputId": "ed71e429-14fc-4975-8dfb-ba7afe0dc680"
      },
      "source": [
        "A = np.array([[1, -1, -2., -1., 0., 0, 0],\n",
        "              [0, 1, 1, 0, 1, 0, 6],\n",
        "              [0, 0, 1, 1, 0, 1, 8]])\n",
        "n_row, n_col = A.shape\n",
        "\n",
        "print('tableau has ' + str(n_row) + ' rows and ' + str(n_col) + ' columns')\n",
        "pd.DataFrame(A)"
      ],
      "execution_count": 3,
      "outputs": [
        {
          "output_type": "stream",
          "text": [
            "tableau has 3 rows and 7 columns\n"
          ],
          "name": "stdout"
        },
        {
          "output_type": "execute_result",
          "data": {
            "text/html": [
              "<div>\n",
              "<style scoped>\n",
              "    .dataframe tbody tr th:only-of-type {\n",
              "        vertical-align: middle;\n",
              "    }\n",
              "\n",
              "    .dataframe tbody tr th {\n",
              "        vertical-align: top;\n",
              "    }\n",
              "\n",
              "    .dataframe thead th {\n",
              "        text-align: right;\n",
              "    }\n",
              "</style>\n",
              "<table border=\"1\" class=\"dataframe\">\n",
              "  <thead>\n",
              "    <tr style=\"text-align: right;\">\n",
              "      <th></th>\n",
              "      <th>0</th>\n",
              "      <th>1</th>\n",
              "      <th>2</th>\n",
              "      <th>3</th>\n",
              "      <th>4</th>\n",
              "      <th>5</th>\n",
              "      <th>6</th>\n",
              "    </tr>\n",
              "  </thead>\n",
              "  <tbody>\n",
              "    <tr>\n",
              "      <th>0</th>\n",
              "      <td>1.0</td>\n",
              "      <td>-1.0</td>\n",
              "      <td>-2.0</td>\n",
              "      <td>-1.0</td>\n",
              "      <td>0.0</td>\n",
              "      <td>0.0</td>\n",
              "      <td>0.0</td>\n",
              "    </tr>\n",
              "    <tr>\n",
              "      <th>1</th>\n",
              "      <td>0.0</td>\n",
              "      <td>1.0</td>\n",
              "      <td>1.0</td>\n",
              "      <td>0.0</td>\n",
              "      <td>1.0</td>\n",
              "      <td>0.0</td>\n",
              "      <td>6.0</td>\n",
              "    </tr>\n",
              "    <tr>\n",
              "      <th>2</th>\n",
              "      <td>0.0</td>\n",
              "      <td>0.0</td>\n",
              "      <td>1.0</td>\n",
              "      <td>1.0</td>\n",
              "      <td>0.0</td>\n",
              "      <td>1.0</td>\n",
              "      <td>8.0</td>\n",
              "    </tr>\n",
              "  </tbody>\n",
              "</table>\n",
              "</div>"
            ],
            "text/plain": [
              "     0    1    2    3    4    5    6\n",
              "0  1.0 -1.0 -2.0 -1.0  0.0  0.0  0.0\n",
              "1  0.0  1.0  1.0  0.0  1.0  0.0  6.0\n",
              "2  0.0  0.0  1.0  1.0  0.0  1.0  8.0"
            ]
          },
          "metadata": {
            "tags": []
          },
          "execution_count": 3
        }
      ]
    },
    {
      "cell_type": "code",
      "metadata": {
        "colab": {
          "base_uri": "https://localhost:8080/"
        },
        "id": "8lrwAg_UpAMa",
        "outputId": "c2b5758b-c880-44e8-e40e-7b0bec1af38b"
      },
      "source": [
        "bv = [4, 5] #set bv\n",
        "print('bvs are: \\n')\n",
        "print(bv)\n",
        "#optimal test and pivot column\n",
        "r0 = list(A[0])\n",
        "print(r0)\n",
        "min_value = min(r0)\n",
        "if min_value >= 0:\n",
        "  print('done')\n",
        "else:\n",
        "  print('continue')\n",
        "  pivot_col = r0.index(min_value)\n",
        "  print('pivot column is ' + str(pivot_col))\n"
      ],
      "execution_count": 4,
      "outputs": [
        {
          "output_type": "stream",
          "text": [
            "bvs are: \n",
            "\n",
            "[4, 5]\n",
            "[1.0, -1.0, -2.0, -1.0, 0.0, 0.0, 0.0]\n",
            "continue\n",
            "pivot column is 2\n"
          ],
          "name": "stdout"
        }
      ]
    },
    {
      "cell_type": "code",
      "metadata": {
        "colab": {
          "base_uri": "https://localhost:8080/"
        },
        "id": "Ttd0bYXApNIy",
        "outputId": "23db9ad1-96af-46c4-c6dc-3e0459857688"
      },
      "source": [
        "#minimum ratio test and pivot row\n",
        "min_ratio = 10000.0 #big number\n",
        "pivot_row = 100 #big integer\n",
        "for i in range(1,n_row):\n",
        "  if A[i,pivot_col] >0:\n",
        "    now_ratio = A[i, -1]/A[i, pivot_col]\n",
        "    if now_ratio < min_ratio:\n",
        "      min_ratio = now_ratio\n",
        "      pivot_row = i\n",
        "print('pivot row is ' + str(pivot_row))\n",
        "pivot(A, pivot_row,pivot_col)"
      ],
      "execution_count": 5,
      "outputs": [
        {
          "output_type": "stream",
          "text": [
            "pivot row is 1\n"
          ],
          "name": "stdout"
        }
      ]
    },
    {
      "cell_type": "markdown",
      "metadata": {
        "id": "R2vs0_Hkx2cQ"
      },
      "source": [
        "Current tableau"
      ]
    },
    {
      "cell_type": "code",
      "metadata": {
        "colab": {
          "base_uri": "https://localhost:8080/"
        },
        "id": "5695VWl_qfDr",
        "outputId": "ad4cae63-068c-4df6-8ed4-338f0000ff42"
      },
      "source": [
        "print(pd.DataFrame(A))"
      ],
      "execution_count": 6,
      "outputs": [
        {
          "output_type": "stream",
          "text": [
            "     0    1    2    3    4    5     6\n",
            "0  1.0  1.0  0.0 -1.0  2.0  0.0  12.0\n",
            "1  0.0  1.0  1.0  0.0  1.0  0.0   6.0\n",
            "2  0.0 -1.0  0.0  1.0 -1.0  1.0   2.0\n"
          ],
          "name": "stdout"
        }
      ]
    },
    {
      "cell_type": "code",
      "metadata": {
        "colab": {
          "base_uri": "https://localhost:8080/"
        },
        "id": "ESpG0dmspeQY",
        "outputId": "0ebe51c2-572a-40c7-a006-e712fa9da971"
      },
      "source": [
        "bv = [2, 5] #set bv\n",
        "print('bvs are: \\n')\n",
        "print(bv)\n",
        "#optimal test and pivot column\n",
        "r0 = list(A[0])\n",
        "print(r0)\n",
        "min_value = min(r0)\n",
        "if min_value >= 0:\n",
        "  print('done')\n",
        "else:\n",
        "  print('continue')\n",
        "  pivot_col = r0.index(min_value)\n",
        "  print('pivot column is ' + str(pivot_col))\n"
      ],
      "execution_count": 7,
      "outputs": [
        {
          "output_type": "stream",
          "text": [
            "bvs are: \n",
            "\n",
            "[2, 5]\n",
            "[1.0, 1.0, 0.0, -1.0, 2.0, 0.0, 12.0]\n",
            "continue\n",
            "pivot column is 3\n"
          ],
          "name": "stdout"
        }
      ]
    },
    {
      "cell_type": "code",
      "metadata": {
        "colab": {
          "base_uri": "https://localhost:8080/"
        },
        "id": "t0y3aDjHqFbe",
        "outputId": "50e5d04c-b353-48b2-9ae7-4dfc9dea694d"
      },
      "source": [
        "\n",
        "#minimum ratio test and pivot row\n",
        "min_ratio = 10000.0 #big number\n",
        "pivot_row = 100 #big integer\n",
        "for i in range(1,n_row):\n",
        "  if A[i,pivot_col] >0:\n",
        "    now_ratio = A[i, -1]/A[i, pivot_col]\n",
        "    if now_ratio < min_ratio:\n",
        "      min_ratio = now_ratio\n",
        "      pivot_row = i\n",
        "print('pivot row is ' + str(pivot_row))\n",
        "pivot(A, pivot_row,pivot_col)"
      ],
      "execution_count": 8,
      "outputs": [
        {
          "output_type": "stream",
          "text": [
            "pivot row is 2\n"
          ],
          "name": "stdout"
        }
      ]
    },
    {
      "cell_type": "markdown",
      "metadata": {
        "id": "Rs2ufRyYx9kz"
      },
      "source": [
        "Current tableau"
      ]
    },
    {
      "cell_type": "code",
      "metadata": {
        "colab": {
          "base_uri": "https://localhost:8080/",
          "height": 142
        },
        "id": "V8oS0sT_w3Im",
        "outputId": "ef066756-61f2-4e1e-d772-f33895e7a8d7"
      },
      "source": [
        "pd.DataFrame(A)"
      ],
      "execution_count": 9,
      "outputs": [
        {
          "output_type": "execute_result",
          "data": {
            "text/html": [
              "<div>\n",
              "<style scoped>\n",
              "    .dataframe tbody tr th:only-of-type {\n",
              "        vertical-align: middle;\n",
              "    }\n",
              "\n",
              "    .dataframe tbody tr th {\n",
              "        vertical-align: top;\n",
              "    }\n",
              "\n",
              "    .dataframe thead th {\n",
              "        text-align: right;\n",
              "    }\n",
              "</style>\n",
              "<table border=\"1\" class=\"dataframe\">\n",
              "  <thead>\n",
              "    <tr style=\"text-align: right;\">\n",
              "      <th></th>\n",
              "      <th>0</th>\n",
              "      <th>1</th>\n",
              "      <th>2</th>\n",
              "      <th>3</th>\n",
              "      <th>4</th>\n",
              "      <th>5</th>\n",
              "      <th>6</th>\n",
              "    </tr>\n",
              "  </thead>\n",
              "  <tbody>\n",
              "    <tr>\n",
              "      <th>0</th>\n",
              "      <td>1.0</td>\n",
              "      <td>0.0</td>\n",
              "      <td>0.0</td>\n",
              "      <td>0.0</td>\n",
              "      <td>1.0</td>\n",
              "      <td>1.0</td>\n",
              "      <td>14.0</td>\n",
              "    </tr>\n",
              "    <tr>\n",
              "      <th>1</th>\n",
              "      <td>0.0</td>\n",
              "      <td>1.0</td>\n",
              "      <td>1.0</td>\n",
              "      <td>0.0</td>\n",
              "      <td>1.0</td>\n",
              "      <td>0.0</td>\n",
              "      <td>6.0</td>\n",
              "    </tr>\n",
              "    <tr>\n",
              "      <th>2</th>\n",
              "      <td>0.0</td>\n",
              "      <td>-1.0</td>\n",
              "      <td>0.0</td>\n",
              "      <td>1.0</td>\n",
              "      <td>-1.0</td>\n",
              "      <td>1.0</td>\n",
              "      <td>2.0</td>\n",
              "    </tr>\n",
              "  </tbody>\n",
              "</table>\n",
              "</div>"
            ],
            "text/plain": [
              "     0    1    2    3    4    5     6\n",
              "0  1.0  0.0  0.0  0.0  1.0  1.0  14.0\n",
              "1  0.0  1.0  1.0  0.0  1.0  0.0   6.0\n",
              "2  0.0 -1.0  0.0  1.0 -1.0  1.0   2.0"
            ]
          },
          "metadata": {
            "tags": []
          },
          "execution_count": 9
        }
      ]
    },
    {
      "cell_type": "code",
      "metadata": {
        "colab": {
          "base_uri": "https://localhost:8080/"
        },
        "id": "T_qLLD4ixEG5",
        "outputId": "dfd282c7-f5e1-4596-c6c2-451e5a51a6a9"
      },
      "source": [
        "bv = [1, 3, 5, 8] #set bv\n",
        "print(bv)\n",
        "#optimal test and pivot column\n",
        "r0 = list(A[0])\n",
        "print(r0)\n",
        "min_value = min(r0)\n",
        "if min_value >= 0:\n",
        "  print('done')\n",
        "else:\n",
        "  print('continue')\n",
        "  pivot_col = r0.index(min_value)\n",
        "  print('pivot column is ' + str(pivot_col))\n",
        "\n",
        "#minimum ratio test and pivot row\n",
        "min_ratio = 10000.0 #big number\n",
        "pivot_row = 100 #big integer\n",
        "for i in range(1,n_row):\n",
        "  if A[i,pivot_col] >0:\n",
        "    now_ratio = A[i, -1]/A[i, pivot_col]\n",
        "    if now_ratio < min_ratio:\n",
        "      min_ratio = now_ratio\n",
        "      pivot_row = i\n",
        "print('pivot row is ' + str(pivot_row))\n",
        "pivot(A, pivot_row,pivot_col)"
      ],
      "execution_count": 10,
      "outputs": [
        {
          "output_type": "stream",
          "text": [
            "[1, 3, 5, 8]\n",
            "[1.0, 0.0, 0.0, 0.0, 1.0, 1.0, 14.0]\n",
            "done\n",
            "pivot row is 2\n"
          ],
          "name": "stdout"
        }
      ]
    },
    {
      "cell_type": "markdown",
      "metadata": {
        "id": "R7S0KI7yyA10"
      },
      "source": [
        "Current tableau"
      ]
    },
    {
      "cell_type": "code",
      "metadata": {
        "colab": {
          "base_uri": "https://localhost:8080/"
        },
        "id": "WerQ4rpuxfGM",
        "outputId": "196bfbdb-ceff-43ae-a446-0e02538241a3"
      },
      "source": [
        "A"
      ],
      "execution_count": 11,
      "outputs": [
        {
          "output_type": "execute_result",
          "data": {
            "text/plain": [
              "array([[1.00, 0.00, 0.00, 0.00, 1.00, 1.00, 14.00],\n",
              "       [0.00, 1.00, 1.00, 0.00, 1.00, 0.00, 6.00],\n",
              "       [0.00, -1.00, 0.00, 1.00, -1.00, 1.00, 2.00]])"
            ]
          },
          "metadata": {
            "tags": []
          },
          "execution_count": 11
        }
      ]
    },
    {
      "cell_type": "code",
      "metadata": {
        "colab": {
          "base_uri": "https://localhost:8080/"
        },
        "id": "EV63jSUCxsu0",
        "outputId": "199495fd-1d51-4f3e-b934-8f6fafe1c57a"
      },
      "source": [
        "bv = [2, 3, 5, 8] #set bv\n",
        "print('bvs are: \\n')\n",
        "print(bv)\n",
        "#optimal test and pivot column\n",
        "r0 = list(A[0])\n",
        "print(r0)\n",
        "min_value = min(r0)\n",
        "if min_value >= 0:\n",
        "  print('done')\n",
        "else:\n",
        "  print('continue')\n",
        "  pivot_col = r0.index(min_value)\n",
        "  print('pivot column is ' + str(pivot_col))\n"
      ],
      "execution_count": 12,
      "outputs": [
        {
          "output_type": "stream",
          "text": [
            "bvs are: \n",
            "\n",
            "[2, 3, 5, 8]\n",
            "[1.0, 0.0, 0.0, 0.0, 1.0, 1.0, 14.0]\n",
            "done\n"
          ],
          "name": "stdout"
        }
      ]
    },
    {
      "cell_type": "markdown",
      "metadata": {
        "id": "gUE3GuB58W7U"
      },
      "source": [
        "## Conclusion\n",
        "\n",
        "The optimal solution for the dual problem is \n",
        "$$x = (0, 2.5, 7.5, 0), z = 90.$$\n",
        "Indeed, in the original diet problem, the optimal solution is by eating no brownies, 3 oz ice cream, 1 cola, no pineapples, which yields minimum cost 90."
      ]
    },
    {
      "cell_type": "code",
      "metadata": {
        "id": "9NXzyyZC0SN9"
      },
      "source": [
        ""
      ],
      "execution_count": 12,
      "outputs": []
    }
  ]
}