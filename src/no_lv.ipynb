{
 "cells": [
  {
   "cell_type": "markdown",
   "source": [
    "# No leaving variable:\n",
    "Consider\n",
    "$$\\max z = 3 x_1 +5  x_2$$\n",
    "s.t.\n",
    "$$x_1 \\le 4$$\n",
    "$$x_1, x_2\\ge 0$$"
   ],
   "metadata": {
    "collapsed": false,
    "pycharm": {
     "name": "#%% md\n"
    }
   }
  },
  {
   "cell_type": "code",
   "execution_count": 4,
   "outputs": [],
   "source": [
    "# import package\n",
    "import numpy as np\n",
    "float_formatter = \"{:.2f}\".format\n",
    "np.set_printoptions(formatter={'float_kind':float_formatter})\n",
    "import pandas as pd\n",
    "import warnings\n",
    "#ignore by message\n",
    "warnings.filterwarnings(\"ignore\", message=\"divide by zero encountered in true_divide\")"
   ],
   "metadata": {
    "collapsed": false,
    "pycharm": {
     "name": "#%%\n"
    }
   }
  },
  {
   "cell_type": "code",
   "execution_count": 5,
   "outputs": [
    {
     "name": "stdout",
     "output_type": "stream",
     "text": [
      "     0    1    2    3    4\n",
      "0  1.0 -3.0 -5.0  0.0  0.0\n",
      "1  0.0  1.0  0.0  1.0  4.0\n"
     ]
    }
   ],
   "source": [
    "# input initial tableau\n",
    "M = np.array([\n",
    "               [1, -3, -5, 0, 0],\n",
    "               [0, 1, 0, 1, 4],\n",
    "               ], dtype = float)\n",
    "print(pd.DataFrame(M)) # print matrix"
   ],
   "metadata": {
    "collapsed": false,
    "pycharm": {
     "name": "#%%\n"
    }
   }
  },
  {
   "cell_type": "code",
   "execution_count": 7,
   "outputs": [
    {
     "name": "stdout",
     "output_type": "stream",
     "text": [
      "1 constraints and 3 variables\n",
      "initial tableau is:\n",
      "=======================\n",
      "     0    1    2    3    4\n",
      "0  1.0 -3.0 -5.0  0.0  0.0\n",
      "1  0.0  1.0  0.0  1.0  4.0\n",
      "no leaving variable, here is the ratio list [inf]\n"
     ]
    }
   ],
   "source": [
    "from simplex import simplex_solver\n",
    "simplex_solver(M, display=1) # display=1 print out intermediate tableau"
   ],
   "metadata": {
    "collapsed": false,
    "pycharm": {
     "name": "#%%\n"
    }
   }
  },
  {
   "cell_type": "code",
   "execution_count": null,
   "outputs": [],
   "source": [],
   "metadata": {
    "collapsed": false,
    "pycharm": {
     "name": "#%%\n"
    }
   }
  }
 ],
 "metadata": {
  "kernelspec": {
   "display_name": "Python 3",
   "language": "python",
   "name": "python3"
  },
  "language_info": {
   "codemirror_mode": {
    "name": "ipython",
    "version": 2
   },
   "file_extension": ".py",
   "mimetype": "text/x-python",
   "name": "python",
   "nbconvert_exporter": "python",
   "pygments_lexer": "ipython2",
   "version": "2.7.6"
  }
 },
 "nbformat": 4,
 "nbformat_minor": 0
}