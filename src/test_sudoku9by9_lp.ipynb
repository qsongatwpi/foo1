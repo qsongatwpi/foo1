{
 "cells": [
  {
   "cell_type": "markdown",
   "metadata": {
    "collapsed": true,
    "pycharm": {
     "name": "#%% md\n"
    }
   },
   "source": [
    "# test sudoku solver for 9 by 9 table"
   ]
  },
  {
   "cell_type": "code",
   "execution_count": 1,
   "outputs": [],
   "source": [
    "from sudoku9by9_lp import main\n",
    "import time"
   ],
   "metadata": {
    "collapsed": false,
    "pycharm": {
     "name": "#%%\n"
    }
   }
  },
  {
   "cell_type": "code",
   "execution_count": 2,
   "outputs": [
    {
     "name": "stderr",
     "output_type": "stream",
     "text": [
      "/Users/qsong/Documents/GitHub/foo1/src/sudoku9by9_lp.py:108: OptimizeWarning: A_eq does not appear to be of full row rank. To improve performance, check the problem formulation for redundant equality constraints.\n",
      "  res = linprog(c=vec_c, A_eq=mat_A, b_eq=vec_b, bounds=(0, 1), options={\"disp\": False})\n"
     ]
    },
    {
     "name": "stdout",
     "output_type": "stream",
     "text": [
      "nit is 8\n",
      "optimal value is -23.999998943767938\n",
      "[4, 6, 5, 8, 2, 9, 7, 1, 3]\n",
      "[3, 1, 9, 4, 7, 5, 2, 6, 8]\n",
      "[7, 8, 2, 1, 3, 6, 5, 9, 4]\n",
      "[5, 4, 3, 6, 9, 1, 8, 7, 2]\n",
      "[8, 7, 6, 2, 4, 3, 1, 5, 9]\n",
      "[9, 2, 1, 5, 8, 7, 4, 3, 6]\n",
      "[6, 9, 8, 7, 1, 4, 3, 2, 5]\n",
      "[1, 3, 4, 9, 5, 2, 6, 8, 7]\n",
      "[2, 5, 7, 3, 6, 8, 9, 4, 1]\n",
      "--- total spent time is 1.2711207866668701\n"
     ]
    }
   ],
   "source": [
    "# this table is from extreme sudoku info\n",
    "tab = [[0, 0, 5, 8, 0, 9, 7, 0, 0],\n",
    "       [0, 1, 0, 0, 0, 0, 0, 6, 0],\n",
    "       [7, 0, 0, 0, 0, 0, 0, 0, 4],\n",
    "       [5, 0, 0, 6, 0, 1, 0, 0, 2],\n",
    "       [0, 0, 0, 0, 0, 0, 0, 0, 0],\n",
    "       [9, 0, 0, 5, 0, 7, 0, 0, 6],\n",
    "       [6, 0, 0, 0, 0, 0, 0, 0, 5],\n",
    "       [0, 3, 0, 0, 0, 0, 0, 8, 0],\n",
    "       [0, 0, 7, 3, 0, 8, 9, 0, 0]\n",
    "       ]\n",
    "start_time = time.time()\n",
    "main(tab)\n",
    "print(f'--- total spent time is {time.time()-start_time}')"
   ],
   "metadata": {
    "collapsed": false,
    "pycharm": {
     "name": "#%%\n"
    }
   }
  },
  {
   "cell_type": "code",
   "execution_count": 2,
   "outputs": [],
   "source": [],
   "metadata": {
    "collapsed": false,
    "pycharm": {
     "name": "#%%\n"
    }
   }
  }
 ],
 "metadata": {
  "kernelspec": {
   "display_name": "Python 3",
   "language": "python",
   "name": "python3"
  },
  "language_info": {
   "codemirror_mode": {
    "name": "ipython",
    "version": 2
   },
   "file_extension": ".py",
   "mimetype": "text/x-python",
   "name": "python",
   "nbconvert_exporter": "python",
   "pygments_lexer": "ipython2",
   "version": "2.7.6"
  }
 },
 "nbformat": 4,
 "nbformat_minor": 0
}