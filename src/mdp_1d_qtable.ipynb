{
  "nbformat": 4,
  "nbformat_minor": 0,
  "metadata": {
    "colab": {
      "name": "mdp_1d_qtable.ipynb",
      "version": "0.3.2",
      "provenance": [],
      "include_colab_link": true
    },
    "kernelspec": {
      "name": "python3",
      "display_name": "Python 3"
    }
  },
  "cells": [
    {
      "cell_type": "markdown",
      "metadata": {
        "id": "view-in-github",
        "colab_type": "text"
      },
      "source": [
        "<a href=\"https://colab.research.google.com/github/songqsh/foo1/blob/master/src/mdp_1d_qtable.ipynb\" target=\"_parent\"><img src=\"https://colab.research.google.com/assets/colab-badge.svg\" alt=\"Open In Colab\"/></a>"
      ]
    },
    {
      "cell_type": "code",
      "metadata": {
        "id": "PxBBAnNzTEUf",
        "colab_type": "code",
        "colab": {}
      },
      "source": [
        "import numpy as np\n",
        "import time\n",
        "start_time = time.time()\n",
        "from tqdm import tqdm"
      ],
      "execution_count": 0,
      "outputs": []
    },
    {
      "cell_type": "code",
      "metadata": {
        "id": "Hl5uBOtxTF93",
        "colab_type": "code",
        "colab": {}
      },
      "source": [
        "#configure\n",
        "\n",
        "TERM = 5\n",
        "\n",
        "UP_LIM = 3\n",
        "DN_LIM = -3\n",
        "\n",
        "time_space = np.arange(TERM+1)\n",
        "state_space = np.arange(DN_LIM, UP_LIM+1)\n",
        "action_space = np.array([-1,1])\n"
      ],
      "execution_count": 0,
      "outputs": []
    },
    {
      "cell_type": "code",
      "metadata": {
        "id": "UjeblAGzVQJb",
        "colab_type": "code",
        "colab": {}
      },
      "source": [
        "#configure\n",
        "\n",
        "def terminal_cost(state):\n",
        "  return state**2\n",
        "\n",
        "def running_cost(time, state, action):\n",
        "  return 0\n",
        "\n"
      ],
      "execution_count": 0,
      "outputs": []
    },
    {
      "cell_type": "code",
      "metadata": {
        "id": "CmscqZEUV9a1",
        "colab_type": "code",
        "colab": {}
      },
      "source": [
        "#one step move\n",
        "\n",
        "step_space = np.arange(-1, 2)\n",
        "\n",
        "def next_state(state, step):\n",
        "  state = state + step\n",
        "  if state > UP_LIM:\n",
        "    state = UP_LIM\n",
        "  elif state < DN_LIM:\n",
        "    state = DN_LIM\n",
        "  return state\n",
        "      \n",
        "def next_state_ind(state_ind, step_ind):\n",
        "  next_state_ind = state_ind + step_space[step_ind]\n",
        "  if next_state_ind > state_space.size - 1:\n",
        "    next_state_ind = state_space.size - 1\n",
        "  elif next_state_ind < 0:\n",
        "    next_state_ind = 0\n",
        "  \n",
        "  return next_state_ind"
      ],
      "execution_count": 0,
      "outputs": []
    },
    {
      "cell_type": "code",
      "metadata": {
        "id": "XbYKFtEwXvC-",
        "colab_type": "code",
        "colab": {}
      },
      "source": [
        "#transition probability\n",
        "\n",
        "def transition_probability(time, state, action):\n",
        "  tp = np.zeros(step_space.shape)\n",
        "  if action == 1:\n",
        "    tp = np.array([0, .5, .5])\n",
        "  else:\n",
        "    tp = np.array([.5, .5, 0])\n",
        "    \n",
        "  return tp\n"
      ],
      "execution_count": 0,
      "outputs": []
    },
    {
      "cell_type": "code",
      "metadata": {
        "id": "9Uw9nAQfZTT0",
        "colab_type": "code",
        "colab": {}
      },
      "source": [
        "#q-table state value initialization\n",
        "s_val = np.zeros([time_space.size, state_space.size])\n",
        "q_table = np.zeros([time_space.size, state_space.size, action_space.size])"
      ],
      "execution_count": 0,
      "outputs": []
    },
    {
      "cell_type": "code",
      "metadata": {
        "id": "3vG0ZzeraHSn",
        "colab_type": "code",
        "colab": {}
      },
      "source": [
        "#q-table terminal setup\n",
        "for i in range(state_space.size):\n",
        "  for j in range(action_space.size):\n",
        "    q_table[-1,i,j] = terminal_cost(state_space[i])\n",
        "    "
      ],
      "execution_count": 0,
      "outputs": []
    },
    {
      "cell_type": "code",
      "metadata": {
        "id": "l9n62gKruoK8",
        "colab_type": "code",
        "colab": {}
      },
      "source": [
        "#sync q_table, s_val\n",
        "def q_s_sync(t_ind, s_val, q_table):\n",
        "  for i in range(state_space.size):\n",
        "    s_val[t_ind, i] = np.min(q_table[t_ind,i])\n",
        "    \n",
        "q_s_sync(-1, s_val, q_table)"
      ],
      "execution_count": 0,
      "outputs": []
    },
    {
      "cell_type": "code",
      "metadata": {
        "id": "uQtUCk9zU7sL",
        "colab_type": "code",
        "colab": {}
      },
      "source": [
        "#backward iteration\n",
        "for i in np.arange(time_space.size-2, -1, -1):\n",
        "  for j in np.arange(state_space.size):\n",
        "    for k in np.arange(action_space.size):\n",
        "      t_ = time_space[i]\n",
        "      x_ = state_space[j]\n",
        "      a_ = action_space[k]\n",
        "      \n",
        "      cost_ = running_cost(t_, x_, a_)\n",
        "      tp_ = transition_probability(t_, x_, a_)\n",
        "      for ii in range(step_space.size):\n",
        "        next_j = next_state_ind(j, ii)\n",
        "        cost_ += tp_[ii]*s_val[i+1, next_j]\n",
        "      q_table[i,j,k] = cost_\n",
        "      \n",
        "  q_s_sync(i, s_val, q_table)\n",
        "  \n",
        "      "
      ],
      "execution_count": 0,
      "outputs": []
    },
    {
      "cell_type": "code",
      "metadata": {
        "id": "GrCiWWeNsNuJ",
        "colab_type": "code",
        "colab": {
          "base_uri": "https://localhost:8080/",
          "height": 119
        },
        "outputId": "a0d2074d-82e4-4528-a375-09ca230c6bf7"
      },
      "source": [
        "s_val"
      ],
      "execution_count": 15,
      "outputs": [
        {
          "output_type": "execute_result",
          "data": {
            "text/plain": [
              "array([[1.375, 0.625, 0.5  , 0.5  , 0.5  , 0.625, 1.375],\n",
              "       [2.   , 0.75 , 0.5  , 0.5  , 0.5  , 0.75 , 2.   ],\n",
              "       [3.   , 1.   , 0.5  , 0.5  , 0.5  , 1.   , 3.   ],\n",
              "       [4.5  , 1.5  , 0.5  , 0.5  , 0.5  , 1.5  , 4.5  ],\n",
              "       [6.5  , 2.5  , 0.5  , 0.5  , 0.5  , 2.5  , 6.5  ],\n",
              "       [9.   , 4.   , 1.   , 0.   , 1.   , 4.   , 9.   ]])"
            ]
          },
          "metadata": {
            "tags": []
          },
          "execution_count": 15
        }
      ]
    },
    {
      "cell_type": "code",
      "metadata": {
        "id": "j_4_Pzd8T02s",
        "colab_type": "code",
        "colab": {
          "base_uri": "https://localhost:8080/",
          "height": 34
        },
        "outputId": "5d5ab5a6-7ceb-472b-c5b9-51aca4eba93f"
      },
      "source": [
        "end_time = time.time()\n",
        "print(end_time - start_time)"
      ],
      "execution_count": 11,
      "outputs": [
        {
          "output_type": "stream",
          "text": [
            "0.17325496673583984\n"
          ],
          "name": "stdout"
        }
      ]
    },
    {
      "cell_type": "code",
      "metadata": {
        "id": "y-K2LbMvUUo4",
        "colab_type": "code",
        "colab": {}
      },
      "source": [
        ""
      ],
      "execution_count": 0,
      "outputs": []
    }
  ]
}