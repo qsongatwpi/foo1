{
  "nbformat": 4,
  "nbformat_minor": 0,
  "metadata": {
    "kernelspec": {
      "display_name": "Python 3",
      "language": "python",
      "name": "python3"
    },
    "language_info": {
      "codemirror_mode": {
        "name": "ipython",
        "version": 3
      },
      "file_extension": ".py",
      "mimetype": "text/x-python",
      "name": "python",
      "nbconvert_exporter": "python",
      "pygments_lexer": "ipython3",
      "version": "3.7.4"
    },
    "colab": {
      "name": "Copy of Copy of learning_quadratic_function_by_nn.ipynb",
      "provenance": [],
      "include_colab_link": true
    }
  },
  "cells": [
    {
      "cell_type": "markdown",
      "metadata": {
        "id": "view-in-github",
        "colab_type": "text"
      },
      "source": [
        "<a href=\"https://colab.research.google.com/github/songqsh/foo1/blob/master/src/Copy_of_Copy_of_learning_quadratic_function_by_nn.ipynb\" target=\"_parent\"><img src=\"https://colab.research.google.com/assets/colab-badge.svg\" alt=\"Open In Colab\"/></a>"
      ]
    },
    {
      "cell_type": "code",
      "metadata": {
        "id": "lg-KuHVGfhWT",
        "colab_type": "code",
        "colab": {}
      },
      "source": [
        "import torch\n",
        "import torch.nn as nn\n",
        "\n",
        "import numpy as np\n",
        "\n",
        "import torch.nn.functional as F\n",
        "import matplotlib.pyplot as plt\n"
      ],
      "execution_count": 0,
      "outputs": []
    },
    {
      "cell_type": "markdown",
      "metadata": {
        "id": "FBHeefsofhWY",
        "colab_type": "text"
      },
      "source": [
        "Our objective is to learn a quadratic function. \n",
        "The target function to learn is\n",
        "$$f(x) = x^2 + 2x -10.$$\n"
      ]
    },
    {
      "cell_type": "code",
      "metadata": {
        "id": "BTgnEKWmgEdp",
        "colab_type": "code",
        "colab": {}
      },
      "source": [
        "\n",
        "# target function\n",
        "f = lambda x: x**2 + 2*x - 10"
      ],
      "execution_count": 0,
      "outputs": []
    },
    {
      "cell_type": "markdown",
      "metadata": {
        "id": "cmfVf_cVfhWZ",
        "colab_type": "text"
      },
      "source": [
        "- We use the following network for the forward pass, but the result is not good."
      ]
    },
    {
      "cell_type": "code",
      "metadata": {
        "id": "INPSoaqZgw-J",
        "colab_type": "code",
        "colab": {}
      },
      "source": [
        "H1 = 5; H2 = 5 #number of hidden layer\n",
        "model = nn.Sequential(\n",
        "    nn.Linear(1, H1), \n",
        "    nn.Sigmoid(),\n",
        "    nn.Linear(H1, H2),\n",
        "    nn.Sigmoid(),\n",
        "    nn.Linear(H2,2),\n",
        "    nn.Linear(2,1)\n",
        ")"
      ],
      "execution_count": 0,
      "outputs": []
    },
    {
      "cell_type": "code",
      "metadata": {
        "id": "RbTcGmsRfhWg",
        "colab_type": "code",
        "colab": {}
      },
      "source": [
        "\n",
        "#loss function \n",
        "criterion = nn.MSELoss()\n",
        "#optimizer\n",
        "learning_rate = 0.01\n",
        "optimizer = torch.optim.SGD(model.parameters(), lr=learning_rate)"
      ],
      "execution_count": 0,
      "outputs": []
    },
    {
      "cell_type": "code",
      "metadata": {
        "id": "o7xqa9zAhG5t",
        "colab_type": "code",
        "colab": {}
      },
      "source": [
        "#training data\n",
        "batch_size = 21\n",
        "\n",
        "x_train = torch.linspace(-5, 5, batch_size).reshape(batch_size,1)\n",
        "y_train = f(x_train)\n",
        "#model(x_train)"
      ],
      "execution_count": 0,
      "outputs": []
    },
    {
      "cell_type": "code",
      "metadata": {
        "id": "J_Mv1pOPhVic",
        "colab_type": "code",
        "outputId": "af4dfa7c-3c51-4361-c514-20c9d6618d68",
        "colab": {
          "base_uri": "https://localhost:8080/",
          "height": 187
        }
      },
      "source": [
        "# Train the model\n",
        "epoch_n = 10000\n",
        "print_n = 10\n",
        "epoch_per_print= np.floor(epoch_n/print_n)\n",
        "\n",
        "for epoch in range(epoch_n):\n",
        "\n",
        "    # Forward pass\n",
        "    outputs = model(x_train)\n",
        "    loss = criterion(outputs, y_train)  \n",
        "    \n",
        "    # Backward and optimize\n",
        "    optimizer.zero_grad()\n",
        "    loss.backward()\n",
        "    optimizer.step()\n",
        "    \n",
        "    if (epoch+1) % epoch_per_print == 0:\n",
        "      print('Epoch [{}/{}], Loss: {:.4f}'.format(epoch+1, epoch_n, loss.item()))"
      ],
      "execution_count": 6,
      "outputs": [
        {
          "output_type": "stream",
          "text": [
            "Epoch [1000/10000], Loss: 2.8364\n",
            "Epoch [2000/10000], Loss: 1.2527\n",
            "Epoch [3000/10000], Loss: 0.9130\n",
            "Epoch [4000/10000], Loss: 0.7305\n",
            "Epoch [5000/10000], Loss: 0.5877\n",
            "Epoch [6000/10000], Loss: 0.4519\n",
            "Epoch [7000/10000], Loss: 0.3344\n",
            "Epoch [8000/10000], Loss: 0.2480\n",
            "Epoch [9000/10000], Loss: 0.1890\n",
            "Epoch [10000/10000], Loss: 0.1488\n"
          ],
          "name": "stdout"
        }
      ]
    },
    {
      "cell_type": "code",
      "metadata": {
        "id": "_TAHtcSsgKDN",
        "colab_type": "code",
        "outputId": "046d28e9-d0a2-4dcf-f371-16607fdbf3c9",
        "colab": {
          "base_uri": "https://localhost:8080/",
          "height": 265
        }
      },
      "source": [
        "#test\n",
        "\n",
        "plt.scatter(x_train.detach().numpy(), y_train.detach().numpy(), label='true')\n",
        "\n",
        "y_pred = model(x_train)\n",
        "plt.plot(x_train.detach().numpy(), y_pred.detach().numpy(), label='pred')\n",
        "\n",
        "plt.legend()\n",
        "plt.show()"
      ],
      "execution_count": 7,
      "outputs": [
        {
          "output_type": "display_data",
          "data": {
            "image/png": "[encoded data removed]",
            "text/plain": [
              "<Figure size 432x288 with 1 Axes>"
            ]
          },
          "metadata": {
            "tags": []
          }
        }
      ]
    },
    {
      "cell_type": "markdown",
      "metadata": {
        "id": "AT93QjxgnuLY",
        "colab_type": "text"
      },
      "source": [
        "Remark: The same method does not work for \n",
        "$$f(x) = x^2 + 2x -1.$$\n"
      ]
    },
    {
      "cell_type": "code",
      "metadata": {
        "id": "VVasvGscnz7A",
        "colab_type": "code",
        "colab": {}
      },
      "source": [
        ""
      ],
      "execution_count": 0,
      "outputs": []
    }
  ]
}