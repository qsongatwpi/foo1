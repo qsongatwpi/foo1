{
 "cells": [
  {
   "cell_type": "markdown",
   "metadata": {
    "collapsed": true,
    "pycharm": {
     "name": "#%% md\n"
    }
   },
   "source": [
    "# Tie-break in entering variable\n",
    "We consider the following example\n",
    "$$\n",
    "\\begin{array}\n",
    "{ll}\n",
    "\\max \\ z & = 3 x_1 + 3 x_2 \\\\\n",
    "s.t.\n",
    "\\\\\n",
    "& x_1 \\quad\\quad\\quad  \\le 4\n",
    "\\\\\n",
    "& \\quad\\quad \\  \\ 2x_2 \\le 12\n",
    "\\\\\n",
    "& 3x_1 + 2 x_2 \\le 18\\\\\n",
    "& x_1, x_2 \\ge 0.\n",
    "\\end{array}\n",
    "$$"
   ]
  },
  {
   "cell_type": "code",
   "execution_count": null,
   "outputs": [],
   "source": [],
   "metadata": {
    "collapsed": false,
    "pycharm": {
     "name": "#%%\n"
    }
   }
  }
 ],
 "metadata": {
  "kernelspec": {
   "display_name": "Python 3",
   "language": "python",
   "name": "python3"
  },
  "language_info": {
   "codemirror_mode": {
    "name": "ipython",
    "version": 2
   },
   "file_extension": ".py",
   "mimetype": "text/x-python",
   "name": "python",
   "nbconvert_exporter": "python",
   "pygments_lexer": "ipython2",
   "version": "2.7.6"
  }
 },
 "nbformat": 4,
 "nbformat_minor": 0
}