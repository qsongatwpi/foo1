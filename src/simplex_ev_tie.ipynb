{
 "cells": [
  {
   "cell_type": "markdown",
   "metadata": {
    "collapsed": true,
    "pycharm": {
     "name": "#%% md\n"
    }
   },
   "source": [
    "# Tie-break in entering variable\n",
    "We consider the following example\n",
    "$$\n",
    "\\begin{array}\n",
    "{ll}\n",
    "\\max \\ z & = 3 x_1 + 3 x_2 \\\\\n",
    "s.t.\n",
    "\\\\\n",
    "& x_1 \\quad\\quad\\quad  \\le 4\n",
    "\\\\\n",
    "& \\quad\\quad \\  \\ 2x_2 \\le 12\n",
    "\\\\\n",
    "& 3x_1 + 2 x_2 \\le 18\\\\\n",
    "& x_1, x_2 \\ge 0.\n",
    "\\end{array}\n",
    "$$"
   ]
  },
  {
   "cell_type": "code",
   "execution_count": 1,
   "outputs": [],
   "source": [
    "# import package\n",
    "import numpy as np\n",
    "float_formatter = \"{:.2f}\".format\n",
    "np.set_printoptions(formatter={'float_kind':float_formatter})\n",
    "import pandas as pd\n",
    "import warnings\n",
    "#ignore by message\n",
    "warnings.filterwarnings(\"ignore\", message=\"divide by zero encountered in true_divide\")"
   ],
   "metadata": {
    "collapsed": false,
    "pycharm": {
     "name": "#%%\n"
    }
   }
  },
  {
   "cell_type": "code",
   "execution_count": 2,
   "outputs": [
    {
     "name": "stdout",
     "output_type": "stream",
     "text": [
      "     0    1    2    3    4    5     6\n",
      "0  1.0 -3.0 -3.0  0.0  0.0  0.0   0.0\n",
      "1  0.0  1.0  0.0  1.0  0.0  0.0   4.0\n",
      "2  0.0  0.0  2.0  0.0  1.0  0.0  12.0\n",
      "3  0.0  3.0  2.0  0.0  0.0  1.0  18.0\n"
     ]
    }
   ],
   "source": [
    "# input initial tableau\n",
    "M = np.array([\n",
    "               [1, -3, -3, 0, 0, 0, 0],\n",
    "               [0, 1, 0, 1, 0, 0, 4],\n",
    "               [0, 0, 2, 0, 1, 0, 12],\n",
    "               [0, 3, 2, 0, 0, 1, 18]\n",
    "               ], dtype = float)\n",
    "print(pd.DataFrame(M)) # print matrix"
   ],
   "metadata": {
    "collapsed": false,
    "pycharm": {
     "name": "#%%\n"
    }
   }
  },
  {
   "cell_type": "code",
   "execution_count": 3,
   "outputs": [
    {
     "name": "stdout",
     "output_type": "stream",
     "text": [
      "new pivot is (1, 1)\n"
     ]
    }
   ],
   "source": [
    "from simplex import simplex_solver, new_pivot\n",
    "# returns new pivot if not pass optimal test, otherwise return zero\n",
    "pivot_n = new_pivot(M)\n",
    "print(f'new pivot is {pivot_n}')"
   ],
   "metadata": {
    "collapsed": false,
    "pycharm": {
     "name": "#%%\n"
    }
   }
  },
  {
   "cell_type": "code",
   "execution_count": 4,
   "outputs": [
    {
     "name": "stdout",
     "output_type": "stream",
     "text": [
      "3 constraints and 5 variables\n",
      "initial tableau is:\n",
      "=======================\n",
      "     0    1    2    3    4    5     6\n",
      "0  1.0 -3.0 -3.0  0.0  0.0  0.0   0.0\n",
      "1  0.0  1.0  0.0  1.0  0.0  0.0   4.0\n",
      "2  0.0  0.0  2.0  0.0  1.0  0.0  12.0\n",
      "3  0.0  3.0  2.0  0.0  0.0  1.0  18.0\n",
      "new pivot is (1, 1)\n",
      "=======================\n",
      "     0    1    2    3    4    5     6\n",
      "0  1.0  0.0 -3.0  3.0  0.0  0.0  12.0\n",
      "1  0.0  1.0  0.0  1.0  0.0  0.0   4.0\n",
      "2  0.0  0.0  2.0  0.0  1.0  0.0  12.0\n",
      "3  0.0  0.0  2.0 -3.0  0.0  1.0   6.0\n",
      "new pivot is (3, 2)\n",
      "=======================\n",
      "     0    1    2    3    4    5     6\n",
      "0  1.0  0.0  0.0 -1.5  0.0  1.5  21.0\n",
      "1  0.0  1.0  0.0  1.0  0.0  0.0   4.0\n",
      "2  0.0  0.0  0.0  3.0  1.0 -1.0   6.0\n",
      "3  0.0  0.0  1.0 -1.5  0.0  0.5   3.0\n",
      "new pivot is (2, 3)\n",
      "=======================\n",
      "     0    1    2    3         4         5     6\n",
      "0  1.0  0.0  0.0  0.0  0.500000  1.000000  24.0\n",
      "1  0.0  1.0  0.0  0.0 -0.333333  0.333333   2.0\n",
      "2  0.0  0.0  0.0  1.0  0.333333 -0.333333   2.0\n",
      "3  0.0  0.0  1.0  0.0  0.500000  0.000000   6.0\n",
      "=================================\n",
      "pass the optimal test\n",
      "optimal value is 24.0\n",
      "The final tableau is \n",
      "      0    1    2    3         4         5     6\n",
      "0  1.0  0.0  0.0  0.0  0.500000  1.000000  24.0\n",
      "1  0.0  1.0  0.0  0.0 -0.333333  0.333333   2.0\n",
      "2  0.0  0.0  0.0  1.0  0.333333 -0.333333   2.0\n",
      "3  0.0  0.0  1.0  0.0  0.500000  0.000000   6.0\n",
      "=================================\n"
     ]
    }
   ],
   "source": [
    "simplex_solver(M, display=1) # display=1 print out intermediate tableau"
   ],
   "metadata": {
    "collapsed": false,
    "pycharm": {
     "name": "#%%\n"
    }
   }
  },
  {
   "cell_type": "markdown",
   "source": [
    "Ex. By default, pivot column of the initial tableau is 1, but one can see column 2 makes a tie with column 1\n",
    "Solve the problem with starting with column 2 as its pivot."
   ],
   "metadata": {
    "collapsed": false
   }
  },
  {
   "cell_type": "code",
   "execution_count": 4,
   "outputs": [],
   "source": [],
   "metadata": {
    "collapsed": false,
    "pycharm": {
     "name": "#%%\n"
    }
   }
  }
 ],
 "metadata": {
  "kernelspec": {
   "display_name": "Python 3",
   "language": "python",
   "name": "python3"
  },
  "language_info": {
   "codemirror_mode": {
    "name": "ipython",
    "version": 2
   },
   "file_extension": ".py",
   "mimetype": "text/x-python",
   "name": "python",
   "nbconvert_exporter": "python",
   "pygments_lexer": "ipython2",
   "version": "2.7.6"
  }
 },
 "nbformat": 4,
 "nbformat_minor": 0
}