{
  "nbformat": 4,
  "nbformat_minor": 0,
  "metadata": {
    "kernelspec": {
      "display_name": "Python 3",
      "language": "python",
      "name": "python3"
    },
    "language_info": {
      "codemirror_mode": {
        "name": "ipython",
        "version": 3
      },
      "file_extension": ".py",
      "mimetype": "text/x-python",
      "name": "python",
      "nbconvert_exporter": "python",
      "pygments_lexer": "ipython3",
      "version": "3.7.4"
    },
    "colab": {
      "name": "fit-3-pts-by-nn.ipynb",
      "provenance": [],
      "include_colab_link": true
    }
  },
  "cells": [
    {
      "cell_type": "markdown",
      "metadata": {
        "id": "view-in-github",
        "colab_type": "text"
      },
      "source": [
        "<a href=\"https://colab.research.google.com/github/songqsh/foo1/blob/master/src/fit-3-pts-by-tf.ipynb\" target=\"_parent\"><img src=\"https://colab.research.google.com/assets/colab-badge.svg\" alt=\"Open In Colab\"/></a>"
      ]
    },
    {
      "cell_type": "code",
      "metadata": {
        "id": "aKUPVzOoEHj_",
        "colab_type": "code",
        "colab": {
          "base_uri": "https://localhost:8080/",
          "height": 51
        },
        "outputId": "733bbe1e-a5b5-49fc-fb70-c9fa3fccd324"
      },
      "source": [
        "from __future__ import absolute_import, division, print_function, unicode_literals\n",
        "# Install TensorFlow\n",
        "try:\n",
        "  # %tensorflow_version only exists in Colab.\n",
        "  %tensorflow_version 2.x\n",
        "except Exception:\n",
        "  pass\n",
        "  \n",
        "import tensorflow as tf\n",
        "print(tf.__version__)"
      ],
      "execution_count": 1,
      "outputs": [
        {
          "output_type": "stream",
          "text": [
            "TensorFlow 2.x selected.\n",
            "2.0.0\n"
          ],
          "name": "stdout"
        }
      ]
    },
    {
      "cell_type": "code",
      "metadata": {
        "id": "J551pEXfDKfc",
        "colab_type": "code",
        "colab": {}
      },
      "source": [
        "%matplotlib inline\n",
        "import numpy as np\n",
        "import torch\n",
        "import matplotlib.pyplot as plt"
      ],
      "execution_count": 0,
      "outputs": []
    },
    {
      "cell_type": "markdown",
      "metadata": {
        "id": "6-ObvOmkDKfg",
        "colab_type": "text"
      },
      "source": [
        "__Goal__\n",
        "\n",
        "Our objective is to fit three points with two different methods. \n",
        "\n",
        "__Description__\n",
        "\n",
        "We have interploated two points [here](fitting-two-pts-by-nn.ipynb) and simple linear nn is enough to have a perfect fitting. \n",
        "\n",
        "Given a target function $f(x) = |x|$, by taking three points on the curve as training data, it is not enough to just take linear nn since the three points may not be on a straight line. In this below, we train two different nonlinear networks, one has relu the other is sigmoid. \n",
        "Two different networks both give perfect 3-pt fitting. \n",
        "However, the resulting trained function is totally different from two different activation function. "
      ]
    },
    {
      "cell_type": "code",
      "metadata": {
        "id": "YInE51wdDKfh",
        "colab_type": "code",
        "colab": {}
      },
      "source": [
        "%run fit_3pts_02.py"
      ],
      "execution_count": 0,
      "outputs": []
    },
    {
      "cell_type": "code",
      "metadata": {
        "id": "DNZncr91DKfj",
        "colab_type": "code",
        "colab": {}
      },
      "source": [
        "#training data\n",
        "batch_size = 3\n",
        "#x_train = 2*torch.rand(batch_size,1)-1\n",
        "x_train = torch.tensor([-.5, 0., .5]).reshape(3,1)\n",
        "y_train = f(x_train)"
      ],
      "execution_count": 0,
      "outputs": []
    },
    {
      "cell_type": "markdown",
      "metadata": {
        "id": "tnp99HJeDKfl",
        "colab_type": "text"
      },
      "source": [
        "__Method 1__\n",
        "\n",
        "Use sigmoid"
      ]
    },
    {
      "cell_type": "code",
      "metadata": {
        "id": "VtaY6wlCDKfl",
        "colab_type": "code",
        "colab": {}
      },
      "source": [
        "#model and optimizer\n",
        "net1 = Net(1) #with method 1\n",
        "learning_rate = 0.1\n",
        "optimizer = torch.optim.SGD(net1.parameters(), lr=learning_rate)"
      ],
      "execution_count": 0,
      "outputs": []
    },
    {
      "cell_type": "code",
      "metadata": {
        "id": "IrHf6hbrDKfn",
        "colab_type": "code",
        "outputId": "3fe7afe4-ddba-4af7-bf65-965ad0b3d439",
        "colab": {}
      },
      "source": [
        "# Train the model\n",
        "num_epochs = 10000\n",
        "\n",
        "for epoch in range(num_epochs):\n",
        "\n",
        "    # Forward pass\n",
        "    outputs = net1(x_train)\n",
        "    loss = criterion(outputs, y_train)\n",
        "    \n",
        "    # Backward and optimize\n",
        "\n",
        "    optimizer.zero_grad()\n",
        "    loss.backward()\n",
        "    optimizer.step()\n",
        "    \n",
        "    if (epoch+1) % 2000 == 0:\n",
        "        print ('Epoch [{}/{}], Loss: {:.4f}'.format(epoch+1, \n",
        "                                                    num_epochs, loss.item()))"
      ],
      "execution_count": 0,
      "outputs": [
        {
          "output_type": "stream",
          "text": [
            "Epoch [2000/10000], Loss: 0.0523\n",
            "Epoch [4000/10000], Loss: 0.0257\n",
            "Epoch [6000/10000], Loss: 0.0000\n",
            "Epoch [8000/10000], Loss: 0.0000\n",
            "Epoch [10000/10000], Loss: 0.0000\n"
          ],
          "name": "stdout"
        }
      ]
    },
    {
      "cell_type": "code",
      "metadata": {
        "id": "LhdPPf4LDKfq",
        "colab_type": "code",
        "outputId": "167a9aae-484a-4078-a200-9049087b263b",
        "colab": {}
      },
      "source": [
        "#test\n",
        "y_ = f(x_train)\n",
        "plt.scatter(x_train.detach().numpy(), y_.detach().numpy(), label='true')\n",
        "\n",
        "x_test=torch.linspace(-1, 1, 100).reshape(100,1)\n",
        "y_pred = net1(x_test)\n",
        "plt.plot(x_test.detach().numpy(), y_pred.detach().numpy(), label='pred')\n",
        "\n",
        "plt.legend()\n",
        "plt.show()"
      ],
      "execution_count": 0,
      "outputs": [
        {
          "output_type": "display_data",
          "data": {
            "image/png": "[encoded data removed]",
            "text/plain": [
              "<Figure size 432x288 with 1 Axes>"
            ]
          },
          "metadata": {
            "tags": [],
            "needs_background": "light"
          }
        }
      ]
    },
    {
      "cell_type": "markdown",
      "metadata": {
        "id": "cL88cJQODKfs",
        "colab_type": "text"
      },
      "source": [
        "__Method 2__\n",
        "\n",
        "Use relu"
      ]
    },
    {
      "cell_type": "code",
      "metadata": {
        "id": "tXKEaP96DKft",
        "colab_type": "code",
        "colab": {}
      },
      "source": [
        "#model and optimizer\n",
        "net2 = Net(2) #with method 2\n",
        "learning_rate = 0.1\n",
        "optimizer = torch.optim.SGD(net2.parameters(), lr=learning_rate)"
      ],
      "execution_count": 0,
      "outputs": []
    },
    {
      "cell_type": "code",
      "metadata": {
        "id": "oHr2sD2fDKfv",
        "colab_type": "code",
        "outputId": "87141bcd-ffb8-4c8a-ec56-3e490d7885d0",
        "colab": {}
      },
      "source": [
        "# Train the model\n",
        "num_epochs = 1000\n",
        "\n",
        "for epoch in range(num_epochs):\n",
        "\n",
        "    # Forward pass\n",
        "    outputs = net2(x_train)\n",
        "    loss = criterion(outputs, y_train)\n",
        "    \n",
        "    # Backward and optimize\n",
        "\n",
        "    optimizer.zero_grad()\n",
        "    loss.backward()\n",
        "    optimizer.step()\n",
        "    \n",
        "    if (epoch+1) % 100 == 0:\n",
        "        print ('Epoch [{}/{}], Loss: {:.4f}'.format(epoch+1, \n",
        "                                                    num_epochs, loss.item()))"
      ],
      "execution_count": 0,
      "outputs": [
        {
          "output_type": "stream",
          "text": [
            "Epoch [100/1000], Loss: 0.0354\n",
            "Epoch [200/1000], Loss: 0.0190\n",
            "Epoch [300/1000], Loss: 0.0079\n",
            "Epoch [400/1000], Loss: 0.0026\n",
            "Epoch [500/1000], Loss: 0.0007\n",
            "Epoch [600/1000], Loss: 0.0002\n",
            "Epoch [700/1000], Loss: 0.0000\n",
            "Epoch [800/1000], Loss: 0.0000\n",
            "Epoch [900/1000], Loss: 0.0000\n",
            "Epoch [1000/1000], Loss: 0.0000\n"
          ],
          "name": "stdout"
        }
      ]
    },
    {
      "cell_type": "code",
      "metadata": {
        "id": "J9mIV8i4DKfx",
        "colab_type": "code",
        "outputId": "55f3d19f-993d-4122-a7e4-9d9557833ac6",
        "colab": {}
      },
      "source": [
        "#test\n",
        "y_ = f(x_train)\n",
        "plt.scatter(x_train.detach().numpy(), y_.detach().numpy(), label='true')\n",
        "\n",
        "x_test=torch.linspace(-1, 1, 100).reshape(100,1)\n",
        "y_pred = net2(x_test)\n",
        "plt.plot(x_test.detach().numpy(), y_pred.detach().numpy(), label='pred')\n",
        "\n",
        "plt.legend()\n",
        "plt.show()"
      ],
      "execution_count": 0,
      "outputs": [
        {
          "output_type": "display_data",
          "data": {
            "image/png": "[encoded data removed]",
            "text/plain": [
              "<Figure size 432x288 with 1 Axes>"
            ]
          },
          "metadata": {
            "tags": [],
            "needs_background": "light"
          }
        }
      ]
    },
    {
      "cell_type": "code",
      "metadata": {
        "id": "RctjnyEIDKfz",
        "colab_type": "code",
        "colab": {}
      },
      "source": [
        ""
      ],
      "execution_count": 0,
      "outputs": []
    }
  ]
}