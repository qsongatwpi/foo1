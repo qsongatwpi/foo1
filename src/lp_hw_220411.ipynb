{
 "cells": [
  {
   "cell_type": "markdown",
   "metadata": {
    "collapsed": true,
    "pycharm": {
     "name": "#%% md\n"
    }
   },
   "source": [
    "# Homework Wk5 - D22"
   ]
  },
  {
   "cell_type": "code",
   "execution_count": 6,
   "metadata": {
    "collapsed": false,
    "pycharm": {
     "name": "#%%\n"
    }
   },
   "outputs": [],
   "source": [
    "# import self developed simplex method\n",
    "from simplex import *\n",
    "import pandas as pd"
   ]
  },
  {
   "cell_type": "markdown",
   "metadata": {},
   "source": [
    "## Example\n",
    "\n",
    "Consider the following LP:\n",
    "\n",
    "$$\n",
    "\\begin{array}{ll}\n",
    "\\max \\ z = & 5 x_1 + 2 x_2 \\\\\n",
    "\\text{s.t.} \\\\\n",
    "& x_1 + x_2 \\le 6 \\\\\n",
    "& x_1 - x_2 \\le 0 \\\\\n",
    "& x_1, x_2 \\ge 0\n",
    "\\end{array}\n",
    "$$\n"
   ]
  },
  {
   "cell_type": "code",
   "execution_count": 13,
   "metadata": {},
   "outputs": [],
   "source": [
    "# LP matrix setup\n",
    "c = [5, 2]\n",
    "b = [6, 0]\n",
    "A = [[1, 1], [1, -1]]"
   ]
  },
  {
   "cell_type": "code",
   "execution_count": 16,
   "metadata": {},
   "outputs": [
    {
     "name": "stdout",
     "output_type": "stream",
     "text": [
      "     0    1    2    3    4    5\n",
      "0  1.0 -5.0 -2.0 -0.0 -0.0 -0.0\n",
      "1  0.0  1.0  1.0  1.0  0.0  6.0\n",
      "2  0.0  1.0 -1.0  0.0  1.0  0.0\n"
     ]
    }
   ],
   "source": [
    "# convert to the augmented matrix\n",
    "init_tab = init_tab_standard_lp(A, b, c)\n",
    "print(pd.DataFrame(init_tab))"
   ]
  },
  {
   "cell_type": "code",
   "execution_count": 17,
   "metadata": {},
   "outputs": [
    {
     "name": "stdout",
     "output_type": "stream",
     "text": [
      "ratio list: [6.00 0.00]\n",
      "pivot row: 2\n"
     ]
    }
   ],
   "source": [
    "# solve the LP problem manually\n",
    "M_mat = init_tab.copy()\n",
    "row_n, col_n = M_mat.shape - np.array([1, 2])  # number of constraints and number of variables\n",
    "pivot_col = 1 # the most negative value in the first coeffient row\n",
    "ratio_list = np.divide(M_mat[range(1, row_n + 1), -1], M_mat[range(1, row_n + 1), pivot_col])\n",
    "print('ratio list:', ratio_list)\n",
    "pivot_row = min_ratio_test(ratio_list)\n",
    "print('pivot row:', pivot_row)\n"
   ]
  },
  {
   "cell_type": "markdown",
   "metadata": {},
   "source": [
    "The above example is a simple degenerate LP problem. It is unsolved."
   ]
  },
  {
   "cell_type": "markdown",
   "metadata": {
    "collapsed": false,
    "pycharm": {
     "name": "#%% md\n"
    }
   },
   "source": [
    "## Example\n",
    "\n",
    "Consider the following LP.\n",
    "$$\\begin{array}\n",
    "{ll}\n",
    "\\max z = & 5 x_1 + x_2 + 3x_3 + 4x_4 \\\\\n",
    "s.t.\\\\\n",
    "& x_1 - 2 x_2 + 4x_3 + 3x_4 \\le 20 \\\\\n",
    "& -4x_1 + 6x_2 + 5x_3 - 4x_4 \\le 40 \\\\\n",
    "& 2 x_1 - 3x_2 + 3x_3 + 8 x_4 \\le 50\\\\\n",
    "& x_i \\ge 0.\n",
    "\\end{array}\n",
    "$$\n",
    "Work through the simplex and show that it's unbounded."
   ]
  },
  {
   "cell_type": "code",
   "execution_count": 7,
   "metadata": {
    "collapsed": false,
    "pycharm": {
     "name": "#%%\n"
    }
   },
   "outputs": [],
   "source": [
    "# setup\n",
    "c = [5, 1, 3., 4]\n",
    "b = [20., 40, 50]\n",
    "A = [[1., -2, 4, 3], [-4, 6, 5, -4], [2, -3, 3, 8]]"
   ]
  },
  {
   "cell_type": "code",
   "execution_count": 8,
   "metadata": {
    "collapsed": false,
    "pycharm": {
     "name": "#%%\n"
    }
   },
   "outputs": [
    {
     "name": "stdout",
     "output_type": "stream",
     "text": [
      "     0    1    2    3    4    5    6    7     8\n",
      "0  1.0 -5.0 -1.0 -3.0 -4.0 -0.0 -0.0 -0.0  -0.0\n",
      "1  0.0  1.0 -2.0  4.0  3.0  1.0  0.0  0.0  20.0\n",
      "2  0.0 -4.0  6.0  5.0 -4.0  0.0  1.0  0.0  40.0\n",
      "3  0.0  2.0 -3.0  3.0  8.0  0.0  0.0  1.0  50.0\n"
     ]
    }
   ],
   "source": [
    "init_tab = init_tab_standard_lp(A, b, c)\n",
    "print(pd.DataFrame(init_tab))"
   ]
  },
  {
   "cell_type": "code",
   "execution_count": 9,
   "metadata": {
    "collapsed": false,
    "pycharm": {
     "name": "#%%\n"
    }
   },
   "outputs": [
    {
     "name": "stdout",
     "output_type": "stream",
     "text": [
      "3 constraints and 7 variables\n",
      "pivot columns are: [5, 6, 7]\n",
      "initial tableau is:\n",
      "=======================\n",
      "     0    1    2    3    4    5    6    7     8\n",
      "0  1.0 -5.0 -1.0 -3.0 -4.0 -0.0 -0.0 -0.0  -0.0\n",
      "1  0.0  1.0 -2.0  4.0  3.0  1.0  0.0  0.0  20.0\n",
      "2  0.0 -4.0  6.0  5.0 -4.0  0.0  1.0  0.0  40.0\n",
      "3  0.0  2.0 -3.0  3.0  8.0  0.0  0.0  1.0  50.0\n",
      "pivot columns are: [1, 6, 7]\n",
      "new pivot is (1, 1)\n",
      "=======================\n",
      "     0    1     2     3     4    5    6    7      8\n",
      "0  1.0  0.0 -11.0  17.0  11.0  5.0  0.0  0.0  100.0\n",
      "1  0.0  1.0  -2.0   4.0   3.0  1.0  0.0  0.0   20.0\n",
      "2  0.0  0.0  -2.0  21.0   8.0  4.0  1.0  0.0  120.0\n",
      "3  0.0  0.0   1.0  -5.0   2.0 -2.0  0.0  1.0   10.0\n",
      "pivot columns are: [1, 6, 2]\n",
      "new pivot is (3, 2)\n",
      "=======================\n",
      "     0    1    2     3     4     5    6     7      8\n",
      "0  1.0  0.0  0.0 -38.0  33.0 -17.0  0.0  11.0  210.0\n",
      "1  0.0  1.0  0.0  -6.0   7.0  -3.0  0.0   2.0   40.0\n",
      "2  0.0  0.0  0.0  11.0  12.0   0.0  1.0   2.0  140.0\n",
      "3  0.0  0.0  1.0  -5.0   2.0  -2.0  0.0   1.0   10.0\n",
      "pivot columns are: [1, 3, 2]\n",
      "new pivot is (2, 3)\n",
      "=======================\n",
      "     0    1    2    3          4     5         6          7           8\n",
      "0  1.0  0.0  0.0  0.0  74.454545 -17.0  3.454545  17.909091  693.636364\n",
      "1  0.0  1.0  0.0  0.0  13.545455  -3.0  0.545455   3.090909  116.363636\n",
      "2  0.0  0.0  0.0  1.0   1.090909   0.0  0.090909   0.181818   12.727273\n",
      "3  0.0  0.0  1.0  0.0   7.454545  -2.0  0.454545   1.909091   73.636364\n",
      "no leaving variable, which means z is unbounded. Here is the ratio list:\n",
      "[-38.79 inf -36.82]\n"
     ]
    },
    {
     "name": "stderr",
     "output_type": "stream",
     "text": [
      "/Users/qsong/Documents/GitHub/foo1/src/simplex.py:56: RuntimeWarning: divide by zero encountered in divide\n",
      "  ratio_list = np.divide(M_mat[range(1, row_n + 1), -1], M_mat[range(1, row_n + 1), pivot_col])\n"
     ]
    }
   ],
   "source": [
    "tab = init_tab.copy()\n",
    "simplex_solver(tab, display=1)"
   ]
  },
  {
   "cell_type": "markdown",
   "metadata": {
    "collapsed": false,
    "pycharm": {
     "name": "#%% md\n"
    }
   },
   "source": [
    "## Example\n",
    "Consider the following LP:\n",
    "$$\\begin{array}\n",
    "{ll}\n",
    "\\max z = & x_1 + x_2 + x_3 + x_4 \\\\\n",
    "s.j. \\\\\n",
    "& x_1 + x_2 \\le 3\\\\\n",
    "& x_3 + x_4 \\le 2\\\\\n",
    "& x_i \\ge 0.\n",
    "\\end{array}\n",
    "$$\n",
    "Work through the simplex and find all the optimal bfs."
   ]
  },
  {
   "cell_type": "code",
   "execution_count": 32,
   "metadata": {
    "collapsed": false,
    "pycharm": {
     "name": "#%%\n"
    }
   },
   "outputs": [],
   "source": [
    "# setup\n",
    "c = [1.]*4\n",
    "b = [3., 2]\n",
    "A = [[1., 1, 0, 0],\n",
    "     [0, 0, 1., 1]]"
   ]
  },
  {
   "cell_type": "code",
   "execution_count": 35,
   "metadata": {
    "collapsed": false,
    "pycharm": {
     "name": "#%%\n"
    }
   },
   "outputs": [
    {
     "name": "stdout",
     "output_type": "stream",
     "text": [
      "     0    1    2    3    4    5    6    7\n",
      "0  1.0 -1.0 -1.0 -1.0 -1.0 -0.0 -0.0 -0.0\n",
      "1  0.0  1.0  1.0  0.0  0.0  1.0  0.0  3.0\n",
      "2  0.0  0.0  0.0  1.0  1.0  0.0  1.0  2.0\n"
     ]
    }
   ],
   "source": [
    "init_tab = init_tab_standard_lp(A, b, c)\n",
    "print(pd.DataFrame(init_tab))"
   ]
  },
  {
   "cell_type": "code",
   "execution_count": 34,
   "metadata": {
    "collapsed": false,
    "pycharm": {
     "name": "#%%\n"
    }
   },
   "outputs": [
    {
     "name": "stdout",
     "output_type": "stream",
     "text": [
      "2 constraints and 6 variables\n",
      "pivot columns are: [5, 6]\n",
      "initial tableau is:\n",
      "=======================\n",
      "[[1.00 -1.00 -1.00 -1.00 -1.00 -0.00 -0.00 -0.00]\n",
      " [0.00 1.00 1.00 0.00 0.00 1.00 0.00 3.00]\n",
      " [0.00 0.00 0.00 1.00 1.00 0.00 1.00 2.00]]\n",
      "pivot columns are: [1, 6]\n",
      "new pivot is (1, 1)\n",
      "=======================\n",
      "[[1.00 0.00 0.00 -1.00 -1.00 1.00 0.00 3.00]\n",
      " [0.00 1.00 1.00 0.00 0.00 1.00 0.00 3.00]\n",
      " [0.00 0.00 0.00 1.00 1.00 0.00 1.00 2.00]]\n",
      "pivot columns are: [1, 3]\n",
      "new pivot is (2, 3)\n",
      "=======================\n",
      "[[1.00 0.00 0.00 0.00 0.00 1.00 1.00 5.00]\n",
      " [0.00 1.00 1.00 0.00 0.00 1.00 0.00 3.00]\n",
      " [0.00 0.00 0.00 1.00 1.00 0.00 1.00 2.00]]\n",
      "=================================\n",
      "pass the optimal test\n",
      "optimal value is 5.0\n",
      "The final tableau is \n",
      " [[1.00 0.00 0.00 0.00 0.00 1.00 1.00 5.00]\n",
      " [0.00 1.00 1.00 0.00 0.00 1.00 0.00 3.00]\n",
      " [0.00 0.00 0.00 1.00 1.00 0.00 1.00 2.00]]\n",
      "=================================\n"
     ]
    }
   ],
   "source": [
    "tab = init_tab\n",
    "simplex_solver(tab, display=1)"
   ]
  },
  {
   "cell_type": "markdown",
   "metadata": {
    "collapsed": false,
    "pycharm": {
     "name": "#%% md\n"
    }
   },
   "source": [
    "Pivot columns in the final tableau are 1 and 3.\n",
    "- optimal solution is\n",
    "     $$x = (3, 0, 2, 0).$$\n",
    "\n",
    "Non-pivot columns are $$2, 4, 5, 6.$$\n",
    "Since the corresponding entries of row 0 is $$0, 0, 1, 1$$\n",
    "this means there is zero coefficient to the NBV.\n",
    "\n",
    "This means, by pivoting w.r.t. column 2 or 4, we can find another\n",
    "\n",
    "- pivoting with column 2, new pivot columns are 2 and 3, and optimal solution is $$x = (0, 3, 2, 0)$$\n",
    "- pivoting with column 4, new pivot columns are 1 and 4, and optimal solution is $$x = (3, 0, 0, 2)$$\n",
    "- similarly, another optimal solution is $$x = ( 0, 3, 0, 2)$$"
   ]
  },
  {
   "cell_type": "code",
   "execution_count": null,
   "metadata": {
    "collapsed": false,
    "pycharm": {
     "name": "#%%\n"
    }
   },
   "outputs": [],
   "source": []
  }
 ],
 "metadata": {
  "kernelspec": {
   "display_name": "Python 3",
   "language": "python",
   "name": "python3"
  },
  "language_info": {
   "codemirror_mode": {
    "name": "ipython",
    "version": 3
   },
   "file_extension": ".py",
   "mimetype": "text/x-python",
   "name": "python",
   "nbconvert_exporter": "python",
   "pygments_lexer": "ipython3",
   "version": "3.11.7"
  }
 },
 "nbformat": 4,
 "nbformat_minor": 0
}
