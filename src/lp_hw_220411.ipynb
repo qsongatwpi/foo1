{
 "cells": [
  {
   "cell_type": "markdown",
   "metadata": {
    "collapsed": true,
    "pycharm": {
     "name": "#%% md\n"
    }
   },
   "source": [
    "# Homework Wk5 - D22"
   ]
  },
  {
   "cell_type": "code",
   "execution_count": 1,
   "outputs": [],
   "source": [
    "# import self developed simplex method\n",
    "from simplex import *"
   ],
   "metadata": {
    "collapsed": false,
    "pycharm": {
     "name": "#%%\n"
    }
   }
  },
  {
   "cell_type": "markdown",
   "source": [
    "## Example\n",
    "\n",
    "Consider the following LP.\n",
    "$$\\begin{array}\n",
    "{ll}\n",
    "\\max z = & 5 x_1 + x_2 + 3x_3 + 4x_4 \\\\\n",
    "s.t.\\\\\n",
    "& x_1 - 2 x_2 + 4x_3 + 3x_4 \\le 20 \\\\\n",
    "& -4x_1 + 6x_2 + 5x_3 - 4x_4 \\le 40 \\\\\n",
    "& 2 x_1 - 3x_2 + 3x_3 + 8 x_4 \\le 50\\\\\n",
    "& x_i \\ge 0.\n",
    "\\end{array}\n",
    "$$\n",
    "Work through the simplex and show that it's unbounded."
   ],
   "metadata": {
    "collapsed": false,
    "pycharm": {
     "name": "#%% md\n"
    }
   }
  },
  {
   "cell_type": "code",
   "execution_count": 2,
   "outputs": [],
   "source": [
    "# setup\n",
    "c = [5, 1, 3., 4]\n",
    "b = [20., 40, 50]\n",
    "A = [[1., -2, 4, 3], [-4, 6, 5, -4], [2, -3, 3, 8]]"
   ],
   "metadata": {
    "collapsed": false,
    "pycharm": {
     "name": "#%%\n"
    }
   }
  },
  {
   "cell_type": "code",
   "execution_count": 3,
   "outputs": [
    {
     "data": {
      "text/plain": "array([[1.00, -5.00, -1.00, -3.00, -4.00, -0.00, -0.00, -0.00, -0.00],\n       [0.00, 1.00, -2.00, 4.00, 3.00, 1.00, 0.00, 0.00, 20.00],\n       [0.00, -4.00, 6.00, 5.00, -4.00, 0.00, 1.00, 0.00, 40.00],\n       [0.00, 2.00, -3.00, 3.00, 8.00, 0.00, 0.00, 1.00, 50.00]])"
     },
     "execution_count": 3,
     "metadata": {},
     "output_type": "execute_result"
    }
   ],
   "source": [
    "init_tab = init_tab_standard_lp(A, b, c)\n",
    "init_tab"
   ],
   "metadata": {
    "collapsed": false,
    "pycharm": {
     "name": "#%%\n"
    }
   }
  },
  {
   "cell_type": "code",
   "execution_count": 4,
   "outputs": [
    {
     "name": "stdout",
     "output_type": "stream",
     "text": [
      "3 constraints and 7 variables\n",
      "pivots are: [5, 6, 7]\n",
      "initial tableau is:\n",
      "=======================\n",
      "[[1.00 -5.00 -1.00 -3.00 -4.00 -0.00 -0.00 -0.00 -0.00]\n",
      " [0.00 1.00 -2.00 4.00 3.00 1.00 0.00 0.00 20.00]\n",
      " [0.00 -4.00 6.00 5.00 -4.00 0.00 1.00 0.00 40.00]\n",
      " [0.00 2.00 -3.00 3.00 8.00 0.00 0.00 1.00 50.00]]\n",
      "pivots are: [1, 6, 7]\n",
      "new pivot is (1, 1)\n",
      "=======================\n",
      "[[1.00 0.00 -11.00 17.00 11.00 5.00 0.00 0.00 100.00]\n",
      " [0.00 1.00 -2.00 4.00 3.00 1.00 0.00 0.00 20.00]\n",
      " [0.00 0.00 -2.00 21.00 8.00 4.00 1.00 0.00 120.00]\n",
      " [0.00 0.00 1.00 -5.00 2.00 -2.00 0.00 1.00 10.00]]\n",
      "pivots are: [1, 6, 2]\n",
      "new pivot is (3, 2)\n",
      "=======================\n",
      "[[1.00 0.00 0.00 -38.00 33.00 -17.00 0.00 11.00 210.00]\n",
      " [0.00 1.00 0.00 -6.00 7.00 -3.00 0.00 2.00 40.00]\n",
      " [0.00 0.00 0.00 11.00 12.00 0.00 1.00 2.00 140.00]\n",
      " [0.00 0.00 1.00 -5.00 2.00 -2.00 0.00 1.00 10.00]]\n",
      "pivots are: [1, 3, 2]\n",
      "new pivot is (2, 3)\n",
      "=======================\n",
      "[[1.00 0.00 0.00 0.00 74.45 -17.00 3.45 17.91 693.64]\n",
      " [0.00 1.00 0.00 0.00 13.55 -3.00 0.55 3.09 116.36]\n",
      " [0.00 0.00 0.00 1.00 1.09 0.00 0.09 0.18 12.73]\n",
      " [0.00 0.00 1.00 0.00 7.45 -2.00 0.45 1.91 73.64]]\n",
      "no leaving variable, which means z is unbounded. Here is the ratio list:\n",
      "[-38.79 inf -36.82]\n"
     ]
    }
   ],
   "source": [
    "tab = init_tab.copy()\n",
    "simplex_solver(tab, display=1)"
   ],
   "metadata": {
    "collapsed": false,
    "pycharm": {
     "name": "#%%\n"
    }
   }
  },
  {
   "cell_type": "markdown",
   "source": [
    "## Example\n",
    "Consider the following LP:\n",
    "$$\\begin{array}\n",
    "{ll}\n",
    "\\max z = & x_1 + x_2 + x_3 + x_4 \\\\\n",
    "s.j. \\\\\n",
    "& x_1 + x_2 \\le 3\\\\\n",
    "& x_3 + x_4 \\le 2\\\\\n",
    "& x_i \\ge 0.\n",
    "\\end{array}\n",
    "$$\n",
    "Work through the simplex and find all the optimal bfs."
   ],
   "metadata": {
    "collapsed": false,
    "pycharm": {
     "name": "#%% md\n"
    }
   }
  },
  {
   "cell_type": "code",
   "execution_count": 5,
   "outputs": [],
   "source": [
    "# setup\n",
    "c = [1.]*4\n",
    "b = [3., 2]\n",
    "A = [[1., 1, 0, 0],\n",
    "     [0, 0, 1., 1]]"
   ],
   "metadata": {
    "collapsed": false,
    "pycharm": {
     "name": "#%%\n"
    }
   }
  },
  {
   "cell_type": "code",
   "execution_count": 6,
   "outputs": [
    {
     "data": {
      "text/plain": "array([[1.00, -1.00, -1.00, -1.00, -1.00, -0.00, -0.00, -0.00],\n       [0.00, 1.00, 1.00, 0.00, 0.00, 1.00, 0.00, 3.00],\n       [0.00, 0.00, 0.00, 1.00, 1.00, 0.00, 1.00, 2.00]])"
     },
     "execution_count": 6,
     "metadata": {},
     "output_type": "execute_result"
    }
   ],
   "source": [
    "init_tab = init_tab_standard_lp(A, b, c)\n",
    "init_tab"
   ],
   "metadata": {
    "collapsed": false,
    "pycharm": {
     "name": "#%%\n"
    }
   }
  },
  {
   "cell_type": "code",
   "execution_count": 7,
   "outputs": [
    {
     "name": "stdout",
     "output_type": "stream",
     "text": [
      "2 constraints and 6 variables\n",
      "pivots are: [5, 6]\n",
      "initial tableau is:\n",
      "=======================\n",
      "[[1.00 -1.00 -1.00 -1.00 -1.00 -0.00 -0.00 -0.00]\n",
      " [0.00 1.00 1.00 0.00 0.00 1.00 0.00 3.00]\n",
      " [0.00 0.00 0.00 1.00 1.00 0.00 1.00 2.00]]\n",
      "pivots are: [1, 6]\n",
      "new pivot is (1, 1)\n",
      "=======================\n",
      "[[1.00 0.00 0.00 -1.00 -1.00 1.00 0.00 3.00]\n",
      " [0.00 1.00 1.00 0.00 0.00 1.00 0.00 3.00]\n",
      " [0.00 0.00 0.00 1.00 1.00 0.00 1.00 2.00]]\n",
      "pivots are: [1, 3]\n",
      "new pivot is (2, 3)\n",
      "=======================\n",
      "[[1.00 0.00 0.00 0.00 0.00 1.00 1.00 5.00]\n",
      " [0.00 1.00 1.00 0.00 0.00 1.00 0.00 3.00]\n",
      " [0.00 0.00 0.00 1.00 1.00 0.00 1.00 2.00]]\n",
      "=================================\n",
      "pass the optimal test\n",
      "optimal value is 5.0\n",
      "The final tableau is \n",
      "      0    1    2    3    4    5    6    7\n",
      "0  1.0  0.0  0.0  0.0  0.0  1.0  1.0  5.0\n",
      "1  0.0  1.0  1.0  0.0  0.0  1.0  0.0  3.0\n",
      "2  0.0  0.0  0.0  1.0  1.0  0.0  1.0  2.0\n",
      "=================================\n"
     ]
    }
   ],
   "source": [
    "tab = init_tab\n",
    "simplex_solver(tab, display=1)"
   ],
   "metadata": {
    "collapsed": false,
    "pycharm": {
     "name": "#%%\n"
    }
   }
  },
  {
   "cell_type": "code",
   "execution_count": 7,
   "outputs": [],
   "source": [],
   "metadata": {
    "collapsed": false,
    "pycharm": {
     "name": "#%%\n"
    }
   }
  }
 ],
 "metadata": {
  "kernelspec": {
   "display_name": "Python 3",
   "language": "python",
   "name": "python3"
  },
  "language_info": {
   "codemirror_mode": {
    "name": "ipython",
    "version": 2
   },
   "file_extension": ".py",
   "mimetype": "text/x-python",
   "name": "python",
   "nbconvert_exporter": "python",
   "pygments_lexer": "ipython2",
   "version": "2.7.6"
  }
 },
 "nbformat": 4,
 "nbformat_minor": 0
}