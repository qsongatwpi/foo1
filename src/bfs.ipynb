{
  "nbformat": 4,
  "nbformat_minor": 0,
  "metadata": {
    "colab": {
      "name": "python_notebook.ipynb",
      "provenance": [],
      "authorship_tag": "ABX9TyM++X5t9Pt11Vwgd5PfiIPB",
      "include_colab_link": true
    },
    "kernelspec": {
      "name": "python3",
      "display_name": "Python 3"
    },
    "language_info": {
      "name": "python"
    }
  },
  "cells": [
    {
      "cell_type": "markdown",
      "metadata": {
        "id": "view-in-github",
        "colab_type": "text"
      },
      "source": [
        "<a href=\"https://colab.research.google.com/github/songqsh/foo1/blob/master/src/bfs.ipynb\" target=\"_parent\"><img src=\"https://colab.research.google.com/assets/colab-badge.svg\" alt=\"Open In Colab\"/></a>"
      ]
    },
    {
      "cell_type": "markdown",
      "metadata": {
        "id": "630q1cho6UDz"
      },
      "source": [
        "## Python on Jupyter notebook - Colab\n",
        "\n",
        "Python on Jupyter notebook allows one to perform a great deal of data analysis and statistical validation. cell by cell in a interactive way. A good online platform is colab, powered by google. \n",
        "\n",
        "- open a new python3 notebook by visiting  https://colab.research.google.com/\n",
        "- As you can see, each cell can be chosen either code or text from its top menu.\n",
        "- A code cell will be evaluated when you press play, or when you press the shortcut, shift-enter. \n"
      ]
    },
    {
      "cell_type": "code",
      "metadata": {
        "colab": {
          "base_uri": "https://localhost:8080/"
        },
        "id": "2i54nuQy7HbX",
        "outputId": "0169a0e3-5a54-47b6-c137-2f31ff92cbe6"
      },
      "source": [
        "# this is a code cell\n",
        "2 + 2 "
      ],
      "execution_count": 1,
      "outputs": [
        {
          "output_type": "execute_result",
          "data": {
            "text/plain": [
              "4"
            ]
          },
          "metadata": {
            "tags": []
          },
          "execution_count": 1
        }
      ]
    },
    {
      "cell_type": "markdown",
      "metadata": {
        "id": "6_jwnTS67W7f"
      },
      "source": [
        "- Ex: Add a code cell and perform $1+1$"
      ]
    },
    {
      "cell_type": "markdown",
      "metadata": {
        "id": "0YJSS56376aX"
      },
      "source": [
        "# BFS\n",
        "\n"
      ]
    },
    {
      "cell_type": "code",
      "metadata": {
        "id": "LxkL8bK375hG"
      },
      "source": [
        "# import packages\n",
        "import numpy as np\n",
        "import numpy.linalg as la\n",
        "np.set_printoptions(suppress=True)"
      ],
      "execution_count": 2,
      "outputs": []
    },
    {
      "cell_type": "code",
      "metadata": {
        "id": "jw7rKh7AxW79"
      },
      "source": [
        "A = np.array([[1.,1,1,0], [2.,1,0,1]])\n",
        "b = np.array([40,60])"
      ],
      "execution_count": 33,
      "outputs": []
    },
    {
      "cell_type": "code",
      "metadata": {
        "id": "Yde_dhs7x1-R",
        "outputId": "d8212dd1-33ee-4057-da33-9577bc54e248",
        "colab": {
          "base_uri": "https://localhost:8080/"
        }
      },
      "source": [
        "import itertools\n",
        "a_list = list(range(4))\n",
        "\n",
        "combination_obj = itertools.combinations(a_list,2)\n",
        "\n",
        "for item in combination_obj:\n",
        "  bs = la.solve(A[:,item], b)\n",
        "  print(f'bv is {item} and bs is {bs}')"
      ],
      "execution_count": 38,
      "outputs": [
        {
          "output_type": "stream",
          "text": [
            "bv is (0, 1) and bs is [20. 20.]\n",
            "bv is (0, 2) and bs is [30. 10.]\n",
            "bv is (0, 3) and bs is [ 40. -20.]\n",
            "bv is (1, 2) and bs is [ 60. -20.]\n",
            "bv is (1, 3) and bs is [40. 20.]\n",
            "bv is (2, 3) and bs is [40. 60.]\n"
          ],
          "name": "stdout"
        }
      ]
    },
    {
      "cell_type": "code",
      "metadata": {
        "id": "0iF7r5Il0cGH"
      },
      "source": [
        ""
      ],
      "execution_count": null,
      "outputs": []
    }
  ]
}