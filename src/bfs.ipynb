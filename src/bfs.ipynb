{
  "nbformat": 4,
  "nbformat_minor": 0,
  "metadata": {
    "colab": {
      "name": "python_notebook.ipynb",
      "provenance": [],
      "authorship_tag": "ABX9TyOnSnpy0goa2R5+KHb27ddD",
      "include_colab_link": true
    },
    "kernelspec": {
      "name": "python3",
      "display_name": "Python 3"
    },
    "language_info": {
      "name": "python"
    }
  },
  "cells": [
    {
      "cell_type": "markdown",
      "metadata": {
        "id": "view-in-github",
        "colab_type": "text"
      },
      "source": [
        "<a href=\"https://colab.research.google.com/github/songqsh/foo1/blob/master/src/bfs.ipynb\" target=\"_parent\"><img src=\"https://colab.research.google.com/assets/colab-badge.svg\" alt=\"Open In Colab\"/></a>"
      ]
    },
    {
      "cell_type": "markdown",
      "metadata": {
        "id": "0YJSS56376aX"
      },
      "source": [
        "# BFS\n",
        "\n"
      ]
    },
    {
      "cell_type": "code",
      "metadata": {
        "id": "LxkL8bK375hG"
      },
      "source": [
        "# import packages\n",
        "import numpy as np\n",
        "import numpy.linalg as la\n",
        "np.set_printoptions(suppress=True)\n",
        "import itertools"
      ],
      "execution_count": 1,
      "outputs": []
    },
    {
      "cell_type": "code",
      "metadata": {
        "id": "jw7rKh7AxW79",
        "outputId": "c26c33a7-d689-4e08-edff-7c240fabebff",
        "colab": {
          "base_uri": "https://localhost:8080/"
        }
      },
      "source": [
        "A = np.array([[1.,1,1,0], [2.,1,0,1]])\n",
        "b = np.array([40,60])\n",
        "m, n = A.shape\n",
        "print(f'coefficient matrix is {A}')\n",
        "print(f'right hand side vector is {b}')\n",
        "print(f'n is {n} and m is {m}')"
      ],
      "execution_count": 4,
      "outputs": [
        {
          "output_type": "stream",
          "text": [
            "coefficient matrix is [[1. 1. 1. 0.]\n",
            " [2. 1. 0. 1.]]\n",
            "right hand side vector is [40 60]\n",
            "n is 4 and m is 2\n"
          ],
          "name": "stdout"
        }
      ]
    },
    {
      "cell_type": "code",
      "metadata": {
        "id": "Yde_dhs7x1-R",
        "colab": {
          "base_uri": "https://localhost:8080/"
        },
        "outputId": "f916e403-5f7e-415d-db5d-fc5b90dbb42f"
      },
      "source": [
        "a_list = list(range(n))\n",
        "\n",
        "bv_list = itertools.combinations(a_list,m)\n",
        "\n",
        "for bv in bv_list:\n",
        "  try:\n",
        "    bs = la.solve(A[:,bv], b)\n",
        "    print(f'bv is {bv} and bs is {bs}')\n",
        "  except:\n",
        "    print(f'bv is {bv} and it is singular')\n"
      ],
      "execution_count": 5,
      "outputs": [
        {
          "output_type": "stream",
          "text": [
            "bv is (0, 1) and bs is [20. 20.]\n",
            "bv is (0, 2) and bs is [30. 10.]\n",
            "bv is (0, 3) and bs is [ 40. -20.]\n",
            "bv is (1, 2) and bs is [ 60. -20.]\n",
            "bv is (1, 3) and bs is [40. 20.]\n",
            "bv is (2, 3) and bs is [40. 60.]\n"
          ],
          "name": "stdout"
        }
      ]
    },
    {
      "cell_type": "code",
      "metadata": {
        "id": "0iF7r5Il0cGH"
      },
      "source": [
        ""
      ],
      "execution_count": 3,
      "outputs": []
    }
  ]
}